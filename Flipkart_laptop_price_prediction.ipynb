{
 "cells": [
  {
   "cell_type": "markdown",
   "metadata": {},
   "source": [
    "# FLIPKART'S LAPTOP PRICE PREDICTION"
   ]
  },
  {
   "cell_type": "markdown",
   "metadata": {},
   "source": [
    "### ML Project- Regression Problem"
   ]
  },
  {
   "cell_type": "code",
   "execution_count": 1,
   "metadata": {
    "id": "RPUHcc6-Vgmi"
   },
   "outputs": [],
   "source": [
    "import pandas as pd\n",
    "import numpy as np\n",
    "import matplotlib.pyplot as plt\n",
    "import seaborn as sns\n",
    "from sklearn.model_selection import train_test_split\n",
    "from sklearn.metrics import r2_score\n",
    "from sklearn.linear_model import LinearRegression\n",
    "from sklearn.linear_model import Ridge\n",
    "from sklearn.linear_model import Lasso\n",
    "import warnings\n",
    "warnings.filterwarnings('ignore')"
   ]
  },
  {
   "cell_type": "code",
   "execution_count": 2,
   "metadata": {
    "id": "Cly9ypi7VumD"
   },
   "outputs": [],
   "source": [
    "df = pd.read_csv('11_9_2022_LAPTOP_Sahi_wala_data.csv')"
   ]
  },
  {
   "cell_type": "code",
   "execution_count": 3,
   "metadata": {
    "colab": {
     "base_uri": "https://localhost:8080/",
     "height": 177
    },
    "id": "70RsOX3RVzvc",
    "outputId": "1471099a-5a79-4576-a874-5db09a946e31"
   },
   "outputs": [
    {
     "data": {
      "text/html": [
       "<div>\n",
       "<style scoped>\n",
       "    .dataframe tbody tr th:only-of-type {\n",
       "        vertical-align: middle;\n",
       "    }\n",
       "\n",
       "    .dataframe tbody tr th {\n",
       "        vertical-align: top;\n",
       "    }\n",
       "\n",
       "    .dataframe thead th {\n",
       "        text-align: right;\n",
       "    }\n",
       "</style>\n",
       "<table border=\"1\" class=\"dataframe\">\n",
       "  <thead>\n",
       "    <tr style=\"text-align: right;\">\n",
       "      <th></th>\n",
       "      <th>Unnamed: 0</th>\n",
       "      <th>New_ID</th>\n",
       "      <th>LAPTOP NAME</th>\n",
       "      <th>LAPTOP FEATURES</th>\n",
       "      <th>PRICE</th>\n",
       "      <th>PROCESSORS</th>\n",
       "      <th>RAM</th>\n",
       "      <th>STORAGE</th>\n",
       "      <th>OS</th>\n",
       "      <th>INCHES</th>\n",
       "      <th>Unnamed: 10</th>\n",
       "      <th>Unnamed: 11</th>\n",
       "      <th>Unnamed: 12</th>\n",
       "    </tr>\n",
       "  </thead>\n",
       "  <tbody>\n",
       "    <tr>\n",
       "      <th>0</th>\n",
       "      <td>0</td>\n",
       "      <td>0</td>\n",
       "      <td>Lenovo IdeaPad Gaming 3i Core i7 11th Gen - (8...</td>\n",
       "      <td>Intel Core i7 Processor (11th Gen), 8 GB DDR4 ...</td>\n",
       "      <td>69990</td>\n",
       "      <td>Intel Core i7 Processor (11th Gen)</td>\n",
       "      <td>8 GB DDR4 RAM</td>\n",
       "      <td>512 GB SSD</td>\n",
       "      <td>64 bit Windows 10 Operating System</td>\n",
       "      <td>39.62 cm (15.6 inch) Display</td>\n",
       "      <td>NaN</td>\n",
       "      <td>NaN</td>\n",
       "      <td>NaN</td>\n",
       "    </tr>\n",
       "  </tbody>\n",
       "</table>\n",
       "</div>"
      ],
      "text/plain": [
       "   Unnamed: 0  New_ID                                        LAPTOP NAME  \\\n",
       "0           0       0  Lenovo IdeaPad Gaming 3i Core i7 11th Gen - (8...   \n",
       "\n",
       "                                     LAPTOP FEATURES  PRICE  \\\n",
       "0  Intel Core i7 Processor (11th Gen), 8 GB DDR4 ...  69990   \n",
       "\n",
       "                           PROCESSORS            RAM     STORAGE  \\\n",
       "0  Intel Core i7 Processor (11th Gen)  8 GB DDR4 RAM  512 GB SSD   \n",
       "\n",
       "                                   OS                        INCHES  \\\n",
       "0  64 bit Windows 10 Operating System  39.62 cm (15.6 inch) Display   \n",
       "\n",
       "   Unnamed: 10  Unnamed: 11  Unnamed: 12  \n",
       "0          NaN          NaN          NaN  "
      ]
     },
     "execution_count": 3,
     "metadata": {},
     "output_type": "execute_result"
    }
   ],
   "source": [
    "df.head(1)"
   ]
  },
  {
   "cell_type": "code",
   "execution_count": 4,
   "metadata": {
    "id": "z78eyUvneU4k"
   },
   "outputs": [],
   "source": [
    "df.drop(columns=['Unnamed: 0','Unnamed: 10','Unnamed: 11','Unnamed: 12','New_ID'],inplace=True)"
   ]
  },
  {
   "cell_type": "code",
   "execution_count": 5,
   "metadata": {
    "colab": {
     "base_uri": "https://localhost:8080/",
     "height": 288
    },
    "id": "sW-R33Tqezak",
    "outputId": "5b6d7b15-3c68-483a-f959-629a6bda2b9d"
   },
   "outputs": [
    {
     "data": {
      "text/html": [
       "<div>\n",
       "<style scoped>\n",
       "    .dataframe tbody tr th:only-of-type {\n",
       "        vertical-align: middle;\n",
       "    }\n",
       "\n",
       "    .dataframe tbody tr th {\n",
       "        vertical-align: top;\n",
       "    }\n",
       "\n",
       "    .dataframe thead th {\n",
       "        text-align: right;\n",
       "    }\n",
       "</style>\n",
       "<table border=\"1\" class=\"dataframe\">\n",
       "  <thead>\n",
       "    <tr style=\"text-align: right;\">\n",
       "      <th></th>\n",
       "      <th>LAPTOP NAME</th>\n",
       "      <th>LAPTOP FEATURES</th>\n",
       "      <th>PRICE</th>\n",
       "      <th>PROCESSORS</th>\n",
       "      <th>RAM</th>\n",
       "      <th>STORAGE</th>\n",
       "      <th>OS</th>\n",
       "      <th>INCHES</th>\n",
       "    </tr>\n",
       "  </thead>\n",
       "  <tbody>\n",
       "    <tr>\n",
       "      <th>0</th>\n",
       "      <td>Lenovo IdeaPad Gaming 3i Core i7 11th Gen - (8...</td>\n",
       "      <td>Intel Core i7 Processor (11th Gen), 8 GB DDR4 ...</td>\n",
       "      <td>69990</td>\n",
       "      <td>Intel Core i7 Processor (11th Gen)</td>\n",
       "      <td>8 GB DDR4 RAM</td>\n",
       "      <td>512 GB SSD</td>\n",
       "      <td>64 bit Windows 10 Operating System</td>\n",
       "      <td>39.62 cm (15.6 inch) Display</td>\n",
       "    </tr>\n",
       "    <tr>\n",
       "      <th>1</th>\n",
       "      <td>Lenovo IdeaPad 3 Core i5 12th Gen - (8 GB/512 ...</td>\n",
       "      <td>Intel Core i5 Processor (12th Gen), 8 GB DDR4 ...</td>\n",
       "      <td>53990</td>\n",
       "      <td>Intel Core i5 Processor (12th Gen)</td>\n",
       "      <td>8 GB DDR4 RAM</td>\n",
       "      <td>512 GB SSD</td>\n",
       "      <td>64 bit Windows 11 Operating System</td>\n",
       "      <td>39.62 cm (15.6 Inch) Display</td>\n",
       "    </tr>\n",
       "    <tr>\n",
       "      <th>2</th>\n",
       "      <td>Lenovo IdeaPad 3 Core i3 10th Gen - (8 GB/256 ...</td>\n",
       "      <td>Intel Core i3 Processor (10th Gen), 8 GB DDR4 ...</td>\n",
       "      <td>30990</td>\n",
       "      <td>Intel Core i3 Processor (10th Gen)</td>\n",
       "      <td>8 GB DDR4 RAM</td>\n",
       "      <td>256 GB SSD</td>\n",
       "      <td>Windows 11 Operating System</td>\n",
       "      <td>39.62 cm (15.6 Inch) Display</td>\n",
       "    </tr>\n",
       "    <tr>\n",
       "      <th>3</th>\n",
       "      <td>Lenovo IdeaPad 1 Ryzen 3 Dual Core 3250U - (8 ...</td>\n",
       "      <td>AMD Ryzen 3 Dual Core Processor, 8 GB DDR4 RAM...</td>\n",
       "      <td>31490</td>\n",
       "      <td>AMD Ryzen 3 Dual Core Processor</td>\n",
       "      <td>8 GB DDR4 RAM</td>\n",
       "      <td>512 GB SSD</td>\n",
       "      <td>64 bit Windows 11 Operating System</td>\n",
       "      <td>39.62 cm (15.6 Inch) Display</td>\n",
       "    </tr>\n",
       "  </tbody>\n",
       "</table>\n",
       "</div>"
      ],
      "text/plain": [
       "                                         LAPTOP NAME  \\\n",
       "0  Lenovo IdeaPad Gaming 3i Core i7 11th Gen - (8...   \n",
       "1  Lenovo IdeaPad 3 Core i5 12th Gen - (8 GB/512 ...   \n",
       "2  Lenovo IdeaPad 3 Core i3 10th Gen - (8 GB/256 ...   \n",
       "3  Lenovo IdeaPad 1 Ryzen 3 Dual Core 3250U - (8 ...   \n",
       "\n",
       "                                     LAPTOP FEATURES  PRICE  \\\n",
       "0  Intel Core i7 Processor (11th Gen), 8 GB DDR4 ...  69990   \n",
       "1  Intel Core i5 Processor (12th Gen), 8 GB DDR4 ...  53990   \n",
       "2  Intel Core i3 Processor (10th Gen), 8 GB DDR4 ...  30990   \n",
       "3  AMD Ryzen 3 Dual Core Processor, 8 GB DDR4 RAM...  31490   \n",
       "\n",
       "                           PROCESSORS            RAM     STORAGE  \\\n",
       "0  Intel Core i7 Processor (11th Gen)  8 GB DDR4 RAM  512 GB SSD   \n",
       "1  Intel Core i5 Processor (12th Gen)  8 GB DDR4 RAM  512 GB SSD   \n",
       "2  Intel Core i3 Processor (10th Gen)  8 GB DDR4 RAM  256 GB SSD   \n",
       "3     AMD Ryzen 3 Dual Core Processor  8 GB DDR4 RAM  512 GB SSD   \n",
       "\n",
       "                                   OS                        INCHES  \n",
       "0  64 bit Windows 10 Operating System  39.62 cm (15.6 inch) Display  \n",
       "1  64 bit Windows 11 Operating System  39.62 cm (15.6 Inch) Display  \n",
       "2         Windows 11 Operating System  39.62 cm (15.6 Inch) Display  \n",
       "3  64 bit Windows 11 Operating System  39.62 cm (15.6 Inch) Display  "
      ]
     },
     "execution_count": 5,
     "metadata": {},
     "output_type": "execute_result"
    }
   ],
   "source": [
    "df.head(4)"
   ]
  },
  {
   "cell_type": "code",
   "execution_count": 6,
   "metadata": {
    "colab": {
     "base_uri": "https://localhost:8080/"
    },
    "id": "m8nt1TT-fOJ2",
    "outputId": "67e1a3dd-642b-4380-d15a-f69d1425cf09"
   },
   "outputs": [
    {
     "name": "stdout",
     "output_type": "stream",
     "text": [
      "<class 'pandas.core.frame.DataFrame'>\n",
      "RangeIndex: 984 entries, 0 to 983\n",
      "Data columns (total 8 columns):\n",
      " #   Column           Non-Null Count  Dtype \n",
      "---  ------           --------------  ----- \n",
      " 0   LAPTOP NAME      984 non-null    object\n",
      " 1   LAPTOP FEATURES  984 non-null    object\n",
      " 2   PRICE            984 non-null    int64 \n",
      " 3   PROCESSORS       984 non-null    object\n",
      " 4   RAM              984 non-null    object\n",
      " 5   STORAGE          935 non-null    object\n",
      " 6   OS               984 non-null    object\n",
      " 7   INCHES           984 non-null    object\n",
      "dtypes: int64(1), object(7)\n",
      "memory usage: 61.6+ KB\n"
     ]
    }
   ],
   "source": [
    "df.info() #information about DataFrame."
   ]
  },
  {
   "cell_type": "code",
   "execution_count": 7,
   "metadata": {
    "colab": {
     "base_uri": "https://localhost:8080/"
    },
    "id": "u69f_z_0eEOG",
    "outputId": "ca528822-180f-4496-9fff-e5901bf724d3"
   },
   "outputs": [
    {
     "data": {
      "text/plain": [
       "280"
      ]
     },
     "execution_count": 7,
     "metadata": {},
     "output_type": "execute_result"
    }
   ],
   "source": [
    "df.duplicated().sum() #finding number of duplicate entries."
   ]
  },
  {
   "cell_type": "code",
   "execution_count": 8,
   "metadata": {
    "colab": {
     "base_uri": "https://localhost:8080/"
    },
    "id": "bfgYmjiCV1UK",
    "outputId": "131704dd-b024-4f0c-eecc-dbc20573e857"
   },
   "outputs": [
    {
     "data": {
      "text/plain": [
       "280"
      ]
     },
     "execution_count": 8,
     "metadata": {},
     "output_type": "execute_result"
    }
   ],
   "source": [
    "df[['LAPTOP NAME','LAPTOP FEATURES','PROCESSORS','RAM','STORAGE','PRICE','INCHES','OS']].duplicated().sum()"
   ]
  },
  {
   "cell_type": "code",
   "execution_count": 9,
   "metadata": {
    "id": "d-biHNwOfvsI"
   },
   "outputs": [],
   "source": [
    "df.drop_duplicates(inplace=True) #dropping duplicate entries."
   ]
  },
  {
   "cell_type": "code",
   "execution_count": 10,
   "metadata": {
    "colab": {
     "base_uri": "https://localhost:8080/"
    },
    "id": "1jIvCN-bywMs",
    "outputId": "ae898c72-18e0-4f6d-9561-fc537da15c30"
   },
   "outputs": [
    {
     "data": {
      "text/plain": [
       "(704, 8)"
      ]
     },
     "execution_count": 10,
     "metadata": {},
     "output_type": "execute_result"
    }
   ],
   "source": [
    "df.shape"
   ]
  },
  {
   "cell_type": "code",
   "execution_count": 11,
   "metadata": {
    "colab": {
     "base_uri": "https://localhost:8080/"
    },
    "id": "2Yz-V7ASzCaI",
    "outputId": "163ff8a5-b52a-4a2b-850e-769a452c9572"
   },
   "outputs": [
    {
     "data": {
      "text/plain": [
       "0"
      ]
     },
     "execution_count": 11,
     "metadata": {},
     "output_type": "execute_result"
    }
   ],
   "source": [
    "df.duplicated().sum() #rechecking number of duplicate entries if any."
   ]
  },
  {
   "cell_type": "code",
   "execution_count": 12,
   "metadata": {
    "colab": {
     "base_uri": "https://localhost:8080/"
    },
    "id": "hNH4rv2HfpgR",
    "outputId": "be78667a-22ab-4ae3-f943-59cf24ceeac2"
   },
   "outputs": [
    {
     "name": "stdout",
     "output_type": "stream",
     "text": [
      "<class 'pandas.core.frame.DataFrame'>\n",
      "Int64Index: 704 entries, 0 to 982\n",
      "Data columns (total 8 columns):\n",
      " #   Column           Non-Null Count  Dtype \n",
      "---  ------           --------------  ----- \n",
      " 0   LAPTOP NAME      704 non-null    object\n",
      " 1   LAPTOP FEATURES  704 non-null    object\n",
      " 2   PRICE            704 non-null    int64 \n",
      " 3   PROCESSORS       704 non-null    object\n",
      " 4   RAM              704 non-null    object\n",
      " 5   STORAGE          695 non-null    object\n",
      " 6   OS               704 non-null    object\n",
      " 7   INCHES           704 non-null    object\n",
      "dtypes: int64(1), object(7)\n",
      "memory usage: 49.5+ KB\n"
     ]
    }
   ],
   "source": [
    "df.info() #information about DataFrame."
   ]
  },
  {
   "cell_type": "code",
   "execution_count": 13,
   "metadata": {
    "colab": {
     "base_uri": "https://localhost:8080/"
    },
    "id": "S66DimXakR4q",
    "outputId": "3e2e8c65-af46-4f5d-d10f-4b0762e27f96"
   },
   "outputs": [
    {
     "data": {
      "text/plain": [
       "LAPTOP NAME        0\n",
       "LAPTOP FEATURES    0\n",
       "PRICE              0\n",
       "PROCESSORS         0\n",
       "RAM                0\n",
       "STORAGE            9\n",
       "OS                 0\n",
       "INCHES             0\n",
       "dtype: int64"
      ]
     },
     "execution_count": 13,
     "metadata": {},
     "output_type": "execute_result"
    }
   ],
   "source": [
    "df.isnull().sum() #STORAGE have 9 NULL values."
   ]
  },
  {
   "cell_type": "code",
   "execution_count": 14,
   "metadata": {
    "colab": {
     "base_uri": "https://localhost:8080/"
    },
    "id": "4AJyUzAj0TaS",
    "outputId": "56e5c4c4-6998-459d-8eef-5e5af85369a3"
   },
   "outputs": [
    {
     "data": {
      "text/plain": [
       "48                512 GB SSD\n",
       "761                 1 TB SSD\n",
       "880               256 GB SSD\n",
       "308               256 GB SSD\n",
       "128                 1 TB SSD\n",
       "358               512 GB SSD\n",
       "725                 1 TB SSD\n",
       "578               512 GB SSD\n",
       "817                 1 TB HDD\n",
       "560      1 TB HDD|256 GB SSD\n",
       "469                 1 TB SSD\n",
       "438               512 GB SSD\n",
       "801               256 GB SSD\n",
       "26                256 GB SSD\n",
       "878               256 GB SSD\n",
       "602                 1 TB SSD\n",
       "352               512 GB SSD\n",
       "633    512 GB HDD|512 GB SSD\n",
       "418               512 GB SSD\n",
       "876                 1 TB SSD\n",
       "900               512 GB SSD\n",
       "47                512 GB SSD\n",
       "853               512 GB SSD\n",
       "336               512 GB SSD\n",
       "56       1 TB HDD|256 GB SSD\n",
       "733               512 GB SSD\n",
       "665      1 TB HDD|256 GB SSD\n",
       "214      1 TB HDD|256 GB SSD\n",
       "62                512 GB SSD\n",
       "886      1 TB HDD|256 GB SSD\n",
       "Name: STORAGE, dtype: object"
      ]
     },
     "execution_count": 14,
     "metadata": {},
     "output_type": "execute_result"
    }
   ],
   "source": [
    "df['STORAGE'].sample(30)"
   ]
  },
  {
   "cell_type": "code",
   "execution_count": 15,
   "metadata": {
    "id": "VbYAcZJn4gtG"
   },
   "outputs": [],
   "source": [
    "df = df.dropna(subset=['STORAGE']) #dropping all those rows which contains 'NaN' values of STORAGE."
   ]
  },
  {
   "cell_type": "code",
   "execution_count": 16,
   "metadata": {
    "colab": {
     "base_uri": "https://localhost:8080/"
    },
    "id": "K31mLsHq4p3z",
    "outputId": "f44ddd12-7066-4208-e4c1-6086a4d083f4"
   },
   "outputs": [
    {
     "data": {
      "text/plain": [
       "(695, 8)"
      ]
     },
     "execution_count": 16,
     "metadata": {},
     "output_type": "execute_result"
    }
   ],
   "source": [
    "df.shape #checking shape of DataFrame."
   ]
  },
  {
   "cell_type": "code",
   "execution_count": 17,
   "metadata": {
    "colab": {
     "base_uri": "https://localhost:8080/"
    },
    "id": "855AnWJK4y02",
    "outputId": "6a73dc0e-9400-4081-823c-bacb1a97ec9b"
   },
   "outputs": [
    {
     "data": {
      "text/plain": [
       "LAPTOP NAME        0\n",
       "LAPTOP FEATURES    0\n",
       "PRICE              0\n",
       "PROCESSORS         0\n",
       "RAM                0\n",
       "STORAGE            0\n",
       "OS                 0\n",
       "INCHES             0\n",
       "dtype: int64"
      ]
     },
     "execution_count": 17,
     "metadata": {},
     "output_type": "execute_result"
    }
   ],
   "source": [
    "df.isnull().sum()"
   ]
  },
  {
   "cell_type": "code",
   "execution_count": 18,
   "metadata": {
    "colab": {
     "base_uri": "https://localhost:8080/"
    },
    "id": "1jec4W295t3d",
    "outputId": "e1fdb4ca-969e-46d7-a135-6b98d9bd2971"
   },
   "outputs": [
    {
     "name": "stdout",
     "output_type": "stream",
     "text": [
      "<class 'pandas.core.frame.DataFrame'>\n",
      "Int64Index: 695 entries, 0 to 982\n",
      "Data columns (total 8 columns):\n",
      " #   Column           Non-Null Count  Dtype \n",
      "---  ------           --------------  ----- \n",
      " 0   LAPTOP NAME      695 non-null    object\n",
      " 1   LAPTOP FEATURES  695 non-null    object\n",
      " 2   PRICE            695 non-null    int64 \n",
      " 3   PROCESSORS       695 non-null    object\n",
      " 4   RAM              695 non-null    object\n",
      " 5   STORAGE          695 non-null    object\n",
      " 6   OS               695 non-null    object\n",
      " 7   INCHES           695 non-null    object\n",
      "dtypes: int64(1), object(7)\n",
      "memory usage: 48.9+ KB\n"
     ]
    }
   ],
   "source": [
    "df.info() #information about DataFrame."
   ]
  },
  {
   "cell_type": "code",
   "execution_count": 19,
   "metadata": {
    "colab": {
     "base_uri": "https://localhost:8080/",
     "height": 191
    },
    "id": "3zDhbitO5vtH",
    "outputId": "c279b39c-500f-4d32-86bf-35675ec86755"
   },
   "outputs": [
    {
     "data": {
      "text/html": [
       "<div>\n",
       "<style scoped>\n",
       "    .dataframe tbody tr th:only-of-type {\n",
       "        vertical-align: middle;\n",
       "    }\n",
       "\n",
       "    .dataframe tbody tr th {\n",
       "        vertical-align: top;\n",
       "    }\n",
       "\n",
       "    .dataframe thead th {\n",
       "        text-align: right;\n",
       "    }\n",
       "</style>\n",
       "<table border=\"1\" class=\"dataframe\">\n",
       "  <thead>\n",
       "    <tr style=\"text-align: right;\">\n",
       "      <th></th>\n",
       "      <th>LAPTOP NAME</th>\n",
       "      <th>LAPTOP FEATURES</th>\n",
       "      <th>PRICE</th>\n",
       "      <th>PROCESSORS</th>\n",
       "      <th>RAM</th>\n",
       "      <th>STORAGE</th>\n",
       "      <th>OS</th>\n",
       "      <th>INCHES</th>\n",
       "    </tr>\n",
       "  </thead>\n",
       "  <tbody>\n",
       "    <tr>\n",
       "      <th>0</th>\n",
       "      <td>Lenovo IdeaPad Gaming 3i Core i7 11th Gen - (8...</td>\n",
       "      <td>Intel Core i7 Processor (11th Gen), 8 GB DDR4 ...</td>\n",
       "      <td>69990</td>\n",
       "      <td>Intel Core i7 Processor (11th Gen)</td>\n",
       "      <td>8 GB DDR4 RAM</td>\n",
       "      <td>512 GB SSD</td>\n",
       "      <td>64 bit Windows 10 Operating System</td>\n",
       "      <td>39.62 cm (15.6 inch) Display</td>\n",
       "    </tr>\n",
       "    <tr>\n",
       "      <th>1</th>\n",
       "      <td>Lenovo IdeaPad 3 Core i5 12th Gen - (8 GB/512 ...</td>\n",
       "      <td>Intel Core i5 Processor (12th Gen), 8 GB DDR4 ...</td>\n",
       "      <td>53990</td>\n",
       "      <td>Intel Core i5 Processor (12th Gen)</td>\n",
       "      <td>8 GB DDR4 RAM</td>\n",
       "      <td>512 GB SSD</td>\n",
       "      <td>64 bit Windows 11 Operating System</td>\n",
       "      <td>39.62 cm (15.6 Inch) Display</td>\n",
       "    </tr>\n",
       "  </tbody>\n",
       "</table>\n",
       "</div>"
      ],
      "text/plain": [
       "                                         LAPTOP NAME  \\\n",
       "0  Lenovo IdeaPad Gaming 3i Core i7 11th Gen - (8...   \n",
       "1  Lenovo IdeaPad 3 Core i5 12th Gen - (8 GB/512 ...   \n",
       "\n",
       "                                     LAPTOP FEATURES  PRICE  \\\n",
       "0  Intel Core i7 Processor (11th Gen), 8 GB DDR4 ...  69990   \n",
       "1  Intel Core i5 Processor (12th Gen), 8 GB DDR4 ...  53990   \n",
       "\n",
       "                           PROCESSORS            RAM     STORAGE  \\\n",
       "0  Intel Core i7 Processor (11th Gen)  8 GB DDR4 RAM  512 GB SSD   \n",
       "1  Intel Core i5 Processor (12th Gen)  8 GB DDR4 RAM  512 GB SSD   \n",
       "\n",
       "                                   OS                        INCHES  \n",
       "0  64 bit Windows 10 Operating System  39.62 cm (15.6 inch) Display  \n",
       "1  64 bit Windows 11 Operating System  39.62 cm (15.6 Inch) Display  "
      ]
     },
     "execution_count": 19,
     "metadata": {},
     "output_type": "execute_result"
    }
   ],
   "source": [
    "df.head(2)"
   ]
  },
  {
   "cell_type": "code",
   "execution_count": 20,
   "metadata": {
    "id": "5E-XcoNO566s"
   },
   "outputs": [],
   "source": [
    "#df.to_csv('695_laptop_data.csv')"
   ]
  },
  {
   "cell_type": "code",
   "execution_count": 21,
   "metadata": {
    "id": "U7YTmt_Epmvl"
   },
   "outputs": [],
   "source": [
    "df['HDD'] = df['STORAGE'].apply(lambda x : x if 'HDD' in x else 0)\n",
    "df['SSD'] = df['STORAGE'].apply(lambda x : x if 'SSD' in x else 0)"
   ]
  },
  {
   "cell_type": "code",
   "execution_count": 22,
   "metadata": {
    "colab": {
     "base_uri": "https://localhost:8080/",
     "height": 580
    },
    "id": "7ijULfeir24F",
    "outputId": "5c446adb-aae1-4010-8dc3-37cbb9c1308f"
   },
   "outputs": [
    {
     "data": {
      "text/html": [
       "<div>\n",
       "<style scoped>\n",
       "    .dataframe tbody tr th:only-of-type {\n",
       "        vertical-align: middle;\n",
       "    }\n",
       "\n",
       "    .dataframe tbody tr th {\n",
       "        vertical-align: top;\n",
       "    }\n",
       "\n",
       "    .dataframe thead th {\n",
       "        text-align: right;\n",
       "    }\n",
       "</style>\n",
       "<table border=\"1\" class=\"dataframe\">\n",
       "  <thead>\n",
       "    <tr style=\"text-align: right;\">\n",
       "      <th></th>\n",
       "      <th>LAPTOP NAME</th>\n",
       "      <th>LAPTOP FEATURES</th>\n",
       "      <th>PRICE</th>\n",
       "      <th>PROCESSORS</th>\n",
       "      <th>RAM</th>\n",
       "      <th>STORAGE</th>\n",
       "      <th>OS</th>\n",
       "      <th>INCHES</th>\n",
       "      <th>HDD</th>\n",
       "      <th>SSD</th>\n",
       "    </tr>\n",
       "  </thead>\n",
       "  <tbody>\n",
       "    <tr>\n",
       "      <th>950</th>\n",
       "      <td>Lenovo IdeaPad 3 Core i3 10th Gen - (8 GB/256 ...</td>\n",
       "      <td>Intel Core i3 Processor (10th Gen), 8 GB DDR4 ...</td>\n",
       "      <td>33999</td>\n",
       "      <td>Intel Core i3 Processor (10th Gen)</td>\n",
       "      <td>8 GB DDR4 RAM</td>\n",
       "      <td>256 GB SSD</td>\n",
       "      <td>64 bit Windows 10 Operating System</td>\n",
       "      <td>39.62 cm (15.6 inch) Display</td>\n",
       "      <td>0</td>\n",
       "      <td>256 GB SSD</td>\n",
       "    </tr>\n",
       "    <tr>\n",
       "      <th>109</th>\n",
       "      <td>MSI Core i3 10th Gen - (8 GB/512 GB SSD/Window...</td>\n",
       "      <td>Intel Core i3 Processor (10th Gen), 8 GB DDR4 ...</td>\n",
       "      <td>31990</td>\n",
       "      <td>Intel Core i3 Processor (10th Gen)</td>\n",
       "      <td>8 GB DDR4 RAM</td>\n",
       "      <td>512 GB SSD</td>\n",
       "      <td>64 bit Windows 10 Operating System</td>\n",
       "      <td>35.56 cm (14 inch) Display</td>\n",
       "      <td>0</td>\n",
       "      <td>512 GB SSD</td>\n",
       "    </tr>\n",
       "    <tr>\n",
       "      <th>309</th>\n",
       "      <td>ASUS ROG Strix G15 (2022) Ryzen 7 Octa Core - ...</td>\n",
       "      <td>AMD Ryzen 7 Octa Core Processor, 16 GB DDR5 RA...</td>\n",
       "      <td>101990</td>\n",
       "      <td>AMD Ryzen 7 Octa Core Processor</td>\n",
       "      <td>16 GB DDR5 RAM</td>\n",
       "      <td>512 GB SSD</td>\n",
       "      <td>Windows 11 Operating System</td>\n",
       "      <td>39.62 cm (15.6 Inch) Display</td>\n",
       "      <td>0</td>\n",
       "      <td>512 GB SSD</td>\n",
       "    </tr>\n",
       "    <tr>\n",
       "      <th>946</th>\n",
       "      <td>HP 14s Core i3 10th Gen - (8 GB/512 GB SSD/Win...</td>\n",
       "      <td>Intel Core i3 Processor (10th Gen), 8 GB DDR4 ...</td>\n",
       "      <td>51999</td>\n",
       "      <td>Intel Core i3 Processor (10th Gen)</td>\n",
       "      <td>8 GB DDR4 RAM</td>\n",
       "      <td>512 GB SSD</td>\n",
       "      <td>64 bit Windows 10 Operating System</td>\n",
       "      <td>35.56 cm (14 Inch) Display</td>\n",
       "      <td>0</td>\n",
       "      <td>512 GB SSD</td>\n",
       "    </tr>\n",
       "    <tr>\n",
       "      <th>33</th>\n",
       "      <td>DELL Inspiron Core i3 11th Gen - (8 GB/1 TB HD...</td>\n",
       "      <td>Intel Core i3 Processor (11th Gen), 8 GB DDR4 ...</td>\n",
       "      <td>43790</td>\n",
       "      <td>Intel Core i3 Processor (11th Gen)</td>\n",
       "      <td>8 GB DDR4 RAM</td>\n",
       "      <td>1 TB HDD|256 GB SSD</td>\n",
       "      <td>64 bit Windows 11 Operating System</td>\n",
       "      <td>39.62 cm (15.6 Inch) Display</td>\n",
       "      <td>1 TB HDD|256 GB SSD</td>\n",
       "      <td>1 TB HDD|256 GB SSD</td>\n",
       "    </tr>\n",
       "    <tr>\n",
       "      <th>378</th>\n",
       "      <td>Lenovo Yoga 6 Ryzen 5 Hexa Core 5500U - (16 GB...</td>\n",
       "      <td>AMD Ryzen 5 Hexa Core Processor, 16 GB DDR4 RA...</td>\n",
       "      <td>72990</td>\n",
       "      <td>AMD Ryzen 5 Hexa Core Processor</td>\n",
       "      <td>16 GB DDR4 RAM</td>\n",
       "      <td>512 GB SSD</td>\n",
       "      <td>64 bit Windows 10 Operating System</td>\n",
       "      <td>33.78 cm (13.3 inch) Touchscreen Display</td>\n",
       "      <td>0</td>\n",
       "      <td>512 GB SSD</td>\n",
       "    </tr>\n",
       "    <tr>\n",
       "      <th>894</th>\n",
       "      <td>ASUS TUF Dash F15 Core i5 11th Gen - (16 GB/51...</td>\n",
       "      <td>Intel Core i5 Processor (11th Gen), 16 GB DDR4...</td>\n",
       "      <td>84990</td>\n",
       "      <td>Intel Core i5 Processor (11th Gen)</td>\n",
       "      <td>16 GB DDR4 RAM</td>\n",
       "      <td>512 GB SSD</td>\n",
       "      <td>Windows 11 Operating System</td>\n",
       "      <td>39.62 cm (15.6 inch) Display</td>\n",
       "      <td>0</td>\n",
       "      <td>512 GB SSD</td>\n",
       "    </tr>\n",
       "    <tr>\n",
       "      <th>954</th>\n",
       "      <td>Lenovo IdeaPad Core i5 11th Gen - (8 GB/512 GB...</td>\n",
       "      <td>Intel Core i5 Processor (11th Gen), 8 GB DDR4 ...</td>\n",
       "      <td>57999</td>\n",
       "      <td>Intel Core i5 Processor (11th Gen)</td>\n",
       "      <td>8 GB DDR4 RAM</td>\n",
       "      <td>512 GB SSD</td>\n",
       "      <td>64 bit Windows 10 Operating System</td>\n",
       "      <td>39.62 cm (15.6 Inch) Display</td>\n",
       "      <td>0</td>\n",
       "      <td>512 GB SSD</td>\n",
       "    </tr>\n",
       "    <tr>\n",
       "      <th>21</th>\n",
       "      <td>Lenovo IdeaPad 3 Core i3 11th Gen - (8 GB/256 ...</td>\n",
       "      <td>Intel Core i3 Processor (11th Gen), 8 GB DDR4 ...</td>\n",
       "      <td>34990</td>\n",
       "      <td>Intel Core i3 Processor (11th Gen)</td>\n",
       "      <td>8 GB DDR4 RAM</td>\n",
       "      <td>256 GB SSD</td>\n",
       "      <td>64 bit Windows 11 Operating System</td>\n",
       "      <td>35.56 cm (14 inch) Display</td>\n",
       "      <td>0</td>\n",
       "      <td>256 GB SSD</td>\n",
       "    </tr>\n",
       "    <tr>\n",
       "      <th>318</th>\n",
       "      <td>Lenovo Legion 5 Ryzen 7 Octa Core 5800H - (16 ...</td>\n",
       "      <td>AMD Ryzen 7 Octa Core Processor, 16 GB DDR4 RA...</td>\n",
       "      <td>129990</td>\n",
       "      <td>AMD Ryzen 7 Octa Core Processor</td>\n",
       "      <td>16 GB DDR4 RAM</td>\n",
       "      <td>2 TB SSD</td>\n",
       "      <td>64 bit Windows 10 Operating System</td>\n",
       "      <td>39.62 cm (15.6 inch) Display</td>\n",
       "      <td>0</td>\n",
       "      <td>2 TB SSD</td>\n",
       "    </tr>\n",
       "  </tbody>\n",
       "</table>\n",
       "</div>"
      ],
      "text/plain": [
       "                                           LAPTOP NAME  \\\n",
       "950  Lenovo IdeaPad 3 Core i3 10th Gen - (8 GB/256 ...   \n",
       "109  MSI Core i3 10th Gen - (8 GB/512 GB SSD/Window...   \n",
       "309  ASUS ROG Strix G15 (2022) Ryzen 7 Octa Core - ...   \n",
       "946  HP 14s Core i3 10th Gen - (8 GB/512 GB SSD/Win...   \n",
       "33   DELL Inspiron Core i3 11th Gen - (8 GB/1 TB HD...   \n",
       "378  Lenovo Yoga 6 Ryzen 5 Hexa Core 5500U - (16 GB...   \n",
       "894  ASUS TUF Dash F15 Core i5 11th Gen - (16 GB/51...   \n",
       "954  Lenovo IdeaPad Core i5 11th Gen - (8 GB/512 GB...   \n",
       "21   Lenovo IdeaPad 3 Core i3 11th Gen - (8 GB/256 ...   \n",
       "318  Lenovo Legion 5 Ryzen 7 Octa Core 5800H - (16 ...   \n",
       "\n",
       "                                       LAPTOP FEATURES   PRICE  \\\n",
       "950  Intel Core i3 Processor (10th Gen), 8 GB DDR4 ...   33999   \n",
       "109  Intel Core i3 Processor (10th Gen), 8 GB DDR4 ...   31990   \n",
       "309  AMD Ryzen 7 Octa Core Processor, 16 GB DDR5 RA...  101990   \n",
       "946  Intel Core i3 Processor (10th Gen), 8 GB DDR4 ...   51999   \n",
       "33   Intel Core i3 Processor (11th Gen), 8 GB DDR4 ...   43790   \n",
       "378  AMD Ryzen 5 Hexa Core Processor, 16 GB DDR4 RA...   72990   \n",
       "894  Intel Core i5 Processor (11th Gen), 16 GB DDR4...   84990   \n",
       "954  Intel Core i5 Processor (11th Gen), 8 GB DDR4 ...   57999   \n",
       "21   Intel Core i3 Processor (11th Gen), 8 GB DDR4 ...   34990   \n",
       "318  AMD Ryzen 7 Octa Core Processor, 16 GB DDR4 RA...  129990   \n",
       "\n",
       "                             PROCESSORS             RAM              STORAGE  \\\n",
       "950  Intel Core i3 Processor (10th Gen)   8 GB DDR4 RAM           256 GB SSD   \n",
       "109  Intel Core i3 Processor (10th Gen)   8 GB DDR4 RAM           512 GB SSD   \n",
       "309     AMD Ryzen 7 Octa Core Processor  16 GB DDR5 RAM           512 GB SSD   \n",
       "946  Intel Core i3 Processor (10th Gen)   8 GB DDR4 RAM           512 GB SSD   \n",
       "33   Intel Core i3 Processor (11th Gen)   8 GB DDR4 RAM  1 TB HDD|256 GB SSD   \n",
       "378     AMD Ryzen 5 Hexa Core Processor  16 GB DDR4 RAM           512 GB SSD   \n",
       "894  Intel Core i5 Processor (11th Gen)  16 GB DDR4 RAM           512 GB SSD   \n",
       "954  Intel Core i5 Processor (11th Gen)   8 GB DDR4 RAM           512 GB SSD   \n",
       "21   Intel Core i3 Processor (11th Gen)   8 GB DDR4 RAM           256 GB SSD   \n",
       "318     AMD Ryzen 7 Octa Core Processor  16 GB DDR4 RAM             2 TB SSD   \n",
       "\n",
       "                                     OS  \\\n",
       "950  64 bit Windows 10 Operating System   \n",
       "109  64 bit Windows 10 Operating System   \n",
       "309         Windows 11 Operating System   \n",
       "946  64 bit Windows 10 Operating System   \n",
       "33   64 bit Windows 11 Operating System   \n",
       "378  64 bit Windows 10 Operating System   \n",
       "894         Windows 11 Operating System   \n",
       "954  64 bit Windows 10 Operating System   \n",
       "21   64 bit Windows 11 Operating System   \n",
       "318  64 bit Windows 10 Operating System   \n",
       "\n",
       "                                       INCHES                  HDD  \\\n",
       "950              39.62 cm (15.6 inch) Display                    0   \n",
       "109                35.56 cm (14 inch) Display                    0   \n",
       "309              39.62 cm (15.6 Inch) Display                    0   \n",
       "946                35.56 cm (14 Inch) Display                    0   \n",
       "33               39.62 cm (15.6 Inch) Display  1 TB HDD|256 GB SSD   \n",
       "378  33.78 cm (13.3 inch) Touchscreen Display                    0   \n",
       "894              39.62 cm (15.6 inch) Display                    0   \n",
       "954              39.62 cm (15.6 Inch) Display                    0   \n",
       "21                 35.56 cm (14 inch) Display                    0   \n",
       "318              39.62 cm (15.6 inch) Display                    0   \n",
       "\n",
       "                     SSD  \n",
       "950           256 GB SSD  \n",
       "109           512 GB SSD  \n",
       "309           512 GB SSD  \n",
       "946           512 GB SSD  \n",
       "33   1 TB HDD|256 GB SSD  \n",
       "378           512 GB SSD  \n",
       "894           512 GB SSD  \n",
       "954           512 GB SSD  \n",
       "21            256 GB SSD  \n",
       "318             2 TB SSD  "
      ]
     },
     "execution_count": 22,
     "metadata": {},
     "output_type": "execute_result"
    }
   ],
   "source": [
    "df.sample(10)"
   ]
  },
  {
   "cell_type": "code",
   "execution_count": 23,
   "metadata": {
    "colab": {
     "base_uri": "https://localhost:8080/"
    },
    "id": "ThDN9o_qs7vB",
    "outputId": "4a058c0c-3f82-4e60-ac29-46a42cbbc983"
   },
   "outputs": [
    {
     "name": "stdout",
     "output_type": "stream",
     "text": [
      "<class 'pandas.core.frame.DataFrame'>\n",
      "Int64Index: 695 entries, 0 to 982\n",
      "Data columns (total 10 columns):\n",
      " #   Column           Non-Null Count  Dtype \n",
      "---  ------           --------------  ----- \n",
      " 0   LAPTOP NAME      695 non-null    object\n",
      " 1   LAPTOP FEATURES  695 non-null    object\n",
      " 2   PRICE            695 non-null    int64 \n",
      " 3   PROCESSORS       695 non-null    object\n",
      " 4   RAM              695 non-null    object\n",
      " 5   STORAGE          695 non-null    object\n",
      " 6   OS               695 non-null    object\n",
      " 7   INCHES           695 non-null    object\n",
      " 8   HDD              695 non-null    object\n",
      " 9   SSD              695 non-null    object\n",
      "dtypes: int64(1), object(9)\n",
      "memory usage: 59.7+ KB\n"
     ]
    }
   ],
   "source": [
    "df.info()"
   ]
  },
  {
   "cell_type": "markdown",
   "metadata": {
    "id": "fZRvg9EXx0qS"
   },
   "source": [
    "#HDD COLUMN : "
   ]
  },
  {
   "cell_type": "code",
   "execution_count": 24,
   "metadata": {
    "colab": {
     "base_uri": "https://localhost:8080/"
    },
    "id": "nsuJ1PxxwW0R",
    "outputId": "b0c9e748-e687-40b2-f269-762fdf238b11"
   },
   "outputs": [
    {
     "data": {
      "text/plain": [
       "dtype('O')"
      ]
     },
     "execution_count": 24,
     "metadata": {},
     "output_type": "execute_result"
    }
   ],
   "source": [
    "df['HDD'].dtypes"
   ]
  },
  {
   "cell_type": "code",
   "execution_count": 25,
   "metadata": {
    "id": "o2Fum9TCtcY2"
   },
   "outputs": [],
   "source": [
    "def splitting_HDD(x):\n",
    "  if x == 0 :\n",
    "    return 0\n",
    "  else:\n",
    "    return x.split('|')[0]"
   ]
  },
  {
   "cell_type": "code",
   "execution_count": 26,
   "metadata": {
    "id": "8qKLVJbKr4vZ"
   },
   "outputs": [],
   "source": [
    "df['HDD'] = df['HDD'].apply(splitting_HDD)"
   ]
  },
  {
   "cell_type": "code",
   "execution_count": 27,
   "metadata": {
    "colab": {
     "base_uri": "https://localhost:8080/"
    },
    "id": "h6soXae9uLBd",
    "outputId": "ba872875-bc82-4e94-a9c1-9e19a97e1946"
   },
   "outputs": [
    {
     "data": {
      "text/plain": [
       "0             596\n",
       "1 TB HDD       94\n",
       "512 GB HDD      3\n",
       "2 TB HDD        1\n",
       "500 GB HDD      1\n",
       "Name: HDD, dtype: int64"
      ]
     },
     "execution_count": 27,
     "metadata": {},
     "output_type": "execute_result"
    }
   ],
   "source": [
    "df['HDD'].value_counts()"
   ]
  },
  {
   "cell_type": "code",
   "execution_count": 28,
   "metadata": {
    "colab": {
     "base_uri": "https://localhost:8080/",
     "height": 191
    },
    "id": "mwVSkn2ptR4N",
    "outputId": "6cdc0cf2-beb7-44e3-b0d0-57bab0efb23e"
   },
   "outputs": [
    {
     "data": {
      "text/html": [
       "<div>\n",
       "<style scoped>\n",
       "    .dataframe tbody tr th:only-of-type {\n",
       "        vertical-align: middle;\n",
       "    }\n",
       "\n",
       "    .dataframe tbody tr th {\n",
       "        vertical-align: top;\n",
       "    }\n",
       "\n",
       "    .dataframe thead th {\n",
       "        text-align: right;\n",
       "    }\n",
       "</style>\n",
       "<table border=\"1\" class=\"dataframe\">\n",
       "  <thead>\n",
       "    <tr style=\"text-align: right;\">\n",
       "      <th></th>\n",
       "      <th>LAPTOP NAME</th>\n",
       "      <th>LAPTOP FEATURES</th>\n",
       "      <th>PRICE</th>\n",
       "      <th>PROCESSORS</th>\n",
       "      <th>RAM</th>\n",
       "      <th>STORAGE</th>\n",
       "      <th>OS</th>\n",
       "      <th>INCHES</th>\n",
       "      <th>HDD</th>\n",
       "      <th>SSD</th>\n",
       "    </tr>\n",
       "  </thead>\n",
       "  <tbody>\n",
       "    <tr>\n",
       "      <th>0</th>\n",
       "      <td>Lenovo IdeaPad Gaming 3i Core i7 11th Gen - (8...</td>\n",
       "      <td>Intel Core i7 Processor (11th Gen), 8 GB DDR4 ...</td>\n",
       "      <td>69990</td>\n",
       "      <td>Intel Core i7 Processor (11th Gen)</td>\n",
       "      <td>8 GB DDR4 RAM</td>\n",
       "      <td>512 GB SSD</td>\n",
       "      <td>64 bit Windows 10 Operating System</td>\n",
       "      <td>39.62 cm (15.6 inch) Display</td>\n",
       "      <td>0</td>\n",
       "      <td>512 GB SSD</td>\n",
       "    </tr>\n",
       "    <tr>\n",
       "      <th>1</th>\n",
       "      <td>Lenovo IdeaPad 3 Core i5 12th Gen - (8 GB/512 ...</td>\n",
       "      <td>Intel Core i5 Processor (12th Gen), 8 GB DDR4 ...</td>\n",
       "      <td>53990</td>\n",
       "      <td>Intel Core i5 Processor (12th Gen)</td>\n",
       "      <td>8 GB DDR4 RAM</td>\n",
       "      <td>512 GB SSD</td>\n",
       "      <td>64 bit Windows 11 Operating System</td>\n",
       "      <td>39.62 cm (15.6 Inch) Display</td>\n",
       "      <td>0</td>\n",
       "      <td>512 GB SSD</td>\n",
       "    </tr>\n",
       "  </tbody>\n",
       "</table>\n",
       "</div>"
      ],
      "text/plain": [
       "                                         LAPTOP NAME  \\\n",
       "0  Lenovo IdeaPad Gaming 3i Core i7 11th Gen - (8...   \n",
       "1  Lenovo IdeaPad 3 Core i5 12th Gen - (8 GB/512 ...   \n",
       "\n",
       "                                     LAPTOP FEATURES  PRICE  \\\n",
       "0  Intel Core i7 Processor (11th Gen), 8 GB DDR4 ...  69990   \n",
       "1  Intel Core i5 Processor (12th Gen), 8 GB DDR4 ...  53990   \n",
       "\n",
       "                           PROCESSORS            RAM     STORAGE  \\\n",
       "0  Intel Core i7 Processor (11th Gen)  8 GB DDR4 RAM  512 GB SSD   \n",
       "1  Intel Core i5 Processor (12th Gen)  8 GB DDR4 RAM  512 GB SSD   \n",
       "\n",
       "                                   OS                        INCHES HDD  \\\n",
       "0  64 bit Windows 10 Operating System  39.62 cm (15.6 inch) Display   0   \n",
       "1  64 bit Windows 11 Operating System  39.62 cm (15.6 Inch) Display   0   \n",
       "\n",
       "          SSD  \n",
       "0  512 GB SSD  \n",
       "1  512 GB SSD  "
      ]
     },
     "execution_count": 28,
     "metadata": {},
     "output_type": "execute_result"
    }
   ],
   "source": [
    "df.head(2)"
   ]
  },
  {
   "cell_type": "code",
   "execution_count": 29,
   "metadata": {
    "id": "XwsNmRI116gX"
   },
   "outputs": [],
   "source": [
    "def splitting_by_space(x):\n",
    "  if x == 0 :\n",
    "    return 0\n",
    "  else:\n",
    "    return x.split(' ')[0]"
   ]
  },
  {
   "cell_type": "code",
   "execution_count": 30,
   "metadata": {
    "colab": {
     "base_uri": "https://localhost:8080/",
     "height": 580
    },
    "id": "ceXZIpXI3FaV",
    "outputId": "8841f268-f59b-45e5-d259-765b47f5a764"
   },
   "outputs": [
    {
     "data": {
      "text/html": [
       "<div>\n",
       "<style scoped>\n",
       "    .dataframe tbody tr th:only-of-type {\n",
       "        vertical-align: middle;\n",
       "    }\n",
       "\n",
       "    .dataframe tbody tr th {\n",
       "        vertical-align: top;\n",
       "    }\n",
       "\n",
       "    .dataframe thead th {\n",
       "        text-align: right;\n",
       "    }\n",
       "</style>\n",
       "<table border=\"1\" class=\"dataframe\">\n",
       "  <thead>\n",
       "    <tr style=\"text-align: right;\">\n",
       "      <th></th>\n",
       "      <th>LAPTOP NAME</th>\n",
       "      <th>LAPTOP FEATURES</th>\n",
       "      <th>PRICE</th>\n",
       "      <th>PROCESSORS</th>\n",
       "      <th>RAM</th>\n",
       "      <th>STORAGE</th>\n",
       "      <th>OS</th>\n",
       "      <th>INCHES</th>\n",
       "      <th>HDD</th>\n",
       "      <th>SSD</th>\n",
       "    </tr>\n",
       "  </thead>\n",
       "  <tbody>\n",
       "    <tr>\n",
       "      <th>589</th>\n",
       "      <td>ASUS Core i3 11th Gen - (8 GB/256 GB SSD/Windo...</td>\n",
       "      <td>Intel Core i3 Processor (11th Gen), 8 GB DDR4 ...</td>\n",
       "      <td>35490</td>\n",
       "      <td>Intel Core i3 Processor (11th Gen)</td>\n",
       "      <td>8 GB DDR4 RAM</td>\n",
       "      <td>256 GB SSD</td>\n",
       "      <td>Windows 11 Operating System</td>\n",
       "      <td>39.62 cm (15.6 inch) Display</td>\n",
       "      <td>0</td>\n",
       "      <td>256 GB SSD</td>\n",
       "    </tr>\n",
       "    <tr>\n",
       "      <th>956</th>\n",
       "      <td>Lenovo V15 Core i3 11th Gen - (4 GB/256 GB SSD...</td>\n",
       "      <td>Intel Core i3 Processor (11th Gen), 4 GB DDR4 ...</td>\n",
       "      <td>34990</td>\n",
       "      <td>Intel Core i3 Processor (11th Gen)</td>\n",
       "      <td>4 GB DDR4 RAM</td>\n",
       "      <td>256 GB SSD</td>\n",
       "      <td>64 bit Windows 10 Operating System</td>\n",
       "      <td>39.62 cm (15.6 inch) Display</td>\n",
       "      <td>0</td>\n",
       "      <td>256 GB SSD</td>\n",
       "    </tr>\n",
       "    <tr>\n",
       "      <th>626</th>\n",
       "      <td>ASUS ROG Flow X16 Ryzen 7 Octa Core 6800HS - (...</td>\n",
       "      <td>AMD Ryzen 7 Octa Core Processor, 16 GB DDR5 RA...</td>\n",
       "      <td>191990</td>\n",
       "      <td>AMD Ryzen 7 Octa Core Processor</td>\n",
       "      <td>16 GB DDR5 RAM</td>\n",
       "      <td>1 TB SSD</td>\n",
       "      <td>64 bit Windows 11 Operating System</td>\n",
       "      <td>40.64 cm (16 Inch) Touchscreen Display</td>\n",
       "      <td>0</td>\n",
       "      <td>1 TB SSD</td>\n",
       "    </tr>\n",
       "    <tr>\n",
       "      <th>749</th>\n",
       "      <td>DELL Inspiron Core i5 11th Gen - (16 GB/512 GB...</td>\n",
       "      <td>Intel Core i5 Processor (11th Gen), 16 GB DDR4...</td>\n",
       "      <td>69990</td>\n",
       "      <td>Intel Core i5 Processor (11th Gen)</td>\n",
       "      <td>16 GB DDR4 RAM</td>\n",
       "      <td>512 GB SSD</td>\n",
       "      <td>64 bit Windows 10 Operating System</td>\n",
       "      <td>35.56 cm (14 inches) Display</td>\n",
       "      <td>0</td>\n",
       "      <td>512 GB SSD</td>\n",
       "    </tr>\n",
       "    <tr>\n",
       "      <th>926</th>\n",
       "      <td>HP Core i3 11th Gen - (8 GB/1 TB HDD/Windows 1...</td>\n",
       "      <td>Intel Core i3 Processor (11th Gen), 8 GB DDR4 ...</td>\n",
       "      <td>40990</td>\n",
       "      <td>Intel Core i3 Processor (11th Gen)</td>\n",
       "      <td>8 GB DDR4 RAM</td>\n",
       "      <td>1 TB HDD</td>\n",
       "      <td>Windows 10 Operating System</td>\n",
       "      <td>35.81 cm (14.1 inch) Display</td>\n",
       "      <td>1</td>\n",
       "      <td>0</td>\n",
       "    </tr>\n",
       "    <tr>\n",
       "      <th>28</th>\n",
       "      <td>ASUS VivoBook 14 (2021) Ryzen 5 Quad Core 3500...</td>\n",
       "      <td>AMD Ryzen 5 Quad Core Processor, 8 GB DDR4 RAM...</td>\n",
       "      <td>37990</td>\n",
       "      <td>AMD Ryzen 5 Quad Core Processor</td>\n",
       "      <td>8 GB DDR4 RAM</td>\n",
       "      <td>512 GB SSD</td>\n",
       "      <td>32 bit Windows 11 Operating System</td>\n",
       "      <td>35.56 cm (14 inch) Display</td>\n",
       "      <td>0</td>\n",
       "      <td>512 GB SSD</td>\n",
       "    </tr>\n",
       "    <tr>\n",
       "      <th>10</th>\n",
       "      <td>ASUS VivoBook 15 (2022) Core i3 10th Gen - (8 ...</td>\n",
       "      <td>Intel Core i3 Processor (10th Gen), 8 GB DDR4 ...</td>\n",
       "      <td>33990</td>\n",
       "      <td>Intel Core i3 Processor (10th Gen)</td>\n",
       "      <td>8 GB DDR4 RAM</td>\n",
       "      <td>512 GB SSD</td>\n",
       "      <td>64 bit Windows 11 Operating System</td>\n",
       "      <td>39.62 cm (15.6 inch) Display</td>\n",
       "      <td>0</td>\n",
       "      <td>512 GB SSD</td>\n",
       "    </tr>\n",
       "    <tr>\n",
       "      <th>133</th>\n",
       "      <td>Lenovo Ideapad Gaming 3 Core i5 11th Gen - (16...</td>\n",
       "      <td>Intel Core i5 Processor (11th Gen), 16 GB DDR4...</td>\n",
       "      <td>67990</td>\n",
       "      <td>Intel Core i5 Processor (11th Gen)</td>\n",
       "      <td>16 GB DDR4 RAM</td>\n",
       "      <td>1 TB HDD|256 GB SSD</td>\n",
       "      <td>64 bit Windows 11 Operating System</td>\n",
       "      <td>39.62 cm (15.6 inch) Display</td>\n",
       "      <td>1</td>\n",
       "      <td>1 TB HDD|256 GB SSD</td>\n",
       "    </tr>\n",
       "    <tr>\n",
       "      <th>40</th>\n",
       "      <td>ASUS VivoBook K15 OLED Ryzen 7 Octa Core 5700U...</td>\n",
       "      <td>AMD Ryzen 7 Octa Core Processor, 16 GB DDR4 RA...</td>\n",
       "      <td>59990</td>\n",
       "      <td>AMD Ryzen 7 Octa Core Processor</td>\n",
       "      <td>16 GB DDR4 RAM</td>\n",
       "      <td>512 GB SSD</td>\n",
       "      <td>64 bit Windows 11 Operating System</td>\n",
       "      <td>39.62 cm (15.6 Inch) Display</td>\n",
       "      <td>0</td>\n",
       "      <td>512 GB SSD</td>\n",
       "    </tr>\n",
       "    <tr>\n",
       "      <th>726</th>\n",
       "      <td>ASUS ExpertBook P1 Core i5 10th Gen - (4 GB/1 ...</td>\n",
       "      <td>Intel Core i5 Processor (10th Gen), 4 GB DDR4 ...</td>\n",
       "      <td>61249</td>\n",
       "      <td>Intel Core i5 Processor (10th Gen)</td>\n",
       "      <td>4 GB DDR4 RAM</td>\n",
       "      <td>1 TB HDD</td>\n",
       "      <td>64 bit Windows 10 Operating System</td>\n",
       "      <td>35.56 cm (14 inch) Display</td>\n",
       "      <td>1</td>\n",
       "      <td>0</td>\n",
       "    </tr>\n",
       "  </tbody>\n",
       "</table>\n",
       "</div>"
      ],
      "text/plain": [
       "                                           LAPTOP NAME  \\\n",
       "589  ASUS Core i3 11th Gen - (8 GB/256 GB SSD/Windo...   \n",
       "956  Lenovo V15 Core i3 11th Gen - (4 GB/256 GB SSD...   \n",
       "626  ASUS ROG Flow X16 Ryzen 7 Octa Core 6800HS - (...   \n",
       "749  DELL Inspiron Core i5 11th Gen - (16 GB/512 GB...   \n",
       "926  HP Core i3 11th Gen - (8 GB/1 TB HDD/Windows 1...   \n",
       "28   ASUS VivoBook 14 (2021) Ryzen 5 Quad Core 3500...   \n",
       "10   ASUS VivoBook 15 (2022) Core i3 10th Gen - (8 ...   \n",
       "133  Lenovo Ideapad Gaming 3 Core i5 11th Gen - (16...   \n",
       "40   ASUS VivoBook K15 OLED Ryzen 7 Octa Core 5700U...   \n",
       "726  ASUS ExpertBook P1 Core i5 10th Gen - (4 GB/1 ...   \n",
       "\n",
       "                                       LAPTOP FEATURES   PRICE  \\\n",
       "589  Intel Core i3 Processor (11th Gen), 8 GB DDR4 ...   35490   \n",
       "956  Intel Core i3 Processor (11th Gen), 4 GB DDR4 ...   34990   \n",
       "626  AMD Ryzen 7 Octa Core Processor, 16 GB DDR5 RA...  191990   \n",
       "749  Intel Core i5 Processor (11th Gen), 16 GB DDR4...   69990   \n",
       "926  Intel Core i3 Processor (11th Gen), 8 GB DDR4 ...   40990   \n",
       "28   AMD Ryzen 5 Quad Core Processor, 8 GB DDR4 RAM...   37990   \n",
       "10   Intel Core i3 Processor (10th Gen), 8 GB DDR4 ...   33990   \n",
       "133  Intel Core i5 Processor (11th Gen), 16 GB DDR4...   67990   \n",
       "40   AMD Ryzen 7 Octa Core Processor, 16 GB DDR4 RA...   59990   \n",
       "726  Intel Core i5 Processor (10th Gen), 4 GB DDR4 ...   61249   \n",
       "\n",
       "                             PROCESSORS             RAM              STORAGE  \\\n",
       "589  Intel Core i3 Processor (11th Gen)   8 GB DDR4 RAM           256 GB SSD   \n",
       "956  Intel Core i3 Processor (11th Gen)   4 GB DDR4 RAM           256 GB SSD   \n",
       "626     AMD Ryzen 7 Octa Core Processor  16 GB DDR5 RAM             1 TB SSD   \n",
       "749  Intel Core i5 Processor (11th Gen)  16 GB DDR4 RAM           512 GB SSD   \n",
       "926  Intel Core i3 Processor (11th Gen)   8 GB DDR4 RAM             1 TB HDD   \n",
       "28      AMD Ryzen 5 Quad Core Processor   8 GB DDR4 RAM           512 GB SSD   \n",
       "10   Intel Core i3 Processor (10th Gen)   8 GB DDR4 RAM           512 GB SSD   \n",
       "133  Intel Core i5 Processor (11th Gen)  16 GB DDR4 RAM  1 TB HDD|256 GB SSD   \n",
       "40      AMD Ryzen 7 Octa Core Processor  16 GB DDR4 RAM           512 GB SSD   \n",
       "726  Intel Core i5 Processor (10th Gen)   4 GB DDR4 RAM             1 TB HDD   \n",
       "\n",
       "                                     OS  \\\n",
       "589         Windows 11 Operating System   \n",
       "956  64 bit Windows 10 Operating System   \n",
       "626  64 bit Windows 11 Operating System   \n",
       "749  64 bit Windows 10 Operating System   \n",
       "926         Windows 10 Operating System   \n",
       "28   32 bit Windows 11 Operating System   \n",
       "10   64 bit Windows 11 Operating System   \n",
       "133  64 bit Windows 11 Operating System   \n",
       "40   64 bit Windows 11 Operating System   \n",
       "726  64 bit Windows 10 Operating System   \n",
       "\n",
       "                                     INCHES HDD                  SSD  \n",
       "589            39.62 cm (15.6 inch) Display   0           256 GB SSD  \n",
       "956            39.62 cm (15.6 inch) Display   0           256 GB SSD  \n",
       "626  40.64 cm (16 Inch) Touchscreen Display   0             1 TB SSD  \n",
       "749            35.56 cm (14 inches) Display   0           512 GB SSD  \n",
       "926            35.81 cm (14.1 inch) Display   1                    0  \n",
       "28               35.56 cm (14 inch) Display   0           512 GB SSD  \n",
       "10             39.62 cm (15.6 inch) Display   0           512 GB SSD  \n",
       "133            39.62 cm (15.6 inch) Display   1  1 TB HDD|256 GB SSD  \n",
       "40             39.62 cm (15.6 Inch) Display   0           512 GB SSD  \n",
       "726              35.56 cm (14 inch) Display   1                    0  "
      ]
     },
     "execution_count": 30,
     "metadata": {},
     "output_type": "execute_result"
    }
   ],
   "source": [
    "df['HDD'] = df['HDD'].apply(splitting_by_space)\n",
    "df.sample(10)"
   ]
  },
  {
   "cell_type": "code",
   "execution_count": 32,
   "metadata": {
    "id": "bilFohGCJjKZ"
   },
   "outputs": [],
   "source": [
    "df['HDD'] = df['HDD'].astype('int64')"
   ]
  },
  {
   "cell_type": "code",
   "execution_count": 33,
   "metadata": {
    "colab": {
     "base_uri": "https://localhost:8080/"
    },
    "id": "DDrJcc1yJxQd",
    "outputId": "00cadbdf-f583-4bd3-8be8-53c69e943817"
   },
   "outputs": [
    {
     "name": "stdout",
     "output_type": "stream",
     "text": [
      "<class 'pandas.core.frame.DataFrame'>\n",
      "Int64Index: 695 entries, 0 to 982\n",
      "Data columns (total 10 columns):\n",
      " #   Column           Non-Null Count  Dtype \n",
      "---  ------           --------------  ----- \n",
      " 0   LAPTOP NAME      695 non-null    object\n",
      " 1   LAPTOP FEATURES  695 non-null    object\n",
      " 2   PRICE            695 non-null    int64 \n",
      " 3   PROCESSORS       695 non-null    object\n",
      " 4   RAM              695 non-null    object\n",
      " 5   STORAGE          695 non-null    object\n",
      " 6   OS               695 non-null    object\n",
      " 7   INCHES           695 non-null    object\n",
      " 8   HDD              695 non-null    int64 \n",
      " 9   SSD              695 non-null    object\n",
      "dtypes: int64(2), object(8)\n",
      "memory usage: 59.7+ KB\n"
     ]
    }
   ],
   "source": [
    "df.info()"
   ]
  },
  {
   "cell_type": "code",
   "execution_count": 34,
   "metadata": {
    "colab": {
     "base_uri": "https://localhost:8080/"
    },
    "id": "lXEDQ3ng3fPC",
    "outputId": "8a259e73-871b-4e14-b855-df7cfc44e8bd"
   },
   "outputs": [
    {
     "data": {
      "text/plain": [
       "0      596\n",
       "1       94\n",
       "512      3\n",
       "2        1\n",
       "500      1\n",
       "Name: HDD, dtype: int64"
      ]
     },
     "execution_count": 34,
     "metadata": {},
     "output_type": "execute_result"
    }
   ],
   "source": [
    "df['HDD'].value_counts()"
   ]
  },
  {
   "cell_type": "code",
   "execution_count": 35,
   "metadata": {
    "id": "hSN6tNwO-obr"
   },
   "outputs": [],
   "source": [
    "def convert_HDD_1000(x):\n",
    "  if x == 1:\n",
    "    return 1000\n",
    "  elif x== 2:\n",
    "    return 2000\n",
    "  elif x == 512:\n",
    "    return 512\n",
    "  elif x == 500:\n",
    "    return 500\n",
    "  else:\n",
    "    return 0\n"
   ]
  },
  {
   "cell_type": "code",
   "execution_count": 36,
   "metadata": {
    "id": "FCgsAwQlBlD9"
   },
   "outputs": [],
   "source": [
    "df['HDD'] = df['HDD'].apply(convert_HDD_1000)"
   ]
  },
  {
   "cell_type": "code",
   "execution_count": 37,
   "metadata": {
    "colab": {
     "base_uri": "https://localhost:8080/",
     "height": 337
    },
    "id": "QiHFcK6-BlCV",
    "outputId": "aca4c58f-0418-41fb-ae79-2dda13b4dfe4"
   },
   "outputs": [
    {
     "data": {
      "text/html": [
       "<div>\n",
       "<style scoped>\n",
       "    .dataframe tbody tr th:only-of-type {\n",
       "        vertical-align: middle;\n",
       "    }\n",
       "\n",
       "    .dataframe tbody tr th {\n",
       "        vertical-align: top;\n",
       "    }\n",
       "\n",
       "    .dataframe thead th {\n",
       "        text-align: right;\n",
       "    }\n",
       "</style>\n",
       "<table border=\"1\" class=\"dataframe\">\n",
       "  <thead>\n",
       "    <tr style=\"text-align: right;\">\n",
       "      <th></th>\n",
       "      <th>LAPTOP NAME</th>\n",
       "      <th>LAPTOP FEATURES</th>\n",
       "      <th>PRICE</th>\n",
       "      <th>PROCESSORS</th>\n",
       "      <th>RAM</th>\n",
       "      <th>STORAGE</th>\n",
       "      <th>OS</th>\n",
       "      <th>INCHES</th>\n",
       "      <th>HDD</th>\n",
       "      <th>SSD</th>\n",
       "    </tr>\n",
       "  </thead>\n",
       "  <tbody>\n",
       "    <tr>\n",
       "      <th>24</th>\n",
       "      <td>Lenovo IdeaPad 3 Ryzen 5 Hexa Core 5500U - (8 ...</td>\n",
       "      <td>AMD Ryzen 5 Hexa Core Processor, 8 GB DDR4 RAM...</td>\n",
       "      <td>45990</td>\n",
       "      <td>AMD Ryzen 5 Hexa Core Processor</td>\n",
       "      <td>8 GB DDR4 RAM</td>\n",
       "      <td>512 GB SSD</td>\n",
       "      <td>64 bit Windows 11 Operating System</td>\n",
       "      <td>39.62 cm (15.6 inch) Display</td>\n",
       "      <td>0</td>\n",
       "      <td>512 GB SSD</td>\n",
       "    </tr>\n",
       "    <tr>\n",
       "      <th>13</th>\n",
       "      <td>ASUS VivoBook Ultra 14 (2022) Core i5 11th Gen...</td>\n",
       "      <td>Intel Core i5 Processor (11th Gen), 16 GB DDR4...</td>\n",
       "      <td>52990</td>\n",
       "      <td>Intel Core i5 Processor (11th Gen)</td>\n",
       "      <td>16 GB DDR4 RAM</td>\n",
       "      <td>512 GB SSD</td>\n",
       "      <td>64 bit Windows 11 Operating System</td>\n",
       "      <td>35.56 cm (14 inch) Display</td>\n",
       "      <td>0</td>\n",
       "      <td>512 GB SSD</td>\n",
       "    </tr>\n",
       "    <tr>\n",
       "      <th>120</th>\n",
       "      <td>Lenovo IdeaPad Gaming 3 Ryzen 7 Octa Core 5800...</td>\n",
       "      <td>AMD Ryzen 7 Octa Core Processor, 16 GB DDR4 RA...</td>\n",
       "      <td>72990</td>\n",
       "      <td>AMD Ryzen 7 Octa Core Processor</td>\n",
       "      <td>16 GB DDR4 RAM</td>\n",
       "      <td>512 GB SSD</td>\n",
       "      <td>64 bit Windows 11 Operating System</td>\n",
       "      <td>39.62 cm (15.6 Inch) Display</td>\n",
       "      <td>0</td>\n",
       "      <td>512 GB SSD</td>\n",
       "    </tr>\n",
       "    <tr>\n",
       "      <th>480</th>\n",
       "      <td>HP Core i3 11th Gen - (8 GB/1 TB HDD/Windows 1...</td>\n",
       "      <td>Intel Core i3 Processor (11th Gen), 8 GB DDR4 ...</td>\n",
       "      <td>40490</td>\n",
       "      <td>Intel Core i3 Processor (11th Gen)</td>\n",
       "      <td>8 GB DDR4 RAM</td>\n",
       "      <td>1 TB HDD</td>\n",
       "      <td>64 bit Windows 10 Operating System</td>\n",
       "      <td>39.62 cm (15.6 Inch) Display</td>\n",
       "      <td>1000</td>\n",
       "      <td>0</td>\n",
       "    </tr>\n",
       "    <tr>\n",
       "      <th>205</th>\n",
       "      <td>ASUS ROG Flow X13 Ryzen 9 Octa Core 5900HS - (...</td>\n",
       "      <td>AMD Ryzen 9 Octa Core Processor, 32 GB LPDDR4X...</td>\n",
       "      <td>112990</td>\n",
       "      <td>AMD Ryzen 9 Octa Core Processor</td>\n",
       "      <td>32 GB LPDDR4X RAM</td>\n",
       "      <td>1 TB SSD</td>\n",
       "      <td>64 bit Windows 10 Operating System</td>\n",
       "      <td>34.04 cm (13.4 inch) Touchscreen Display</td>\n",
       "      <td>0</td>\n",
       "      <td>1 TB SSD</td>\n",
       "    </tr>\n",
       "  </tbody>\n",
       "</table>\n",
       "</div>"
      ],
      "text/plain": [
       "                                           LAPTOP NAME  \\\n",
       "24   Lenovo IdeaPad 3 Ryzen 5 Hexa Core 5500U - (8 ...   \n",
       "13   ASUS VivoBook Ultra 14 (2022) Core i5 11th Gen...   \n",
       "120  Lenovo IdeaPad Gaming 3 Ryzen 7 Octa Core 5800...   \n",
       "480  HP Core i3 11th Gen - (8 GB/1 TB HDD/Windows 1...   \n",
       "205  ASUS ROG Flow X13 Ryzen 9 Octa Core 5900HS - (...   \n",
       "\n",
       "                                       LAPTOP FEATURES   PRICE  \\\n",
       "24   AMD Ryzen 5 Hexa Core Processor, 8 GB DDR4 RAM...   45990   \n",
       "13   Intel Core i5 Processor (11th Gen), 16 GB DDR4...   52990   \n",
       "120  AMD Ryzen 7 Octa Core Processor, 16 GB DDR4 RA...   72990   \n",
       "480  Intel Core i3 Processor (11th Gen), 8 GB DDR4 ...   40490   \n",
       "205  AMD Ryzen 9 Octa Core Processor, 32 GB LPDDR4X...  112990   \n",
       "\n",
       "                             PROCESSORS                RAM     STORAGE  \\\n",
       "24      AMD Ryzen 5 Hexa Core Processor      8 GB DDR4 RAM  512 GB SSD   \n",
       "13   Intel Core i5 Processor (11th Gen)     16 GB DDR4 RAM  512 GB SSD   \n",
       "120     AMD Ryzen 7 Octa Core Processor     16 GB DDR4 RAM  512 GB SSD   \n",
       "480  Intel Core i3 Processor (11th Gen)      8 GB DDR4 RAM    1 TB HDD   \n",
       "205     AMD Ryzen 9 Octa Core Processor  32 GB LPDDR4X RAM    1 TB SSD   \n",
       "\n",
       "                                     OS  \\\n",
       "24   64 bit Windows 11 Operating System   \n",
       "13   64 bit Windows 11 Operating System   \n",
       "120  64 bit Windows 11 Operating System   \n",
       "480  64 bit Windows 10 Operating System   \n",
       "205  64 bit Windows 10 Operating System   \n",
       "\n",
       "                                       INCHES   HDD         SSD  \n",
       "24               39.62 cm (15.6 inch) Display     0  512 GB SSD  \n",
       "13                 35.56 cm (14 inch) Display     0  512 GB SSD  \n",
       "120              39.62 cm (15.6 Inch) Display     0  512 GB SSD  \n",
       "480              39.62 cm (15.6 Inch) Display  1000           0  \n",
       "205  34.04 cm (13.4 inch) Touchscreen Display     0    1 TB SSD  "
      ]
     },
     "execution_count": 37,
     "metadata": {},
     "output_type": "execute_result"
    }
   ],
   "source": [
    "df.sample(5)"
   ]
  },
  {
   "cell_type": "code",
   "execution_count": 38,
   "metadata": {
    "colab": {
     "base_uri": "https://localhost:8080/"
    },
    "id": "C0INzSwlBk2r",
    "outputId": "1d1762f6-364c-40bf-ef4a-c593982cb6ba"
   },
   "outputs": [
    {
     "data": {
      "text/plain": [
       "0       596\n",
       "1000     94\n",
       "512       3\n",
       "2000      1\n",
       "500       1\n",
       "Name: HDD, dtype: int64"
      ]
     },
     "execution_count": 38,
     "metadata": {},
     "output_type": "execute_result"
    }
   ],
   "source": [
    "df['HDD'].value_counts()"
   ]
  },
  {
   "cell_type": "markdown",
   "metadata": {
    "id": "NGh_PCMxx-oy"
   },
   "source": [
    "#SSD COLUMN : "
   ]
  },
  {
   "cell_type": "code",
   "execution_count": 39,
   "metadata": {
    "id": "g2kwG-XYyATr"
   },
   "outputs": [],
   "source": [
    "def splitting_SSD(y):\n",
    "  if y == 0 :\n",
    "    return 0\n",
    "  else:\n",
    "    return y.split('|')[-1]"
   ]
  },
  {
   "cell_type": "code",
   "execution_count": 40,
   "metadata": {
    "id": "Wi5DU6KuyH4B"
   },
   "outputs": [],
   "source": [
    "df['SSD'] = df['SSD'].apply(splitting_SSD)"
   ]
  },
  {
   "cell_type": "code",
   "execution_count": 41,
   "metadata": {
    "colab": {
     "base_uri": "https://localhost:8080/",
     "height": 337
    },
    "id": "APPdyy32zHa2",
    "outputId": "cba9c60d-48a4-4bf1-f027-a0239036b6f2"
   },
   "outputs": [
    {
     "data": {
      "text/html": [
       "<div>\n",
       "<style scoped>\n",
       "    .dataframe tbody tr th:only-of-type {\n",
       "        vertical-align: middle;\n",
       "    }\n",
       "\n",
       "    .dataframe tbody tr th {\n",
       "        vertical-align: top;\n",
       "    }\n",
       "\n",
       "    .dataframe thead th {\n",
       "        text-align: right;\n",
       "    }\n",
       "</style>\n",
       "<table border=\"1\" class=\"dataframe\">\n",
       "  <thead>\n",
       "    <tr style=\"text-align: right;\">\n",
       "      <th></th>\n",
       "      <th>LAPTOP NAME</th>\n",
       "      <th>LAPTOP FEATURES</th>\n",
       "      <th>PRICE</th>\n",
       "      <th>PROCESSORS</th>\n",
       "      <th>RAM</th>\n",
       "      <th>STORAGE</th>\n",
       "      <th>OS</th>\n",
       "      <th>INCHES</th>\n",
       "      <th>HDD</th>\n",
       "      <th>SSD</th>\n",
       "    </tr>\n",
       "  </thead>\n",
       "  <tbody>\n",
       "    <tr>\n",
       "      <th>262</th>\n",
       "      <td>ASUS Zenbook 14 ScreenPad Touch Panel Core i5 ...</td>\n",
       "      <td>Intel Core i5 Processor (11th Gen), 8 GB LPDDR...</td>\n",
       "      <td>79990</td>\n",
       "      <td>Intel Core i5 Processor (11th Gen)</td>\n",
       "      <td>8 GB LPDDR4X RAM</td>\n",
       "      <td>512 GB SSD</td>\n",
       "      <td>64 bit Windows 10 Operating System</td>\n",
       "      <td>35.56 cm (14 inch) Touchscreen Display</td>\n",
       "      <td>0</td>\n",
       "      <td>512 GB SSD</td>\n",
       "    </tr>\n",
       "    <tr>\n",
       "      <th>320</th>\n",
       "      <td>ASUS Vivobook 15 Core i5 11th Gen - (8 GB + 32...</td>\n",
       "      <td>Intel Core i5 Processor (11th Gen), 8 GB DDR4 ...</td>\n",
       "      <td>51390</td>\n",
       "      <td>Intel Core i5 Processor (11th Gen)</td>\n",
       "      <td>8 GB DDR4 RAM</td>\n",
       "      <td>512 GB SSD</td>\n",
       "      <td>64 bit Windows 10 Operating System</td>\n",
       "      <td>39.62 cm (15.6 inch) Display</td>\n",
       "      <td>0</td>\n",
       "      <td>512 GB SSD</td>\n",
       "    </tr>\n",
       "    <tr>\n",
       "      <th>134</th>\n",
       "      <td>MSI GF65 Thin Core i7 10th Gen - (16 GB/1 TB S...</td>\n",
       "      <td>Intel Core i7 Processor (10th Gen), 16 GB DDR4...</td>\n",
       "      <td>89990</td>\n",
       "      <td>Intel Core i7 Processor (10th Gen)</td>\n",
       "      <td>16 GB DDR4 RAM</td>\n",
       "      <td>1 TB SSD</td>\n",
       "      <td>64 bit Windows 10 Operating System</td>\n",
       "      <td>39.62 cm (15.6 inch) Display</td>\n",
       "      <td>0</td>\n",
       "      <td>1 TB SSD</td>\n",
       "    </tr>\n",
       "    <tr>\n",
       "      <th>450</th>\n",
       "      <td>ASUS ROG Zephyrus Duo 16 Ryzen 9 Octa Core 690...</td>\n",
       "      <td>AMD Ryzen 9 Octa Core Processor, 32 GB DDR5 RA...</td>\n",
       "      <td>391990</td>\n",
       "      <td>AMD Ryzen 9 Octa Core Processor</td>\n",
       "      <td>32 GB DDR5 RAM</td>\n",
       "      <td>2 TB SSD</td>\n",
       "      <td>64 bit Windows 11 Operating System</td>\n",
       "      <td>40.64 cm (16 Inch) Display</td>\n",
       "      <td>0</td>\n",
       "      <td>2 TB SSD</td>\n",
       "    </tr>\n",
       "    <tr>\n",
       "      <th>866</th>\n",
       "      <td>Lenovo Ideapad Slim 3i (2021) Core i3 10th Gen...</td>\n",
       "      <td>Intel Core i3 Processor (10th Gen), 4 GB DDR4 ...</td>\n",
       "      <td>40200</td>\n",
       "      <td>Intel Core i3 Processor (10th Gen)</td>\n",
       "      <td>4 GB DDR4 RAM</td>\n",
       "      <td>256 GB SSD</td>\n",
       "      <td>64 bit Windows 10 Operating System</td>\n",
       "      <td>39.62 cm (15.6 Inch) Display</td>\n",
       "      <td>0</td>\n",
       "      <td>256 GB SSD</td>\n",
       "    </tr>\n",
       "  </tbody>\n",
       "</table>\n",
       "</div>"
      ],
      "text/plain": [
       "                                           LAPTOP NAME  \\\n",
       "262  ASUS Zenbook 14 ScreenPad Touch Panel Core i5 ...   \n",
       "320  ASUS Vivobook 15 Core i5 11th Gen - (8 GB + 32...   \n",
       "134  MSI GF65 Thin Core i7 10th Gen - (16 GB/1 TB S...   \n",
       "450  ASUS ROG Zephyrus Duo 16 Ryzen 9 Octa Core 690...   \n",
       "866  Lenovo Ideapad Slim 3i (2021) Core i3 10th Gen...   \n",
       "\n",
       "                                       LAPTOP FEATURES   PRICE  \\\n",
       "262  Intel Core i5 Processor (11th Gen), 8 GB LPDDR...   79990   \n",
       "320  Intel Core i5 Processor (11th Gen), 8 GB DDR4 ...   51390   \n",
       "134  Intel Core i7 Processor (10th Gen), 16 GB DDR4...   89990   \n",
       "450  AMD Ryzen 9 Octa Core Processor, 32 GB DDR5 RA...  391990   \n",
       "866  Intel Core i3 Processor (10th Gen), 4 GB DDR4 ...   40200   \n",
       "\n",
       "                             PROCESSORS               RAM     STORAGE  \\\n",
       "262  Intel Core i5 Processor (11th Gen)  8 GB LPDDR4X RAM  512 GB SSD   \n",
       "320  Intel Core i5 Processor (11th Gen)     8 GB DDR4 RAM  512 GB SSD   \n",
       "134  Intel Core i7 Processor (10th Gen)    16 GB DDR4 RAM    1 TB SSD   \n",
       "450     AMD Ryzen 9 Octa Core Processor    32 GB DDR5 RAM    2 TB SSD   \n",
       "866  Intel Core i3 Processor (10th Gen)     4 GB DDR4 RAM  256 GB SSD   \n",
       "\n",
       "                                     OS  \\\n",
       "262  64 bit Windows 10 Operating System   \n",
       "320  64 bit Windows 10 Operating System   \n",
       "134  64 bit Windows 10 Operating System   \n",
       "450  64 bit Windows 11 Operating System   \n",
       "866  64 bit Windows 10 Operating System   \n",
       "\n",
       "                                     INCHES  HDD         SSD  \n",
       "262  35.56 cm (14 inch) Touchscreen Display    0  512 GB SSD  \n",
       "320            39.62 cm (15.6 inch) Display    0  512 GB SSD  \n",
       "134            39.62 cm (15.6 inch) Display    0    1 TB SSD  \n",
       "450              40.64 cm (16 Inch) Display    0    2 TB SSD  \n",
       "866            39.62 cm (15.6 Inch) Display    0  256 GB SSD  "
      ]
     },
     "execution_count": 41,
     "metadata": {},
     "output_type": "execute_result"
    }
   ],
   "source": [
    "df.sample(5)"
   ]
  },
  {
   "cell_type": "code",
   "execution_count": 42,
   "metadata": {
    "colab": {
     "base_uri": "https://localhost:8080/",
     "height": 580
    },
    "id": "0NMdynht1CAE",
    "outputId": "808427cb-e1ba-43ef-c1fd-e76e58a8864e"
   },
   "outputs": [
    {
     "data": {
      "text/html": [
       "<div>\n",
       "<style scoped>\n",
       "    .dataframe tbody tr th:only-of-type {\n",
       "        vertical-align: middle;\n",
       "    }\n",
       "\n",
       "    .dataframe tbody tr th {\n",
       "        vertical-align: top;\n",
       "    }\n",
       "\n",
       "    .dataframe thead th {\n",
       "        text-align: right;\n",
       "    }\n",
       "</style>\n",
       "<table border=\"1\" class=\"dataframe\">\n",
       "  <thead>\n",
       "    <tr style=\"text-align: right;\">\n",
       "      <th></th>\n",
       "      <th>LAPTOP NAME</th>\n",
       "      <th>LAPTOP FEATURES</th>\n",
       "      <th>PRICE</th>\n",
       "      <th>PROCESSORS</th>\n",
       "      <th>RAM</th>\n",
       "      <th>STORAGE</th>\n",
       "      <th>OS</th>\n",
       "      <th>INCHES</th>\n",
       "      <th>HDD</th>\n",
       "      <th>SSD</th>\n",
       "    </tr>\n",
       "  </thead>\n",
       "  <tbody>\n",
       "    <tr>\n",
       "      <th>854</th>\n",
       "      <td>Lenovo Ideapad Slim 3i (2021) Core i5 11th Gen...</td>\n",
       "      <td>Intel Core i5 Processor (11th Gen), 8 GB DDR4 ...</td>\n",
       "      <td>57999</td>\n",
       "      <td>Intel Core i5 Processor (11th Gen)</td>\n",
       "      <td>8 GB DDR4 RAM</td>\n",
       "      <td>512 GB SSD</td>\n",
       "      <td>64 bit Windows 10 Operating System</td>\n",
       "      <td>39.62 cm (15.6 Inch) Display</td>\n",
       "      <td>0</td>\n",
       "      <td>512</td>\n",
       "    </tr>\n",
       "    <tr>\n",
       "      <th>272</th>\n",
       "      <td>ASUS Core i5 10th Gen - (8 GB/256 GB SSD/Windo...</td>\n",
       "      <td>Intel Core i5 Processor (10th Gen), 8 GB DDR4 ...</td>\n",
       "      <td>41390</td>\n",
       "      <td>Intel Core i5 Processor (10th Gen)</td>\n",
       "      <td>8 GB DDR4 RAM</td>\n",
       "      <td>256 GB SSD</td>\n",
       "      <td>Windows 11 Operating System</td>\n",
       "      <td>39.62 cm (15.6 inch) Display</td>\n",
       "      <td>0</td>\n",
       "      <td>256</td>\n",
       "    </tr>\n",
       "    <tr>\n",
       "      <th>416</th>\n",
       "      <td>HP Ryzen 3 Quad Core 5300U - (8 GB/256 GB SSD/...</td>\n",
       "      <td>AMD Ryzen 3 Quad Core Processor, 8 GB DDR4 RAM...</td>\n",
       "      <td>47873</td>\n",
       "      <td>AMD Ryzen 3 Quad Core Processor</td>\n",
       "      <td>8 GB DDR4 RAM</td>\n",
       "      <td>256 GB SSD</td>\n",
       "      <td>64 bit Windows 11 Operating System</td>\n",
       "      <td>39.62 cm (15.6 inch) Display</td>\n",
       "      <td>0</td>\n",
       "      <td>256</td>\n",
       "    </tr>\n",
       "    <tr>\n",
       "      <th>784</th>\n",
       "      <td>acer Swift 7 Core i5 7th Gen - (8 GB/256 GB SS...</td>\n",
       "      <td>Intel Core i5 Processor (7th Gen), 8 GB DDR3 R...</td>\n",
       "      <td>86867</td>\n",
       "      <td>Intel Core i5 Processor (7th Gen)</td>\n",
       "      <td>8 GB DDR3 RAM</td>\n",
       "      <td>256 GB SSD</td>\n",
       "      <td>64 bit Windows 10 Operating System</td>\n",
       "      <td>33.78 cm (13.3 inch) Display</td>\n",
       "      <td>0</td>\n",
       "      <td>256</td>\n",
       "    </tr>\n",
       "    <tr>\n",
       "      <th>264</th>\n",
       "      <td>acer Aspire 3 Ryzen 5 Quad Core 3500U - (8 GB/...</td>\n",
       "      <td>AMD Ryzen 5 Quad Core Processor, 8 GB DDR4 RAM...</td>\n",
       "      <td>39990</td>\n",
       "      <td>AMD Ryzen 5 Quad Core Processor</td>\n",
       "      <td>8 GB DDR4 RAM</td>\n",
       "      <td>512 GB SSD</td>\n",
       "      <td>64 bit Windows 11 Operating System</td>\n",
       "      <td>39.62 cm (15.6 inch) Display</td>\n",
       "      <td>0</td>\n",
       "      <td>512</td>\n",
       "    </tr>\n",
       "    <tr>\n",
       "      <th>948</th>\n",
       "      <td>Lenovo Ideapad Slim 5 Ryzen 7 Octa Core 5700U ...</td>\n",
       "      <td>AMD Ryzen 7 Octa Core Processor, 16 GB DDR4 RA...</td>\n",
       "      <td>84999</td>\n",
       "      <td>AMD Ryzen 7 Octa Core Processor</td>\n",
       "      <td>16 GB DDR4 RAM</td>\n",
       "      <td>512 GB SSD</td>\n",
       "      <td>64 bit Windows 10 Operating System</td>\n",
       "      <td>39.62 cm (15.6 inch) Display</td>\n",
       "      <td>0</td>\n",
       "      <td>512</td>\n",
       "    </tr>\n",
       "    <tr>\n",
       "      <th>952</th>\n",
       "      <td>Avita Liber Core i7 8th Gen - (8 GB/256 GB SSD...</td>\n",
       "      <td>Intel Core i7 Processor (8th Gen), 8 GB DDR4 R...</td>\n",
       "      <td>73990</td>\n",
       "      <td>Intel Core i7 Processor (8th Gen)</td>\n",
       "      <td>8 GB DDR4 RAM</td>\n",
       "      <td>256 GB SSD</td>\n",
       "      <td>64 bit Windows 10 Operating System</td>\n",
       "      <td>35.56 cm (14 inch) Display</td>\n",
       "      <td>0</td>\n",
       "      <td>256</td>\n",
       "    </tr>\n",
       "    <tr>\n",
       "      <th>502</th>\n",
       "      <td>Lenovo Legion 5 Ryzen 5 Hexa Core 5600H - (8 G...</td>\n",
       "      <td>AMD Ryzen 5 Hexa Core Processor, 8 GB DDR4 RAM...</td>\n",
       "      <td>73999</td>\n",
       "      <td>AMD Ryzen 5 Hexa Core Processor</td>\n",
       "      <td>8 GB DDR4 RAM</td>\n",
       "      <td>512 GB SSD</td>\n",
       "      <td>64 bit Windows 10 Operating System</td>\n",
       "      <td>39.62 cm (15.6 inch) Display</td>\n",
       "      <td>0</td>\n",
       "      <td>512</td>\n",
       "    </tr>\n",
       "    <tr>\n",
       "      <th>273</th>\n",
       "      <td>DELL Inspiron Core i5 11th Gen - (16 GB/512 GB...</td>\n",
       "      <td>Intel Core i5 Processor (11th Gen), 16 GB DDR4...</td>\n",
       "      <td>69890</td>\n",
       "      <td>Intel Core i5 Processor (11th Gen)</td>\n",
       "      <td>16 GB DDR4 RAM</td>\n",
       "      <td>512 GB SSD</td>\n",
       "      <td>64 bit Windows 11 Operating System</td>\n",
       "      <td>39.62 cm (15.6 inch) Display</td>\n",
       "      <td>0</td>\n",
       "      <td>512</td>\n",
       "    </tr>\n",
       "    <tr>\n",
       "      <th>336</th>\n",
       "      <td>ASUS VivoBook Ultra K14 (2021) Ryzen 5 Hexa Co...</td>\n",
       "      <td>AMD Ryzen 5 Hexa Core Processor, 8 GB DDR4 RAM...</td>\n",
       "      <td>49990</td>\n",
       "      <td>AMD Ryzen 5 Hexa Core Processor</td>\n",
       "      <td>8 GB DDR4 RAM</td>\n",
       "      <td>512 GB SSD</td>\n",
       "      <td>64 bit Windows 10 Operating System</td>\n",
       "      <td>35.56 cm (14 inch) Display</td>\n",
       "      <td>0</td>\n",
       "      <td>512</td>\n",
       "    </tr>\n",
       "  </tbody>\n",
       "</table>\n",
       "</div>"
      ],
      "text/plain": [
       "                                           LAPTOP NAME  \\\n",
       "854  Lenovo Ideapad Slim 3i (2021) Core i5 11th Gen...   \n",
       "272  ASUS Core i5 10th Gen - (8 GB/256 GB SSD/Windo...   \n",
       "416  HP Ryzen 3 Quad Core 5300U - (8 GB/256 GB SSD/...   \n",
       "784  acer Swift 7 Core i5 7th Gen - (8 GB/256 GB SS...   \n",
       "264  acer Aspire 3 Ryzen 5 Quad Core 3500U - (8 GB/...   \n",
       "948  Lenovo Ideapad Slim 5 Ryzen 7 Octa Core 5700U ...   \n",
       "952  Avita Liber Core i7 8th Gen - (8 GB/256 GB SSD...   \n",
       "502  Lenovo Legion 5 Ryzen 5 Hexa Core 5600H - (8 G...   \n",
       "273  DELL Inspiron Core i5 11th Gen - (16 GB/512 GB...   \n",
       "336  ASUS VivoBook Ultra K14 (2021) Ryzen 5 Hexa Co...   \n",
       "\n",
       "                                       LAPTOP FEATURES  PRICE  \\\n",
       "854  Intel Core i5 Processor (11th Gen), 8 GB DDR4 ...  57999   \n",
       "272  Intel Core i5 Processor (10th Gen), 8 GB DDR4 ...  41390   \n",
       "416  AMD Ryzen 3 Quad Core Processor, 8 GB DDR4 RAM...  47873   \n",
       "784  Intel Core i5 Processor (7th Gen), 8 GB DDR3 R...  86867   \n",
       "264  AMD Ryzen 5 Quad Core Processor, 8 GB DDR4 RAM...  39990   \n",
       "948  AMD Ryzen 7 Octa Core Processor, 16 GB DDR4 RA...  84999   \n",
       "952  Intel Core i7 Processor (8th Gen), 8 GB DDR4 R...  73990   \n",
       "502  AMD Ryzen 5 Hexa Core Processor, 8 GB DDR4 RAM...  73999   \n",
       "273  Intel Core i5 Processor (11th Gen), 16 GB DDR4...  69890   \n",
       "336  AMD Ryzen 5 Hexa Core Processor, 8 GB DDR4 RAM...  49990   \n",
       "\n",
       "                             PROCESSORS             RAM     STORAGE  \\\n",
       "854  Intel Core i5 Processor (11th Gen)   8 GB DDR4 RAM  512 GB SSD   \n",
       "272  Intel Core i5 Processor (10th Gen)   8 GB DDR4 RAM  256 GB SSD   \n",
       "416     AMD Ryzen 3 Quad Core Processor   8 GB DDR4 RAM  256 GB SSD   \n",
       "784   Intel Core i5 Processor (7th Gen)   8 GB DDR3 RAM  256 GB SSD   \n",
       "264     AMD Ryzen 5 Quad Core Processor   8 GB DDR4 RAM  512 GB SSD   \n",
       "948     AMD Ryzen 7 Octa Core Processor  16 GB DDR4 RAM  512 GB SSD   \n",
       "952   Intel Core i7 Processor (8th Gen)   8 GB DDR4 RAM  256 GB SSD   \n",
       "502     AMD Ryzen 5 Hexa Core Processor   8 GB DDR4 RAM  512 GB SSD   \n",
       "273  Intel Core i5 Processor (11th Gen)  16 GB DDR4 RAM  512 GB SSD   \n",
       "336     AMD Ryzen 5 Hexa Core Processor   8 GB DDR4 RAM  512 GB SSD   \n",
       "\n",
       "                                     OS                        INCHES  HDD  \\\n",
       "854  64 bit Windows 10 Operating System  39.62 cm (15.6 Inch) Display    0   \n",
       "272         Windows 11 Operating System  39.62 cm (15.6 inch) Display    0   \n",
       "416  64 bit Windows 11 Operating System  39.62 cm (15.6 inch) Display    0   \n",
       "784  64 bit Windows 10 Operating System  33.78 cm (13.3 inch) Display    0   \n",
       "264  64 bit Windows 11 Operating System  39.62 cm (15.6 inch) Display    0   \n",
       "948  64 bit Windows 10 Operating System  39.62 cm (15.6 inch) Display    0   \n",
       "952  64 bit Windows 10 Operating System    35.56 cm (14 inch) Display    0   \n",
       "502  64 bit Windows 10 Operating System  39.62 cm (15.6 inch) Display    0   \n",
       "273  64 bit Windows 11 Operating System  39.62 cm (15.6 inch) Display    0   \n",
       "336  64 bit Windows 10 Operating System    35.56 cm (14 inch) Display    0   \n",
       "\n",
       "     SSD  \n",
       "854  512  \n",
       "272  256  \n",
       "416  256  \n",
       "784  256  \n",
       "264  512  \n",
       "948  512  \n",
       "952  256  \n",
       "502  512  \n",
       "273  512  \n",
       "336  512  "
      ]
     },
     "execution_count": 42,
     "metadata": {},
     "output_type": "execute_result"
    }
   ],
   "source": [
    "df['SSD'] = df['SSD'].apply(splitting_by_space)\n",
    "df.sample(10)"
   ]
  },
  {
   "cell_type": "code",
   "execution_count": 43,
   "metadata": {
    "id": "IifliNgNM77r"
   },
   "outputs": [],
   "source": [
    "df['SSD'] = df['SSD'].astype('int64')"
   ]
  },
  {
   "cell_type": "code",
   "execution_count": 44,
   "metadata": {
    "colab": {
     "base_uri": "https://localhost:8080/"
    },
    "id": "jJkhdmSAMnRf",
    "outputId": "b42ddf56-14db-4597-a346-64f851c9daff"
   },
   "outputs": [
    {
     "name": "stdout",
     "output_type": "stream",
     "text": [
      "<class 'pandas.core.frame.DataFrame'>\n",
      "Int64Index: 695 entries, 0 to 982\n",
      "Data columns (total 10 columns):\n",
      " #   Column           Non-Null Count  Dtype \n",
      "---  ------           --------------  ----- \n",
      " 0   LAPTOP NAME      695 non-null    object\n",
      " 1   LAPTOP FEATURES  695 non-null    object\n",
      " 2   PRICE            695 non-null    int64 \n",
      " 3   PROCESSORS       695 non-null    object\n",
      " 4   RAM              695 non-null    object\n",
      " 5   STORAGE          695 non-null    object\n",
      " 6   OS               695 non-null    object\n",
      " 7   INCHES           695 non-null    object\n",
      " 8   HDD              695 non-null    int64 \n",
      " 9   SSD              695 non-null    int64 \n",
      "dtypes: int64(3), object(7)\n",
      "memory usage: 59.7+ KB\n"
     ]
    }
   ],
   "source": [
    "df.info()"
   ]
  },
  {
   "cell_type": "code",
   "execution_count": 45,
   "metadata": {
    "colab": {
     "base_uri": "https://localhost:8080/"
    },
    "id": "HajAkPpjMj5c",
    "outputId": "39037f43-49a4-4f71-8057-c0d1d556f8de"
   },
   "outputs": [
    {
     "data": {
      "text/plain": [
       "512    375\n",
       "256    156\n",
       "1       99\n",
       "0       50\n",
       "128      7\n",
       "2        7\n",
       "32       1\n",
       "Name: SSD, dtype: int64"
      ]
     },
     "execution_count": 45,
     "metadata": {},
     "output_type": "execute_result"
    }
   ],
   "source": [
    "df['SSD'].value_counts()"
   ]
  },
  {
   "cell_type": "code",
   "execution_count": 46,
   "metadata": {
    "id": "kRclMJL0Mvgn"
   },
   "outputs": [],
   "source": [
    "def convert_SSD_1000(x):\n",
    "  if x==1:\n",
    "    return 1000\n",
    "  elif x==2:\n",
    "    return 2000\n",
    "  elif x==512:\n",
    "    return 512\n",
    "  elif x==256:\n",
    "    return 256\n",
    "  elif x==128:\n",
    "    return 128\n",
    "  elif x==0:\n",
    "    return 0\n",
    "  elif x==32:\n",
    "    return 32          "
   ]
  },
  {
   "cell_type": "code",
   "execution_count": 47,
   "metadata": {
    "id": "MgyHaMZkQxiA"
   },
   "outputs": [],
   "source": [
    "df['SSD']=df['SSD'].apply(convert_SSD_1000)\n"
   ]
  },
  {
   "cell_type": "code",
   "execution_count": 48,
   "metadata": {
    "colab": {
     "base_uri": "https://localhost:8080/",
     "height": 580
    },
    "id": "otcd3xv3Q6x-",
    "outputId": "d49c8d6d-cc69-48ae-f43a-810835f97eb4"
   },
   "outputs": [
    {
     "data": {
      "text/html": [
       "<div>\n",
       "<style scoped>\n",
       "    .dataframe tbody tr th:only-of-type {\n",
       "        vertical-align: middle;\n",
       "    }\n",
       "\n",
       "    .dataframe tbody tr th {\n",
       "        vertical-align: top;\n",
       "    }\n",
       "\n",
       "    .dataframe thead th {\n",
       "        text-align: right;\n",
       "    }\n",
       "</style>\n",
       "<table border=\"1\" class=\"dataframe\">\n",
       "  <thead>\n",
       "    <tr style=\"text-align: right;\">\n",
       "      <th></th>\n",
       "      <th>LAPTOP NAME</th>\n",
       "      <th>LAPTOP FEATURES</th>\n",
       "      <th>PRICE</th>\n",
       "      <th>PROCESSORS</th>\n",
       "      <th>RAM</th>\n",
       "      <th>STORAGE</th>\n",
       "      <th>OS</th>\n",
       "      <th>INCHES</th>\n",
       "      <th>HDD</th>\n",
       "      <th>SSD</th>\n",
       "    </tr>\n",
       "  </thead>\n",
       "  <tbody>\n",
       "    <tr>\n",
       "      <th>64</th>\n",
       "      <td>DELL Vostro Core i3 10th Gen - (8 GB/1 TB HDD/...</td>\n",
       "      <td>Intel Core i3 Processor (10th Gen), 8 GB DDR4 ...</td>\n",
       "      <td>41790</td>\n",
       "      <td>Intel Core i3 Processor (10th Gen)</td>\n",
       "      <td>8 GB DDR4 RAM</td>\n",
       "      <td>1 TB HDD|256 GB SSD</td>\n",
       "      <td>64 bit Windows 11 Operating System</td>\n",
       "      <td>39.62 cm (15.6 inch) Display</td>\n",
       "      <td>1000</td>\n",
       "      <td>256</td>\n",
       "    </tr>\n",
       "    <tr>\n",
       "      <th>25</th>\n",
       "      <td>acer Extensa Core i3 11th Gen - (8 GB/256 GB S...</td>\n",
       "      <td>Intel Core i3 Processor (11th Gen), 8 GB DDR4 ...</td>\n",
       "      <td>31990</td>\n",
       "      <td>Intel Core i3 Processor (11th Gen)</td>\n",
       "      <td>8 GB DDR4 RAM</td>\n",
       "      <td>256 GB SSD</td>\n",
       "      <td>64 bit Windows 11 Operating System</td>\n",
       "      <td>39.62 cm (15.6 Inch) Display</td>\n",
       "      <td>0</td>\n",
       "      <td>256</td>\n",
       "    </tr>\n",
       "    <tr>\n",
       "      <th>588</th>\n",
       "      <td>MSI Prestige 14 EVO Core i5 11th Gen - (16 GB/...</td>\n",
       "      <td>Intel Core i5 Processor (11th Gen), 16 GB LPDD...</td>\n",
       "      <td>80490</td>\n",
       "      <td>Intel Core i5 Processor (11th Gen)</td>\n",
       "      <td>16 GB LPDDR4X RAM</td>\n",
       "      <td>512 GB SSD</td>\n",
       "      <td>64 bit Windows 10 Operating System</td>\n",
       "      <td>35.56 cm (14 inch) Display</td>\n",
       "      <td>0</td>\n",
       "      <td>512</td>\n",
       "    </tr>\n",
       "    <tr>\n",
       "      <th>53</th>\n",
       "      <td>MSI Modern 14 Core i5 10th Gen - (8 GB/512 GB ...</td>\n",
       "      <td>Intel Core i5 Processor (10th Gen), 8 GB DDR4 ...</td>\n",
       "      <td>41990</td>\n",
       "      <td>Intel Core i5 Processor (10th Gen)</td>\n",
       "      <td>8 GB DDR4 RAM</td>\n",
       "      <td>512 GB SSD</td>\n",
       "      <td>64 bit Windows 10 Operating System</td>\n",
       "      <td>35.56 cm (14 inch) Display</td>\n",
       "      <td>0</td>\n",
       "      <td>512</td>\n",
       "    </tr>\n",
       "    <tr>\n",
       "      <th>348</th>\n",
       "      <td>ASUS VivoBook 14 Core i3 10th Gen - (8 GB/256 ...</td>\n",
       "      <td>Intel Core i3 Processor (10th Gen), 8 GB DDR4 ...</td>\n",
       "      <td>34490</td>\n",
       "      <td>Intel Core i3 Processor (10th Gen)</td>\n",
       "      <td>8 GB DDR4 RAM</td>\n",
       "      <td>256 GB SSD</td>\n",
       "      <td>64 bit Windows 10 Operating System</td>\n",
       "      <td>35.56 cm (14 inch) Display</td>\n",
       "      <td>0</td>\n",
       "      <td>256</td>\n",
       "    </tr>\n",
       "    <tr>\n",
       "      <th>930</th>\n",
       "      <td>DELL Inspiron 5518 Core i5 11th Gen - (16 GB/5...</td>\n",
       "      <td>Intel Core i5 Processor (11th Gen), 16 GB DDR4...</td>\n",
       "      <td>70990</td>\n",
       "      <td>Intel Core i5 Processor (11th Gen)</td>\n",
       "      <td>16 GB DDR4 RAM</td>\n",
       "      <td>512 GB SSD</td>\n",
       "      <td>64 bit Windows 10 Operating System</td>\n",
       "      <td>39.62 cm (15.6 inch) Display</td>\n",
       "      <td>0</td>\n",
       "      <td>512</td>\n",
       "    </tr>\n",
       "    <tr>\n",
       "      <th>345</th>\n",
       "      <td>ASUS Vivobook 15 Core i3 11th Gen - (8 GB/512 ...</td>\n",
       "      <td>Intel Core i3 Processor (11th Gen), 8 GB DDR4 ...</td>\n",
       "      <td>39870</td>\n",
       "      <td>Intel Core i3 Processor (11th Gen)</td>\n",
       "      <td>8 GB DDR4 RAM</td>\n",
       "      <td>512 GB SSD</td>\n",
       "      <td>64 bit Windows 10 Operating System</td>\n",
       "      <td>39.62 cm (15.6 inch) Display</td>\n",
       "      <td>0</td>\n",
       "      <td>512</td>\n",
       "    </tr>\n",
       "    <tr>\n",
       "      <th>600</th>\n",
       "      <td>ASUS Zenbook Flip 13 OLED Touch Panel Intel EV...</td>\n",
       "      <td>Intel Core i5 Processor (11th Gen), 16 GB LPDD...</td>\n",
       "      <td>77990</td>\n",
       "      <td>Intel Core i5 Processor (11th Gen)</td>\n",
       "      <td>16 GB LPDDR4X RAM</td>\n",
       "      <td>512 GB SSD</td>\n",
       "      <td>64 bit Windows 11 Operating System</td>\n",
       "      <td>33.78 cm (13.3 Inch) Touchscreen Display</td>\n",
       "      <td>0</td>\n",
       "      <td>512</td>\n",
       "    </tr>\n",
       "    <tr>\n",
       "      <th>462</th>\n",
       "      <td>ASUS Ryzen 7 Octa Core 5800HS - (16 GB/512 GB ...</td>\n",
       "      <td>AMD Ryzen 7 Octa Core Processor, 16 GB DDR4 RA...</td>\n",
       "      <td>95990</td>\n",
       "      <td>AMD Ryzen 7 Octa Core Processor</td>\n",
       "      <td>16 GB DDR4 RAM</td>\n",
       "      <td>512 GB SSD</td>\n",
       "      <td>64 bit Windows 11 Operating System</td>\n",
       "      <td>35.56 cm (14 Inch) Display</td>\n",
       "      <td>0</td>\n",
       "      <td>512</td>\n",
       "    </tr>\n",
       "    <tr>\n",
       "      <th>113</th>\n",
       "      <td>HP Ryzen 3 Dual Core 3250U - (8 GB/256 GB SSD/...</td>\n",
       "      <td>AMD Ryzen 3 Dual Core Processor, 8 GB DDR4 RAM...</td>\n",
       "      <td>32990</td>\n",
       "      <td>AMD Ryzen 3 Dual Core Processor</td>\n",
       "      <td>8 GB DDR4 RAM</td>\n",
       "      <td>256 GB SSD</td>\n",
       "      <td>64 bit Windows 11 Operating System</td>\n",
       "      <td>39.62 cm (15.6 mm) Display</td>\n",
       "      <td>0</td>\n",
       "      <td>256</td>\n",
       "    </tr>\n",
       "  </tbody>\n",
       "</table>\n",
       "</div>"
      ],
      "text/plain": [
       "                                           LAPTOP NAME  \\\n",
       "64   DELL Vostro Core i3 10th Gen - (8 GB/1 TB HDD/...   \n",
       "25   acer Extensa Core i3 11th Gen - (8 GB/256 GB S...   \n",
       "588  MSI Prestige 14 EVO Core i5 11th Gen - (16 GB/...   \n",
       "53   MSI Modern 14 Core i5 10th Gen - (8 GB/512 GB ...   \n",
       "348  ASUS VivoBook 14 Core i3 10th Gen - (8 GB/256 ...   \n",
       "930  DELL Inspiron 5518 Core i5 11th Gen - (16 GB/5...   \n",
       "345  ASUS Vivobook 15 Core i3 11th Gen - (8 GB/512 ...   \n",
       "600  ASUS Zenbook Flip 13 OLED Touch Panel Intel EV...   \n",
       "462  ASUS Ryzen 7 Octa Core 5800HS - (16 GB/512 GB ...   \n",
       "113  HP Ryzen 3 Dual Core 3250U - (8 GB/256 GB SSD/...   \n",
       "\n",
       "                                       LAPTOP FEATURES  PRICE  \\\n",
       "64   Intel Core i3 Processor (10th Gen), 8 GB DDR4 ...  41790   \n",
       "25   Intel Core i3 Processor (11th Gen), 8 GB DDR4 ...  31990   \n",
       "588  Intel Core i5 Processor (11th Gen), 16 GB LPDD...  80490   \n",
       "53   Intel Core i5 Processor (10th Gen), 8 GB DDR4 ...  41990   \n",
       "348  Intel Core i3 Processor (10th Gen), 8 GB DDR4 ...  34490   \n",
       "930  Intel Core i5 Processor (11th Gen), 16 GB DDR4...  70990   \n",
       "345  Intel Core i3 Processor (11th Gen), 8 GB DDR4 ...  39870   \n",
       "600  Intel Core i5 Processor (11th Gen), 16 GB LPDD...  77990   \n",
       "462  AMD Ryzen 7 Octa Core Processor, 16 GB DDR4 RA...  95990   \n",
       "113  AMD Ryzen 3 Dual Core Processor, 8 GB DDR4 RAM...  32990   \n",
       "\n",
       "                             PROCESSORS                RAM  \\\n",
       "64   Intel Core i3 Processor (10th Gen)      8 GB DDR4 RAM   \n",
       "25   Intel Core i3 Processor (11th Gen)      8 GB DDR4 RAM   \n",
       "588  Intel Core i5 Processor (11th Gen)  16 GB LPDDR4X RAM   \n",
       "53   Intel Core i5 Processor (10th Gen)      8 GB DDR4 RAM   \n",
       "348  Intel Core i3 Processor (10th Gen)      8 GB DDR4 RAM   \n",
       "930  Intel Core i5 Processor (11th Gen)     16 GB DDR4 RAM   \n",
       "345  Intel Core i3 Processor (11th Gen)      8 GB DDR4 RAM   \n",
       "600  Intel Core i5 Processor (11th Gen)  16 GB LPDDR4X RAM   \n",
       "462     AMD Ryzen 7 Octa Core Processor     16 GB DDR4 RAM   \n",
       "113     AMD Ryzen 3 Dual Core Processor      8 GB DDR4 RAM   \n",
       "\n",
       "                 STORAGE                                  OS  \\\n",
       "64   1 TB HDD|256 GB SSD  64 bit Windows 11 Operating System   \n",
       "25            256 GB SSD  64 bit Windows 11 Operating System   \n",
       "588           512 GB SSD  64 bit Windows 10 Operating System   \n",
       "53            512 GB SSD  64 bit Windows 10 Operating System   \n",
       "348           256 GB SSD  64 bit Windows 10 Operating System   \n",
       "930           512 GB SSD  64 bit Windows 10 Operating System   \n",
       "345           512 GB SSD  64 bit Windows 10 Operating System   \n",
       "600           512 GB SSD  64 bit Windows 11 Operating System   \n",
       "462           512 GB SSD  64 bit Windows 11 Operating System   \n",
       "113           256 GB SSD  64 bit Windows 11 Operating System   \n",
       "\n",
       "                                       INCHES   HDD  SSD  \n",
       "64               39.62 cm (15.6 inch) Display  1000  256  \n",
       "25               39.62 cm (15.6 Inch) Display     0  256  \n",
       "588                35.56 cm (14 inch) Display     0  512  \n",
       "53                 35.56 cm (14 inch) Display     0  512  \n",
       "348                35.56 cm (14 inch) Display     0  256  \n",
       "930              39.62 cm (15.6 inch) Display     0  512  \n",
       "345              39.62 cm (15.6 inch) Display     0  512  \n",
       "600  33.78 cm (13.3 Inch) Touchscreen Display     0  512  \n",
       "462                35.56 cm (14 Inch) Display     0  512  \n",
       "113                39.62 cm (15.6 mm) Display     0  256  "
      ]
     },
     "execution_count": 48,
     "metadata": {},
     "output_type": "execute_result"
    }
   ],
   "source": [
    "df.sample(10)"
   ]
  },
  {
   "cell_type": "code",
   "execution_count": 49,
   "metadata": {
    "colab": {
     "base_uri": "https://localhost:8080/"
    },
    "id": "6VZdxRARRBU7",
    "outputId": "1b606ae9-47f8-44a9-82a8-7ee9d8c1af91"
   },
   "outputs": [
    {
     "data": {
      "text/plain": [
       "512     375\n",
       "256     156\n",
       "1000     99\n",
       "0        50\n",
       "128       7\n",
       "2000      7\n",
       "32        1\n",
       "Name: SSD, dtype: int64"
      ]
     },
     "execution_count": 49,
     "metadata": {},
     "output_type": "execute_result"
    }
   ],
   "source": [
    "df['SSD'].value_counts()"
   ]
  },
  {
   "cell_type": "code",
   "execution_count": 50,
   "metadata": {
    "colab": {
     "base_uri": "https://localhost:8080/",
     "height": 337
    },
    "id": "9tGneEoPRFuC",
    "outputId": "d7c6cb55-eab6-4196-fa82-8415b7faf0dc"
   },
   "outputs": [
    {
     "data": {
      "text/html": [
       "<div>\n",
       "<style scoped>\n",
       "    .dataframe tbody tr th:only-of-type {\n",
       "        vertical-align: middle;\n",
       "    }\n",
       "\n",
       "    .dataframe tbody tr th {\n",
       "        vertical-align: top;\n",
       "    }\n",
       "\n",
       "    .dataframe thead th {\n",
       "        text-align: right;\n",
       "    }\n",
       "</style>\n",
       "<table border=\"1\" class=\"dataframe\">\n",
       "  <thead>\n",
       "    <tr style=\"text-align: right;\">\n",
       "      <th></th>\n",
       "      <th>LAPTOP NAME</th>\n",
       "      <th>LAPTOP FEATURES</th>\n",
       "      <th>PRICE</th>\n",
       "      <th>PROCESSORS</th>\n",
       "      <th>RAM</th>\n",
       "      <th>STORAGE</th>\n",
       "      <th>OS</th>\n",
       "      <th>INCHES</th>\n",
       "      <th>HDD</th>\n",
       "      <th>SSD</th>\n",
       "    </tr>\n",
       "  </thead>\n",
       "  <tbody>\n",
       "    <tr>\n",
       "      <th>0</th>\n",
       "      <td>Lenovo IdeaPad Gaming 3i Core i7 11th Gen - (8...</td>\n",
       "      <td>Intel Core i7 Processor (11th Gen), 8 GB DDR4 ...</td>\n",
       "      <td>69990</td>\n",
       "      <td>Intel Core i7 Processor (11th Gen)</td>\n",
       "      <td>8 GB DDR4 RAM</td>\n",
       "      <td>512 GB SSD</td>\n",
       "      <td>64 bit Windows 10 Operating System</td>\n",
       "      <td>39.62 cm (15.6 inch) Display</td>\n",
       "      <td>0</td>\n",
       "      <td>512</td>\n",
       "    </tr>\n",
       "    <tr>\n",
       "      <th>1</th>\n",
       "      <td>Lenovo IdeaPad 3 Core i5 12th Gen - (8 GB/512 ...</td>\n",
       "      <td>Intel Core i5 Processor (12th Gen), 8 GB DDR4 ...</td>\n",
       "      <td>53990</td>\n",
       "      <td>Intel Core i5 Processor (12th Gen)</td>\n",
       "      <td>8 GB DDR4 RAM</td>\n",
       "      <td>512 GB SSD</td>\n",
       "      <td>64 bit Windows 11 Operating System</td>\n",
       "      <td>39.62 cm (15.6 Inch) Display</td>\n",
       "      <td>0</td>\n",
       "      <td>512</td>\n",
       "    </tr>\n",
       "    <tr>\n",
       "      <th>2</th>\n",
       "      <td>Lenovo IdeaPad 3 Core i3 10th Gen - (8 GB/256 ...</td>\n",
       "      <td>Intel Core i3 Processor (10th Gen), 8 GB DDR4 ...</td>\n",
       "      <td>30990</td>\n",
       "      <td>Intel Core i3 Processor (10th Gen)</td>\n",
       "      <td>8 GB DDR4 RAM</td>\n",
       "      <td>256 GB SSD</td>\n",
       "      <td>Windows 11 Operating System</td>\n",
       "      <td>39.62 cm (15.6 Inch) Display</td>\n",
       "      <td>0</td>\n",
       "      <td>256</td>\n",
       "    </tr>\n",
       "    <tr>\n",
       "      <th>3</th>\n",
       "      <td>Lenovo IdeaPad 1 Ryzen 3 Dual Core 3250U - (8 ...</td>\n",
       "      <td>AMD Ryzen 3 Dual Core Processor, 8 GB DDR4 RAM...</td>\n",
       "      <td>31490</td>\n",
       "      <td>AMD Ryzen 3 Dual Core Processor</td>\n",
       "      <td>8 GB DDR4 RAM</td>\n",
       "      <td>512 GB SSD</td>\n",
       "      <td>64 bit Windows 11 Operating System</td>\n",
       "      <td>39.62 cm (15.6 Inch) Display</td>\n",
       "      <td>0</td>\n",
       "      <td>512</td>\n",
       "    </tr>\n",
       "    <tr>\n",
       "      <th>4</th>\n",
       "      <td>ASUS Vivobook 15 Ryzen 7 Quad Core AMD R7-3700...</td>\n",
       "      <td>AMD Ryzen 7 Quad Core Processor, 16 GB DDR4 RA...</td>\n",
       "      <td>44990</td>\n",
       "      <td>AMD Ryzen 7 Quad Core Processor</td>\n",
       "      <td>16 GB DDR4 RAM</td>\n",
       "      <td>512 GB SSD</td>\n",
       "      <td>64 bit Windows 11 Operating System</td>\n",
       "      <td>39.62 cm (15.6 inch) Display</td>\n",
       "      <td>0</td>\n",
       "      <td>512</td>\n",
       "    </tr>\n",
       "  </tbody>\n",
       "</table>\n",
       "</div>"
      ],
      "text/plain": [
       "                                         LAPTOP NAME  \\\n",
       "0  Lenovo IdeaPad Gaming 3i Core i7 11th Gen - (8...   \n",
       "1  Lenovo IdeaPad 3 Core i5 12th Gen - (8 GB/512 ...   \n",
       "2  Lenovo IdeaPad 3 Core i3 10th Gen - (8 GB/256 ...   \n",
       "3  Lenovo IdeaPad 1 Ryzen 3 Dual Core 3250U - (8 ...   \n",
       "4  ASUS Vivobook 15 Ryzen 7 Quad Core AMD R7-3700...   \n",
       "\n",
       "                                     LAPTOP FEATURES  PRICE  \\\n",
       "0  Intel Core i7 Processor (11th Gen), 8 GB DDR4 ...  69990   \n",
       "1  Intel Core i5 Processor (12th Gen), 8 GB DDR4 ...  53990   \n",
       "2  Intel Core i3 Processor (10th Gen), 8 GB DDR4 ...  30990   \n",
       "3  AMD Ryzen 3 Dual Core Processor, 8 GB DDR4 RAM...  31490   \n",
       "4  AMD Ryzen 7 Quad Core Processor, 16 GB DDR4 RA...  44990   \n",
       "\n",
       "                           PROCESSORS             RAM     STORAGE  \\\n",
       "0  Intel Core i7 Processor (11th Gen)   8 GB DDR4 RAM  512 GB SSD   \n",
       "1  Intel Core i5 Processor (12th Gen)   8 GB DDR4 RAM  512 GB SSD   \n",
       "2  Intel Core i3 Processor (10th Gen)   8 GB DDR4 RAM  256 GB SSD   \n",
       "3     AMD Ryzen 3 Dual Core Processor   8 GB DDR4 RAM  512 GB SSD   \n",
       "4     AMD Ryzen 7 Quad Core Processor  16 GB DDR4 RAM  512 GB SSD   \n",
       "\n",
       "                                   OS                        INCHES  HDD  SSD  \n",
       "0  64 bit Windows 10 Operating System  39.62 cm (15.6 inch) Display    0  512  \n",
       "1  64 bit Windows 11 Operating System  39.62 cm (15.6 Inch) Display    0  512  \n",
       "2         Windows 11 Operating System  39.62 cm (15.6 Inch) Display    0  256  \n",
       "3  64 bit Windows 11 Operating System  39.62 cm (15.6 Inch) Display    0  512  \n",
       "4  64 bit Windows 11 Operating System  39.62 cm (15.6 inch) Display    0  512  "
      ]
     },
     "execution_count": 50,
     "metadata": {},
     "output_type": "execute_result"
    }
   ],
   "source": [
    "df.head()"
   ]
  },
  {
   "cell_type": "code",
   "execution_count": 51,
   "metadata": {
    "id": "EAdT_Bx7RTMk"
   },
   "outputs": [],
   "source": [
    "df.drop(columns='STORAGE',inplace=True)"
   ]
  },
  {
   "cell_type": "code",
   "execution_count": 52,
   "metadata": {
    "colab": {
     "base_uri": "https://localhost:8080/",
     "height": 337
    },
    "id": "Mf-VneRJRgdr",
    "outputId": "50e7f87c-883d-4426-c072-cc12c1918413"
   },
   "outputs": [
    {
     "data": {
      "text/html": [
       "<div>\n",
       "<style scoped>\n",
       "    .dataframe tbody tr th:only-of-type {\n",
       "        vertical-align: middle;\n",
       "    }\n",
       "\n",
       "    .dataframe tbody tr th {\n",
       "        vertical-align: top;\n",
       "    }\n",
       "\n",
       "    .dataframe thead th {\n",
       "        text-align: right;\n",
       "    }\n",
       "</style>\n",
       "<table border=\"1\" class=\"dataframe\">\n",
       "  <thead>\n",
       "    <tr style=\"text-align: right;\">\n",
       "      <th></th>\n",
       "      <th>LAPTOP NAME</th>\n",
       "      <th>LAPTOP FEATURES</th>\n",
       "      <th>PRICE</th>\n",
       "      <th>PROCESSORS</th>\n",
       "      <th>RAM</th>\n",
       "      <th>OS</th>\n",
       "      <th>INCHES</th>\n",
       "      <th>HDD</th>\n",
       "      <th>SSD</th>\n",
       "    </tr>\n",
       "  </thead>\n",
       "  <tbody>\n",
       "    <tr>\n",
       "      <th>0</th>\n",
       "      <td>Lenovo IdeaPad Gaming 3i Core i7 11th Gen - (8...</td>\n",
       "      <td>Intel Core i7 Processor (11th Gen), 8 GB DDR4 ...</td>\n",
       "      <td>69990</td>\n",
       "      <td>Intel Core i7 Processor (11th Gen)</td>\n",
       "      <td>8 GB DDR4 RAM</td>\n",
       "      <td>64 bit Windows 10 Operating System</td>\n",
       "      <td>39.62 cm (15.6 inch) Display</td>\n",
       "      <td>0</td>\n",
       "      <td>512</td>\n",
       "    </tr>\n",
       "    <tr>\n",
       "      <th>1</th>\n",
       "      <td>Lenovo IdeaPad 3 Core i5 12th Gen - (8 GB/512 ...</td>\n",
       "      <td>Intel Core i5 Processor (12th Gen), 8 GB DDR4 ...</td>\n",
       "      <td>53990</td>\n",
       "      <td>Intel Core i5 Processor (12th Gen)</td>\n",
       "      <td>8 GB DDR4 RAM</td>\n",
       "      <td>64 bit Windows 11 Operating System</td>\n",
       "      <td>39.62 cm (15.6 Inch) Display</td>\n",
       "      <td>0</td>\n",
       "      <td>512</td>\n",
       "    </tr>\n",
       "    <tr>\n",
       "      <th>2</th>\n",
       "      <td>Lenovo IdeaPad 3 Core i3 10th Gen - (8 GB/256 ...</td>\n",
       "      <td>Intel Core i3 Processor (10th Gen), 8 GB DDR4 ...</td>\n",
       "      <td>30990</td>\n",
       "      <td>Intel Core i3 Processor (10th Gen)</td>\n",
       "      <td>8 GB DDR4 RAM</td>\n",
       "      <td>Windows 11 Operating System</td>\n",
       "      <td>39.62 cm (15.6 Inch) Display</td>\n",
       "      <td>0</td>\n",
       "      <td>256</td>\n",
       "    </tr>\n",
       "    <tr>\n",
       "      <th>3</th>\n",
       "      <td>Lenovo IdeaPad 1 Ryzen 3 Dual Core 3250U - (8 ...</td>\n",
       "      <td>AMD Ryzen 3 Dual Core Processor, 8 GB DDR4 RAM...</td>\n",
       "      <td>31490</td>\n",
       "      <td>AMD Ryzen 3 Dual Core Processor</td>\n",
       "      <td>8 GB DDR4 RAM</td>\n",
       "      <td>64 bit Windows 11 Operating System</td>\n",
       "      <td>39.62 cm (15.6 Inch) Display</td>\n",
       "      <td>0</td>\n",
       "      <td>512</td>\n",
       "    </tr>\n",
       "    <tr>\n",
       "      <th>4</th>\n",
       "      <td>ASUS Vivobook 15 Ryzen 7 Quad Core AMD R7-3700...</td>\n",
       "      <td>AMD Ryzen 7 Quad Core Processor, 16 GB DDR4 RA...</td>\n",
       "      <td>44990</td>\n",
       "      <td>AMD Ryzen 7 Quad Core Processor</td>\n",
       "      <td>16 GB DDR4 RAM</td>\n",
       "      <td>64 bit Windows 11 Operating System</td>\n",
       "      <td>39.62 cm (15.6 inch) Display</td>\n",
       "      <td>0</td>\n",
       "      <td>512</td>\n",
       "    </tr>\n",
       "  </tbody>\n",
       "</table>\n",
       "</div>"
      ],
      "text/plain": [
       "                                         LAPTOP NAME  \\\n",
       "0  Lenovo IdeaPad Gaming 3i Core i7 11th Gen - (8...   \n",
       "1  Lenovo IdeaPad 3 Core i5 12th Gen - (8 GB/512 ...   \n",
       "2  Lenovo IdeaPad 3 Core i3 10th Gen - (8 GB/256 ...   \n",
       "3  Lenovo IdeaPad 1 Ryzen 3 Dual Core 3250U - (8 ...   \n",
       "4  ASUS Vivobook 15 Ryzen 7 Quad Core AMD R7-3700...   \n",
       "\n",
       "                                     LAPTOP FEATURES  PRICE  \\\n",
       "0  Intel Core i7 Processor (11th Gen), 8 GB DDR4 ...  69990   \n",
       "1  Intel Core i5 Processor (12th Gen), 8 GB DDR4 ...  53990   \n",
       "2  Intel Core i3 Processor (10th Gen), 8 GB DDR4 ...  30990   \n",
       "3  AMD Ryzen 3 Dual Core Processor, 8 GB DDR4 RAM...  31490   \n",
       "4  AMD Ryzen 7 Quad Core Processor, 16 GB DDR4 RA...  44990   \n",
       "\n",
       "                           PROCESSORS             RAM  \\\n",
       "0  Intel Core i7 Processor (11th Gen)   8 GB DDR4 RAM   \n",
       "1  Intel Core i5 Processor (12th Gen)   8 GB DDR4 RAM   \n",
       "2  Intel Core i3 Processor (10th Gen)   8 GB DDR4 RAM   \n",
       "3     AMD Ryzen 3 Dual Core Processor   8 GB DDR4 RAM   \n",
       "4     AMD Ryzen 7 Quad Core Processor  16 GB DDR4 RAM   \n",
       "\n",
       "                                   OS                        INCHES  HDD  SSD  \n",
       "0  64 bit Windows 10 Operating System  39.62 cm (15.6 inch) Display    0  512  \n",
       "1  64 bit Windows 11 Operating System  39.62 cm (15.6 Inch) Display    0  512  \n",
       "2         Windows 11 Operating System  39.62 cm (15.6 Inch) Display    0  256  \n",
       "3  64 bit Windows 11 Operating System  39.62 cm (15.6 Inch) Display    0  512  \n",
       "4  64 bit Windows 11 Operating System  39.62 cm (15.6 inch) Display    0  512  "
      ]
     },
     "execution_count": 52,
     "metadata": {},
     "output_type": "execute_result"
    }
   ],
   "source": [
    "df.head()"
   ]
  },
  {
   "cell_type": "markdown",
   "metadata": {
    "id": "uDfvS_tKRrZU"
   },
   "source": [
    "#RAM COLUMN"
   ]
  },
  {
   "cell_type": "code",
   "execution_count": 53,
   "metadata": {
    "colab": {
     "base_uri": "https://localhost:8080/",
     "height": 191
    },
    "id": "YCTv4KsaRiHa",
    "outputId": "014c3609-ced8-4395-8612-b2d914333095"
   },
   "outputs": [
    {
     "data": {
      "text/html": [
       "<div>\n",
       "<style scoped>\n",
       "    .dataframe tbody tr th:only-of-type {\n",
       "        vertical-align: middle;\n",
       "    }\n",
       "\n",
       "    .dataframe tbody tr th {\n",
       "        vertical-align: top;\n",
       "    }\n",
       "\n",
       "    .dataframe thead th {\n",
       "        text-align: right;\n",
       "    }\n",
       "</style>\n",
       "<table border=\"1\" class=\"dataframe\">\n",
       "  <thead>\n",
       "    <tr style=\"text-align: right;\">\n",
       "      <th></th>\n",
       "      <th>LAPTOP NAME</th>\n",
       "      <th>LAPTOP FEATURES</th>\n",
       "      <th>PRICE</th>\n",
       "      <th>PROCESSORS</th>\n",
       "      <th>RAM</th>\n",
       "      <th>OS</th>\n",
       "      <th>INCHES</th>\n",
       "      <th>HDD</th>\n",
       "      <th>SSD</th>\n",
       "    </tr>\n",
       "  </thead>\n",
       "  <tbody>\n",
       "    <tr>\n",
       "      <th>0</th>\n",
       "      <td>Lenovo IdeaPad Gaming 3i Core i7 11th Gen - (8...</td>\n",
       "      <td>Intel Core i7 Processor (11th Gen), 8 GB DDR4 ...</td>\n",
       "      <td>69990</td>\n",
       "      <td>Intel Core i7 Processor (11th Gen)</td>\n",
       "      <td>8 GB DDR4 RAM</td>\n",
       "      <td>64 bit Windows 10 Operating System</td>\n",
       "      <td>39.62 cm (15.6 inch) Display</td>\n",
       "      <td>0</td>\n",
       "      <td>512</td>\n",
       "    </tr>\n",
       "    <tr>\n",
       "      <th>1</th>\n",
       "      <td>Lenovo IdeaPad 3 Core i5 12th Gen - (8 GB/512 ...</td>\n",
       "      <td>Intel Core i5 Processor (12th Gen), 8 GB DDR4 ...</td>\n",
       "      <td>53990</td>\n",
       "      <td>Intel Core i5 Processor (12th Gen)</td>\n",
       "      <td>8 GB DDR4 RAM</td>\n",
       "      <td>64 bit Windows 11 Operating System</td>\n",
       "      <td>39.62 cm (15.6 Inch) Display</td>\n",
       "      <td>0</td>\n",
       "      <td>512</td>\n",
       "    </tr>\n",
       "  </tbody>\n",
       "</table>\n",
       "</div>"
      ],
      "text/plain": [
       "                                         LAPTOP NAME  \\\n",
       "0  Lenovo IdeaPad Gaming 3i Core i7 11th Gen - (8...   \n",
       "1  Lenovo IdeaPad 3 Core i5 12th Gen - (8 GB/512 ...   \n",
       "\n",
       "                                     LAPTOP FEATURES  PRICE  \\\n",
       "0  Intel Core i7 Processor (11th Gen), 8 GB DDR4 ...  69990   \n",
       "1  Intel Core i5 Processor (12th Gen), 8 GB DDR4 ...  53990   \n",
       "\n",
       "                           PROCESSORS            RAM  \\\n",
       "0  Intel Core i7 Processor (11th Gen)  8 GB DDR4 RAM   \n",
       "1  Intel Core i5 Processor (12th Gen)  8 GB DDR4 RAM   \n",
       "\n",
       "                                   OS                        INCHES  HDD  SSD  \n",
       "0  64 bit Windows 10 Operating System  39.62 cm (15.6 inch) Display    0  512  \n",
       "1  64 bit Windows 11 Operating System  39.62 cm (15.6 Inch) Display    0  512  "
      ]
     },
     "execution_count": 53,
     "metadata": {},
     "output_type": "execute_result"
    }
   ],
   "source": [
    "df.head(2)"
   ]
  },
  {
   "cell_type": "code",
   "execution_count": 54,
   "metadata": {
    "id": "4b9pteeHR0Jq"
   },
   "outputs": [],
   "source": [
    "df['RAM']=df['RAM'].astype(str).str.extract(\"(\\\\w+)\")  ## using regex"
   ]
  },
  {
   "cell_type": "code",
   "execution_count": 55,
   "metadata": {
    "colab": {
     "base_uri": "https://localhost:8080/",
     "height": 580
    },
    "id": "sU-5R6LCSaaE",
    "outputId": "d94ee392-e441-401e-aeeb-0cc50d4308e9"
   },
   "outputs": [
    {
     "data": {
      "text/html": [
       "<div>\n",
       "<style scoped>\n",
       "    .dataframe tbody tr th:only-of-type {\n",
       "        vertical-align: middle;\n",
       "    }\n",
       "\n",
       "    .dataframe tbody tr th {\n",
       "        vertical-align: top;\n",
       "    }\n",
       "\n",
       "    .dataframe thead th {\n",
       "        text-align: right;\n",
       "    }\n",
       "</style>\n",
       "<table border=\"1\" class=\"dataframe\">\n",
       "  <thead>\n",
       "    <tr style=\"text-align: right;\">\n",
       "      <th></th>\n",
       "      <th>LAPTOP NAME</th>\n",
       "      <th>LAPTOP FEATURES</th>\n",
       "      <th>PRICE</th>\n",
       "      <th>PROCESSORS</th>\n",
       "      <th>RAM</th>\n",
       "      <th>OS</th>\n",
       "      <th>INCHES</th>\n",
       "      <th>HDD</th>\n",
       "      <th>SSD</th>\n",
       "    </tr>\n",
       "  </thead>\n",
       "  <tbody>\n",
       "    <tr>\n",
       "      <th>790</th>\n",
       "      <td>ASUS ZenBook Duo Core i7 10th Gen - (16 GB/1 T...</td>\n",
       "      <td>Intel Core i7 Processor (10th Gen), 16 GB LPDD...</td>\n",
       "      <td>124990</td>\n",
       "      <td>Intel Core i7 Processor (10th Gen)</td>\n",
       "      <td>16</td>\n",
       "      <td>64 bit Windows 10 Operating System</td>\n",
       "      <td>35.56 cm (14 inch) Display</td>\n",
       "      <td>0</td>\n",
       "      <td>1000</td>\n",
       "    </tr>\n",
       "    <tr>\n",
       "      <th>72</th>\n",
       "      <td>HP Pavilion Ryzen 5 Hexa Core 5625U - (16 GB/5...</td>\n",
       "      <td>AMD Ryzen 5 Hexa Core Processor, 16 GB DDR4 RA...</td>\n",
       "      <td>60990</td>\n",
       "      <td>AMD Ryzen 5 Hexa Core Processor</td>\n",
       "      <td>16</td>\n",
       "      <td>64 bit Windows 11 Operating System</td>\n",
       "      <td>39.62 cm (15.6 Inch) Display</td>\n",
       "      <td>0</td>\n",
       "      <td>512</td>\n",
       "    </tr>\n",
       "    <tr>\n",
       "      <th>676</th>\n",
       "      <td>ASUS Vivobook 15 Core i5 11th Gen - (8 GB/512 ...</td>\n",
       "      <td>Intel Core i5 Processor (11th Gen), 8 GB DDR4 ...</td>\n",
       "      <td>50990</td>\n",
       "      <td>Intel Core i5 Processor (11th Gen)</td>\n",
       "      <td>8</td>\n",
       "      <td>64 bit Windows 10 Operating System</td>\n",
       "      <td>39.62 cm (15.6 inch) Display</td>\n",
       "      <td>0</td>\n",
       "      <td>512</td>\n",
       "    </tr>\n",
       "    <tr>\n",
       "      <th>800</th>\n",
       "      <td>ASUS Ryzen 5 Quad Core 3rd Gen - (8 GB/512 GB ...</td>\n",
       "      <td>AMD Ryzen 5 Quad Core Processor (3rd Gen), 8 G...</td>\n",
       "      <td>44500</td>\n",
       "      <td>AMD Ryzen 5 Quad Core Processor (3rd Gen)</td>\n",
       "      <td>8</td>\n",
       "      <td>Windows 11 Operating System</td>\n",
       "      <td>39.62 cm (15.6 inch) Display</td>\n",
       "      <td>0</td>\n",
       "      <td>512</td>\n",
       "    </tr>\n",
       "    <tr>\n",
       "      <th>508</th>\n",
       "      <td>acer Predator Helios 300 Core i7 12th Gen - (1...</td>\n",
       "      <td>Intel Core i7 Processor (12th Gen), 16 GB DDR5...</td>\n",
       "      <td>154990</td>\n",
       "      <td>Intel Core i7 Processor (12th Gen)</td>\n",
       "      <td>16</td>\n",
       "      <td>64 bit Windows 11 Operating System</td>\n",
       "      <td>39.62 cm (15.6 Inch) Display</td>\n",
       "      <td>0</td>\n",
       "      <td>1000</td>\n",
       "    </tr>\n",
       "    <tr>\n",
       "      <th>965</th>\n",
       "      <td>Lenovo ThinkPad E14 Gen2 Ryzen 5 Hexa Core 465...</td>\n",
       "      <td>AMD Ryzen 5 Hexa Core Processor (5th Gen), 8 G...</td>\n",
       "      <td>58990</td>\n",
       "      <td>AMD Ryzen 5 Hexa Core Processor (5th Gen)</td>\n",
       "      <td>8</td>\n",
       "      <td>64 bit Windows 10 Operating System</td>\n",
       "      <td>35.56 cm (14 inch) Display</td>\n",
       "      <td>0</td>\n",
       "      <td>256</td>\n",
       "    </tr>\n",
       "    <tr>\n",
       "      <th>45</th>\n",
       "      <td>HP Core i5 11th Gen - (8 GB/512 GB SSD/Windows...</td>\n",
       "      <td>Intel Core i5 Processor (11th Gen), 8 GB DDR4 ...</td>\n",
       "      <td>50099</td>\n",
       "      <td>Intel Core i5 Processor (11th Gen)</td>\n",
       "      <td>8</td>\n",
       "      <td>64 bit Windows 11 Operating System</td>\n",
       "      <td>39.62 cm (15.6 Inch) Display</td>\n",
       "      <td>0</td>\n",
       "      <td>512</td>\n",
       "    </tr>\n",
       "    <tr>\n",
       "      <th>277</th>\n",
       "      <td>MSI Core i5 11th Gen - (8 GB/512 GB SSD/Window...</td>\n",
       "      <td>Intel Core i5 Processor (11th Gen), 8 GB DDR4 ...</td>\n",
       "      <td>44990</td>\n",
       "      <td>Intel Core i5 Processor (11th Gen)</td>\n",
       "      <td>8</td>\n",
       "      <td>64 bit Windows 10 Operating System</td>\n",
       "      <td>35.56 cm (14 inch) Display</td>\n",
       "      <td>0</td>\n",
       "      <td>512</td>\n",
       "    </tr>\n",
       "    <tr>\n",
       "      <th>186</th>\n",
       "      <td>HP Celeron Dual Core - (8 GB/256 GB SSD/Window...</td>\n",
       "      <td>Dual_Core Processor, 8 GB DDR4 RAM, 64 bit Win...</td>\n",
       "      <td>28990</td>\n",
       "      <td>Intel Celeron Dual_Core Processor</td>\n",
       "      <td>8</td>\n",
       "      <td>64 bit Windows 11 Operating System</td>\n",
       "      <td>35.56 cm (14 Inch) Display</td>\n",
       "      <td>0</td>\n",
       "      <td>256</td>\n",
       "    </tr>\n",
       "    <tr>\n",
       "      <th>728</th>\n",
       "      <td>DELL Ryzen 7 Octa Core 6800H - (16 GB/512 GB S...</td>\n",
       "      <td>AMD Ryzen 7 Octa Core Processor, 16 GB DDR5 RA...</td>\n",
       "      <td>125990</td>\n",
       "      <td>AMD Ryzen 7 Octa Core Processor</td>\n",
       "      <td>16</td>\n",
       "      <td>64 bit Windows 11 Operating System</td>\n",
       "      <td>39.62 cm (15.6 Inch) Display</td>\n",
       "      <td>0</td>\n",
       "      <td>512</td>\n",
       "    </tr>\n",
       "  </tbody>\n",
       "</table>\n",
       "</div>"
      ],
      "text/plain": [
       "                                           LAPTOP NAME  \\\n",
       "790  ASUS ZenBook Duo Core i7 10th Gen - (16 GB/1 T...   \n",
       "72   HP Pavilion Ryzen 5 Hexa Core 5625U - (16 GB/5...   \n",
       "676  ASUS Vivobook 15 Core i5 11th Gen - (8 GB/512 ...   \n",
       "800  ASUS Ryzen 5 Quad Core 3rd Gen - (8 GB/512 GB ...   \n",
       "508  acer Predator Helios 300 Core i7 12th Gen - (1...   \n",
       "965  Lenovo ThinkPad E14 Gen2 Ryzen 5 Hexa Core 465...   \n",
       "45   HP Core i5 11th Gen - (8 GB/512 GB SSD/Windows...   \n",
       "277  MSI Core i5 11th Gen - (8 GB/512 GB SSD/Window...   \n",
       "186  HP Celeron Dual Core - (8 GB/256 GB SSD/Window...   \n",
       "728  DELL Ryzen 7 Octa Core 6800H - (16 GB/512 GB S...   \n",
       "\n",
       "                                       LAPTOP FEATURES   PRICE  \\\n",
       "790  Intel Core i7 Processor (10th Gen), 16 GB LPDD...  124990   \n",
       "72   AMD Ryzen 5 Hexa Core Processor, 16 GB DDR4 RA...   60990   \n",
       "676  Intel Core i5 Processor (11th Gen), 8 GB DDR4 ...   50990   \n",
       "800  AMD Ryzen 5 Quad Core Processor (3rd Gen), 8 G...   44500   \n",
       "508  Intel Core i7 Processor (12th Gen), 16 GB DDR5...  154990   \n",
       "965  AMD Ryzen 5 Hexa Core Processor (5th Gen), 8 G...   58990   \n",
       "45   Intel Core i5 Processor (11th Gen), 8 GB DDR4 ...   50099   \n",
       "277  Intel Core i5 Processor (11th Gen), 8 GB DDR4 ...   44990   \n",
       "186  Dual_Core Processor, 8 GB DDR4 RAM, 64 bit Win...   28990   \n",
       "728  AMD Ryzen 7 Octa Core Processor, 16 GB DDR5 RA...  125990   \n",
       "\n",
       "                                    PROCESSORS RAM  \\\n",
       "790         Intel Core i7 Processor (10th Gen)  16   \n",
       "72             AMD Ryzen 5 Hexa Core Processor  16   \n",
       "676         Intel Core i5 Processor (11th Gen)   8   \n",
       "800  AMD Ryzen 5 Quad Core Processor (3rd Gen)   8   \n",
       "508         Intel Core i7 Processor (12th Gen)  16   \n",
       "965  AMD Ryzen 5 Hexa Core Processor (5th Gen)   8   \n",
       "45          Intel Core i5 Processor (11th Gen)   8   \n",
       "277         Intel Core i5 Processor (11th Gen)   8   \n",
       "186          Intel Celeron Dual_Core Processor   8   \n",
       "728            AMD Ryzen 7 Octa Core Processor  16   \n",
       "\n",
       "                                     OS                        INCHES  HDD  \\\n",
       "790  64 bit Windows 10 Operating System    35.56 cm (14 inch) Display    0   \n",
       "72   64 bit Windows 11 Operating System  39.62 cm (15.6 Inch) Display    0   \n",
       "676  64 bit Windows 10 Operating System  39.62 cm (15.6 inch) Display    0   \n",
       "800         Windows 11 Operating System  39.62 cm (15.6 inch) Display    0   \n",
       "508  64 bit Windows 11 Operating System  39.62 cm (15.6 Inch) Display    0   \n",
       "965  64 bit Windows 10 Operating System    35.56 cm (14 inch) Display    0   \n",
       "45   64 bit Windows 11 Operating System  39.62 cm (15.6 Inch) Display    0   \n",
       "277  64 bit Windows 10 Operating System    35.56 cm (14 inch) Display    0   \n",
       "186  64 bit Windows 11 Operating System    35.56 cm (14 Inch) Display    0   \n",
       "728  64 bit Windows 11 Operating System  39.62 cm (15.6 Inch) Display    0   \n",
       "\n",
       "      SSD  \n",
       "790  1000  \n",
       "72    512  \n",
       "676   512  \n",
       "800   512  \n",
       "508  1000  \n",
       "965   256  \n",
       "45    512  \n",
       "277   512  \n",
       "186   256  \n",
       "728   512  "
      ]
     },
     "execution_count": 55,
     "metadata": {},
     "output_type": "execute_result"
    }
   ],
   "source": [
    "df.sample(10)"
   ]
  },
  {
   "cell_type": "code",
   "execution_count": 56,
   "metadata": {
    "colab": {
     "base_uri": "https://localhost:8080/"
    },
    "id": "4bQbiDo3S5wO",
    "outputId": "f8260aea-a307-47dc-b32a-fbac1c03e9b2"
   },
   "outputs": [
    {
     "data": {
      "text/plain": [
       "8     405\n",
       "16    228\n",
       "4      45\n",
       "32     17\n",
       "Name: RAM, dtype: int64"
      ]
     },
     "execution_count": 56,
     "metadata": {},
     "output_type": "execute_result"
    }
   ],
   "source": [
    "df['RAM'].value_counts()"
   ]
  },
  {
   "cell_type": "code",
   "execution_count": 57,
   "metadata": {
    "id": "6wYelA2bTV0p"
   },
   "outputs": [],
   "source": [
    "df['RAM']=df['RAM'].astype('int64')"
   ]
  },
  {
   "cell_type": "code",
   "execution_count": 58,
   "metadata": {
    "colab": {
     "base_uri": "https://localhost:8080/"
    },
    "id": "lTcudWvaTQlW",
    "outputId": "a21ac146-79cf-4014-bba6-1d9ab1a9a091"
   },
   "outputs": [
    {
     "name": "stdout",
     "output_type": "stream",
     "text": [
      "<class 'pandas.core.frame.DataFrame'>\n",
      "Int64Index: 695 entries, 0 to 982\n",
      "Data columns (total 9 columns):\n",
      " #   Column           Non-Null Count  Dtype \n",
      "---  ------           --------------  ----- \n",
      " 0   LAPTOP NAME      695 non-null    object\n",
      " 1   LAPTOP FEATURES  695 non-null    object\n",
      " 2   PRICE            695 non-null    int64 \n",
      " 3   PROCESSORS       695 non-null    object\n",
      " 4   RAM              695 non-null    int64 \n",
      " 5   OS               695 non-null    object\n",
      " 6   INCHES           695 non-null    object\n",
      " 7   HDD              695 non-null    int64 \n",
      " 8   SSD              695 non-null    int64 \n",
      "dtypes: int64(4), object(5)\n",
      "memory usage: 54.3+ KB\n"
     ]
    }
   ],
   "source": [
    "df.info()"
   ]
  },
  {
   "cell_type": "markdown",
   "metadata": {
    "id": "wuDe7C2QTJ1F"
   },
   "source": [
    "# LAPTOP COMPANY COLUMN"
   ]
  },
  {
   "cell_type": "code",
   "execution_count": 59,
   "metadata": {
    "id": "0B42oFsvS_0H"
   },
   "outputs": [],
   "source": [
    "df['LAPTOP COMPANY']= df['LAPTOP NAME'].str.extract(\"(\\\\w+)\")"
   ]
  },
  {
   "cell_type": "code",
   "execution_count": 60,
   "metadata": {
    "colab": {
     "base_uri": "https://localhost:8080/",
     "height": 354
    },
    "id": "Yo-VAH-eUTyL",
    "outputId": "c716e55f-0a7e-47f4-9aa0-aece29ef1316"
   },
   "outputs": [
    {
     "data": {
      "text/html": [
       "<div>\n",
       "<style scoped>\n",
       "    .dataframe tbody tr th:only-of-type {\n",
       "        vertical-align: middle;\n",
       "    }\n",
       "\n",
       "    .dataframe tbody tr th {\n",
       "        vertical-align: top;\n",
       "    }\n",
       "\n",
       "    .dataframe thead th {\n",
       "        text-align: right;\n",
       "    }\n",
       "</style>\n",
       "<table border=\"1\" class=\"dataframe\">\n",
       "  <thead>\n",
       "    <tr style=\"text-align: right;\">\n",
       "      <th></th>\n",
       "      <th>LAPTOP NAME</th>\n",
       "      <th>LAPTOP FEATURES</th>\n",
       "      <th>PRICE</th>\n",
       "      <th>PROCESSORS</th>\n",
       "      <th>RAM</th>\n",
       "      <th>OS</th>\n",
       "      <th>INCHES</th>\n",
       "      <th>HDD</th>\n",
       "      <th>SSD</th>\n",
       "      <th>LAPTOP COMPANY</th>\n",
       "    </tr>\n",
       "  </thead>\n",
       "  <tbody>\n",
       "    <tr>\n",
       "      <th>0</th>\n",
       "      <td>Lenovo IdeaPad Gaming 3i Core i7 11th Gen - (8...</td>\n",
       "      <td>Intel Core i7 Processor (11th Gen), 8 GB DDR4 ...</td>\n",
       "      <td>69990</td>\n",
       "      <td>Intel Core i7 Processor (11th Gen)</td>\n",
       "      <td>8</td>\n",
       "      <td>64 bit Windows 10 Operating System</td>\n",
       "      <td>39.62 cm (15.6 inch) Display</td>\n",
       "      <td>0</td>\n",
       "      <td>512</td>\n",
       "      <td>Lenovo</td>\n",
       "    </tr>\n",
       "    <tr>\n",
       "      <th>1</th>\n",
       "      <td>Lenovo IdeaPad 3 Core i5 12th Gen - (8 GB/512 ...</td>\n",
       "      <td>Intel Core i5 Processor (12th Gen), 8 GB DDR4 ...</td>\n",
       "      <td>53990</td>\n",
       "      <td>Intel Core i5 Processor (12th Gen)</td>\n",
       "      <td>8</td>\n",
       "      <td>64 bit Windows 11 Operating System</td>\n",
       "      <td>39.62 cm (15.6 Inch) Display</td>\n",
       "      <td>0</td>\n",
       "      <td>512</td>\n",
       "      <td>Lenovo</td>\n",
       "    </tr>\n",
       "    <tr>\n",
       "      <th>2</th>\n",
       "      <td>Lenovo IdeaPad 3 Core i3 10th Gen - (8 GB/256 ...</td>\n",
       "      <td>Intel Core i3 Processor (10th Gen), 8 GB DDR4 ...</td>\n",
       "      <td>30990</td>\n",
       "      <td>Intel Core i3 Processor (10th Gen)</td>\n",
       "      <td>8</td>\n",
       "      <td>Windows 11 Operating System</td>\n",
       "      <td>39.62 cm (15.6 Inch) Display</td>\n",
       "      <td>0</td>\n",
       "      <td>256</td>\n",
       "      <td>Lenovo</td>\n",
       "    </tr>\n",
       "    <tr>\n",
       "      <th>3</th>\n",
       "      <td>Lenovo IdeaPad 1 Ryzen 3 Dual Core 3250U - (8 ...</td>\n",
       "      <td>AMD Ryzen 3 Dual Core Processor, 8 GB DDR4 RAM...</td>\n",
       "      <td>31490</td>\n",
       "      <td>AMD Ryzen 3 Dual Core Processor</td>\n",
       "      <td>8</td>\n",
       "      <td>64 bit Windows 11 Operating System</td>\n",
       "      <td>39.62 cm (15.6 Inch) Display</td>\n",
       "      <td>0</td>\n",
       "      <td>512</td>\n",
       "      <td>Lenovo</td>\n",
       "    </tr>\n",
       "    <tr>\n",
       "      <th>4</th>\n",
       "      <td>ASUS Vivobook 15 Ryzen 7 Quad Core AMD R7-3700...</td>\n",
       "      <td>AMD Ryzen 7 Quad Core Processor, 16 GB DDR4 RA...</td>\n",
       "      <td>44990</td>\n",
       "      <td>AMD Ryzen 7 Quad Core Processor</td>\n",
       "      <td>16</td>\n",
       "      <td>64 bit Windows 11 Operating System</td>\n",
       "      <td>39.62 cm (15.6 inch) Display</td>\n",
       "      <td>0</td>\n",
       "      <td>512</td>\n",
       "      <td>ASUS</td>\n",
       "    </tr>\n",
       "  </tbody>\n",
       "</table>\n",
       "</div>"
      ],
      "text/plain": [
       "                                         LAPTOP NAME  \\\n",
       "0  Lenovo IdeaPad Gaming 3i Core i7 11th Gen - (8...   \n",
       "1  Lenovo IdeaPad 3 Core i5 12th Gen - (8 GB/512 ...   \n",
       "2  Lenovo IdeaPad 3 Core i3 10th Gen - (8 GB/256 ...   \n",
       "3  Lenovo IdeaPad 1 Ryzen 3 Dual Core 3250U - (8 ...   \n",
       "4  ASUS Vivobook 15 Ryzen 7 Quad Core AMD R7-3700...   \n",
       "\n",
       "                                     LAPTOP FEATURES  PRICE  \\\n",
       "0  Intel Core i7 Processor (11th Gen), 8 GB DDR4 ...  69990   \n",
       "1  Intel Core i5 Processor (12th Gen), 8 GB DDR4 ...  53990   \n",
       "2  Intel Core i3 Processor (10th Gen), 8 GB DDR4 ...  30990   \n",
       "3  AMD Ryzen 3 Dual Core Processor, 8 GB DDR4 RAM...  31490   \n",
       "4  AMD Ryzen 7 Quad Core Processor, 16 GB DDR4 RA...  44990   \n",
       "\n",
       "                           PROCESSORS  RAM  \\\n",
       "0  Intel Core i7 Processor (11th Gen)    8   \n",
       "1  Intel Core i5 Processor (12th Gen)    8   \n",
       "2  Intel Core i3 Processor (10th Gen)    8   \n",
       "3     AMD Ryzen 3 Dual Core Processor    8   \n",
       "4     AMD Ryzen 7 Quad Core Processor   16   \n",
       "\n",
       "                                   OS                        INCHES  HDD  SSD  \\\n",
       "0  64 bit Windows 10 Operating System  39.62 cm (15.6 inch) Display    0  512   \n",
       "1  64 bit Windows 11 Operating System  39.62 cm (15.6 Inch) Display    0  512   \n",
       "2         Windows 11 Operating System  39.62 cm (15.6 Inch) Display    0  256   \n",
       "3  64 bit Windows 11 Operating System  39.62 cm (15.6 Inch) Display    0  512   \n",
       "4  64 bit Windows 11 Operating System  39.62 cm (15.6 inch) Display    0  512   \n",
       "\n",
       "  LAPTOP COMPANY  \n",
       "0         Lenovo  \n",
       "1         Lenovo  \n",
       "2         Lenovo  \n",
       "3         Lenovo  \n",
       "4           ASUS  "
      ]
     },
     "execution_count": 60,
     "metadata": {},
     "output_type": "execute_result"
    }
   ],
   "source": [
    "df.head()"
   ]
  },
  {
   "cell_type": "code",
   "execution_count": 61,
   "metadata": {
    "colab": {
     "base_uri": "https://localhost:8080/"
    },
    "id": "MvyYINXdUVzk",
    "outputId": "e0d251ae-d4c2-4a28-f3fa-54a9141aa756"
   },
   "outputs": [
    {
     "data": {
      "text/plain": [
       "ASUS         212\n",
       "DELL         121\n",
       "HP           114\n",
       "Lenovo       108\n",
       "acer          52\n",
       "MSI           37\n",
       "APPLE         15\n",
       "Infinix        7\n",
       "Avita          7\n",
       "LG             5\n",
       "ALIENWARE      4\n",
       "realme         2\n",
       "RedmiBook      2\n",
       "Nokia          2\n",
       "SAMSUNG        2\n",
       "Vaio           2\n",
       "Mi             1\n",
       "lenovo         1\n",
       "MICROSOFT      1\n",
       "Name: LAPTOP COMPANY, dtype: int64"
      ]
     },
     "execution_count": 61,
     "metadata": {},
     "output_type": "execute_result"
    }
   ],
   "source": [
    "df['LAPTOP COMPANY'].value_counts()"
   ]
  },
  {
   "cell_type": "markdown",
   "metadata": {
    "id": "hyhyG2I4VcDd"
   },
   "source": [
    "# TOUCHSCREEN COLUMN"
   ]
  },
  {
   "cell_type": "code",
   "execution_count": 62,
   "metadata": {
    "colab": {
     "base_uri": "https://localhost:8080/",
     "height": 354
    },
    "id": "yN6LlbAuUi_i",
    "outputId": "466b2704-b7f2-47e9-9cda-f15aa4a123ef"
   },
   "outputs": [
    {
     "data": {
      "text/html": [
       "<div>\n",
       "<style scoped>\n",
       "    .dataframe tbody tr th:only-of-type {\n",
       "        vertical-align: middle;\n",
       "    }\n",
       "\n",
       "    .dataframe tbody tr th {\n",
       "        vertical-align: top;\n",
       "    }\n",
       "\n",
       "    .dataframe thead th {\n",
       "        text-align: right;\n",
       "    }\n",
       "</style>\n",
       "<table border=\"1\" class=\"dataframe\">\n",
       "  <thead>\n",
       "    <tr style=\"text-align: right;\">\n",
       "      <th></th>\n",
       "      <th>LAPTOP NAME</th>\n",
       "      <th>LAPTOP FEATURES</th>\n",
       "      <th>PRICE</th>\n",
       "      <th>PROCESSORS</th>\n",
       "      <th>RAM</th>\n",
       "      <th>OS</th>\n",
       "      <th>INCHES</th>\n",
       "      <th>HDD</th>\n",
       "      <th>SSD</th>\n",
       "      <th>LAPTOP COMPANY</th>\n",
       "    </tr>\n",
       "  </thead>\n",
       "  <tbody>\n",
       "    <tr>\n",
       "      <th>0</th>\n",
       "      <td>Lenovo IdeaPad Gaming 3i Core i7 11th Gen - (8...</td>\n",
       "      <td>Intel Core i7 Processor (11th Gen), 8 GB DDR4 ...</td>\n",
       "      <td>69990</td>\n",
       "      <td>Intel Core i7 Processor (11th Gen)</td>\n",
       "      <td>8</td>\n",
       "      <td>64 bit Windows 10 Operating System</td>\n",
       "      <td>39.62 cm (15.6 inch) Display</td>\n",
       "      <td>0</td>\n",
       "      <td>512</td>\n",
       "      <td>Lenovo</td>\n",
       "    </tr>\n",
       "    <tr>\n",
       "      <th>1</th>\n",
       "      <td>Lenovo IdeaPad 3 Core i5 12th Gen - (8 GB/512 ...</td>\n",
       "      <td>Intel Core i5 Processor (12th Gen), 8 GB DDR4 ...</td>\n",
       "      <td>53990</td>\n",
       "      <td>Intel Core i5 Processor (12th Gen)</td>\n",
       "      <td>8</td>\n",
       "      <td>64 bit Windows 11 Operating System</td>\n",
       "      <td>39.62 cm (15.6 Inch) Display</td>\n",
       "      <td>0</td>\n",
       "      <td>512</td>\n",
       "      <td>Lenovo</td>\n",
       "    </tr>\n",
       "    <tr>\n",
       "      <th>2</th>\n",
       "      <td>Lenovo IdeaPad 3 Core i3 10th Gen - (8 GB/256 ...</td>\n",
       "      <td>Intel Core i3 Processor (10th Gen), 8 GB DDR4 ...</td>\n",
       "      <td>30990</td>\n",
       "      <td>Intel Core i3 Processor (10th Gen)</td>\n",
       "      <td>8</td>\n",
       "      <td>Windows 11 Operating System</td>\n",
       "      <td>39.62 cm (15.6 Inch) Display</td>\n",
       "      <td>0</td>\n",
       "      <td>256</td>\n",
       "      <td>Lenovo</td>\n",
       "    </tr>\n",
       "    <tr>\n",
       "      <th>3</th>\n",
       "      <td>Lenovo IdeaPad 1 Ryzen 3 Dual Core 3250U - (8 ...</td>\n",
       "      <td>AMD Ryzen 3 Dual Core Processor, 8 GB DDR4 RAM...</td>\n",
       "      <td>31490</td>\n",
       "      <td>AMD Ryzen 3 Dual Core Processor</td>\n",
       "      <td>8</td>\n",
       "      <td>64 bit Windows 11 Operating System</td>\n",
       "      <td>39.62 cm (15.6 Inch) Display</td>\n",
       "      <td>0</td>\n",
       "      <td>512</td>\n",
       "      <td>Lenovo</td>\n",
       "    </tr>\n",
       "    <tr>\n",
       "      <th>4</th>\n",
       "      <td>ASUS Vivobook 15 Ryzen 7 Quad Core AMD R7-3700...</td>\n",
       "      <td>AMD Ryzen 7 Quad Core Processor, 16 GB DDR4 RA...</td>\n",
       "      <td>44990</td>\n",
       "      <td>AMD Ryzen 7 Quad Core Processor</td>\n",
       "      <td>16</td>\n",
       "      <td>64 bit Windows 11 Operating System</td>\n",
       "      <td>39.62 cm (15.6 inch) Display</td>\n",
       "      <td>0</td>\n",
       "      <td>512</td>\n",
       "      <td>ASUS</td>\n",
       "    </tr>\n",
       "  </tbody>\n",
       "</table>\n",
       "</div>"
      ],
      "text/plain": [
       "                                         LAPTOP NAME  \\\n",
       "0  Lenovo IdeaPad Gaming 3i Core i7 11th Gen - (8...   \n",
       "1  Lenovo IdeaPad 3 Core i5 12th Gen - (8 GB/512 ...   \n",
       "2  Lenovo IdeaPad 3 Core i3 10th Gen - (8 GB/256 ...   \n",
       "3  Lenovo IdeaPad 1 Ryzen 3 Dual Core 3250U - (8 ...   \n",
       "4  ASUS Vivobook 15 Ryzen 7 Quad Core AMD R7-3700...   \n",
       "\n",
       "                                     LAPTOP FEATURES  PRICE  \\\n",
       "0  Intel Core i7 Processor (11th Gen), 8 GB DDR4 ...  69990   \n",
       "1  Intel Core i5 Processor (12th Gen), 8 GB DDR4 ...  53990   \n",
       "2  Intel Core i3 Processor (10th Gen), 8 GB DDR4 ...  30990   \n",
       "3  AMD Ryzen 3 Dual Core Processor, 8 GB DDR4 RAM...  31490   \n",
       "4  AMD Ryzen 7 Quad Core Processor, 16 GB DDR4 RA...  44990   \n",
       "\n",
       "                           PROCESSORS  RAM  \\\n",
       "0  Intel Core i7 Processor (11th Gen)    8   \n",
       "1  Intel Core i5 Processor (12th Gen)    8   \n",
       "2  Intel Core i3 Processor (10th Gen)    8   \n",
       "3     AMD Ryzen 3 Dual Core Processor    8   \n",
       "4     AMD Ryzen 7 Quad Core Processor   16   \n",
       "\n",
       "                                   OS                        INCHES  HDD  SSD  \\\n",
       "0  64 bit Windows 10 Operating System  39.62 cm (15.6 inch) Display    0  512   \n",
       "1  64 bit Windows 11 Operating System  39.62 cm (15.6 Inch) Display    0  512   \n",
       "2         Windows 11 Operating System  39.62 cm (15.6 Inch) Display    0  256   \n",
       "3  64 bit Windows 11 Operating System  39.62 cm (15.6 Inch) Display    0  512   \n",
       "4  64 bit Windows 11 Operating System  39.62 cm (15.6 inch) Display    0  512   \n",
       "\n",
       "  LAPTOP COMPANY  \n",
       "0         Lenovo  \n",
       "1         Lenovo  \n",
       "2         Lenovo  \n",
       "3         Lenovo  \n",
       "4           ASUS  "
      ]
     },
     "execution_count": 62,
     "metadata": {},
     "output_type": "execute_result"
    }
   ],
   "source": [
    "df.head()"
   ]
  },
  {
   "cell_type": "code",
   "execution_count": 63,
   "metadata": {
    "id": "EU6sLek2VinU"
   },
   "outputs": [],
   "source": [
    "df['TOUCHSCREEN'] = df['INCHES'].apply(lambda x : 1 if 'Touchscreen Display' in x else 0)"
   ]
  },
  {
   "cell_type": "code",
   "execution_count": 64,
   "metadata": {
    "colab": {
     "base_uri": "https://localhost:8080/",
     "height": 354
    },
    "id": "Iku3AD8jWNpG",
    "outputId": "d91d9746-6aa6-40a3-8e55-88f7d3ff1331"
   },
   "outputs": [
    {
     "data": {
      "text/html": [
       "<div>\n",
       "<style scoped>\n",
       "    .dataframe tbody tr th:only-of-type {\n",
       "        vertical-align: middle;\n",
       "    }\n",
       "\n",
       "    .dataframe tbody tr th {\n",
       "        vertical-align: top;\n",
       "    }\n",
       "\n",
       "    .dataframe thead th {\n",
       "        text-align: right;\n",
       "    }\n",
       "</style>\n",
       "<table border=\"1\" class=\"dataframe\">\n",
       "  <thead>\n",
       "    <tr style=\"text-align: right;\">\n",
       "      <th></th>\n",
       "      <th>LAPTOP NAME</th>\n",
       "      <th>LAPTOP FEATURES</th>\n",
       "      <th>PRICE</th>\n",
       "      <th>PROCESSORS</th>\n",
       "      <th>RAM</th>\n",
       "      <th>OS</th>\n",
       "      <th>INCHES</th>\n",
       "      <th>HDD</th>\n",
       "      <th>SSD</th>\n",
       "      <th>LAPTOP COMPANY</th>\n",
       "      <th>TOUCHSCREEN</th>\n",
       "    </tr>\n",
       "  </thead>\n",
       "  <tbody>\n",
       "    <tr>\n",
       "      <th>0</th>\n",
       "      <td>Lenovo IdeaPad Gaming 3i Core i7 11th Gen - (8...</td>\n",
       "      <td>Intel Core i7 Processor (11th Gen), 8 GB DDR4 ...</td>\n",
       "      <td>69990</td>\n",
       "      <td>Intel Core i7 Processor (11th Gen)</td>\n",
       "      <td>8</td>\n",
       "      <td>64 bit Windows 10 Operating System</td>\n",
       "      <td>39.62 cm (15.6 inch) Display</td>\n",
       "      <td>0</td>\n",
       "      <td>512</td>\n",
       "      <td>Lenovo</td>\n",
       "      <td>0</td>\n",
       "    </tr>\n",
       "    <tr>\n",
       "      <th>1</th>\n",
       "      <td>Lenovo IdeaPad 3 Core i5 12th Gen - (8 GB/512 ...</td>\n",
       "      <td>Intel Core i5 Processor (12th Gen), 8 GB DDR4 ...</td>\n",
       "      <td>53990</td>\n",
       "      <td>Intel Core i5 Processor (12th Gen)</td>\n",
       "      <td>8</td>\n",
       "      <td>64 bit Windows 11 Operating System</td>\n",
       "      <td>39.62 cm (15.6 Inch) Display</td>\n",
       "      <td>0</td>\n",
       "      <td>512</td>\n",
       "      <td>Lenovo</td>\n",
       "      <td>0</td>\n",
       "    </tr>\n",
       "    <tr>\n",
       "      <th>2</th>\n",
       "      <td>Lenovo IdeaPad 3 Core i3 10th Gen - (8 GB/256 ...</td>\n",
       "      <td>Intel Core i3 Processor (10th Gen), 8 GB DDR4 ...</td>\n",
       "      <td>30990</td>\n",
       "      <td>Intel Core i3 Processor (10th Gen)</td>\n",
       "      <td>8</td>\n",
       "      <td>Windows 11 Operating System</td>\n",
       "      <td>39.62 cm (15.6 Inch) Display</td>\n",
       "      <td>0</td>\n",
       "      <td>256</td>\n",
       "      <td>Lenovo</td>\n",
       "      <td>0</td>\n",
       "    </tr>\n",
       "    <tr>\n",
       "      <th>3</th>\n",
       "      <td>Lenovo IdeaPad 1 Ryzen 3 Dual Core 3250U - (8 ...</td>\n",
       "      <td>AMD Ryzen 3 Dual Core Processor, 8 GB DDR4 RAM...</td>\n",
       "      <td>31490</td>\n",
       "      <td>AMD Ryzen 3 Dual Core Processor</td>\n",
       "      <td>8</td>\n",
       "      <td>64 bit Windows 11 Operating System</td>\n",
       "      <td>39.62 cm (15.6 Inch) Display</td>\n",
       "      <td>0</td>\n",
       "      <td>512</td>\n",
       "      <td>Lenovo</td>\n",
       "      <td>0</td>\n",
       "    </tr>\n",
       "    <tr>\n",
       "      <th>4</th>\n",
       "      <td>ASUS Vivobook 15 Ryzen 7 Quad Core AMD R7-3700...</td>\n",
       "      <td>AMD Ryzen 7 Quad Core Processor, 16 GB DDR4 RA...</td>\n",
       "      <td>44990</td>\n",
       "      <td>AMD Ryzen 7 Quad Core Processor</td>\n",
       "      <td>16</td>\n",
       "      <td>64 bit Windows 11 Operating System</td>\n",
       "      <td>39.62 cm (15.6 inch) Display</td>\n",
       "      <td>0</td>\n",
       "      <td>512</td>\n",
       "      <td>ASUS</td>\n",
       "      <td>0</td>\n",
       "    </tr>\n",
       "  </tbody>\n",
       "</table>\n",
       "</div>"
      ],
      "text/plain": [
       "                                         LAPTOP NAME  \\\n",
       "0  Lenovo IdeaPad Gaming 3i Core i7 11th Gen - (8...   \n",
       "1  Lenovo IdeaPad 3 Core i5 12th Gen - (8 GB/512 ...   \n",
       "2  Lenovo IdeaPad 3 Core i3 10th Gen - (8 GB/256 ...   \n",
       "3  Lenovo IdeaPad 1 Ryzen 3 Dual Core 3250U - (8 ...   \n",
       "4  ASUS Vivobook 15 Ryzen 7 Quad Core AMD R7-3700...   \n",
       "\n",
       "                                     LAPTOP FEATURES  PRICE  \\\n",
       "0  Intel Core i7 Processor (11th Gen), 8 GB DDR4 ...  69990   \n",
       "1  Intel Core i5 Processor (12th Gen), 8 GB DDR4 ...  53990   \n",
       "2  Intel Core i3 Processor (10th Gen), 8 GB DDR4 ...  30990   \n",
       "3  AMD Ryzen 3 Dual Core Processor, 8 GB DDR4 RAM...  31490   \n",
       "4  AMD Ryzen 7 Quad Core Processor, 16 GB DDR4 RA...  44990   \n",
       "\n",
       "                           PROCESSORS  RAM  \\\n",
       "0  Intel Core i7 Processor (11th Gen)    8   \n",
       "1  Intel Core i5 Processor (12th Gen)    8   \n",
       "2  Intel Core i3 Processor (10th Gen)    8   \n",
       "3     AMD Ryzen 3 Dual Core Processor    8   \n",
       "4     AMD Ryzen 7 Quad Core Processor   16   \n",
       "\n",
       "                                   OS                        INCHES  HDD  SSD  \\\n",
       "0  64 bit Windows 10 Operating System  39.62 cm (15.6 inch) Display    0  512   \n",
       "1  64 bit Windows 11 Operating System  39.62 cm (15.6 Inch) Display    0  512   \n",
       "2         Windows 11 Operating System  39.62 cm (15.6 Inch) Display    0  256   \n",
       "3  64 bit Windows 11 Operating System  39.62 cm (15.6 Inch) Display    0  512   \n",
       "4  64 bit Windows 11 Operating System  39.62 cm (15.6 inch) Display    0  512   \n",
       "\n",
       "  LAPTOP COMPANY  TOUCHSCREEN  \n",
       "0         Lenovo            0  \n",
       "1         Lenovo            0  \n",
       "2         Lenovo            0  \n",
       "3         Lenovo            0  \n",
       "4           ASUS            0  "
      ]
     },
     "execution_count": 64,
     "metadata": {},
     "output_type": "execute_result"
    }
   ],
   "source": [
    "df.head()"
   ]
  },
  {
   "cell_type": "code",
   "execution_count": 65,
   "metadata": {
    "colab": {
     "base_uri": "https://localhost:8080/"
    },
    "id": "kPDPVY3JWPQL",
    "outputId": "2c051d4d-2259-40ff-b628-67430ce1dec8"
   },
   "outputs": [
    {
     "data": {
      "text/plain": [
       "0    605\n",
       "1     90\n",
       "Name: TOUCHSCREEN, dtype: int64"
      ]
     },
     "execution_count": 65,
     "metadata": {},
     "output_type": "execute_result"
    }
   ],
   "source": [
    "df['TOUCHSCREEN'].value_counts()"
   ]
  },
  {
   "cell_type": "markdown",
   "metadata": {
    "id": "23CfN_lsWhbS"
   },
   "source": [
    "#INCHES COLUMN"
   ]
  },
  {
   "cell_type": "code",
   "execution_count": 66,
   "metadata": {
    "id": "vxn3zHSzWUiZ"
   },
   "outputs": [],
   "source": [
    "df['INCHES']=df['INCHES'].str.extract(\"\\(([\\d\\.+]+) \\w+\\)\")"
   ]
  },
  {
   "cell_type": "code",
   "execution_count": 67,
   "metadata": {
    "colab": {
     "base_uri": "https://localhost:8080/",
     "height": 354
    },
    "id": "GI4fQc7XYc2D",
    "outputId": "822519ff-c95e-4e0f-8b70-b204bee193c1"
   },
   "outputs": [
    {
     "data": {
      "text/html": [
       "<div>\n",
       "<style scoped>\n",
       "    .dataframe tbody tr th:only-of-type {\n",
       "        vertical-align: middle;\n",
       "    }\n",
       "\n",
       "    .dataframe tbody tr th {\n",
       "        vertical-align: top;\n",
       "    }\n",
       "\n",
       "    .dataframe thead th {\n",
       "        text-align: right;\n",
       "    }\n",
       "</style>\n",
       "<table border=\"1\" class=\"dataframe\">\n",
       "  <thead>\n",
       "    <tr style=\"text-align: right;\">\n",
       "      <th></th>\n",
       "      <th>LAPTOP NAME</th>\n",
       "      <th>LAPTOP FEATURES</th>\n",
       "      <th>PRICE</th>\n",
       "      <th>PROCESSORS</th>\n",
       "      <th>RAM</th>\n",
       "      <th>OS</th>\n",
       "      <th>INCHES</th>\n",
       "      <th>HDD</th>\n",
       "      <th>SSD</th>\n",
       "      <th>LAPTOP COMPANY</th>\n",
       "      <th>TOUCHSCREEN</th>\n",
       "    </tr>\n",
       "  </thead>\n",
       "  <tbody>\n",
       "    <tr>\n",
       "      <th>0</th>\n",
       "      <td>Lenovo IdeaPad Gaming 3i Core i7 11th Gen - (8...</td>\n",
       "      <td>Intel Core i7 Processor (11th Gen), 8 GB DDR4 ...</td>\n",
       "      <td>69990</td>\n",
       "      <td>Intel Core i7 Processor (11th Gen)</td>\n",
       "      <td>8</td>\n",
       "      <td>64 bit Windows 10 Operating System</td>\n",
       "      <td>15.6</td>\n",
       "      <td>0</td>\n",
       "      <td>512</td>\n",
       "      <td>Lenovo</td>\n",
       "      <td>0</td>\n",
       "    </tr>\n",
       "    <tr>\n",
       "      <th>1</th>\n",
       "      <td>Lenovo IdeaPad 3 Core i5 12th Gen - (8 GB/512 ...</td>\n",
       "      <td>Intel Core i5 Processor (12th Gen), 8 GB DDR4 ...</td>\n",
       "      <td>53990</td>\n",
       "      <td>Intel Core i5 Processor (12th Gen)</td>\n",
       "      <td>8</td>\n",
       "      <td>64 bit Windows 11 Operating System</td>\n",
       "      <td>15.6</td>\n",
       "      <td>0</td>\n",
       "      <td>512</td>\n",
       "      <td>Lenovo</td>\n",
       "      <td>0</td>\n",
       "    </tr>\n",
       "    <tr>\n",
       "      <th>2</th>\n",
       "      <td>Lenovo IdeaPad 3 Core i3 10th Gen - (8 GB/256 ...</td>\n",
       "      <td>Intel Core i3 Processor (10th Gen), 8 GB DDR4 ...</td>\n",
       "      <td>30990</td>\n",
       "      <td>Intel Core i3 Processor (10th Gen)</td>\n",
       "      <td>8</td>\n",
       "      <td>Windows 11 Operating System</td>\n",
       "      <td>15.6</td>\n",
       "      <td>0</td>\n",
       "      <td>256</td>\n",
       "      <td>Lenovo</td>\n",
       "      <td>0</td>\n",
       "    </tr>\n",
       "    <tr>\n",
       "      <th>3</th>\n",
       "      <td>Lenovo IdeaPad 1 Ryzen 3 Dual Core 3250U - (8 ...</td>\n",
       "      <td>AMD Ryzen 3 Dual Core Processor, 8 GB DDR4 RAM...</td>\n",
       "      <td>31490</td>\n",
       "      <td>AMD Ryzen 3 Dual Core Processor</td>\n",
       "      <td>8</td>\n",
       "      <td>64 bit Windows 11 Operating System</td>\n",
       "      <td>15.6</td>\n",
       "      <td>0</td>\n",
       "      <td>512</td>\n",
       "      <td>Lenovo</td>\n",
       "      <td>0</td>\n",
       "    </tr>\n",
       "    <tr>\n",
       "      <th>4</th>\n",
       "      <td>ASUS Vivobook 15 Ryzen 7 Quad Core AMD R7-3700...</td>\n",
       "      <td>AMD Ryzen 7 Quad Core Processor, 16 GB DDR4 RA...</td>\n",
       "      <td>44990</td>\n",
       "      <td>AMD Ryzen 7 Quad Core Processor</td>\n",
       "      <td>16</td>\n",
       "      <td>64 bit Windows 11 Operating System</td>\n",
       "      <td>15.6</td>\n",
       "      <td>0</td>\n",
       "      <td>512</td>\n",
       "      <td>ASUS</td>\n",
       "      <td>0</td>\n",
       "    </tr>\n",
       "  </tbody>\n",
       "</table>\n",
       "</div>"
      ],
      "text/plain": [
       "                                         LAPTOP NAME  \\\n",
       "0  Lenovo IdeaPad Gaming 3i Core i7 11th Gen - (8...   \n",
       "1  Lenovo IdeaPad 3 Core i5 12th Gen - (8 GB/512 ...   \n",
       "2  Lenovo IdeaPad 3 Core i3 10th Gen - (8 GB/256 ...   \n",
       "3  Lenovo IdeaPad 1 Ryzen 3 Dual Core 3250U - (8 ...   \n",
       "4  ASUS Vivobook 15 Ryzen 7 Quad Core AMD R7-3700...   \n",
       "\n",
       "                                     LAPTOP FEATURES  PRICE  \\\n",
       "0  Intel Core i7 Processor (11th Gen), 8 GB DDR4 ...  69990   \n",
       "1  Intel Core i5 Processor (12th Gen), 8 GB DDR4 ...  53990   \n",
       "2  Intel Core i3 Processor (10th Gen), 8 GB DDR4 ...  30990   \n",
       "3  AMD Ryzen 3 Dual Core Processor, 8 GB DDR4 RAM...  31490   \n",
       "4  AMD Ryzen 7 Quad Core Processor, 16 GB DDR4 RA...  44990   \n",
       "\n",
       "                           PROCESSORS  RAM  \\\n",
       "0  Intel Core i7 Processor (11th Gen)    8   \n",
       "1  Intel Core i5 Processor (12th Gen)    8   \n",
       "2  Intel Core i3 Processor (10th Gen)    8   \n",
       "3     AMD Ryzen 3 Dual Core Processor    8   \n",
       "4     AMD Ryzen 7 Quad Core Processor   16   \n",
       "\n",
       "                                   OS INCHES  HDD  SSD LAPTOP COMPANY  \\\n",
       "0  64 bit Windows 10 Operating System   15.6    0  512         Lenovo   \n",
       "1  64 bit Windows 11 Operating System   15.6    0  512         Lenovo   \n",
       "2         Windows 11 Operating System   15.6    0  256         Lenovo   \n",
       "3  64 bit Windows 11 Operating System   15.6    0  512         Lenovo   \n",
       "4  64 bit Windows 11 Operating System   15.6    0  512           ASUS   \n",
       "\n",
       "   TOUCHSCREEN  \n",
       "0            0  \n",
       "1            0  \n",
       "2            0  \n",
       "3            0  \n",
       "4            0  "
      ]
     },
     "execution_count": 67,
     "metadata": {},
     "output_type": "execute_result"
    }
   ],
   "source": [
    "df.head()"
   ]
  },
  {
   "cell_type": "code",
   "execution_count": 68,
   "metadata": {
    "colab": {
     "base_uri": "https://localhost:8080/"
    },
    "id": "EAys0_mSYftn",
    "outputId": "ba903719-a04d-44b1-8cf0-ef0759460af1"
   },
   "outputs": [
    {
     "data": {
      "text/plain": [
       "15.6      369\n",
       "14        200\n",
       "13.3       38\n",
       "16         13\n",
       "17.3       13\n",
       "13.4       11\n",
       "14.96       9\n",
       "14.1        8\n",
       "16.1        8\n",
       "15          5\n",
       "13          4\n",
       "11.6        4\n",
       "13.5        4\n",
       "13.6        3\n",
       "16.6        1\n",
       "35          1\n",
       "15.748      1\n",
       "14.2        1\n",
       "15.3        1\n",
       "14.22       1\n",
       "Name: INCHES, dtype: int64"
      ]
     },
     "execution_count": 68,
     "metadata": {},
     "output_type": "execute_result"
    }
   ],
   "source": [
    "df['INCHES'].value_counts()"
   ]
  },
  {
   "cell_type": "code",
   "execution_count": 69,
   "metadata": {
    "id": "J295i5uYTaqi"
   },
   "outputs": [],
   "source": [
    "df['INCHES']=df['INCHES'].astype('float')"
   ]
  },
  {
   "cell_type": "code",
   "execution_count": 70,
   "metadata": {
    "colab": {
     "base_uri": "https://localhost:8080/"
    },
    "id": "5Cr2uoYJTaey",
    "outputId": "65182811-3eaa-41c2-eaf9-db0bb2d3dc86"
   },
   "outputs": [
    {
     "name": "stdout",
     "output_type": "stream",
     "text": [
      "<class 'pandas.core.frame.DataFrame'>\n",
      "Int64Index: 695 entries, 0 to 982\n",
      "Data columns (total 11 columns):\n",
      " #   Column           Non-Null Count  Dtype  \n",
      "---  ------           --------------  -----  \n",
      " 0   LAPTOP NAME      695 non-null    object \n",
      " 1   LAPTOP FEATURES  695 non-null    object \n",
      " 2   PRICE            695 non-null    int64  \n",
      " 3   PROCESSORS       695 non-null    object \n",
      " 4   RAM              695 non-null    int64  \n",
      " 5   OS               695 non-null    object \n",
      " 6   INCHES           695 non-null    float64\n",
      " 7   HDD              695 non-null    int64  \n",
      " 8   SSD              695 non-null    int64  \n",
      " 9   LAPTOP COMPANY   695 non-null    object \n",
      " 10  TOUCHSCREEN      695 non-null    int64  \n",
      "dtypes: float64(1), int64(5), object(5)\n",
      "memory usage: 65.2+ KB\n"
     ]
    }
   ],
   "source": [
    "df.info()"
   ]
  },
  {
   "cell_type": "markdown",
   "metadata": {
    "id": "sYxoc2DDd82Q"
   },
   "source": [
    "#PROCESSOR BRAND :"
   ]
  },
  {
   "cell_type": "code",
   "execution_count": 71,
   "metadata": {
    "id": "HYllJoEmYnTM"
   },
   "outputs": [],
   "source": [
    "df['PROCESSOR BRAND'] = df['PROCESSORS'].astype(str).str.extract(\"(\\\\w+)\")"
   ]
  },
  {
   "cell_type": "code",
   "execution_count": 72,
   "metadata": {
    "colab": {
     "base_uri": "https://localhost:8080/",
     "height": 354
    },
    "id": "Qai1vbc0eVLs",
    "outputId": "38f54b37-3a98-4971-b4f9-f67f64025278"
   },
   "outputs": [
    {
     "data": {
      "text/html": [
       "<div>\n",
       "<style scoped>\n",
       "    .dataframe tbody tr th:only-of-type {\n",
       "        vertical-align: middle;\n",
       "    }\n",
       "\n",
       "    .dataframe tbody tr th {\n",
       "        vertical-align: top;\n",
       "    }\n",
       "\n",
       "    .dataframe thead th {\n",
       "        text-align: right;\n",
       "    }\n",
       "</style>\n",
       "<table border=\"1\" class=\"dataframe\">\n",
       "  <thead>\n",
       "    <tr style=\"text-align: right;\">\n",
       "      <th></th>\n",
       "      <th>LAPTOP NAME</th>\n",
       "      <th>LAPTOP FEATURES</th>\n",
       "      <th>PRICE</th>\n",
       "      <th>PROCESSORS</th>\n",
       "      <th>RAM</th>\n",
       "      <th>OS</th>\n",
       "      <th>INCHES</th>\n",
       "      <th>HDD</th>\n",
       "      <th>SSD</th>\n",
       "      <th>LAPTOP COMPANY</th>\n",
       "      <th>TOUCHSCREEN</th>\n",
       "      <th>PROCESSOR BRAND</th>\n",
       "    </tr>\n",
       "  </thead>\n",
       "  <tbody>\n",
       "    <tr>\n",
       "      <th>0</th>\n",
       "      <td>Lenovo IdeaPad Gaming 3i Core i7 11th Gen - (8...</td>\n",
       "      <td>Intel Core i7 Processor (11th Gen), 8 GB DDR4 ...</td>\n",
       "      <td>69990</td>\n",
       "      <td>Intel Core i7 Processor (11th Gen)</td>\n",
       "      <td>8</td>\n",
       "      <td>64 bit Windows 10 Operating System</td>\n",
       "      <td>15.6</td>\n",
       "      <td>0</td>\n",
       "      <td>512</td>\n",
       "      <td>Lenovo</td>\n",
       "      <td>0</td>\n",
       "      <td>Intel</td>\n",
       "    </tr>\n",
       "    <tr>\n",
       "      <th>1</th>\n",
       "      <td>Lenovo IdeaPad 3 Core i5 12th Gen - (8 GB/512 ...</td>\n",
       "      <td>Intel Core i5 Processor (12th Gen), 8 GB DDR4 ...</td>\n",
       "      <td>53990</td>\n",
       "      <td>Intel Core i5 Processor (12th Gen)</td>\n",
       "      <td>8</td>\n",
       "      <td>64 bit Windows 11 Operating System</td>\n",
       "      <td>15.6</td>\n",
       "      <td>0</td>\n",
       "      <td>512</td>\n",
       "      <td>Lenovo</td>\n",
       "      <td>0</td>\n",
       "      <td>Intel</td>\n",
       "    </tr>\n",
       "    <tr>\n",
       "      <th>2</th>\n",
       "      <td>Lenovo IdeaPad 3 Core i3 10th Gen - (8 GB/256 ...</td>\n",
       "      <td>Intel Core i3 Processor (10th Gen), 8 GB DDR4 ...</td>\n",
       "      <td>30990</td>\n",
       "      <td>Intel Core i3 Processor (10th Gen)</td>\n",
       "      <td>8</td>\n",
       "      <td>Windows 11 Operating System</td>\n",
       "      <td>15.6</td>\n",
       "      <td>0</td>\n",
       "      <td>256</td>\n",
       "      <td>Lenovo</td>\n",
       "      <td>0</td>\n",
       "      <td>Intel</td>\n",
       "    </tr>\n",
       "    <tr>\n",
       "      <th>3</th>\n",
       "      <td>Lenovo IdeaPad 1 Ryzen 3 Dual Core 3250U - (8 ...</td>\n",
       "      <td>AMD Ryzen 3 Dual Core Processor, 8 GB DDR4 RAM...</td>\n",
       "      <td>31490</td>\n",
       "      <td>AMD Ryzen 3 Dual Core Processor</td>\n",
       "      <td>8</td>\n",
       "      <td>64 bit Windows 11 Operating System</td>\n",
       "      <td>15.6</td>\n",
       "      <td>0</td>\n",
       "      <td>512</td>\n",
       "      <td>Lenovo</td>\n",
       "      <td>0</td>\n",
       "      <td>AMD</td>\n",
       "    </tr>\n",
       "    <tr>\n",
       "      <th>4</th>\n",
       "      <td>ASUS Vivobook 15 Ryzen 7 Quad Core AMD R7-3700...</td>\n",
       "      <td>AMD Ryzen 7 Quad Core Processor, 16 GB DDR4 RA...</td>\n",
       "      <td>44990</td>\n",
       "      <td>AMD Ryzen 7 Quad Core Processor</td>\n",
       "      <td>16</td>\n",
       "      <td>64 bit Windows 11 Operating System</td>\n",
       "      <td>15.6</td>\n",
       "      <td>0</td>\n",
       "      <td>512</td>\n",
       "      <td>ASUS</td>\n",
       "      <td>0</td>\n",
       "      <td>AMD</td>\n",
       "    </tr>\n",
       "  </tbody>\n",
       "</table>\n",
       "</div>"
      ],
      "text/plain": [
       "                                         LAPTOP NAME  \\\n",
       "0  Lenovo IdeaPad Gaming 3i Core i7 11th Gen - (8...   \n",
       "1  Lenovo IdeaPad 3 Core i5 12th Gen - (8 GB/512 ...   \n",
       "2  Lenovo IdeaPad 3 Core i3 10th Gen - (8 GB/256 ...   \n",
       "3  Lenovo IdeaPad 1 Ryzen 3 Dual Core 3250U - (8 ...   \n",
       "4  ASUS Vivobook 15 Ryzen 7 Quad Core AMD R7-3700...   \n",
       "\n",
       "                                     LAPTOP FEATURES  PRICE  \\\n",
       "0  Intel Core i7 Processor (11th Gen), 8 GB DDR4 ...  69990   \n",
       "1  Intel Core i5 Processor (12th Gen), 8 GB DDR4 ...  53990   \n",
       "2  Intel Core i3 Processor (10th Gen), 8 GB DDR4 ...  30990   \n",
       "3  AMD Ryzen 3 Dual Core Processor, 8 GB DDR4 RAM...  31490   \n",
       "4  AMD Ryzen 7 Quad Core Processor, 16 GB DDR4 RA...  44990   \n",
       "\n",
       "                           PROCESSORS  RAM  \\\n",
       "0  Intel Core i7 Processor (11th Gen)    8   \n",
       "1  Intel Core i5 Processor (12th Gen)    8   \n",
       "2  Intel Core i3 Processor (10th Gen)    8   \n",
       "3     AMD Ryzen 3 Dual Core Processor    8   \n",
       "4     AMD Ryzen 7 Quad Core Processor   16   \n",
       "\n",
       "                                   OS  INCHES  HDD  SSD LAPTOP COMPANY  \\\n",
       "0  64 bit Windows 10 Operating System    15.6    0  512         Lenovo   \n",
       "1  64 bit Windows 11 Operating System    15.6    0  512         Lenovo   \n",
       "2         Windows 11 Operating System    15.6    0  256         Lenovo   \n",
       "3  64 bit Windows 11 Operating System    15.6    0  512         Lenovo   \n",
       "4  64 bit Windows 11 Operating System    15.6    0  512           ASUS   \n",
       "\n",
       "   TOUCHSCREEN PROCESSOR BRAND  \n",
       "0            0           Intel  \n",
       "1            0           Intel  \n",
       "2            0           Intel  \n",
       "3            0             AMD  \n",
       "4            0             AMD  "
      ]
     },
     "execution_count": 72,
     "metadata": {},
     "output_type": "execute_result"
    }
   ],
   "source": [
    "df.head()"
   ]
  },
  {
   "cell_type": "code",
   "execution_count": 73,
   "metadata": {
    "colab": {
     "base_uri": "https://localhost:8080/"
    },
    "id": "9abjrkEEgNg4",
    "outputId": "7eee5b54-1491-4286-fe1a-11aff912bec3"
   },
   "outputs": [
    {
     "data": {
      "text/plain": [
       "Intel    485\n",
       "AMD      198\n",
       "Apple     12\n",
       "Name: PROCESSOR BRAND, dtype: int64"
      ]
     },
     "execution_count": 73,
     "metadata": {},
     "output_type": "execute_result"
    }
   ],
   "source": [
    "df['PROCESSOR BRAND'].value_counts()"
   ]
  },
  {
   "cell_type": "markdown",
   "metadata": {
    "id": "hDJ3tTr7hpjE"
   },
   "source": [
    "# PROCESSOR NAME"
   ]
  },
  {
   "cell_type": "code",
   "execution_count": 74,
   "metadata": {
    "colab": {
     "base_uri": "https://localhost:8080/",
     "height": 598
    },
    "id": "VnLFm4KogXWu",
    "outputId": "5b6552a5-1c6d-475e-8143-eabb83cb9b58"
   },
   "outputs": [
    {
     "data": {
      "text/html": [
       "<div>\n",
       "<style scoped>\n",
       "    .dataframe tbody tr th:only-of-type {\n",
       "        vertical-align: middle;\n",
       "    }\n",
       "\n",
       "    .dataframe tbody tr th {\n",
       "        vertical-align: top;\n",
       "    }\n",
       "\n",
       "    .dataframe thead th {\n",
       "        text-align: right;\n",
       "    }\n",
       "</style>\n",
       "<table border=\"1\" class=\"dataframe\">\n",
       "  <thead>\n",
       "    <tr style=\"text-align: right;\">\n",
       "      <th></th>\n",
       "      <th>LAPTOP NAME</th>\n",
       "      <th>LAPTOP FEATURES</th>\n",
       "      <th>PRICE</th>\n",
       "      <th>PROCESSORS</th>\n",
       "      <th>RAM</th>\n",
       "      <th>OS</th>\n",
       "      <th>INCHES</th>\n",
       "      <th>HDD</th>\n",
       "      <th>SSD</th>\n",
       "      <th>LAPTOP COMPANY</th>\n",
       "      <th>TOUCHSCREEN</th>\n",
       "      <th>PROCESSOR BRAND</th>\n",
       "    </tr>\n",
       "  </thead>\n",
       "  <tbody>\n",
       "    <tr>\n",
       "      <th>837</th>\n",
       "      <td>Avita Liber Core i7 8th Gen - (8 GB/256 GB SSD...</td>\n",
       "      <td>Intel Core i7 Processor (8th Gen), 8 GB DDR4 R...</td>\n",
       "      <td>73990</td>\n",
       "      <td>Intel Core i7 Processor (8th Gen)</td>\n",
       "      <td>8</td>\n",
       "      <td>64 bit Windows 10 Operating System</td>\n",
       "      <td>14.0</td>\n",
       "      <td>0</td>\n",
       "      <td>256</td>\n",
       "      <td>Avita</td>\n",
       "      <td>0</td>\n",
       "      <td>Intel</td>\n",
       "    </tr>\n",
       "    <tr>\n",
       "      <th>122</th>\n",
       "      <td>acer Nitro 5 Ryzen 7 Octa Core 5800H - (16 GB/...</td>\n",
       "      <td>AMD Ryzen 7 Octa Core Processor, 16 GB DDR4 RA...</td>\n",
       "      <td>94960</td>\n",
       "      <td>AMD Ryzen 7 Octa Core Processor</td>\n",
       "      <td>16</td>\n",
       "      <td>64 bit Windows 10 Operating System</td>\n",
       "      <td>15.6</td>\n",
       "      <td>1000</td>\n",
       "      <td>256</td>\n",
       "      <td>acer</td>\n",
       "      <td>0</td>\n",
       "      <td>AMD</td>\n",
       "    </tr>\n",
       "    <tr>\n",
       "      <th>924</th>\n",
       "      <td>HP 14s Core i5 11th Gen - (8 GB/512 GB SSD/Win...</td>\n",
       "      <td>Intel Core i5 Processor (11th Gen), 8 GB DDR4 ...</td>\n",
       "      <td>56990</td>\n",
       "      <td>Intel Core i5 Processor (11th Gen)</td>\n",
       "      <td>8</td>\n",
       "      <td>64 bit Windows 10 Operating System</td>\n",
       "      <td>14.0</td>\n",
       "      <td>0</td>\n",
       "      <td>512</td>\n",
       "      <td>HP</td>\n",
       "      <td>0</td>\n",
       "      <td>Intel</td>\n",
       "    </tr>\n",
       "    <tr>\n",
       "      <th>193</th>\n",
       "      <td>Lenovo ThinkPad E15 Core i5 11th Gen - (8 GB/5...</td>\n",
       "      <td>Intel Core i5 Processor (11th Gen), 8 GB DDR4 ...</td>\n",
       "      <td>63990</td>\n",
       "      <td>Intel Core i5 Processor (11th Gen)</td>\n",
       "      <td>8</td>\n",
       "      <td>64 bit Windows 10 Operating System</td>\n",
       "      <td>15.6</td>\n",
       "      <td>0</td>\n",
       "      <td>512</td>\n",
       "      <td>Lenovo</td>\n",
       "      <td>0</td>\n",
       "      <td>Intel</td>\n",
       "    </tr>\n",
       "    <tr>\n",
       "      <th>821</th>\n",
       "      <td>DELL Ryzen 7 Octa Core 6800H - (16 GB/512 GB S...</td>\n",
       "      <td>AMD Ryzen 7 Octa Core Processor, 16 GB DDR5 RA...</td>\n",
       "      <td>100990</td>\n",
       "      <td>AMD Ryzen 7 Octa Core Processor</td>\n",
       "      <td>16</td>\n",
       "      <td>64 bit Windows 11 Operating System</td>\n",
       "      <td>15.6</td>\n",
       "      <td>0</td>\n",
       "      <td>512</td>\n",
       "      <td>DELL</td>\n",
       "      <td>0</td>\n",
       "      <td>AMD</td>\n",
       "    </tr>\n",
       "    <tr>\n",
       "      <th>872</th>\n",
       "      <td>ASUS ASUS TUF Dash Core i5 11th Gen - (16 GB/5...</td>\n",
       "      <td>Intel Core i5 Processor (11th Gen), 16 GB DDR4...</td>\n",
       "      <td>85990</td>\n",
       "      <td>Intel Core i5 Processor (11th Gen)</td>\n",
       "      <td>16</td>\n",
       "      <td>64 bit Windows 10 Operating System</td>\n",
       "      <td>15.6</td>\n",
       "      <td>0</td>\n",
       "      <td>512</td>\n",
       "      <td>ASUS</td>\n",
       "      <td>0</td>\n",
       "      <td>Intel</td>\n",
       "    </tr>\n",
       "    <tr>\n",
       "      <th>150</th>\n",
       "      <td>APPLE 2022 MacBook AIR M2 - (8 GB/512 GB SSD/M...</td>\n",
       "      <td>Apple M2 Processor, 8 GB Unified Memory RAM, M...</td>\n",
       "      <td>149900</td>\n",
       "      <td>Apple M2 Processor</td>\n",
       "      <td>8</td>\n",
       "      <td>Mac OS Operating System</td>\n",
       "      <td>13.6</td>\n",
       "      <td>0</td>\n",
       "      <td>512</td>\n",
       "      <td>APPLE</td>\n",
       "      <td>0</td>\n",
       "      <td>Apple</td>\n",
       "    </tr>\n",
       "    <tr>\n",
       "      <th>866</th>\n",
       "      <td>Lenovo Ideapad Slim 3i (2021) Core i3 10th Gen...</td>\n",
       "      <td>Intel Core i3 Processor (10th Gen), 4 GB DDR4 ...</td>\n",
       "      <td>40200</td>\n",
       "      <td>Intel Core i3 Processor (10th Gen)</td>\n",
       "      <td>4</td>\n",
       "      <td>64 bit Windows 10 Operating System</td>\n",
       "      <td>15.6</td>\n",
       "      <td>0</td>\n",
       "      <td>256</td>\n",
       "      <td>Lenovo</td>\n",
       "      <td>0</td>\n",
       "      <td>Intel</td>\n",
       "    </tr>\n",
       "    <tr>\n",
       "      <th>562</th>\n",
       "      <td>DELL Core i3 11th Gen - (8 GB/1 TB HDD/Windows...</td>\n",
       "      <td>Intel Core i3 Processor (11th Gen), 8 GB DDR4 ...</td>\n",
       "      <td>42690</td>\n",
       "      <td>Intel Core i3 Processor (11th Gen)</td>\n",
       "      <td>8</td>\n",
       "      <td>Windows 11 Operating System</td>\n",
       "      <td>15.6</td>\n",
       "      <td>1000</td>\n",
       "      <td>0</td>\n",
       "      <td>DELL</td>\n",
       "      <td>0</td>\n",
       "      <td>Intel</td>\n",
       "    </tr>\n",
       "    <tr>\n",
       "      <th>664</th>\n",
       "      <td>LG Gram 15 Core i5 10th Gen - (8 GB/256 GB SSD...</td>\n",
       "      <td>Intel Core i5 Processor (10th Gen), 8 GB DDR4 ...</td>\n",
       "      <td>73990</td>\n",
       "      <td>Intel Core i5 Processor (10th Gen)</td>\n",
       "      <td>8</td>\n",
       "      <td>64 bit Windows 10 Operating System</td>\n",
       "      <td>15.6</td>\n",
       "      <td>0</td>\n",
       "      <td>256</td>\n",
       "      <td>LG</td>\n",
       "      <td>0</td>\n",
       "      <td>Intel</td>\n",
       "    </tr>\n",
       "  </tbody>\n",
       "</table>\n",
       "</div>"
      ],
      "text/plain": [
       "                                           LAPTOP NAME  \\\n",
       "837  Avita Liber Core i7 8th Gen - (8 GB/256 GB SSD...   \n",
       "122  acer Nitro 5 Ryzen 7 Octa Core 5800H - (16 GB/...   \n",
       "924  HP 14s Core i5 11th Gen - (8 GB/512 GB SSD/Win...   \n",
       "193  Lenovo ThinkPad E15 Core i5 11th Gen - (8 GB/5...   \n",
       "821  DELL Ryzen 7 Octa Core 6800H - (16 GB/512 GB S...   \n",
       "872  ASUS ASUS TUF Dash Core i5 11th Gen - (16 GB/5...   \n",
       "150  APPLE 2022 MacBook AIR M2 - (8 GB/512 GB SSD/M...   \n",
       "866  Lenovo Ideapad Slim 3i (2021) Core i3 10th Gen...   \n",
       "562  DELL Core i3 11th Gen - (8 GB/1 TB HDD/Windows...   \n",
       "664  LG Gram 15 Core i5 10th Gen - (8 GB/256 GB SSD...   \n",
       "\n",
       "                                       LAPTOP FEATURES   PRICE  \\\n",
       "837  Intel Core i7 Processor (8th Gen), 8 GB DDR4 R...   73990   \n",
       "122  AMD Ryzen 7 Octa Core Processor, 16 GB DDR4 RA...   94960   \n",
       "924  Intel Core i5 Processor (11th Gen), 8 GB DDR4 ...   56990   \n",
       "193  Intel Core i5 Processor (11th Gen), 8 GB DDR4 ...   63990   \n",
       "821  AMD Ryzen 7 Octa Core Processor, 16 GB DDR5 RA...  100990   \n",
       "872  Intel Core i5 Processor (11th Gen), 16 GB DDR4...   85990   \n",
       "150  Apple M2 Processor, 8 GB Unified Memory RAM, M...  149900   \n",
       "866  Intel Core i3 Processor (10th Gen), 4 GB DDR4 ...   40200   \n",
       "562  Intel Core i3 Processor (11th Gen), 8 GB DDR4 ...   42690   \n",
       "664  Intel Core i5 Processor (10th Gen), 8 GB DDR4 ...   73990   \n",
       "\n",
       "                             PROCESSORS  RAM  \\\n",
       "837   Intel Core i7 Processor (8th Gen)    8   \n",
       "122     AMD Ryzen 7 Octa Core Processor   16   \n",
       "924  Intel Core i5 Processor (11th Gen)    8   \n",
       "193  Intel Core i5 Processor (11th Gen)    8   \n",
       "821     AMD Ryzen 7 Octa Core Processor   16   \n",
       "872  Intel Core i5 Processor (11th Gen)   16   \n",
       "150                  Apple M2 Processor    8   \n",
       "866  Intel Core i3 Processor (10th Gen)    4   \n",
       "562  Intel Core i3 Processor (11th Gen)    8   \n",
       "664  Intel Core i5 Processor (10th Gen)    8   \n",
       "\n",
       "                                     OS  INCHES   HDD  SSD LAPTOP COMPANY  \\\n",
       "837  64 bit Windows 10 Operating System    14.0     0  256          Avita   \n",
       "122  64 bit Windows 10 Operating System    15.6  1000  256           acer   \n",
       "924  64 bit Windows 10 Operating System    14.0     0  512             HP   \n",
       "193  64 bit Windows 10 Operating System    15.6     0  512         Lenovo   \n",
       "821  64 bit Windows 11 Operating System    15.6     0  512           DELL   \n",
       "872  64 bit Windows 10 Operating System    15.6     0  512           ASUS   \n",
       "150             Mac OS Operating System    13.6     0  512          APPLE   \n",
       "866  64 bit Windows 10 Operating System    15.6     0  256         Lenovo   \n",
       "562         Windows 11 Operating System    15.6  1000    0           DELL   \n",
       "664  64 bit Windows 10 Operating System    15.6     0  256             LG   \n",
       "\n",
       "     TOUCHSCREEN PROCESSOR BRAND  \n",
       "837            0           Intel  \n",
       "122            0             AMD  \n",
       "924            0           Intel  \n",
       "193            0           Intel  \n",
       "821            0             AMD  \n",
       "872            0           Intel  \n",
       "150            0           Apple  \n",
       "866            0           Intel  \n",
       "562            0           Intel  \n",
       "664            0           Intel  "
      ]
     },
     "execution_count": 74,
     "metadata": {},
     "output_type": "execute_result"
    }
   ],
   "source": [
    "df.sample(10)"
   ]
  },
  {
   "cell_type": "code",
   "execution_count": 75,
   "metadata": {
    "colab": {
     "base_uri": "https://localhost:8080/"
    },
    "id": "Lqc10d0Nhw0A",
    "outputId": "01292fbb-7e7e-491c-b4c8-4ef109d27d12"
   },
   "outputs": [
    {
     "data": {
      "text/plain": [
       "Intel Core i5 Processor (11th Gen)            121\n",
       "Intel Core i3 Processor (11th Gen)             95\n",
       "AMD Ryzen 5 Hexa Core Processor                58\n",
       "AMD Ryzen 7 Octa Core Processor                56\n",
       "Intel Core i5 Processor (10th Gen)             51\n",
       "                                             ... \n",
       "Intel Hexa Core i5 Processor (10th Gen)         1\n",
       "AMD Ryzen 3 Hexa Core Processor (4th Gen)       1\n",
       "AMD Ryzen 5 Dual Core Processor                 1\n",
       "Intel Celeron Quad_Core Processor               1\n",
       "AMD Ryzen 7 Quad Core Processor (10th Gen)      1\n",
       "Name: PROCESSORS, Length: 63, dtype: int64"
      ]
     },
     "execution_count": 75,
     "metadata": {},
     "output_type": "execute_result"
    }
   ],
   "source": [
    "df['PROCESSORS'].value_counts()"
   ]
  },
  {
   "cell_type": "code",
   "execution_count": 76,
   "metadata": {
    "id": "KYhx1Iv2icZp"
   },
   "outputs": [],
   "source": [
    "df['PROCESSORS NAME'] = df['PROCESSORS'].apply(lambda x : \" \".join(x.split(' ')[0:3])) "
   ]
  },
  {
   "cell_type": "code",
   "execution_count": 77,
   "metadata": {
    "colab": {
     "base_uri": "https://localhost:8080/",
     "height": 354
    },
    "id": "ZdEOf1xPxtXN",
    "outputId": "43a5b3b2-83b2-4a43-b370-110c4dc1b8ea"
   },
   "outputs": [
    {
     "data": {
      "text/html": [
       "<div>\n",
       "<style scoped>\n",
       "    .dataframe tbody tr th:only-of-type {\n",
       "        vertical-align: middle;\n",
       "    }\n",
       "\n",
       "    .dataframe tbody tr th {\n",
       "        vertical-align: top;\n",
       "    }\n",
       "\n",
       "    .dataframe thead th {\n",
       "        text-align: right;\n",
       "    }\n",
       "</style>\n",
       "<table border=\"1\" class=\"dataframe\">\n",
       "  <thead>\n",
       "    <tr style=\"text-align: right;\">\n",
       "      <th></th>\n",
       "      <th>LAPTOP NAME</th>\n",
       "      <th>LAPTOP FEATURES</th>\n",
       "      <th>PRICE</th>\n",
       "      <th>PROCESSORS</th>\n",
       "      <th>RAM</th>\n",
       "      <th>OS</th>\n",
       "      <th>INCHES</th>\n",
       "      <th>HDD</th>\n",
       "      <th>SSD</th>\n",
       "      <th>LAPTOP COMPANY</th>\n",
       "      <th>TOUCHSCREEN</th>\n",
       "      <th>PROCESSOR BRAND</th>\n",
       "      <th>PROCESSORS NAME</th>\n",
       "    </tr>\n",
       "  </thead>\n",
       "  <tbody>\n",
       "    <tr>\n",
       "      <th>0</th>\n",
       "      <td>Lenovo IdeaPad Gaming 3i Core i7 11th Gen - (8...</td>\n",
       "      <td>Intel Core i7 Processor (11th Gen), 8 GB DDR4 ...</td>\n",
       "      <td>69990</td>\n",
       "      <td>Intel Core i7 Processor (11th Gen)</td>\n",
       "      <td>8</td>\n",
       "      <td>64 bit Windows 10 Operating System</td>\n",
       "      <td>15.6</td>\n",
       "      <td>0</td>\n",
       "      <td>512</td>\n",
       "      <td>Lenovo</td>\n",
       "      <td>0</td>\n",
       "      <td>Intel</td>\n",
       "      <td>Intel Core i7</td>\n",
       "    </tr>\n",
       "    <tr>\n",
       "      <th>1</th>\n",
       "      <td>Lenovo IdeaPad 3 Core i5 12th Gen - (8 GB/512 ...</td>\n",
       "      <td>Intel Core i5 Processor (12th Gen), 8 GB DDR4 ...</td>\n",
       "      <td>53990</td>\n",
       "      <td>Intel Core i5 Processor (12th Gen)</td>\n",
       "      <td>8</td>\n",
       "      <td>64 bit Windows 11 Operating System</td>\n",
       "      <td>15.6</td>\n",
       "      <td>0</td>\n",
       "      <td>512</td>\n",
       "      <td>Lenovo</td>\n",
       "      <td>0</td>\n",
       "      <td>Intel</td>\n",
       "      <td>Intel Core i5</td>\n",
       "    </tr>\n",
       "    <tr>\n",
       "      <th>2</th>\n",
       "      <td>Lenovo IdeaPad 3 Core i3 10th Gen - (8 GB/256 ...</td>\n",
       "      <td>Intel Core i3 Processor (10th Gen), 8 GB DDR4 ...</td>\n",
       "      <td>30990</td>\n",
       "      <td>Intel Core i3 Processor (10th Gen)</td>\n",
       "      <td>8</td>\n",
       "      <td>Windows 11 Operating System</td>\n",
       "      <td>15.6</td>\n",
       "      <td>0</td>\n",
       "      <td>256</td>\n",
       "      <td>Lenovo</td>\n",
       "      <td>0</td>\n",
       "      <td>Intel</td>\n",
       "      <td>Intel Core i3</td>\n",
       "    </tr>\n",
       "    <tr>\n",
       "      <th>3</th>\n",
       "      <td>Lenovo IdeaPad 1 Ryzen 3 Dual Core 3250U - (8 ...</td>\n",
       "      <td>AMD Ryzen 3 Dual Core Processor, 8 GB DDR4 RAM...</td>\n",
       "      <td>31490</td>\n",
       "      <td>AMD Ryzen 3 Dual Core Processor</td>\n",
       "      <td>8</td>\n",
       "      <td>64 bit Windows 11 Operating System</td>\n",
       "      <td>15.6</td>\n",
       "      <td>0</td>\n",
       "      <td>512</td>\n",
       "      <td>Lenovo</td>\n",
       "      <td>0</td>\n",
       "      <td>AMD</td>\n",
       "      <td>AMD Ryzen 3</td>\n",
       "    </tr>\n",
       "    <tr>\n",
       "      <th>4</th>\n",
       "      <td>ASUS Vivobook 15 Ryzen 7 Quad Core AMD R7-3700...</td>\n",
       "      <td>AMD Ryzen 7 Quad Core Processor, 16 GB DDR4 RA...</td>\n",
       "      <td>44990</td>\n",
       "      <td>AMD Ryzen 7 Quad Core Processor</td>\n",
       "      <td>16</td>\n",
       "      <td>64 bit Windows 11 Operating System</td>\n",
       "      <td>15.6</td>\n",
       "      <td>0</td>\n",
       "      <td>512</td>\n",
       "      <td>ASUS</td>\n",
       "      <td>0</td>\n",
       "      <td>AMD</td>\n",
       "      <td>AMD Ryzen 7</td>\n",
       "    </tr>\n",
       "  </tbody>\n",
       "</table>\n",
       "</div>"
      ],
      "text/plain": [
       "                                         LAPTOP NAME  \\\n",
       "0  Lenovo IdeaPad Gaming 3i Core i7 11th Gen - (8...   \n",
       "1  Lenovo IdeaPad 3 Core i5 12th Gen - (8 GB/512 ...   \n",
       "2  Lenovo IdeaPad 3 Core i3 10th Gen - (8 GB/256 ...   \n",
       "3  Lenovo IdeaPad 1 Ryzen 3 Dual Core 3250U - (8 ...   \n",
       "4  ASUS Vivobook 15 Ryzen 7 Quad Core AMD R7-3700...   \n",
       "\n",
       "                                     LAPTOP FEATURES  PRICE  \\\n",
       "0  Intel Core i7 Processor (11th Gen), 8 GB DDR4 ...  69990   \n",
       "1  Intel Core i5 Processor (12th Gen), 8 GB DDR4 ...  53990   \n",
       "2  Intel Core i3 Processor (10th Gen), 8 GB DDR4 ...  30990   \n",
       "3  AMD Ryzen 3 Dual Core Processor, 8 GB DDR4 RAM...  31490   \n",
       "4  AMD Ryzen 7 Quad Core Processor, 16 GB DDR4 RA...  44990   \n",
       "\n",
       "                           PROCESSORS  RAM  \\\n",
       "0  Intel Core i7 Processor (11th Gen)    8   \n",
       "1  Intel Core i5 Processor (12th Gen)    8   \n",
       "2  Intel Core i3 Processor (10th Gen)    8   \n",
       "3     AMD Ryzen 3 Dual Core Processor    8   \n",
       "4     AMD Ryzen 7 Quad Core Processor   16   \n",
       "\n",
       "                                   OS  INCHES  HDD  SSD LAPTOP COMPANY  \\\n",
       "0  64 bit Windows 10 Operating System    15.6    0  512         Lenovo   \n",
       "1  64 bit Windows 11 Operating System    15.6    0  512         Lenovo   \n",
       "2         Windows 11 Operating System    15.6    0  256         Lenovo   \n",
       "3  64 bit Windows 11 Operating System    15.6    0  512         Lenovo   \n",
       "4  64 bit Windows 11 Operating System    15.6    0  512           ASUS   \n",
       "\n",
       "   TOUCHSCREEN PROCESSOR BRAND PROCESSORS NAME  \n",
       "0            0           Intel   Intel Core i7  \n",
       "1            0           Intel   Intel Core i5  \n",
       "2            0           Intel   Intel Core i3  \n",
       "3            0             AMD     AMD Ryzen 3  \n",
       "4            0             AMD     AMD Ryzen 7  "
      ]
     },
     "execution_count": 77,
     "metadata": {},
     "output_type": "execute_result"
    }
   ],
   "source": [
    "df.head()"
   ]
  },
  {
   "cell_type": "code",
   "execution_count": 78,
   "metadata": {
    "colab": {
     "base_uri": "https://localhost:8080/"
    },
    "id": "oKd1xka3xvm_",
    "outputId": "b78ef14b-3718-4656-d25d-e6e4bdcc5f19"
   },
   "outputs": [
    {
     "data": {
      "text/plain": [
       "Intel Core i5              222\n",
       "Intel Core i3              141\n",
       "Intel Core i7               93\n",
       "AMD Ryzen 5                 74\n",
       "AMD Ryzen 7                 68\n",
       "AMD Ryzen 3                 28\n",
       "AMD Ryzen 9                 19\n",
       "Intel Core i9               10\n",
       "Intel Pentium Quad           8\n",
       "Apple M1 Processor           7\n",
       "Intel Celeron Dual_Core      6\n",
       "AMD Athlon Dual              5\n",
       "Apple M2 Processor           4\n",
       "AMD Dual Core                3\n",
       "Intel Pentium Silver         3\n",
       "Intel Hexa Core              1\n",
       "Intel Celeron Quad_Core      1\n",
       "Apple M1 Pro                 1\n",
       "AMD APU Dual                 1\n",
       "Name: PROCESSORS NAME, dtype: int64"
      ]
     },
     "execution_count": 78,
     "metadata": {},
     "output_type": "execute_result"
    }
   ],
   "source": [
    "df['PROCESSORS NAME'].value_counts()"
   ]
  },
  {
   "cell_type": "code",
   "execution_count": 79,
   "metadata": {
    "id": "-z5_RgPyx1Vx"
   },
   "outputs": [],
   "source": [
    "def fetch_processor_name(text):\n",
    "  if text =='Intel Core i3' or text =='Intel Core i5' or text =='Intel Core i7' or text =='Intel Core i9' or text =='AMD Ryzen 5' or text =='AMD Ryzen 3' or text =='AMD Ryzen 7' or text =='AMD Ryzen 9' or text=='Apple M1 Processor' or text=='Apple M2 Processor' or text=='Apple M1 Pro':\n",
    "    return text\n",
    "  else:\n",
    "    if text.split()[0]==\"Intel\":\n",
    "      return 'Other Intel Processors'\n",
    "    elif text.split()[0]==\"AMD\":\n",
    "      return 'Other AMD Processors'"
   ]
  },
  {
   "cell_type": "code",
   "execution_count": 80,
   "metadata": {
    "id": "--m-obsA8hgy"
   },
   "outputs": [],
   "source": [
    "df['PROCESSORS NAME']=df['PROCESSORS NAME'].apply(fetch_processor_name)"
   ]
  },
  {
   "cell_type": "code",
   "execution_count": 81,
   "metadata": {
    "colab": {
     "base_uri": "https://localhost:8080/",
     "height": 354
    },
    "id": "7DY-Iajf9iHV",
    "outputId": "4fdc849d-b3d7-4686-9667-ac8469f1376b"
   },
   "outputs": [
    {
     "data": {
      "text/html": [
       "<div>\n",
       "<style scoped>\n",
       "    .dataframe tbody tr th:only-of-type {\n",
       "        vertical-align: middle;\n",
       "    }\n",
       "\n",
       "    .dataframe tbody tr th {\n",
       "        vertical-align: top;\n",
       "    }\n",
       "\n",
       "    .dataframe thead th {\n",
       "        text-align: right;\n",
       "    }\n",
       "</style>\n",
       "<table border=\"1\" class=\"dataframe\">\n",
       "  <thead>\n",
       "    <tr style=\"text-align: right;\">\n",
       "      <th></th>\n",
       "      <th>LAPTOP NAME</th>\n",
       "      <th>LAPTOP FEATURES</th>\n",
       "      <th>PRICE</th>\n",
       "      <th>PROCESSORS</th>\n",
       "      <th>RAM</th>\n",
       "      <th>OS</th>\n",
       "      <th>INCHES</th>\n",
       "      <th>HDD</th>\n",
       "      <th>SSD</th>\n",
       "      <th>LAPTOP COMPANY</th>\n",
       "      <th>TOUCHSCREEN</th>\n",
       "      <th>PROCESSOR BRAND</th>\n",
       "      <th>PROCESSORS NAME</th>\n",
       "    </tr>\n",
       "  </thead>\n",
       "  <tbody>\n",
       "    <tr>\n",
       "      <th>0</th>\n",
       "      <td>Lenovo IdeaPad Gaming 3i Core i7 11th Gen - (8...</td>\n",
       "      <td>Intel Core i7 Processor (11th Gen), 8 GB DDR4 ...</td>\n",
       "      <td>69990</td>\n",
       "      <td>Intel Core i7 Processor (11th Gen)</td>\n",
       "      <td>8</td>\n",
       "      <td>64 bit Windows 10 Operating System</td>\n",
       "      <td>15.6</td>\n",
       "      <td>0</td>\n",
       "      <td>512</td>\n",
       "      <td>Lenovo</td>\n",
       "      <td>0</td>\n",
       "      <td>Intel</td>\n",
       "      <td>Intel Core i7</td>\n",
       "    </tr>\n",
       "    <tr>\n",
       "      <th>1</th>\n",
       "      <td>Lenovo IdeaPad 3 Core i5 12th Gen - (8 GB/512 ...</td>\n",
       "      <td>Intel Core i5 Processor (12th Gen), 8 GB DDR4 ...</td>\n",
       "      <td>53990</td>\n",
       "      <td>Intel Core i5 Processor (12th Gen)</td>\n",
       "      <td>8</td>\n",
       "      <td>64 bit Windows 11 Operating System</td>\n",
       "      <td>15.6</td>\n",
       "      <td>0</td>\n",
       "      <td>512</td>\n",
       "      <td>Lenovo</td>\n",
       "      <td>0</td>\n",
       "      <td>Intel</td>\n",
       "      <td>Intel Core i5</td>\n",
       "    </tr>\n",
       "    <tr>\n",
       "      <th>2</th>\n",
       "      <td>Lenovo IdeaPad 3 Core i3 10th Gen - (8 GB/256 ...</td>\n",
       "      <td>Intel Core i3 Processor (10th Gen), 8 GB DDR4 ...</td>\n",
       "      <td>30990</td>\n",
       "      <td>Intel Core i3 Processor (10th Gen)</td>\n",
       "      <td>8</td>\n",
       "      <td>Windows 11 Operating System</td>\n",
       "      <td>15.6</td>\n",
       "      <td>0</td>\n",
       "      <td>256</td>\n",
       "      <td>Lenovo</td>\n",
       "      <td>0</td>\n",
       "      <td>Intel</td>\n",
       "      <td>Intel Core i3</td>\n",
       "    </tr>\n",
       "    <tr>\n",
       "      <th>3</th>\n",
       "      <td>Lenovo IdeaPad 1 Ryzen 3 Dual Core 3250U - (8 ...</td>\n",
       "      <td>AMD Ryzen 3 Dual Core Processor, 8 GB DDR4 RAM...</td>\n",
       "      <td>31490</td>\n",
       "      <td>AMD Ryzen 3 Dual Core Processor</td>\n",
       "      <td>8</td>\n",
       "      <td>64 bit Windows 11 Operating System</td>\n",
       "      <td>15.6</td>\n",
       "      <td>0</td>\n",
       "      <td>512</td>\n",
       "      <td>Lenovo</td>\n",
       "      <td>0</td>\n",
       "      <td>AMD</td>\n",
       "      <td>AMD Ryzen 3</td>\n",
       "    </tr>\n",
       "    <tr>\n",
       "      <th>4</th>\n",
       "      <td>ASUS Vivobook 15 Ryzen 7 Quad Core AMD R7-3700...</td>\n",
       "      <td>AMD Ryzen 7 Quad Core Processor, 16 GB DDR4 RA...</td>\n",
       "      <td>44990</td>\n",
       "      <td>AMD Ryzen 7 Quad Core Processor</td>\n",
       "      <td>16</td>\n",
       "      <td>64 bit Windows 11 Operating System</td>\n",
       "      <td>15.6</td>\n",
       "      <td>0</td>\n",
       "      <td>512</td>\n",
       "      <td>ASUS</td>\n",
       "      <td>0</td>\n",
       "      <td>AMD</td>\n",
       "      <td>AMD Ryzen 7</td>\n",
       "    </tr>\n",
       "  </tbody>\n",
       "</table>\n",
       "</div>"
      ],
      "text/plain": [
       "                                         LAPTOP NAME  \\\n",
       "0  Lenovo IdeaPad Gaming 3i Core i7 11th Gen - (8...   \n",
       "1  Lenovo IdeaPad 3 Core i5 12th Gen - (8 GB/512 ...   \n",
       "2  Lenovo IdeaPad 3 Core i3 10th Gen - (8 GB/256 ...   \n",
       "3  Lenovo IdeaPad 1 Ryzen 3 Dual Core 3250U - (8 ...   \n",
       "4  ASUS Vivobook 15 Ryzen 7 Quad Core AMD R7-3700...   \n",
       "\n",
       "                                     LAPTOP FEATURES  PRICE  \\\n",
       "0  Intel Core i7 Processor (11th Gen), 8 GB DDR4 ...  69990   \n",
       "1  Intel Core i5 Processor (12th Gen), 8 GB DDR4 ...  53990   \n",
       "2  Intel Core i3 Processor (10th Gen), 8 GB DDR4 ...  30990   \n",
       "3  AMD Ryzen 3 Dual Core Processor, 8 GB DDR4 RAM...  31490   \n",
       "4  AMD Ryzen 7 Quad Core Processor, 16 GB DDR4 RA...  44990   \n",
       "\n",
       "                           PROCESSORS  RAM  \\\n",
       "0  Intel Core i7 Processor (11th Gen)    8   \n",
       "1  Intel Core i5 Processor (12th Gen)    8   \n",
       "2  Intel Core i3 Processor (10th Gen)    8   \n",
       "3     AMD Ryzen 3 Dual Core Processor    8   \n",
       "4     AMD Ryzen 7 Quad Core Processor   16   \n",
       "\n",
       "                                   OS  INCHES  HDD  SSD LAPTOP COMPANY  \\\n",
       "0  64 bit Windows 10 Operating System    15.6    0  512         Lenovo   \n",
       "1  64 bit Windows 11 Operating System    15.6    0  512         Lenovo   \n",
       "2         Windows 11 Operating System    15.6    0  256         Lenovo   \n",
       "3  64 bit Windows 11 Operating System    15.6    0  512         Lenovo   \n",
       "4  64 bit Windows 11 Operating System    15.6    0  512           ASUS   \n",
       "\n",
       "   TOUCHSCREEN PROCESSOR BRAND PROCESSORS NAME  \n",
       "0            0           Intel   Intel Core i7  \n",
       "1            0           Intel   Intel Core i5  \n",
       "2            0           Intel   Intel Core i3  \n",
       "3            0             AMD     AMD Ryzen 3  \n",
       "4            0             AMD     AMD Ryzen 7  "
      ]
     },
     "execution_count": 81,
     "metadata": {},
     "output_type": "execute_result"
    }
   ],
   "source": [
    "df.head()"
   ]
  },
  {
   "cell_type": "code",
   "execution_count": 82,
   "metadata": {
    "colab": {
     "base_uri": "https://localhost:8080/"
    },
    "id": "YXHWCBoR9ji2",
    "outputId": "2a1b4bb2-b8af-4f78-ab61-668351a29019"
   },
   "outputs": [
    {
     "data": {
      "text/plain": [
       "Intel Core i5             222\n",
       "Intel Core i3             141\n",
       "Intel Core i7              93\n",
       "AMD Ryzen 5                74\n",
       "AMD Ryzen 7                68\n",
       "AMD Ryzen 3                28\n",
       "Other Intel Processors     19\n",
       "AMD Ryzen 9                19\n",
       "Intel Core i9              10\n",
       "Other AMD Processors        9\n",
       "Apple M1 Processor          7\n",
       "Apple M2 Processor          4\n",
       "Apple M1 Pro                1\n",
       "Name: PROCESSORS NAME, dtype: int64"
      ]
     },
     "execution_count": 82,
     "metadata": {},
     "output_type": "execute_result"
    }
   ],
   "source": [
    "df['PROCESSORS NAME'].value_counts()"
   ]
  },
  {
   "cell_type": "code",
   "execution_count": 83,
   "metadata": {
    "colab": {
     "base_uri": "https://localhost:8080/"
    },
    "id": "thbME_Vi-ASi",
    "outputId": "87ff3529-ed2f-451e-ba32-a318e226f8c0"
   },
   "outputs": [
    {
     "data": {
      "text/plain": [
       "64 bit Windows 10 Operating System     309\n",
       "64 bit Windows 11 Operating System     271\n",
       "Windows 11 Operating System             52\n",
       "Windows 10 Operating System             32\n",
       "Mac OS Operating System                 14\n",
       "DOS Operating System                     4\n",
       " 64 bit Windows 10 Operating System      4\n",
       "Linux/Ubuntu Operating System            2\n",
       "64 bit DOS Operating System              2\n",
       "32 bit Windows 11 Operating System       1\n",
       "64 bit Mac OS Operating System           1\n",
       "Chrome Operating System                  1\n",
       "64 bit Windows 8 Operating System        1\n",
       "Linux Operating System                   1\n",
       "Name: OS, dtype: int64"
      ]
     },
     "execution_count": 83,
     "metadata": {},
     "output_type": "execute_result"
    }
   ],
   "source": [
    "df['OS'].value_counts()"
   ]
  },
  {
   "cell_type": "code",
   "execution_count": 84,
   "metadata": {
    "id": "s1SJS9MEAazh"
   },
   "outputs": [],
   "source": [
    "def fetch_os(x):\n",
    "  if 'Windows 10' in x:\n",
    "    return 'Windows 10'\n",
    "  elif 'Windows 11' in x:\n",
    "    return 'Windows 11'\n",
    "  elif 'Windows 8' in x:\n",
    "    return 'Windows 8'\n",
    "  elif 'Mac OS' in x:\n",
    "    return 'Mac OS'\n",
    "  elif 'Linux' in x:\n",
    "    return 'Linux OS'\n",
    "  elif 'DOS' in x:\n",
    "    return 'DOS OS'\n",
    "  else:\n",
    "    return 'Chrome OS'"
   ]
  },
  {
   "cell_type": "code",
   "execution_count": 85,
   "metadata": {
    "id": "B5izv192CcRq"
   },
   "outputs": [],
   "source": [
    "df['OS'] = df['OS'].apply(fetch_os) "
   ]
  },
  {
   "cell_type": "code",
   "execution_count": 86,
   "metadata": {
    "colab": {
     "base_uri": "https://localhost:8080/"
    },
    "id": "XZtkANseDjE9",
    "outputId": "7aad244f-aa90-4bfa-fb33-50dd3928bfdf"
   },
   "outputs": [
    {
     "data": {
      "text/plain": [
       "Windows 10    345\n",
       "Windows 11    324\n",
       "Mac OS         15\n",
       "DOS OS          6\n",
       "Linux OS        3\n",
       "Chrome OS       1\n",
       "Windows 8       1\n",
       "Name: OS, dtype: int64"
      ]
     },
     "execution_count": 86,
     "metadata": {},
     "output_type": "execute_result"
    }
   ],
   "source": [
    "df['OS'].value_counts()"
   ]
  },
  {
   "cell_type": "code",
   "execution_count": 87,
   "metadata": {
    "colab": {
     "base_uri": "https://localhost:8080/",
     "height": 354
    },
    "id": "99bYh5-8DnIc",
    "outputId": "e012f65d-286b-4626-9d7c-7b0266c3ca13"
   },
   "outputs": [
    {
     "data": {
      "text/html": [
       "<div>\n",
       "<style scoped>\n",
       "    .dataframe tbody tr th:only-of-type {\n",
       "        vertical-align: middle;\n",
       "    }\n",
       "\n",
       "    .dataframe tbody tr th {\n",
       "        vertical-align: top;\n",
       "    }\n",
       "\n",
       "    .dataframe thead th {\n",
       "        text-align: right;\n",
       "    }\n",
       "</style>\n",
       "<table border=\"1\" class=\"dataframe\">\n",
       "  <thead>\n",
       "    <tr style=\"text-align: right;\">\n",
       "      <th></th>\n",
       "      <th>LAPTOP NAME</th>\n",
       "      <th>LAPTOP FEATURES</th>\n",
       "      <th>PRICE</th>\n",
       "      <th>PROCESSORS</th>\n",
       "      <th>RAM</th>\n",
       "      <th>OS</th>\n",
       "      <th>INCHES</th>\n",
       "      <th>HDD</th>\n",
       "      <th>SSD</th>\n",
       "      <th>LAPTOP COMPANY</th>\n",
       "      <th>TOUCHSCREEN</th>\n",
       "      <th>PROCESSOR BRAND</th>\n",
       "      <th>PROCESSORS NAME</th>\n",
       "    </tr>\n",
       "  </thead>\n",
       "  <tbody>\n",
       "    <tr>\n",
       "      <th>0</th>\n",
       "      <td>Lenovo IdeaPad Gaming 3i Core i7 11th Gen - (8...</td>\n",
       "      <td>Intel Core i7 Processor (11th Gen), 8 GB DDR4 ...</td>\n",
       "      <td>69990</td>\n",
       "      <td>Intel Core i7 Processor (11th Gen)</td>\n",
       "      <td>8</td>\n",
       "      <td>Windows 10</td>\n",
       "      <td>15.6</td>\n",
       "      <td>0</td>\n",
       "      <td>512</td>\n",
       "      <td>Lenovo</td>\n",
       "      <td>0</td>\n",
       "      <td>Intel</td>\n",
       "      <td>Intel Core i7</td>\n",
       "    </tr>\n",
       "    <tr>\n",
       "      <th>1</th>\n",
       "      <td>Lenovo IdeaPad 3 Core i5 12th Gen - (8 GB/512 ...</td>\n",
       "      <td>Intel Core i5 Processor (12th Gen), 8 GB DDR4 ...</td>\n",
       "      <td>53990</td>\n",
       "      <td>Intel Core i5 Processor (12th Gen)</td>\n",
       "      <td>8</td>\n",
       "      <td>Windows 11</td>\n",
       "      <td>15.6</td>\n",
       "      <td>0</td>\n",
       "      <td>512</td>\n",
       "      <td>Lenovo</td>\n",
       "      <td>0</td>\n",
       "      <td>Intel</td>\n",
       "      <td>Intel Core i5</td>\n",
       "    </tr>\n",
       "    <tr>\n",
       "      <th>2</th>\n",
       "      <td>Lenovo IdeaPad 3 Core i3 10th Gen - (8 GB/256 ...</td>\n",
       "      <td>Intel Core i3 Processor (10th Gen), 8 GB DDR4 ...</td>\n",
       "      <td>30990</td>\n",
       "      <td>Intel Core i3 Processor (10th Gen)</td>\n",
       "      <td>8</td>\n",
       "      <td>Windows 11</td>\n",
       "      <td>15.6</td>\n",
       "      <td>0</td>\n",
       "      <td>256</td>\n",
       "      <td>Lenovo</td>\n",
       "      <td>0</td>\n",
       "      <td>Intel</td>\n",
       "      <td>Intel Core i3</td>\n",
       "    </tr>\n",
       "    <tr>\n",
       "      <th>3</th>\n",
       "      <td>Lenovo IdeaPad 1 Ryzen 3 Dual Core 3250U - (8 ...</td>\n",
       "      <td>AMD Ryzen 3 Dual Core Processor, 8 GB DDR4 RAM...</td>\n",
       "      <td>31490</td>\n",
       "      <td>AMD Ryzen 3 Dual Core Processor</td>\n",
       "      <td>8</td>\n",
       "      <td>Windows 11</td>\n",
       "      <td>15.6</td>\n",
       "      <td>0</td>\n",
       "      <td>512</td>\n",
       "      <td>Lenovo</td>\n",
       "      <td>0</td>\n",
       "      <td>AMD</td>\n",
       "      <td>AMD Ryzen 3</td>\n",
       "    </tr>\n",
       "    <tr>\n",
       "      <th>4</th>\n",
       "      <td>ASUS Vivobook 15 Ryzen 7 Quad Core AMD R7-3700...</td>\n",
       "      <td>AMD Ryzen 7 Quad Core Processor, 16 GB DDR4 RA...</td>\n",
       "      <td>44990</td>\n",
       "      <td>AMD Ryzen 7 Quad Core Processor</td>\n",
       "      <td>16</td>\n",
       "      <td>Windows 11</td>\n",
       "      <td>15.6</td>\n",
       "      <td>0</td>\n",
       "      <td>512</td>\n",
       "      <td>ASUS</td>\n",
       "      <td>0</td>\n",
       "      <td>AMD</td>\n",
       "      <td>AMD Ryzen 7</td>\n",
       "    </tr>\n",
       "  </tbody>\n",
       "</table>\n",
       "</div>"
      ],
      "text/plain": [
       "                                         LAPTOP NAME  \\\n",
       "0  Lenovo IdeaPad Gaming 3i Core i7 11th Gen - (8...   \n",
       "1  Lenovo IdeaPad 3 Core i5 12th Gen - (8 GB/512 ...   \n",
       "2  Lenovo IdeaPad 3 Core i3 10th Gen - (8 GB/256 ...   \n",
       "3  Lenovo IdeaPad 1 Ryzen 3 Dual Core 3250U - (8 ...   \n",
       "4  ASUS Vivobook 15 Ryzen 7 Quad Core AMD R7-3700...   \n",
       "\n",
       "                                     LAPTOP FEATURES  PRICE  \\\n",
       "0  Intel Core i7 Processor (11th Gen), 8 GB DDR4 ...  69990   \n",
       "1  Intel Core i5 Processor (12th Gen), 8 GB DDR4 ...  53990   \n",
       "2  Intel Core i3 Processor (10th Gen), 8 GB DDR4 ...  30990   \n",
       "3  AMD Ryzen 3 Dual Core Processor, 8 GB DDR4 RAM...  31490   \n",
       "4  AMD Ryzen 7 Quad Core Processor, 16 GB DDR4 RA...  44990   \n",
       "\n",
       "                           PROCESSORS  RAM          OS  INCHES  HDD  SSD  \\\n",
       "0  Intel Core i7 Processor (11th Gen)    8  Windows 10    15.6    0  512   \n",
       "1  Intel Core i5 Processor (12th Gen)    8  Windows 11    15.6    0  512   \n",
       "2  Intel Core i3 Processor (10th Gen)    8  Windows 11    15.6    0  256   \n",
       "3     AMD Ryzen 3 Dual Core Processor    8  Windows 11    15.6    0  512   \n",
       "4     AMD Ryzen 7 Quad Core Processor   16  Windows 11    15.6    0  512   \n",
       "\n",
       "  LAPTOP COMPANY  TOUCHSCREEN PROCESSOR BRAND PROCESSORS NAME  \n",
       "0         Lenovo            0           Intel   Intel Core i7  \n",
       "1         Lenovo            0           Intel   Intel Core i5  \n",
       "2         Lenovo            0           Intel   Intel Core i3  \n",
       "3         Lenovo            0             AMD     AMD Ryzen 3  \n",
       "4           ASUS            0             AMD     AMD Ryzen 7  "
      ]
     },
     "execution_count": 87,
     "metadata": {},
     "output_type": "execute_result"
    }
   ],
   "source": [
    "df.head()"
   ]
  },
  {
   "cell_type": "markdown",
   "metadata": {
    "id": "bHgkMUFuFBFT"
   },
   "source": [
    "#GAMING LAPTOP"
   ]
  },
  {
   "cell_type": "code",
   "execution_count": 88,
   "metadata": {
    "id": "Roj0VVNoDsLn"
   },
   "outputs": [],
   "source": [
    "df['GAMING LAPTOP']=df['LAPTOP NAME'].apply(lambda x: 1 if 'Gaming' in x else 0)"
   ]
  },
  {
   "cell_type": "code",
   "execution_count": 89,
   "metadata": {
    "colab": {
     "base_uri": "https://localhost:8080/"
    },
    "id": "O1Bcfr9DFSHJ",
    "outputId": "9b44e0f4-7052-4f5c-d6c9-14764a7839e1"
   },
   "outputs": [
    {
     "data": {
      "text/plain": [
       "0    654\n",
       "1     41\n",
       "Name: GAMING LAPTOP, dtype: int64"
      ]
     },
     "execution_count": 89,
     "metadata": {},
     "output_type": "execute_result"
    }
   ],
   "source": [
    "df['GAMING LAPTOP'].value_counts()"
   ]
  },
  {
   "cell_type": "code",
   "execution_count": 90,
   "metadata": {
    "colab": {
     "base_uri": "https://localhost:8080/",
     "height": 208
    },
    "id": "Ylg8mIF9FXmi",
    "outputId": "01fb0fee-71ea-4700-e484-73c340015525"
   },
   "outputs": [
    {
     "data": {
      "text/html": [
       "<div>\n",
       "<style scoped>\n",
       "    .dataframe tbody tr th:only-of-type {\n",
       "        vertical-align: middle;\n",
       "    }\n",
       "\n",
       "    .dataframe tbody tr th {\n",
       "        vertical-align: top;\n",
       "    }\n",
       "\n",
       "    .dataframe thead th {\n",
       "        text-align: right;\n",
       "    }\n",
       "</style>\n",
       "<table border=\"1\" class=\"dataframe\">\n",
       "  <thead>\n",
       "    <tr style=\"text-align: right;\">\n",
       "      <th></th>\n",
       "      <th>LAPTOP NAME</th>\n",
       "      <th>LAPTOP FEATURES</th>\n",
       "      <th>PRICE</th>\n",
       "      <th>PROCESSORS</th>\n",
       "      <th>RAM</th>\n",
       "      <th>OS</th>\n",
       "      <th>INCHES</th>\n",
       "      <th>HDD</th>\n",
       "      <th>SSD</th>\n",
       "      <th>LAPTOP COMPANY</th>\n",
       "      <th>TOUCHSCREEN</th>\n",
       "      <th>PROCESSOR BRAND</th>\n",
       "      <th>PROCESSORS NAME</th>\n",
       "      <th>GAMING LAPTOP</th>\n",
       "    </tr>\n",
       "  </thead>\n",
       "  <tbody>\n",
       "    <tr>\n",
       "      <th>122</th>\n",
       "      <td>acer Nitro 5 Ryzen 7 Octa Core 5800H - (16 GB/...</td>\n",
       "      <td>AMD Ryzen 7 Octa Core Processor, 16 GB DDR4 RA...</td>\n",
       "      <td>94960</td>\n",
       "      <td>AMD Ryzen 7 Octa Core Processor</td>\n",
       "      <td>16</td>\n",
       "      <td>Windows 10</td>\n",
       "      <td>15.6</td>\n",
       "      <td>1000</td>\n",
       "      <td>256</td>\n",
       "      <td>acer</td>\n",
       "      <td>0</td>\n",
       "      <td>AMD</td>\n",
       "      <td>AMD Ryzen 7</td>\n",
       "      <td>0</td>\n",
       "    </tr>\n",
       "    <tr>\n",
       "      <th>410</th>\n",
       "      <td>acer Travelmate Core i5 11th Gen - (16 GB/1 TB...</td>\n",
       "      <td>Intel Core i5 Processor (11th Gen), 16 GB DDR4...</td>\n",
       "      <td>44990</td>\n",
       "      <td>Intel Core i5 Processor (11th Gen)</td>\n",
       "      <td>16</td>\n",
       "      <td>Windows 10</td>\n",
       "      <td>14.0</td>\n",
       "      <td>1000</td>\n",
       "      <td>256</td>\n",
       "      <td>acer</td>\n",
       "      <td>0</td>\n",
       "      <td>Intel</td>\n",
       "      <td>Intel Core i5</td>\n",
       "      <td>0</td>\n",
       "    </tr>\n",
       "  </tbody>\n",
       "</table>\n",
       "</div>"
      ],
      "text/plain": [
       "                                           LAPTOP NAME  \\\n",
       "122  acer Nitro 5 Ryzen 7 Octa Core 5800H - (16 GB/...   \n",
       "410  acer Travelmate Core i5 11th Gen - (16 GB/1 TB...   \n",
       "\n",
       "                                       LAPTOP FEATURES  PRICE  \\\n",
       "122  AMD Ryzen 7 Octa Core Processor, 16 GB DDR4 RA...  94960   \n",
       "410  Intel Core i5 Processor (11th Gen), 16 GB DDR4...  44990   \n",
       "\n",
       "                             PROCESSORS  RAM          OS  INCHES   HDD  SSD  \\\n",
       "122     AMD Ryzen 7 Octa Core Processor   16  Windows 10    15.6  1000  256   \n",
       "410  Intel Core i5 Processor (11th Gen)   16  Windows 10    14.0  1000  256   \n",
       "\n",
       "    LAPTOP COMPANY  TOUCHSCREEN PROCESSOR BRAND PROCESSORS NAME  GAMING LAPTOP  \n",
       "122           acer            0             AMD     AMD Ryzen 7              0  \n",
       "410           acer            0           Intel   Intel Core i5              0  "
      ]
     },
     "execution_count": 90,
     "metadata": {},
     "output_type": "execute_result"
    }
   ],
   "source": [
    "df.sample(2)"
   ]
  },
  {
   "cell_type": "markdown",
   "metadata": {
    "id": "VYySlvN8qCHe"
   },
   "source": [
    "## GRAPHICS CARD"
   ]
  },
  {
   "cell_type": "code",
   "execution_count": 91,
   "metadata": {
    "id": "8lm9gV4Ep_SD"
   },
   "outputs": [],
   "source": [
    "df['GRAPHICS CARD']=df['LAPTOP NAME'].apply(lambda x:1 if 'Graphics' in x else 0)"
   ]
  },
  {
   "cell_type": "code",
   "execution_count": 92,
   "metadata": {
    "colab": {
     "base_uri": "https://localhost:8080/",
     "height": 389
    },
    "id": "LBhp9J9vp_Oq",
    "outputId": "33b85d29-da28-49aa-9728-dc5e3d5044ab"
   },
   "outputs": [
    {
     "data": {
      "text/html": [
       "<div>\n",
       "<style scoped>\n",
       "    .dataframe tbody tr th:only-of-type {\n",
       "        vertical-align: middle;\n",
       "    }\n",
       "\n",
       "    .dataframe tbody tr th {\n",
       "        vertical-align: top;\n",
       "    }\n",
       "\n",
       "    .dataframe thead th {\n",
       "        text-align: right;\n",
       "    }\n",
       "</style>\n",
       "<table border=\"1\" class=\"dataframe\">\n",
       "  <thead>\n",
       "    <tr style=\"text-align: right;\">\n",
       "      <th></th>\n",
       "      <th>LAPTOP NAME</th>\n",
       "      <th>LAPTOP FEATURES</th>\n",
       "      <th>PRICE</th>\n",
       "      <th>PROCESSORS</th>\n",
       "      <th>RAM</th>\n",
       "      <th>OS</th>\n",
       "      <th>INCHES</th>\n",
       "      <th>HDD</th>\n",
       "      <th>SSD</th>\n",
       "      <th>LAPTOP COMPANY</th>\n",
       "      <th>TOUCHSCREEN</th>\n",
       "      <th>PROCESSOR BRAND</th>\n",
       "      <th>PROCESSORS NAME</th>\n",
       "      <th>GAMING LAPTOP</th>\n",
       "      <th>GRAPHICS CARD</th>\n",
       "    </tr>\n",
       "  </thead>\n",
       "  <tbody>\n",
       "    <tr>\n",
       "      <th>0</th>\n",
       "      <td>Lenovo IdeaPad Gaming 3i Core i7 11th Gen - (8...</td>\n",
       "      <td>Intel Core i7 Processor (11th Gen), 8 GB DDR4 ...</td>\n",
       "      <td>69990</td>\n",
       "      <td>Intel Core i7 Processor (11th Gen)</td>\n",
       "      <td>8</td>\n",
       "      <td>Windows 10</td>\n",
       "      <td>15.6</td>\n",
       "      <td>0</td>\n",
       "      <td>512</td>\n",
       "      <td>Lenovo</td>\n",
       "      <td>0</td>\n",
       "      <td>Intel</td>\n",
       "      <td>Intel Core i7</td>\n",
       "      <td>1</td>\n",
       "      <td>1</td>\n",
       "    </tr>\n",
       "    <tr>\n",
       "      <th>1</th>\n",
       "      <td>Lenovo IdeaPad 3 Core i5 12th Gen - (8 GB/512 ...</td>\n",
       "      <td>Intel Core i5 Processor (12th Gen), 8 GB DDR4 ...</td>\n",
       "      <td>53990</td>\n",
       "      <td>Intel Core i5 Processor (12th Gen)</td>\n",
       "      <td>8</td>\n",
       "      <td>Windows 11</td>\n",
       "      <td>15.6</td>\n",
       "      <td>0</td>\n",
       "      <td>512</td>\n",
       "      <td>Lenovo</td>\n",
       "      <td>0</td>\n",
       "      <td>Intel</td>\n",
       "      <td>Intel Core i5</td>\n",
       "      <td>0</td>\n",
       "      <td>0</td>\n",
       "    </tr>\n",
       "    <tr>\n",
       "      <th>2</th>\n",
       "      <td>Lenovo IdeaPad 3 Core i3 10th Gen - (8 GB/256 ...</td>\n",
       "      <td>Intel Core i3 Processor (10th Gen), 8 GB DDR4 ...</td>\n",
       "      <td>30990</td>\n",
       "      <td>Intel Core i3 Processor (10th Gen)</td>\n",
       "      <td>8</td>\n",
       "      <td>Windows 11</td>\n",
       "      <td>15.6</td>\n",
       "      <td>0</td>\n",
       "      <td>256</td>\n",
       "      <td>Lenovo</td>\n",
       "      <td>0</td>\n",
       "      <td>Intel</td>\n",
       "      <td>Intel Core i3</td>\n",
       "      <td>0</td>\n",
       "      <td>0</td>\n",
       "    </tr>\n",
       "    <tr>\n",
       "      <th>3</th>\n",
       "      <td>Lenovo IdeaPad 1 Ryzen 3 Dual Core 3250U - (8 ...</td>\n",
       "      <td>AMD Ryzen 3 Dual Core Processor, 8 GB DDR4 RAM...</td>\n",
       "      <td>31490</td>\n",
       "      <td>AMD Ryzen 3 Dual Core Processor</td>\n",
       "      <td>8</td>\n",
       "      <td>Windows 11</td>\n",
       "      <td>15.6</td>\n",
       "      <td>0</td>\n",
       "      <td>512</td>\n",
       "      <td>Lenovo</td>\n",
       "      <td>0</td>\n",
       "      <td>AMD</td>\n",
       "      <td>AMD Ryzen 3</td>\n",
       "      <td>0</td>\n",
       "      <td>0</td>\n",
       "    </tr>\n",
       "    <tr>\n",
       "      <th>4</th>\n",
       "      <td>ASUS Vivobook 15 Ryzen 7 Quad Core AMD R7-3700...</td>\n",
       "      <td>AMD Ryzen 7 Quad Core Processor, 16 GB DDR4 RA...</td>\n",
       "      <td>44990</td>\n",
       "      <td>AMD Ryzen 7 Quad Core Processor</td>\n",
       "      <td>16</td>\n",
       "      <td>Windows 11</td>\n",
       "      <td>15.6</td>\n",
       "      <td>0</td>\n",
       "      <td>512</td>\n",
       "      <td>ASUS</td>\n",
       "      <td>0</td>\n",
       "      <td>AMD</td>\n",
       "      <td>AMD Ryzen 7</td>\n",
       "      <td>0</td>\n",
       "      <td>0</td>\n",
       "    </tr>\n",
       "  </tbody>\n",
       "</table>\n",
       "</div>"
      ],
      "text/plain": [
       "                                         LAPTOP NAME  \\\n",
       "0  Lenovo IdeaPad Gaming 3i Core i7 11th Gen - (8...   \n",
       "1  Lenovo IdeaPad 3 Core i5 12th Gen - (8 GB/512 ...   \n",
       "2  Lenovo IdeaPad 3 Core i3 10th Gen - (8 GB/256 ...   \n",
       "3  Lenovo IdeaPad 1 Ryzen 3 Dual Core 3250U - (8 ...   \n",
       "4  ASUS Vivobook 15 Ryzen 7 Quad Core AMD R7-3700...   \n",
       "\n",
       "                                     LAPTOP FEATURES  PRICE  \\\n",
       "0  Intel Core i7 Processor (11th Gen), 8 GB DDR4 ...  69990   \n",
       "1  Intel Core i5 Processor (12th Gen), 8 GB DDR4 ...  53990   \n",
       "2  Intel Core i3 Processor (10th Gen), 8 GB DDR4 ...  30990   \n",
       "3  AMD Ryzen 3 Dual Core Processor, 8 GB DDR4 RAM...  31490   \n",
       "4  AMD Ryzen 7 Quad Core Processor, 16 GB DDR4 RA...  44990   \n",
       "\n",
       "                           PROCESSORS  RAM          OS  INCHES  HDD  SSD  \\\n",
       "0  Intel Core i7 Processor (11th Gen)    8  Windows 10    15.6    0  512   \n",
       "1  Intel Core i5 Processor (12th Gen)    8  Windows 11    15.6    0  512   \n",
       "2  Intel Core i3 Processor (10th Gen)    8  Windows 11    15.6    0  256   \n",
       "3     AMD Ryzen 3 Dual Core Processor    8  Windows 11    15.6    0  512   \n",
       "4     AMD Ryzen 7 Quad Core Processor   16  Windows 11    15.6    0  512   \n",
       "\n",
       "  LAPTOP COMPANY  TOUCHSCREEN PROCESSOR BRAND PROCESSORS NAME  GAMING LAPTOP  \\\n",
       "0         Lenovo            0           Intel   Intel Core i7              1   \n",
       "1         Lenovo            0           Intel   Intel Core i5              0   \n",
       "2         Lenovo            0           Intel   Intel Core i3              0   \n",
       "3         Lenovo            0             AMD     AMD Ryzen 3              0   \n",
       "4           ASUS            0             AMD     AMD Ryzen 7              0   \n",
       "\n",
       "   GRAPHICS CARD  \n",
       "0              1  \n",
       "1              0  \n",
       "2              0  \n",
       "3              0  \n",
       "4              0  "
      ]
     },
     "execution_count": 92,
     "metadata": {},
     "output_type": "execute_result"
    }
   ],
   "source": [
    "df.head()"
   ]
  },
  {
   "cell_type": "code",
   "execution_count": 93,
   "metadata": {
    "colab": {
     "base_uri": "https://localhost:8080/"
    },
    "id": "C9XEOBxBp_MB",
    "outputId": "2d3113c2-c694-45ac-bbd6-f1c1b5bef4cb"
   },
   "outputs": [
    {
     "data": {
      "text/plain": [
       "0    459\n",
       "1    236\n",
       "Name: GRAPHICS CARD, dtype: int64"
      ]
     },
     "execution_count": 93,
     "metadata": {},
     "output_type": "execute_result"
    }
   ],
   "source": [
    "df['GRAPHICS CARD'].value_counts()"
   ]
  },
  {
   "cell_type": "code",
   "execution_count": 94,
   "metadata": {
    "id": "ENmIywJRF5CL"
   },
   "outputs": [],
   "source": [
    "df.drop(columns=['LAPTOP NAME','LAPTOP FEATURES','PROCESSORS'], inplace = True)"
   ]
  },
  {
   "cell_type": "code",
   "execution_count": 95,
   "metadata": {
    "colab": {
     "base_uri": "https://localhost:8080/",
     "height": 206
    },
    "id": "yMImLztZJesU",
    "outputId": "e4a9b5e3-6179-45a0-d85f-0251e80184bd"
   },
   "outputs": [
    {
     "data": {
      "text/html": [
       "<div>\n",
       "<style scoped>\n",
       "    .dataframe tbody tr th:only-of-type {\n",
       "        vertical-align: middle;\n",
       "    }\n",
       "\n",
       "    .dataframe tbody tr th {\n",
       "        vertical-align: top;\n",
       "    }\n",
       "\n",
       "    .dataframe thead th {\n",
       "        text-align: right;\n",
       "    }\n",
       "</style>\n",
       "<table border=\"1\" class=\"dataframe\">\n",
       "  <thead>\n",
       "    <tr style=\"text-align: right;\">\n",
       "      <th></th>\n",
       "      <th>PRICE</th>\n",
       "      <th>RAM</th>\n",
       "      <th>OS</th>\n",
       "      <th>INCHES</th>\n",
       "      <th>HDD</th>\n",
       "      <th>SSD</th>\n",
       "      <th>LAPTOP COMPANY</th>\n",
       "      <th>TOUCHSCREEN</th>\n",
       "      <th>PROCESSOR BRAND</th>\n",
       "      <th>PROCESSORS NAME</th>\n",
       "      <th>GAMING LAPTOP</th>\n",
       "      <th>GRAPHICS CARD</th>\n",
       "    </tr>\n",
       "  </thead>\n",
       "  <tbody>\n",
       "    <tr>\n",
       "      <th>0</th>\n",
       "      <td>69990</td>\n",
       "      <td>8</td>\n",
       "      <td>Windows 10</td>\n",
       "      <td>15.6</td>\n",
       "      <td>0</td>\n",
       "      <td>512</td>\n",
       "      <td>Lenovo</td>\n",
       "      <td>0</td>\n",
       "      <td>Intel</td>\n",
       "      <td>Intel Core i7</td>\n",
       "      <td>1</td>\n",
       "      <td>1</td>\n",
       "    </tr>\n",
       "    <tr>\n",
       "      <th>1</th>\n",
       "      <td>53990</td>\n",
       "      <td>8</td>\n",
       "      <td>Windows 11</td>\n",
       "      <td>15.6</td>\n",
       "      <td>0</td>\n",
       "      <td>512</td>\n",
       "      <td>Lenovo</td>\n",
       "      <td>0</td>\n",
       "      <td>Intel</td>\n",
       "      <td>Intel Core i5</td>\n",
       "      <td>0</td>\n",
       "      <td>0</td>\n",
       "    </tr>\n",
       "    <tr>\n",
       "      <th>2</th>\n",
       "      <td>30990</td>\n",
       "      <td>8</td>\n",
       "      <td>Windows 11</td>\n",
       "      <td>15.6</td>\n",
       "      <td>0</td>\n",
       "      <td>256</td>\n",
       "      <td>Lenovo</td>\n",
       "      <td>0</td>\n",
       "      <td>Intel</td>\n",
       "      <td>Intel Core i3</td>\n",
       "      <td>0</td>\n",
       "      <td>0</td>\n",
       "    </tr>\n",
       "    <tr>\n",
       "      <th>3</th>\n",
       "      <td>31490</td>\n",
       "      <td>8</td>\n",
       "      <td>Windows 11</td>\n",
       "      <td>15.6</td>\n",
       "      <td>0</td>\n",
       "      <td>512</td>\n",
       "      <td>Lenovo</td>\n",
       "      <td>0</td>\n",
       "      <td>AMD</td>\n",
       "      <td>AMD Ryzen 3</td>\n",
       "      <td>0</td>\n",
       "      <td>0</td>\n",
       "    </tr>\n",
       "    <tr>\n",
       "      <th>4</th>\n",
       "      <td>44990</td>\n",
       "      <td>16</td>\n",
       "      <td>Windows 11</td>\n",
       "      <td>15.6</td>\n",
       "      <td>0</td>\n",
       "      <td>512</td>\n",
       "      <td>ASUS</td>\n",
       "      <td>0</td>\n",
       "      <td>AMD</td>\n",
       "      <td>AMD Ryzen 7</td>\n",
       "      <td>0</td>\n",
       "      <td>0</td>\n",
       "    </tr>\n",
       "  </tbody>\n",
       "</table>\n",
       "</div>"
      ],
      "text/plain": [
       "   PRICE  RAM          OS  INCHES  HDD  SSD LAPTOP COMPANY  TOUCHSCREEN  \\\n",
       "0  69990    8  Windows 10    15.6    0  512         Lenovo            0   \n",
       "1  53990    8  Windows 11    15.6    0  512         Lenovo            0   \n",
       "2  30990    8  Windows 11    15.6    0  256         Lenovo            0   \n",
       "3  31490    8  Windows 11    15.6    0  512         Lenovo            0   \n",
       "4  44990   16  Windows 11    15.6    0  512           ASUS            0   \n",
       "\n",
       "  PROCESSOR BRAND PROCESSORS NAME  GAMING LAPTOP  GRAPHICS CARD  \n",
       "0           Intel   Intel Core i7              1              1  \n",
       "1           Intel   Intel Core i5              0              0  \n",
       "2           Intel   Intel Core i3              0              0  \n",
       "3             AMD     AMD Ryzen 3              0              0  \n",
       "4             AMD     AMD Ryzen 7              0              0  "
      ]
     },
     "execution_count": 95,
     "metadata": {},
     "output_type": "execute_result"
    }
   ],
   "source": [
    "df.head()"
   ]
  },
  {
   "cell_type": "code",
   "execution_count": 96,
   "metadata": {
    "colab": {
     "base_uri": "https://localhost:8080/"
    },
    "id": "7BaqUvpKJhqt",
    "outputId": "c3b8c242-f81d-4a6b-9525-1c025b541a96"
   },
   "outputs": [
    {
     "data": {
      "text/plain": [
       "ASUS         212\n",
       "DELL         121\n",
       "HP           114\n",
       "Lenovo       108\n",
       "acer          52\n",
       "MSI           37\n",
       "APPLE         15\n",
       "Infinix        7\n",
       "Avita          7\n",
       "LG             5\n",
       "ALIENWARE      4\n",
       "realme         2\n",
       "RedmiBook      2\n",
       "Nokia          2\n",
       "SAMSUNG        2\n",
       "Vaio           2\n",
       "Mi             1\n",
       "lenovo         1\n",
       "MICROSOFT      1\n",
       "Name: LAPTOP COMPANY, dtype: int64"
      ]
     },
     "execution_count": 96,
     "metadata": {},
     "output_type": "execute_result"
    }
   ],
   "source": [
    "df['LAPTOP COMPANY'].value_counts()"
   ]
  },
  {
   "cell_type": "code",
   "execution_count": 97,
   "metadata": {
    "colab": {
     "base_uri": "https://localhost:8080/"
    },
    "id": "gekQ4RMURq5s",
    "outputId": "b323f744-f430-49d4-a212-1284e541e576"
   },
   "outputs": [
    {
     "data": {
      "text/plain": [
       "3"
      ]
     },
     "execution_count": 97,
     "metadata": {},
     "output_type": "execute_result"
    }
   ],
   "source": [
    "len(df['PROCESSOR BRAND'].unique())"
   ]
  },
  {
   "cell_type": "code",
   "execution_count": 98,
   "metadata": {
    "colab": {
     "base_uri": "https://localhost:8080/"
    },
    "id": "IhKlxgrCR10k",
    "outputId": "f3732f26-521d-4397-8db5-f95531f73445"
   },
   "outputs": [
    {
     "name": "stdout",
     "output_type": "stream",
     "text": [
      "<class 'pandas.core.frame.DataFrame'>\n",
      "Int64Index: 695 entries, 0 to 982\n",
      "Data columns (total 12 columns):\n",
      " #   Column           Non-Null Count  Dtype  \n",
      "---  ------           --------------  -----  \n",
      " 0   PRICE            695 non-null    int64  \n",
      " 1   RAM              695 non-null    int64  \n",
      " 2   OS               695 non-null    object \n",
      " 3   INCHES           695 non-null    float64\n",
      " 4   HDD              695 non-null    int64  \n",
      " 5   SSD              695 non-null    int64  \n",
      " 6   LAPTOP COMPANY   695 non-null    object \n",
      " 7   TOUCHSCREEN      695 non-null    int64  \n",
      " 8   PROCESSOR BRAND  695 non-null    object \n",
      " 9   PROCESSORS NAME  695 non-null    object \n",
      " 10  GAMING LAPTOP    695 non-null    int64  \n",
      " 11  GRAPHICS CARD    695 non-null    int64  \n",
      "dtypes: float64(1), int64(7), object(4)\n",
      "memory usage: 70.6+ KB\n"
     ]
    }
   ],
   "source": [
    "df.info()"
   ]
  },
  {
   "cell_type": "markdown",
   "metadata": {
    "id": "iYYIYGf7RQ6p"
   },
   "source": [
    "# EDA"
   ]
  },
  {
   "cell_type": "code",
   "execution_count": 99,
   "metadata": {
    "colab": {
     "base_uri": "https://localhost:8080/",
     "height": 513
    },
    "id": "4cStCda2RVcI",
    "outputId": "1a1ec88e-566d-495a-afa9-3ee5ad066a74"
   },
   "outputs": [
    {
     "data": {
      "image/png": "[encoded data removed]",
      "text/plain": [
       "<Figure size 720x576 with 1 Axes>"
      ]
     },
     "metadata": {
      "needs_background": "light"
     },
     "output_type": "display_data"
    }
   ],
   "source": [
    "plt.figure(figsize=(10,8))\n",
    "sns.distplot(df['PRICE'])\n",
    "sns.set_style('darkgrid')\n",
    "plt.title('Distribution plot of PRICE')\n",
    "plt.show()"
   ]
  },
  {
   "cell_type": "code",
   "execution_count": 100,
   "metadata": {
    "colab": {
     "base_uri": "https://localhost:8080/",
     "height": 81
    },
    "id": "zReCABYgRVSf",
    "outputId": "95ee151d-026c-4fa0-e4ff-518ea08e07cd"
   },
   "outputs": [
    {
     "data": {
      "text/html": [
       "<div>\n",
       "<style scoped>\n",
       "    .dataframe tbody tr th:only-of-type {\n",
       "        vertical-align: middle;\n",
       "    }\n",
       "\n",
       "    .dataframe tbody tr th {\n",
       "        vertical-align: top;\n",
       "    }\n",
       "\n",
       "    .dataframe thead th {\n",
       "        text-align: right;\n",
       "    }\n",
       "</style>\n",
       "<table border=\"1\" class=\"dataframe\">\n",
       "  <thead>\n",
       "    <tr style=\"text-align: right;\">\n",
       "      <th></th>\n",
       "      <th>PRICE</th>\n",
       "      <th>RAM</th>\n",
       "      <th>OS</th>\n",
       "      <th>INCHES</th>\n",
       "      <th>HDD</th>\n",
       "      <th>SSD</th>\n",
       "      <th>LAPTOP COMPANY</th>\n",
       "      <th>TOUCHSCREEN</th>\n",
       "      <th>PROCESSOR BRAND</th>\n",
       "      <th>PROCESSORS NAME</th>\n",
       "      <th>GAMING LAPTOP</th>\n",
       "      <th>GRAPHICS CARD</th>\n",
       "    </tr>\n",
       "  </thead>\n",
       "  <tbody>\n",
       "    <tr>\n",
       "      <th>0</th>\n",
       "      <td>69990</td>\n",
       "      <td>8</td>\n",
       "      <td>Windows 10</td>\n",
       "      <td>15.6</td>\n",
       "      <td>0</td>\n",
       "      <td>512</td>\n",
       "      <td>Lenovo</td>\n",
       "      <td>0</td>\n",
       "      <td>Intel</td>\n",
       "      <td>Intel Core i7</td>\n",
       "      <td>1</td>\n",
       "      <td>1</td>\n",
       "    </tr>\n",
       "  </tbody>\n",
       "</table>\n",
       "</div>"
      ],
      "text/plain": [
       "   PRICE  RAM          OS  INCHES  HDD  SSD LAPTOP COMPANY  TOUCHSCREEN  \\\n",
       "0  69990    8  Windows 10    15.6    0  512         Lenovo            0   \n",
       "\n",
       "  PROCESSOR BRAND PROCESSORS NAME  GAMING LAPTOP  GRAPHICS CARD  \n",
       "0           Intel   Intel Core i7              1              1  "
      ]
     },
     "execution_count": 100,
     "metadata": {},
     "output_type": "execute_result"
    }
   ],
   "source": [
    "df.head(1)"
   ]
  },
  {
   "cell_type": "code",
   "execution_count": 101,
   "metadata": {
    "colab": {
     "base_uri": "https://localhost:8080/",
     "height": 513
    },
    "id": "8KCtddfZRUCg",
    "outputId": "c84cb734-8997-4e85-bbb0-3f163e4b83f8"
   },
   "outputs": [
    {
     "data": {
      "image/png": "[encoded data removed]",
      "text/plain": [
       "<Figure size 720x576 with 1 Axes>"
      ]
     },
     "metadata": {},
     "output_type": "display_data"
    }
   ],
   "source": [
    "plt.figure(figsize=(10,8))\n",
    "sns.distplot(df['INCHES'])\n",
    "plt.title('Distribution Plot of INCHES')\n",
    "plt.show()\n"
   ]
  },
  {
   "cell_type": "code",
   "execution_count": 102,
   "metadata": {
    "colab": {
     "base_uri": "https://localhost:8080/",
     "height": 547
    },
    "id": "gNeZbq07RUq7",
    "outputId": "babf5621-82dd-4241-e536-848c3133e5ed"
   },
   "outputs": [
    {
     "data": {
      "image/png": "[encoded data removed]",
      "text/plain": [
       "<Figure size 720x576 with 1 Axes>"
      ]
     },
     "metadata": {},
     "output_type": "display_data"
    }
   ],
   "source": [
    "plt.figure(figsize=(10,8))\n",
    "df['LAPTOP COMPANY'].value_counts().plot(kind='bar')\n",
    "plt.title('Bar Chart of LAPTOP COMPANY')\n",
    "plt.show()"
   ]
  },
  {
   "cell_type": "code",
   "execution_count": 103,
   "metadata": {
    "colab": {
     "base_uri": "https://localhost:8080/",
     "height": 617
    },
    "id": "_Cw3Q06cRUna",
    "outputId": "715f44ee-db1c-45cf-fc1a-e422919fa551"
   },
   "outputs": [
    {
     "data": {
      "text/plain": [
       "Text(0.5, 1.0, 'Bar Chart of PROCESSOR NAME')"
      ]
     },
     "execution_count": 103,
     "metadata": {},
     "output_type": "execute_result"
    },
    {
     "data": {
      "image/png": "[encoded data removed]",
      "text/plain": [
       "<Figure size 720x576 with 1 Axes>"
      ]
     },
     "metadata": {},
     "output_type": "display_data"
    }
   ],
   "source": [
    "plt.figure(figsize=(10,8))\n",
    "df['PROCESSORS NAME'].value_counts().plot(kind='bar')\n",
    "plt.title('Bar Chart of PROCESSOR NAME')"
   ]
  },
  {
   "cell_type": "code",
   "execution_count": 104,
   "metadata": {
    "colab": {
     "base_uri": "https://localhost:8080/",
     "height": 549
    },
    "id": "5hBc6m7-RUjh",
    "outputId": "2341617a-7dd5-4740-b135-4e702f1b462b"
   },
   "outputs": [
    {
     "data": {
      "image/png": "[encoded data removed]",
      "text/plain": [
       "<Figure size 720x576 with 1 Axes>"
      ]
     },
     "metadata": {},
     "output_type": "display_data"
    }
   ],
   "source": [
    "plt.figure(figsize=(10,8))\n",
    "plt.title('Bar Chart of Operating System')\n",
    "df['OS'].value_counts().plot(kind='bar');"
   ]
  },
  {
   "cell_type": "code",
   "execution_count": 105,
   "metadata": {
    "colab": {
     "base_uri": "https://localhost:8080/",
     "height": 502
    },
    "id": "CmvSAp88RUeE",
    "outputId": "da0f3920-c3d4-49cb-c23c-55ade8415de3"
   },
   "outputs": [
    {
     "data": {
      "image/png": "[encoded data removed]",
      "text/plain": [
       "<Figure size 720x576 with 1 Axes>"
      ]
     },
     "metadata": {},
     "output_type": "display_data"
    }
   ],
   "source": [
    "plt.figure(figsize=(10,8))\n",
    "plt.title('Bar Chart of RAM')\n",
    "df['RAM'].value_counts().plot(kind='bar');"
   ]
  },
  {
   "cell_type": "code",
   "execution_count": 106,
   "metadata": {
    "colab": {
     "base_uri": "https://localhost:8080/",
     "height": 517
    },
    "id": "ZSNrkYJzRUN2",
    "outputId": "c201abf6-c955-44ca-f4d1-5bca3cc3254d"
   },
   "outputs": [
    {
     "data": {
      "image/png": "[encoded data removed]",
      "text/plain": [
       "<Figure size 720x576 with 1 Axes>"
      ]
     },
     "metadata": {},
     "output_type": "display_data"
    }
   ],
   "source": [
    "plt.figure(figsize=(10,8))\n",
    "plt.title('Bar Chart of PROCESSOR BRAND')\n",
    "df['PROCESSOR BRAND'].value_counts().plot(kind='bar');"
   ]
  },
  {
   "cell_type": "code",
   "execution_count": 107,
   "metadata": {
    "colab": {
     "base_uri": "https://localhost:8080/",
     "height": 495
    },
    "id": "OW12SKgyk4nh",
    "outputId": "a96977ca-9e72-4a41-c374-82f410733bde"
   },
   "outputs": [
    {
     "data": {
      "image/png": "[encoded data removed]",
      "text/plain": [
       "<Figure size 720x576 with 1 Axes>"
      ]
     },
     "metadata": {},
     "output_type": "display_data"
    }
   ],
   "source": [
    "plt.figure(figsize=(10,8))\n",
    "plt.title('Bar Chart of TOUCHSCREEN')\n",
    "df['TOUCHSCREEN'].value_counts().plot(kind='bar')\n",
    "plt.show()                     "
   ]
  },
  {
   "cell_type": "code",
   "execution_count": 108,
   "metadata": {
    "colab": {
     "base_uri": "https://localhost:8080/",
     "height": 561
    },
    "id": "AaFmN-gtRULI",
    "outputId": "a424043d-786a-4366-e5bf-da9d032b87d6"
   },
   "outputs": [
    {
     "data": {
      "image/png": "[encoded data removed]",
      "text/plain": [
       "<Figure size 720x576 with 1 Axes>"
      ]
     },
     "metadata": {},
     "output_type": "display_data"
    }
   ],
   "source": [
    "plt.figure(figsize=(10,8))\n",
    "sns.barplot(x=df['LAPTOP COMPANY'],y=df['PRICE'])\n",
    "plt.title('Variation in \"PRICE\" with respect to \"Companies\"')\n",
    "plt.xticks(rotation='vertical')\n",
    "plt.show()"
   ]
  },
  {
   "cell_type": "code",
   "execution_count": 109,
   "metadata": {
    "colab": {
     "base_uri": "https://localhost:8080/",
     "height": 509
    },
    "id": "NI1BZ65tlbH-",
    "outputId": "4b912aaf-0d75-4114-8b2c-47d61461e80d"
   },
   "outputs": [
    {
     "data": {
      "image/png": "[encoded data removed]",
      "text/plain": [
       "<Figure size 576x576 with 1 Axes>"
      ]
     },
     "metadata": {},
     "output_type": "display_data"
    }
   ],
   "source": [
    "plt.figure(figsize=(8,8))\n",
    "sns.barplot(x=df['TOUCHSCREEN'],y=df['PRICE'])\n",
    "plt.title('Variation in \"PRICE\" with respect to \"TOUCHSCREEN\"')\n",
    "plt.xticks(rotation='vertical')\n",
    "plt.show()"
   ]
  },
  {
   "cell_type": "code",
   "execution_count": 110,
   "metadata": {
    "colab": {
     "base_uri": "https://localhost:8080/",
     "height": 531
    },
    "id": "e57PQBKTlzpR",
    "outputId": "c4c2aedf-bd9f-431a-a1b7-406dc9f0e5d7"
   },
   "outputs": [
    {
     "data": {
      "image/png": "[encoded data removed]",
      "text/plain": [
       "<Figure size 720x576 with 1 Axes>"
      ]
     },
     "metadata": {},
     "output_type": "display_data"
    }
   ],
   "source": [
    "plt.figure(figsize=(10,8))\n",
    "sns.barplot(x=df['PROCESSOR BRAND'],y=df['PRICE'])\n",
    "plt.title('Variation in \"PRICE\" with respect to \"PROCESSOR BRAND\"')\n",
    "plt.xticks(rotation='vertical')\n",
    "plt.show()"
   ]
  },
  {
   "cell_type": "code",
   "execution_count": 111,
   "metadata": {
    "colab": {
     "base_uri": "https://localhost:8080/",
     "height": 614
    },
    "id": "6vBIRAAtmDLE",
    "outputId": "58984b1b-a883-45a1-c5fa-b9ff0c15af14"
   },
   "outputs": [
    {
     "data": {
      "image/png": "[encoded data removed]",
      "text/plain": [
       "<Figure size 1008x576 with 1 Axes>"
      ]
     },
     "metadata": {},
     "output_type": "display_data"
    }
   ],
   "source": [
    "plt.figure(figsize=(14,8))\n",
    "sns.barplot(x=df['PROCESSORS NAME'],y=df['PRICE'])\n",
    "plt.title('Variation in \"PRICE\" with respect to \"PROCESSORS NAME\"')\n",
    "plt.xticks(rotation='vertical')\n",
    "plt.show()"
   ]
  },
  {
   "cell_type": "code",
   "execution_count": 112,
   "metadata": {
    "colab": {
     "base_uri": "https://localhost:8080/",
     "height": 563
    },
    "id": "iHirDJaDmZRi",
    "outputId": "5710ed36-6ef2-438e-e304-43de212a9a18"
   },
   "outputs": [
    {
     "data": {
      "image/png": "[encoded data removed]",
      "text/plain": [
       "<Figure size 720x576 with 1 Axes>"
      ]
     },
     "metadata": {},
     "output_type": "display_data"
    }
   ],
   "source": [
    "plt.figure(figsize=(10,8))\n",
    "sns.barplot(x=df['OS'],y=df['PRICE'])\n",
    "plt.title('Variation in \"PRICE\" with respect to \"OS\"')\n",
    "plt.xticks(rotation='vertical')\n",
    "plt.show()"
   ]
  },
  {
   "cell_type": "code",
   "execution_count": 113,
   "metadata": {
    "colab": {
     "base_uri": "https://localhost:8080/",
     "height": 516
    },
    "id": "mF9FynnBmhwv",
    "outputId": "cbaadc24-2431-48f9-e9b1-0665e093efb2"
   },
   "outputs": [
    {
     "data": {
      "image/png": "[encoded data removed]",
      "text/plain": [
       "<Figure size 720x576 with 1 Axes>"
      ]
     },
     "metadata": {},
     "output_type": "display_data"
    }
   ],
   "source": [
    "plt.figure(figsize=(10,8))\n",
    "sns.barplot(x=df['RAM'],y=df['PRICE'])\n",
    "plt.title('Variation in \"PRICE\" with respect to \"RAM\"')\n",
    "plt.xticks(rotation='vertical')\n",
    "plt.show()"
   ]
  },
  {
   "cell_type": "code",
   "execution_count": 114,
   "metadata": {
    "colab": {
     "base_uri": "https://localhost:8080/",
     "height": 300
    },
    "id": "7_16srHkRUIa",
    "outputId": "4025be40-fd36-4461-b3b5-c7f47e56e1f0"
   },
   "outputs": [
    {
     "data": {
      "text/html": [
       "<div>\n",
       "<style scoped>\n",
       "    .dataframe tbody tr th:only-of-type {\n",
       "        vertical-align: middle;\n",
       "    }\n",
       "\n",
       "    .dataframe tbody tr th {\n",
       "        vertical-align: top;\n",
       "    }\n",
       "\n",
       "    .dataframe thead th {\n",
       "        text-align: right;\n",
       "    }\n",
       "</style>\n",
       "<table border=\"1\" class=\"dataframe\">\n",
       "  <thead>\n",
       "    <tr style=\"text-align: right;\">\n",
       "      <th></th>\n",
       "      <th>PRICE</th>\n",
       "      <th>RAM</th>\n",
       "      <th>INCHES</th>\n",
       "      <th>HDD</th>\n",
       "      <th>SSD</th>\n",
       "      <th>TOUCHSCREEN</th>\n",
       "      <th>GAMING LAPTOP</th>\n",
       "      <th>GRAPHICS CARD</th>\n",
       "    </tr>\n",
       "  </thead>\n",
       "  <tbody>\n",
       "    <tr>\n",
       "      <th>PRICE</th>\n",
       "      <td>1.000000</td>\n",
       "      <td>0.730846</td>\n",
       "      <td>-0.013785</td>\n",
       "      <td>-0.185235</td>\n",
       "      <td>0.733958</td>\n",
       "      <td>0.225446</td>\n",
       "      <td>-0.006469</td>\n",
       "      <td>0.436180</td>\n",
       "    </tr>\n",
       "    <tr>\n",
       "      <th>RAM</th>\n",
       "      <td>0.730846</td>\n",
       "      <td>1.000000</td>\n",
       "      <td>-0.016991</td>\n",
       "      <td>-0.194173</td>\n",
       "      <td>0.632454</td>\n",
       "      <td>0.224534</td>\n",
       "      <td>0.008104</td>\n",
       "      <td>0.396539</td>\n",
       "    </tr>\n",
       "    <tr>\n",
       "      <th>INCHES</th>\n",
       "      <td>-0.013785</td>\n",
       "      <td>-0.016991</td>\n",
       "      <td>1.000000</td>\n",
       "      <td>0.176135</td>\n",
       "      <td>0.023568</td>\n",
       "      <td>-0.341988</td>\n",
       "      <td>0.223239</td>\n",
       "      <td>0.296046</td>\n",
       "    </tr>\n",
       "    <tr>\n",
       "      <th>HDD</th>\n",
       "      <td>-0.185235</td>\n",
       "      <td>-0.194173</td>\n",
       "      <td>0.176135</td>\n",
       "      <td>1.000000</td>\n",
       "      <td>-0.485412</td>\n",
       "      <td>-0.155381</td>\n",
       "      <td>0.021218</td>\n",
       "      <td>0.027959</td>\n",
       "    </tr>\n",
       "    <tr>\n",
       "      <th>SSD</th>\n",
       "      <td>0.733958</td>\n",
       "      <td>0.632454</td>\n",
       "      <td>0.023568</td>\n",
       "      <td>-0.485412</td>\n",
       "      <td>1.000000</td>\n",
       "      <td>0.142257</td>\n",
       "      <td>0.024977</td>\n",
       "      <td>0.356280</td>\n",
       "    </tr>\n",
       "    <tr>\n",
       "      <th>TOUCHSCREEN</th>\n",
       "      <td>0.225446</td>\n",
       "      <td>0.224534</td>\n",
       "      <td>-0.341988</td>\n",
       "      <td>-0.155381</td>\n",
       "      <td>0.142257</td>\n",
       "      <td>1.000000</td>\n",
       "      <td>-0.096571</td>\n",
       "      <td>-0.131771</td>\n",
       "    </tr>\n",
       "    <tr>\n",
       "      <th>GAMING LAPTOP</th>\n",
       "      <td>-0.006469</td>\n",
       "      <td>0.008104</td>\n",
       "      <td>0.223239</td>\n",
       "      <td>0.021218</td>\n",
       "      <td>0.024977</td>\n",
       "      <td>-0.096571</td>\n",
       "      <td>1.000000</td>\n",
       "      <td>0.349183</td>\n",
       "    </tr>\n",
       "    <tr>\n",
       "      <th>GRAPHICS CARD</th>\n",
       "      <td>0.436180</td>\n",
       "      <td>0.396539</td>\n",
       "      <td>0.296046</td>\n",
       "      <td>0.027959</td>\n",
       "      <td>0.356280</td>\n",
       "      <td>-0.131771</td>\n",
       "      <td>0.349183</td>\n",
       "      <td>1.000000</td>\n",
       "    </tr>\n",
       "  </tbody>\n",
       "</table>\n",
       "</div>"
      ],
      "text/plain": [
       "                  PRICE       RAM    INCHES       HDD       SSD  TOUCHSCREEN  \\\n",
       "PRICE          1.000000  0.730846 -0.013785 -0.185235  0.733958     0.225446   \n",
       "RAM            0.730846  1.000000 -0.016991 -0.194173  0.632454     0.224534   \n",
       "INCHES        -0.013785 -0.016991  1.000000  0.176135  0.023568    -0.341988   \n",
       "HDD           -0.185235 -0.194173  0.176135  1.000000 -0.485412    -0.155381   \n",
       "SSD            0.733958  0.632454  0.023568 -0.485412  1.000000     0.142257   \n",
       "TOUCHSCREEN    0.225446  0.224534 -0.341988 -0.155381  0.142257     1.000000   \n",
       "GAMING LAPTOP -0.006469  0.008104  0.223239  0.021218  0.024977    -0.096571   \n",
       "GRAPHICS CARD  0.436180  0.396539  0.296046  0.027959  0.356280    -0.131771   \n",
       "\n",
       "               GAMING LAPTOP  GRAPHICS CARD  \n",
       "PRICE              -0.006469       0.436180  \n",
       "RAM                 0.008104       0.396539  \n",
       "INCHES              0.223239       0.296046  \n",
       "HDD                 0.021218       0.027959  \n",
       "SSD                 0.024977       0.356280  \n",
       "TOUCHSCREEN        -0.096571      -0.131771  \n",
       "GAMING LAPTOP       1.000000       0.349183  \n",
       "GRAPHICS CARD       0.349183       1.000000  "
      ]
     },
     "execution_count": 114,
     "metadata": {},
     "output_type": "execute_result"
    }
   ],
   "source": [
    "corr_matrix=df.corr()\n",
    "corr_matrix"
   ]
  },
  {
   "cell_type": "code",
   "execution_count": 115,
   "metadata": {
    "colab": {
     "base_uri": "https://localhost:8080/",
     "height": 668
    },
    "id": "s9PKE4rSRUFM",
    "outputId": "a7ca3381-3391-4f72-f8e0-3203622c8e31"
   },
   "outputs": [
    {
     "data": {
      "image/png": "[encoded data removed]",
      "text/plain": [
       "<Figure size 720x720 with 2 Axes>"
      ]
     },
     "metadata": {},
     "output_type": "display_data"
    }
   ],
   "source": [
    "plt.figure(figsize=(10,10))\n",
    "sns.heatmap(corr_matrix,annot=True,cmap='coolwarm');"
   ]
  },
  {
   "cell_type": "code",
   "execution_count": 116,
   "metadata": {
    "colab": {
     "base_uri": "https://localhost:8080/",
     "height": 513
    },
    "id": "U5ydKAnmRT_-",
    "outputId": "b738b0ca-b36e-48ca-cb96-c536ea3f7338"
   },
   "outputs": [
    {
     "data": {
      "image/png": "[encoded data removed]",
      "text/plain": [
       "<Figure size 1080x576 with 1 Axes>"
      ]
     },
     "metadata": {},
     "output_type": "display_data"
    }
   ],
   "source": [
    "plt.figure(figsize=(15,8))\n",
    "plt.title('Scatterplot of \"INCHES\" Vs \"PRICE\"')\n",
    "sns.scatterplot(x=df['INCHES'],y=df['PRICE']);"
   ]
  },
  {
   "cell_type": "code",
   "execution_count": 117,
   "metadata": {
    "colab": {
     "base_uri": "https://localhost:8080/",
     "height": 513
    },
    "id": "dQe9tp35RT9K",
    "outputId": "29bd3d3c-66eb-4df0-cb41-56db7757f951"
   },
   "outputs": [
    {
     "data": {
      "image/png": "[encoded data removed]",
      "text/plain": [
       "<Figure size 720x576 with 1 Axes>"
      ]
     },
     "metadata": {},
     "output_type": "display_data"
    }
   ],
   "source": [
    "plt.figure(figsize=(10,8))\n",
    "plt.title('Boxplot of INCHES')\n",
    "sns.boxplot(df['INCHES']);"
   ]
  },
  {
   "cell_type": "code",
   "execution_count": 118,
   "metadata": {
    "id": "h_a3fU92YqAo"
   },
   "outputs": [],
   "source": [
    "#droppig Outlier\n",
    "df.drop(df[df['INCHES'] == 35].index, inplace = True)"
   ]
  },
  {
   "cell_type": "code",
   "execution_count": 119,
   "metadata": {
    "colab": {
     "base_uri": "https://localhost:8080/"
    },
    "id": "Oal4ATk6X2U9",
    "outputId": "f9bff2f7-5e0f-49bd-8d69-3ad460ee3798"
   },
   "outputs": [
    {
     "data": {
      "text/plain": [
       "15.600    369\n",
       "14.000    200\n",
       "13.300     38\n",
       "16.000     13\n",
       "17.300     13\n",
       "13.400     11\n",
       "14.960      9\n",
       "14.100      8\n",
       "16.100      8\n",
       "15.000      5\n",
       "13.000      4\n",
       "11.600      4\n",
       "13.500      4\n",
       "13.600      3\n",
       "16.600      1\n",
       "15.748      1\n",
       "14.200      1\n",
       "15.300      1\n",
       "14.220      1\n",
       "Name: INCHES, dtype: int64"
      ]
     },
     "execution_count": 119,
     "metadata": {},
     "output_type": "execute_result"
    }
   ],
   "source": [
    "df['INCHES'].value_counts()"
   ]
  },
  {
   "cell_type": "code",
   "execution_count": 120,
   "metadata": {
    "colab": {
     "base_uri": "https://localhost:8080/",
     "height": 513
    },
    "id": "5CVOhWwCRT5O",
    "outputId": "bb9382b1-8515-4dd2-c08b-3afa867533e5"
   },
   "outputs": [
    {
     "data": {
      "image/png": "[encoded data removed]",
      "text/plain": [
       "<Figure size 720x576 with 1 Axes>"
      ]
     },
     "metadata": {},
     "output_type": "display_data"
    }
   ],
   "source": [
    "plt.figure(figsize=(10,8))\n",
    "plt.title('Boxplot of RAM')\n",
    "sns.boxplot(df['RAM']);"
   ]
  },
  {
   "cell_type": "code",
   "execution_count": 121,
   "metadata": {
    "colab": {
     "base_uri": "https://localhost:8080/"
    },
    "id": "VXMLUroxaw1r",
    "outputId": "d57e4cbe-38ed-4fe5-8ca7-b814aa7391a5"
   },
   "outputs": [
    {
     "data": {
      "text/plain": [
       "8     405\n",
       "16    228\n",
       "4      44\n",
       "32     17\n",
       "Name: RAM, dtype: int64"
      ]
     },
     "execution_count": 121,
     "metadata": {},
     "output_type": "execute_result"
    }
   ],
   "source": [
    "df['RAM'].value_counts()"
   ]
  },
  {
   "cell_type": "code",
   "execution_count": 122,
   "metadata": {
    "colab": {
     "base_uri": "https://localhost:8080/",
     "height": 513
    },
    "id": "isJ9sNwioW6l",
    "outputId": "c95dabaf-2ece-49c2-9750-bcdab7d28bc0"
   },
   "outputs": [
    {
     "data": {
      "image/png": "[encoded data removed]",
      "text/plain": [
       "<Figure size 720x576 with 1 Axes>"
      ]
     },
     "metadata": {},
     "output_type": "display_data"
    }
   ],
   "source": [
    "#Distribution of PRICE is positively skewed.\n",
    "plt.figure(figsize=(10,8))\n",
    "sns.distplot(df['PRICE'])\n",
    "sns.set_style('darkgrid')\n",
    "plt.title('Distribution plot of PRICE')\n",
    "plt.show() "
   ]
  },
  {
   "cell_type": "code",
   "execution_count": 123,
   "metadata": {
    "colab": {
     "base_uri": "https://localhost:8080/",
     "height": 513
    },
    "id": "MWlbjY19km2K",
    "outputId": "1ebb49c0-ef80-4dde-d5a5-b27736120199"
   },
   "outputs": [
    {
     "data": {
      "image/png": "[encoded data removed]",
      "text/plain": [
       "<Figure size 720x576 with 1 Axes>"
      ]
     },
     "metadata": {},
     "output_type": "display_data"
    }
   ],
   "source": [
    "#After 'log transformation' the distribution of 'PRICE'.\n",
    "plt.figure(figsize=(10,8))\n",
    "sns.distplot(np.log(df['PRICE']))\n",
    "plt.title('Distribution Plot of \"log(PRICE)\"')\n",
    "plt.show()"
   ]
  },
  {
   "cell_type": "code",
   "execution_count": null,
   "metadata": {
    "id": "oGOIMRTJkmyg"
   },
   "outputs": [],
   "source": []
  },
  {
   "cell_type": "code",
   "execution_count": null,
   "metadata": {
    "id": "M1Q-PT-YkmvY"
   },
   "outputs": [],
   "source": []
  },
  {
   "cell_type": "code",
   "execution_count": 124,
   "metadata": {
    "id": "eRrTJViFkmsX"
   },
   "outputs": [
    {
     "data": {
      "text/plain": [
       "ASUS         212\n",
       "DELL         120\n",
       "HP           114\n",
       "Lenovo       108\n",
       "acer          52\n",
       "MSI           37\n",
       "APPLE         15\n",
       "Infinix        7\n",
       "Avita          7\n",
       "LG             5\n",
       "ALIENWARE      4\n",
       "realme         2\n",
       "RedmiBook      2\n",
       "Nokia          2\n",
       "SAMSUNG        2\n",
       "Vaio           2\n",
       "Mi             1\n",
       "lenovo         1\n",
       "MICROSOFT      1\n",
       "Name: LAPTOP COMPANY, dtype: int64"
      ]
     },
     "execution_count": 124,
     "metadata": {},
     "output_type": "execute_result"
    }
   ],
   "source": [
    "df['LAPTOP COMPANY'].value_counts()"
   ]
  },
  {
   "cell_type": "markdown",
   "metadata": {
    "id": "W6AhxvPqTwtk"
   },
   "source": [
    "# DUMMY COLUMNS"
   ]
  },
  {
   "cell_type": "code",
   "execution_count": 125,
   "metadata": {
    "colab": {
     "base_uri": "https://localhost:8080/",
     "height": 424
    },
    "id": "9IDuq15TTTXU",
    "outputId": "3f69c893-1ba6-4a22-9f81-5d554cb07ec6"
   },
   "outputs": [],
   "source": [
    "# dummies_laptop_company= pd.get_dummies(df['LAPTOP COMPANY'])\n",
    "# dummies_laptop_company"
   ]
  },
  {
   "cell_type": "code",
   "execution_count": 126,
   "metadata": {
    "id": "tfQNFf3zT9Um"
   },
   "outputs": [],
   "source": [
    "#dummies_laptop_company.drop(columns=['SAMSUNG'],inplace=True)\n"
   ]
  },
  {
   "cell_type": "code",
   "execution_count": 127,
   "metadata": {
    "colab": {
     "base_uri": "https://localhost:8080/"
    },
    "id": "3JZb9DmCUoWP",
    "outputId": "2d7bb14e-b506-4f75-a581-b53c22e8d1b4"
   },
   "outputs": [],
   "source": [
    "#dummies_laptop_company.shape"
   ]
  },
  {
   "cell_type": "code",
   "execution_count": 128,
   "metadata": {
    "id": "vWHufhEvU5FP"
   },
   "outputs": [
    {
     "data": {
      "text/plain": [
       "['ASUS', 'DELL', 'HP', 'Lenovo', 'acer', 'MSI', 'APPLE']"
      ]
     },
     "execution_count": 128,
     "metadata": {},
     "output_type": "execute_result"
    }
   ],
   "source": [
    "#make a list of most frequent categories of country\n",
    "top_7=[x for x in df['LAPTOP COMPANY'].value_counts().sort_values(ascending=False).head(7).index]\n",
    "top_7"
   ]
  },
  {
   "cell_type": "code",
   "execution_count": 129,
   "metadata": {},
   "outputs": [
    {
     "data": {
      "text/html": [
       "<div>\n",
       "<style scoped>\n",
       "    .dataframe tbody tr th:only-of-type {\n",
       "        vertical-align: middle;\n",
       "    }\n",
       "\n",
       "    .dataframe tbody tr th {\n",
       "        vertical-align: top;\n",
       "    }\n",
       "\n",
       "    .dataframe thead th {\n",
       "        text-align: right;\n",
       "    }\n",
       "</style>\n",
       "<table border=\"1\" class=\"dataframe\">\n",
       "  <thead>\n",
       "    <tr style=\"text-align: right;\">\n",
       "      <th></th>\n",
       "      <th>PRICE</th>\n",
       "      <th>RAM</th>\n",
       "      <th>OS</th>\n",
       "      <th>INCHES</th>\n",
       "      <th>HDD</th>\n",
       "      <th>SSD</th>\n",
       "      <th>LAPTOP COMPANY</th>\n",
       "      <th>TOUCHSCREEN</th>\n",
       "      <th>PROCESSOR BRAND</th>\n",
       "      <th>PROCESSORS NAME</th>\n",
       "      <th>GAMING LAPTOP</th>\n",
       "      <th>GRAPHICS CARD</th>\n",
       "      <th>ASUS</th>\n",
       "      <th>DELL</th>\n",
       "      <th>HP</th>\n",
       "      <th>Lenovo</th>\n",
       "      <th>acer</th>\n",
       "      <th>MSI</th>\n",
       "      <th>APPLE</th>\n",
       "    </tr>\n",
       "  </thead>\n",
       "  <tbody>\n",
       "    <tr>\n",
       "      <th>0</th>\n",
       "      <td>69990</td>\n",
       "      <td>8</td>\n",
       "      <td>Windows 10</td>\n",
       "      <td>15.60</td>\n",
       "      <td>0</td>\n",
       "      <td>512</td>\n",
       "      <td>Lenovo</td>\n",
       "      <td>0</td>\n",
       "      <td>Intel</td>\n",
       "      <td>Intel Core i7</td>\n",
       "      <td>1</td>\n",
       "      <td>1</td>\n",
       "      <td>0</td>\n",
       "      <td>0</td>\n",
       "      <td>0</td>\n",
       "      <td>1</td>\n",
       "      <td>0</td>\n",
       "      <td>0</td>\n",
       "      <td>0</td>\n",
       "    </tr>\n",
       "    <tr>\n",
       "      <th>1</th>\n",
       "      <td>53990</td>\n",
       "      <td>8</td>\n",
       "      <td>Windows 11</td>\n",
       "      <td>15.60</td>\n",
       "      <td>0</td>\n",
       "      <td>512</td>\n",
       "      <td>Lenovo</td>\n",
       "      <td>0</td>\n",
       "      <td>Intel</td>\n",
       "      <td>Intel Core i5</td>\n",
       "      <td>0</td>\n",
       "      <td>0</td>\n",
       "      <td>0</td>\n",
       "      <td>0</td>\n",
       "      <td>0</td>\n",
       "      <td>1</td>\n",
       "      <td>0</td>\n",
       "      <td>0</td>\n",
       "      <td>0</td>\n",
       "    </tr>\n",
       "    <tr>\n",
       "      <th>2</th>\n",
       "      <td>30990</td>\n",
       "      <td>8</td>\n",
       "      <td>Windows 11</td>\n",
       "      <td>15.60</td>\n",
       "      <td>0</td>\n",
       "      <td>256</td>\n",
       "      <td>Lenovo</td>\n",
       "      <td>0</td>\n",
       "      <td>Intel</td>\n",
       "      <td>Intel Core i3</td>\n",
       "      <td>0</td>\n",
       "      <td>0</td>\n",
       "      <td>0</td>\n",
       "      <td>0</td>\n",
       "      <td>0</td>\n",
       "      <td>1</td>\n",
       "      <td>0</td>\n",
       "      <td>0</td>\n",
       "      <td>0</td>\n",
       "    </tr>\n",
       "    <tr>\n",
       "      <th>3</th>\n",
       "      <td>31490</td>\n",
       "      <td>8</td>\n",
       "      <td>Windows 11</td>\n",
       "      <td>15.60</td>\n",
       "      <td>0</td>\n",
       "      <td>512</td>\n",
       "      <td>Lenovo</td>\n",
       "      <td>0</td>\n",
       "      <td>AMD</td>\n",
       "      <td>AMD Ryzen 3</td>\n",
       "      <td>0</td>\n",
       "      <td>0</td>\n",
       "      <td>0</td>\n",
       "      <td>0</td>\n",
       "      <td>0</td>\n",
       "      <td>1</td>\n",
       "      <td>0</td>\n",
       "      <td>0</td>\n",
       "      <td>0</td>\n",
       "    </tr>\n",
       "    <tr>\n",
       "      <th>4</th>\n",
       "      <td>44990</td>\n",
       "      <td>16</td>\n",
       "      <td>Windows 11</td>\n",
       "      <td>15.60</td>\n",
       "      <td>0</td>\n",
       "      <td>512</td>\n",
       "      <td>ASUS</td>\n",
       "      <td>0</td>\n",
       "      <td>AMD</td>\n",
       "      <td>AMD Ryzen 7</td>\n",
       "      <td>0</td>\n",
       "      <td>0</td>\n",
       "      <td>1</td>\n",
       "      <td>0</td>\n",
       "      <td>0</td>\n",
       "      <td>0</td>\n",
       "      <td>0</td>\n",
       "      <td>0</td>\n",
       "      <td>0</td>\n",
       "    </tr>\n",
       "    <tr>\n",
       "      <th>5</th>\n",
       "      <td>31990</td>\n",
       "      <td>8</td>\n",
       "      <td>Windows 11</td>\n",
       "      <td>15.60</td>\n",
       "      <td>0</td>\n",
       "      <td>256</td>\n",
       "      <td>HP</td>\n",
       "      <td>0</td>\n",
       "      <td>AMD</td>\n",
       "      <td>AMD Ryzen 3</td>\n",
       "      <td>0</td>\n",
       "      <td>0</td>\n",
       "      <td>0</td>\n",
       "      <td>0</td>\n",
       "      <td>1</td>\n",
       "      <td>0</td>\n",
       "      <td>0</td>\n",
       "      <td>0</td>\n",
       "      <td>0</td>\n",
       "    </tr>\n",
       "    <tr>\n",
       "      <th>6</th>\n",
       "      <td>35999</td>\n",
       "      <td>8</td>\n",
       "      <td>Windows 11</td>\n",
       "      <td>14.00</td>\n",
       "      <td>0</td>\n",
       "      <td>256</td>\n",
       "      <td>HP</td>\n",
       "      <td>0</td>\n",
       "      <td>Intel</td>\n",
       "      <td>Intel Core i3</td>\n",
       "      <td>0</td>\n",
       "      <td>0</td>\n",
       "      <td>0</td>\n",
       "      <td>0</td>\n",
       "      <td>1</td>\n",
       "      <td>0</td>\n",
       "      <td>0</td>\n",
       "      <td>0</td>\n",
       "      <td>0</td>\n",
       "    </tr>\n",
       "    <tr>\n",
       "      <th>8</th>\n",
       "      <td>39990</td>\n",
       "      <td>8</td>\n",
       "      <td>Windows 11</td>\n",
       "      <td>14.00</td>\n",
       "      <td>0</td>\n",
       "      <td>512</td>\n",
       "      <td>HP</td>\n",
       "      <td>0</td>\n",
       "      <td>Intel</td>\n",
       "      <td>Intel Core i3</td>\n",
       "      <td>0</td>\n",
       "      <td>0</td>\n",
       "      <td>0</td>\n",
       "      <td>0</td>\n",
       "      <td>1</td>\n",
       "      <td>0</td>\n",
       "      <td>0</td>\n",
       "      <td>0</td>\n",
       "      <td>0</td>\n",
       "    </tr>\n",
       "    <tr>\n",
       "      <th>9</th>\n",
       "      <td>38990</td>\n",
       "      <td>8</td>\n",
       "      <td>Windows 11</td>\n",
       "      <td>15.60</td>\n",
       "      <td>0</td>\n",
       "      <td>512</td>\n",
       "      <td>Lenovo</td>\n",
       "      <td>0</td>\n",
       "      <td>Intel</td>\n",
       "      <td>Intel Core i3</td>\n",
       "      <td>0</td>\n",
       "      <td>0</td>\n",
       "      <td>0</td>\n",
       "      <td>0</td>\n",
       "      <td>0</td>\n",
       "      <td>1</td>\n",
       "      <td>0</td>\n",
       "      <td>0</td>\n",
       "      <td>0</td>\n",
       "    </tr>\n",
       "    <tr>\n",
       "      <th>10</th>\n",
       "      <td>33990</td>\n",
       "      <td>8</td>\n",
       "      <td>Windows 11</td>\n",
       "      <td>15.60</td>\n",
       "      <td>0</td>\n",
       "      <td>512</td>\n",
       "      <td>ASUS</td>\n",
       "      <td>0</td>\n",
       "      <td>Intel</td>\n",
       "      <td>Intel Core i3</td>\n",
       "      <td>0</td>\n",
       "      <td>0</td>\n",
       "      <td>1</td>\n",
       "      <td>0</td>\n",
       "      <td>0</td>\n",
       "      <td>0</td>\n",
       "      <td>0</td>\n",
       "      <td>0</td>\n",
       "      <td>0</td>\n",
       "    </tr>\n",
       "    <tr>\n",
       "      <th>11</th>\n",
       "      <td>134590</td>\n",
       "      <td>8</td>\n",
       "      <td>Windows 10</td>\n",
       "      <td>13.30</td>\n",
       "      <td>0</td>\n",
       "      <td>512</td>\n",
       "      <td>DELL</td>\n",
       "      <td>0</td>\n",
       "      <td>Intel</td>\n",
       "      <td>Intel Core i5</td>\n",
       "      <td>0</td>\n",
       "      <td>0</td>\n",
       "      <td>0</td>\n",
       "      <td>1</td>\n",
       "      <td>0</td>\n",
       "      <td>0</td>\n",
       "      <td>0</td>\n",
       "      <td>0</td>\n",
       "      <td>0</td>\n",
       "    </tr>\n",
       "    <tr>\n",
       "      <th>12</th>\n",
       "      <td>32990</td>\n",
       "      <td>8</td>\n",
       "      <td>Windows 11</td>\n",
       "      <td>15.60</td>\n",
       "      <td>0</td>\n",
       "      <td>512</td>\n",
       "      <td>ASUS</td>\n",
       "      <td>0</td>\n",
       "      <td>Intel</td>\n",
       "      <td>Intel Core i3</td>\n",
       "      <td>0</td>\n",
       "      <td>0</td>\n",
       "      <td>1</td>\n",
       "      <td>0</td>\n",
       "      <td>0</td>\n",
       "      <td>0</td>\n",
       "      <td>0</td>\n",
       "      <td>0</td>\n",
       "      <td>0</td>\n",
       "    </tr>\n",
       "    <tr>\n",
       "      <th>13</th>\n",
       "      <td>52990</td>\n",
       "      <td>16</td>\n",
       "      <td>Windows 11</td>\n",
       "      <td>14.00</td>\n",
       "      <td>0</td>\n",
       "      <td>512</td>\n",
       "      <td>ASUS</td>\n",
       "      <td>0</td>\n",
       "      <td>Intel</td>\n",
       "      <td>Intel Core i5</td>\n",
       "      <td>0</td>\n",
       "      <td>0</td>\n",
       "      <td>1</td>\n",
       "      <td>0</td>\n",
       "      <td>0</td>\n",
       "      <td>0</td>\n",
       "      <td>0</td>\n",
       "      <td>0</td>\n",
       "      <td>0</td>\n",
       "    </tr>\n",
       "    <tr>\n",
       "      <th>14</th>\n",
       "      <td>24990</td>\n",
       "      <td>8</td>\n",
       "      <td>Windows 11</td>\n",
       "      <td>14.00</td>\n",
       "      <td>0</td>\n",
       "      <td>256</td>\n",
       "      <td>Infinix</td>\n",
       "      <td>0</td>\n",
       "      <td>Intel</td>\n",
       "      <td>Other Intel Processors</td>\n",
       "      <td>0</td>\n",
       "      <td>0</td>\n",
       "      <td>0</td>\n",
       "      <td>0</td>\n",
       "      <td>0</td>\n",
       "      <td>0</td>\n",
       "      <td>0</td>\n",
       "      <td>0</td>\n",
       "      <td>0</td>\n",
       "    </tr>\n",
       "    <tr>\n",
       "      <th>15</th>\n",
       "      <td>32990</td>\n",
       "      <td>8</td>\n",
       "      <td>Windows 11</td>\n",
       "      <td>15.60</td>\n",
       "      <td>0</td>\n",
       "      <td>256</td>\n",
       "      <td>DELL</td>\n",
       "      <td>0</td>\n",
       "      <td>Intel</td>\n",
       "      <td>Other Intel Processors</td>\n",
       "      <td>0</td>\n",
       "      <td>0</td>\n",
       "      <td>0</td>\n",
       "      <td>1</td>\n",
       "      <td>0</td>\n",
       "      <td>0</td>\n",
       "      <td>0</td>\n",
       "      <td>0</td>\n",
       "      <td>0</td>\n",
       "    </tr>\n",
       "    <tr>\n",
       "      <th>17</th>\n",
       "      <td>55999</td>\n",
       "      <td>8</td>\n",
       "      <td>Windows 11</td>\n",
       "      <td>15.60</td>\n",
       "      <td>0</td>\n",
       "      <td>512</td>\n",
       "      <td>HP</td>\n",
       "      <td>0</td>\n",
       "      <td>Intel</td>\n",
       "      <td>Intel Core i5</td>\n",
       "      <td>0</td>\n",
       "      <td>0</td>\n",
       "      <td>0</td>\n",
       "      <td>0</td>\n",
       "      <td>1</td>\n",
       "      <td>0</td>\n",
       "      <td>0</td>\n",
       "      <td>0</td>\n",
       "      <td>0</td>\n",
       "    </tr>\n",
       "    <tr>\n",
       "      <th>18</th>\n",
       "      <td>52990</td>\n",
       "      <td>8</td>\n",
       "      <td>Windows 11</td>\n",
       "      <td>15.60</td>\n",
       "      <td>0</td>\n",
       "      <td>512</td>\n",
       "      <td>ASUS</td>\n",
       "      <td>0</td>\n",
       "      <td>Intel</td>\n",
       "      <td>Intel Core i5</td>\n",
       "      <td>1</td>\n",
       "      <td>1</td>\n",
       "      <td>1</td>\n",
       "      <td>0</td>\n",
       "      <td>0</td>\n",
       "      <td>0</td>\n",
       "      <td>0</td>\n",
       "      <td>0</td>\n",
       "      <td>0</td>\n",
       "    </tr>\n",
       "    <tr>\n",
       "      <th>19</th>\n",
       "      <td>61990</td>\n",
       "      <td>16</td>\n",
       "      <td>Windows 10</td>\n",
       "      <td>15.60</td>\n",
       "      <td>0</td>\n",
       "      <td>512</td>\n",
       "      <td>Lenovo</td>\n",
       "      <td>0</td>\n",
       "      <td>Intel</td>\n",
       "      <td>Intel Core i5</td>\n",
       "      <td>0</td>\n",
       "      <td>0</td>\n",
       "      <td>0</td>\n",
       "      <td>0</td>\n",
       "      <td>0</td>\n",
       "      <td>1</td>\n",
       "      <td>0</td>\n",
       "      <td>0</td>\n",
       "      <td>0</td>\n",
       "    </tr>\n",
       "    <tr>\n",
       "      <th>20</th>\n",
       "      <td>40990</td>\n",
       "      <td>8</td>\n",
       "      <td>Windows 11</td>\n",
       "      <td>15.60</td>\n",
       "      <td>0</td>\n",
       "      <td>512</td>\n",
       "      <td>HP</td>\n",
       "      <td>0</td>\n",
       "      <td>Intel</td>\n",
       "      <td>Intel Core i3</td>\n",
       "      <td>0</td>\n",
       "      <td>0</td>\n",
       "      <td>0</td>\n",
       "      <td>0</td>\n",
       "      <td>1</td>\n",
       "      <td>0</td>\n",
       "      <td>0</td>\n",
       "      <td>0</td>\n",
       "      <td>0</td>\n",
       "    </tr>\n",
       "    <tr>\n",
       "      <th>21</th>\n",
       "      <td>34990</td>\n",
       "      <td>8</td>\n",
       "      <td>Windows 11</td>\n",
       "      <td>14.00</td>\n",
       "      <td>0</td>\n",
       "      <td>256</td>\n",
       "      <td>Lenovo</td>\n",
       "      <td>0</td>\n",
       "      <td>Intel</td>\n",
       "      <td>Intel Core i3</td>\n",
       "      <td>0</td>\n",
       "      <td>0</td>\n",
       "      <td>0</td>\n",
       "      <td>0</td>\n",
       "      <td>0</td>\n",
       "      <td>1</td>\n",
       "      <td>0</td>\n",
       "      <td>0</td>\n",
       "      <td>0</td>\n",
       "    </tr>\n",
       "    <tr>\n",
       "      <th>22</th>\n",
       "      <td>40990</td>\n",
       "      <td>8</td>\n",
       "      <td>Windows 11</td>\n",
       "      <td>15.60</td>\n",
       "      <td>0</td>\n",
       "      <td>512</td>\n",
       "      <td>ASUS</td>\n",
       "      <td>0</td>\n",
       "      <td>Intel</td>\n",
       "      <td>Intel Core i5</td>\n",
       "      <td>0</td>\n",
       "      <td>0</td>\n",
       "      <td>1</td>\n",
       "      <td>0</td>\n",
       "      <td>0</td>\n",
       "      <td>0</td>\n",
       "      <td>0</td>\n",
       "      <td>0</td>\n",
       "      <td>0</td>\n",
       "    </tr>\n",
       "    <tr>\n",
       "      <th>23</th>\n",
       "      <td>21990</td>\n",
       "      <td>4</td>\n",
       "      <td>Windows 11</td>\n",
       "      <td>11.60</td>\n",
       "      <td>0</td>\n",
       "      <td>256</td>\n",
       "      <td>Lenovo</td>\n",
       "      <td>0</td>\n",
       "      <td>Intel</td>\n",
       "      <td>Other Intel Processors</td>\n",
       "      <td>0</td>\n",
       "      <td>0</td>\n",
       "      <td>0</td>\n",
       "      <td>0</td>\n",
       "      <td>0</td>\n",
       "      <td>1</td>\n",
       "      <td>0</td>\n",
       "      <td>0</td>\n",
       "      <td>0</td>\n",
       "    </tr>\n",
       "    <tr>\n",
       "      <th>24</th>\n",
       "      <td>45990</td>\n",
       "      <td>8</td>\n",
       "      <td>Windows 11</td>\n",
       "      <td>15.60</td>\n",
       "      <td>0</td>\n",
       "      <td>512</td>\n",
       "      <td>Lenovo</td>\n",
       "      <td>0</td>\n",
       "      <td>AMD</td>\n",
       "      <td>AMD Ryzen 5</td>\n",
       "      <td>0</td>\n",
       "      <td>0</td>\n",
       "      <td>0</td>\n",
       "      <td>0</td>\n",
       "      <td>0</td>\n",
       "      <td>1</td>\n",
       "      <td>0</td>\n",
       "      <td>0</td>\n",
       "      <td>0</td>\n",
       "    </tr>\n",
       "    <tr>\n",
       "      <th>25</th>\n",
       "      <td>31990</td>\n",
       "      <td>8</td>\n",
       "      <td>Windows 11</td>\n",
       "      <td>15.60</td>\n",
       "      <td>0</td>\n",
       "      <td>256</td>\n",
       "      <td>acer</td>\n",
       "      <td>0</td>\n",
       "      <td>Intel</td>\n",
       "      <td>Intel Core i3</td>\n",
       "      <td>0</td>\n",
       "      <td>0</td>\n",
       "      <td>0</td>\n",
       "      <td>0</td>\n",
       "      <td>0</td>\n",
       "      <td>0</td>\n",
       "      <td>1</td>\n",
       "      <td>0</td>\n",
       "      <td>0</td>\n",
       "    </tr>\n",
       "    <tr>\n",
       "      <th>26</th>\n",
       "      <td>36990</td>\n",
       "      <td>8</td>\n",
       "      <td>Windows 10</td>\n",
       "      <td>14.00</td>\n",
       "      <td>0</td>\n",
       "      <td>256</td>\n",
       "      <td>realme</td>\n",
       "      <td>0</td>\n",
       "      <td>Intel</td>\n",
       "      <td>Intel Core i3</td>\n",
       "      <td>0</td>\n",
       "      <td>0</td>\n",
       "      <td>0</td>\n",
       "      <td>0</td>\n",
       "      <td>0</td>\n",
       "      <td>0</td>\n",
       "      <td>0</td>\n",
       "      <td>0</td>\n",
       "      <td>0</td>\n",
       "    </tr>\n",
       "    <tr>\n",
       "      <th>28</th>\n",
       "      <td>37990</td>\n",
       "      <td>8</td>\n",
       "      <td>Windows 11</td>\n",
       "      <td>14.00</td>\n",
       "      <td>0</td>\n",
       "      <td>512</td>\n",
       "      <td>ASUS</td>\n",
       "      <td>0</td>\n",
       "      <td>AMD</td>\n",
       "      <td>AMD Ryzen 5</td>\n",
       "      <td>0</td>\n",
       "      <td>0</td>\n",
       "      <td>1</td>\n",
       "      <td>0</td>\n",
       "      <td>0</td>\n",
       "      <td>0</td>\n",
       "      <td>0</td>\n",
       "      <td>0</td>\n",
       "      <td>0</td>\n",
       "    </tr>\n",
       "    <tr>\n",
       "      <th>29</th>\n",
       "      <td>32990</td>\n",
       "      <td>8</td>\n",
       "      <td>Windows 11</td>\n",
       "      <td>14.00</td>\n",
       "      <td>0</td>\n",
       "      <td>256</td>\n",
       "      <td>ASUS</td>\n",
       "      <td>0</td>\n",
       "      <td>Intel</td>\n",
       "      <td>Intel Core i3</td>\n",
       "      <td>0</td>\n",
       "      <td>0</td>\n",
       "      <td>1</td>\n",
       "      <td>0</td>\n",
       "      <td>0</td>\n",
       "      <td>0</td>\n",
       "      <td>0</td>\n",
       "      <td>0</td>\n",
       "      <td>0</td>\n",
       "    </tr>\n",
       "    <tr>\n",
       "      <th>30</th>\n",
       "      <td>59999</td>\n",
       "      <td>8</td>\n",
       "      <td>Windows 11</td>\n",
       "      <td>15.60</td>\n",
       "      <td>0</td>\n",
       "      <td>512</td>\n",
       "      <td>Lenovo</td>\n",
       "      <td>0</td>\n",
       "      <td>Intel</td>\n",
       "      <td>Intel Core i3</td>\n",
       "      <td>0</td>\n",
       "      <td>0</td>\n",
       "      <td>0</td>\n",
       "      <td>0</td>\n",
       "      <td>0</td>\n",
       "      <td>1</td>\n",
       "      <td>0</td>\n",
       "      <td>0</td>\n",
       "      <td>0</td>\n",
       "    </tr>\n",
       "    <tr>\n",
       "      <th>31</th>\n",
       "      <td>44990</td>\n",
       "      <td>16</td>\n",
       "      <td>Windows 11</td>\n",
       "      <td>14.00</td>\n",
       "      <td>0</td>\n",
       "      <td>512</td>\n",
       "      <td>Infinix</td>\n",
       "      <td>0</td>\n",
       "      <td>Intel</td>\n",
       "      <td>Intel Core i5</td>\n",
       "      <td>0</td>\n",
       "      <td>0</td>\n",
       "      <td>0</td>\n",
       "      <td>0</td>\n",
       "      <td>0</td>\n",
       "      <td>0</td>\n",
       "      <td>0</td>\n",
       "      <td>0</td>\n",
       "      <td>0</td>\n",
       "    </tr>\n",
       "    <tr>\n",
       "      <th>32</th>\n",
       "      <td>34990</td>\n",
       "      <td>8</td>\n",
       "      <td>Windows 11</td>\n",
       "      <td>15.60</td>\n",
       "      <td>1000</td>\n",
       "      <td>256</td>\n",
       "      <td>DELL</td>\n",
       "      <td>0</td>\n",
       "      <td>AMD</td>\n",
       "      <td>AMD Ryzen 3</td>\n",
       "      <td>0</td>\n",
       "      <td>0</td>\n",
       "      <td>0</td>\n",
       "      <td>1</td>\n",
       "      <td>0</td>\n",
       "      <td>0</td>\n",
       "      <td>0</td>\n",
       "      <td>0</td>\n",
       "      <td>0</td>\n",
       "    </tr>\n",
       "    <tr>\n",
       "      <th>33</th>\n",
       "      <td>43790</td>\n",
       "      <td>8</td>\n",
       "      <td>Windows 11</td>\n",
       "      <td>15.60</td>\n",
       "      <td>1000</td>\n",
       "      <td>256</td>\n",
       "      <td>DELL</td>\n",
       "      <td>0</td>\n",
       "      <td>Intel</td>\n",
       "      <td>Intel Core i3</td>\n",
       "      <td>0</td>\n",
       "      <td>0</td>\n",
       "      <td>0</td>\n",
       "      <td>1</td>\n",
       "      <td>0</td>\n",
       "      <td>0</td>\n",
       "      <td>0</td>\n",
       "      <td>0</td>\n",
       "      <td>0</td>\n",
       "    </tr>\n",
       "    <tr>\n",
       "      <th>34</th>\n",
       "      <td>46990</td>\n",
       "      <td>8</td>\n",
       "      <td>Windows 11</td>\n",
       "      <td>14.00</td>\n",
       "      <td>1000</td>\n",
       "      <td>256</td>\n",
       "      <td>ASUS</td>\n",
       "      <td>0</td>\n",
       "      <td>Intel</td>\n",
       "      <td>Intel Core i5</td>\n",
       "      <td>0</td>\n",
       "      <td>0</td>\n",
       "      <td>1</td>\n",
       "      <td>0</td>\n",
       "      <td>0</td>\n",
       "      <td>0</td>\n",
       "      <td>0</td>\n",
       "      <td>0</td>\n",
       "      <td>0</td>\n",
       "    </tr>\n",
       "    <tr>\n",
       "      <th>36</th>\n",
       "      <td>49990</td>\n",
       "      <td>8</td>\n",
       "      <td>Windows 11</td>\n",
       "      <td>15.60</td>\n",
       "      <td>0</td>\n",
       "      <td>512</td>\n",
       "      <td>Lenovo</td>\n",
       "      <td>0</td>\n",
       "      <td>Intel</td>\n",
       "      <td>Intel Core i5</td>\n",
       "      <td>1</td>\n",
       "      <td>1</td>\n",
       "      <td>0</td>\n",
       "      <td>0</td>\n",
       "      <td>0</td>\n",
       "      <td>1</td>\n",
       "      <td>0</td>\n",
       "      <td>0</td>\n",
       "      <td>0</td>\n",
       "    </tr>\n",
       "    <tr>\n",
       "      <th>37</th>\n",
       "      <td>37990</td>\n",
       "      <td>8</td>\n",
       "      <td>Windows 10</td>\n",
       "      <td>15.60</td>\n",
       "      <td>1000</td>\n",
       "      <td>256</td>\n",
       "      <td>HP</td>\n",
       "      <td>0</td>\n",
       "      <td>AMD</td>\n",
       "      <td>AMD Ryzen 3</td>\n",
       "      <td>0</td>\n",
       "      <td>0</td>\n",
       "      <td>0</td>\n",
       "      <td>0</td>\n",
       "      <td>1</td>\n",
       "      <td>0</td>\n",
       "      <td>0</td>\n",
       "      <td>0</td>\n",
       "      <td>0</td>\n",
       "    </tr>\n",
       "    <tr>\n",
       "      <th>38</th>\n",
       "      <td>33990</td>\n",
       "      <td>8</td>\n",
       "      <td>Windows 11</td>\n",
       "      <td>15.60</td>\n",
       "      <td>0</td>\n",
       "      <td>512</td>\n",
       "      <td>acer</td>\n",
       "      <td>0</td>\n",
       "      <td>Intel</td>\n",
       "      <td>Intel Core i3</td>\n",
       "      <td>0</td>\n",
       "      <td>0</td>\n",
       "      <td>0</td>\n",
       "      <td>0</td>\n",
       "      <td>0</td>\n",
       "      <td>0</td>\n",
       "      <td>1</td>\n",
       "      <td>0</td>\n",
       "      <td>0</td>\n",
       "    </tr>\n",
       "    <tr>\n",
       "      <th>40</th>\n",
       "      <td>59990</td>\n",
       "      <td>16</td>\n",
       "      <td>Windows 11</td>\n",
       "      <td>15.60</td>\n",
       "      <td>0</td>\n",
       "      <td>512</td>\n",
       "      <td>ASUS</td>\n",
       "      <td>0</td>\n",
       "      <td>AMD</td>\n",
       "      <td>AMD Ryzen 7</td>\n",
       "      <td>0</td>\n",
       "      <td>0</td>\n",
       "      <td>1</td>\n",
       "      <td>0</td>\n",
       "      <td>0</td>\n",
       "      <td>0</td>\n",
       "      <td>0</td>\n",
       "      <td>0</td>\n",
       "      <td>0</td>\n",
       "    </tr>\n",
       "    <tr>\n",
       "      <th>41</th>\n",
       "      <td>30990</td>\n",
       "      <td>4</td>\n",
       "      <td>Windows 10</td>\n",
       "      <td>15.60</td>\n",
       "      <td>0</td>\n",
       "      <td>256</td>\n",
       "      <td>ASUS</td>\n",
       "      <td>0</td>\n",
       "      <td>Intel</td>\n",
       "      <td>Intel Core i3</td>\n",
       "      <td>0</td>\n",
       "      <td>0</td>\n",
       "      <td>1</td>\n",
       "      <td>0</td>\n",
       "      <td>0</td>\n",
       "      <td>0</td>\n",
       "      <td>0</td>\n",
       "      <td>0</td>\n",
       "      <td>0</td>\n",
       "    </tr>\n",
       "    <tr>\n",
       "      <th>42</th>\n",
       "      <td>38990</td>\n",
       "      <td>8</td>\n",
       "      <td>Windows 11</td>\n",
       "      <td>15.60</td>\n",
       "      <td>0</td>\n",
       "      <td>512</td>\n",
       "      <td>Lenovo</td>\n",
       "      <td>0</td>\n",
       "      <td>Intel</td>\n",
       "      <td>Intel Core i3</td>\n",
       "      <td>0</td>\n",
       "      <td>0</td>\n",
       "      <td>0</td>\n",
       "      <td>0</td>\n",
       "      <td>0</td>\n",
       "      <td>1</td>\n",
       "      <td>0</td>\n",
       "      <td>0</td>\n",
       "      <td>0</td>\n",
       "    </tr>\n",
       "    <tr>\n",
       "      <th>43</th>\n",
       "      <td>24990</td>\n",
       "      <td>4</td>\n",
       "      <td>Windows 10</td>\n",
       "      <td>14.00</td>\n",
       "      <td>0</td>\n",
       "      <td>256</td>\n",
       "      <td>Lenovo</td>\n",
       "      <td>0</td>\n",
       "      <td>Intel</td>\n",
       "      <td>Other Intel Processors</td>\n",
       "      <td>0</td>\n",
       "      <td>0</td>\n",
       "      <td>0</td>\n",
       "      <td>0</td>\n",
       "      <td>0</td>\n",
       "      <td>1</td>\n",
       "      <td>0</td>\n",
       "      <td>0</td>\n",
       "      <td>0</td>\n",
       "    </tr>\n",
       "    <tr>\n",
       "      <th>44</th>\n",
       "      <td>41490</td>\n",
       "      <td>8</td>\n",
       "      <td>Windows 11</td>\n",
       "      <td>15.60</td>\n",
       "      <td>0</td>\n",
       "      <td>512</td>\n",
       "      <td>HP</td>\n",
       "      <td>0</td>\n",
       "      <td>Intel</td>\n",
       "      <td>Intel Core i3</td>\n",
       "      <td>0</td>\n",
       "      <td>0</td>\n",
       "      <td>0</td>\n",
       "      <td>0</td>\n",
       "      <td>1</td>\n",
       "      <td>0</td>\n",
       "      <td>0</td>\n",
       "      <td>0</td>\n",
       "      <td>0</td>\n",
       "    </tr>\n",
       "    <tr>\n",
       "      <th>45</th>\n",
       "      <td>50099</td>\n",
       "      <td>8</td>\n",
       "      <td>Windows 11</td>\n",
       "      <td>15.60</td>\n",
       "      <td>0</td>\n",
       "      <td>512</td>\n",
       "      <td>HP</td>\n",
       "      <td>0</td>\n",
       "      <td>Intel</td>\n",
       "      <td>Intel Core i5</td>\n",
       "      <td>0</td>\n",
       "      <td>0</td>\n",
       "      <td>0</td>\n",
       "      <td>0</td>\n",
       "      <td>1</td>\n",
       "      <td>0</td>\n",
       "      <td>0</td>\n",
       "      <td>0</td>\n",
       "      <td>0</td>\n",
       "    </tr>\n",
       "    <tr>\n",
       "      <th>46</th>\n",
       "      <td>46990</td>\n",
       "      <td>8</td>\n",
       "      <td>Windows 11</td>\n",
       "      <td>14.00</td>\n",
       "      <td>0</td>\n",
       "      <td>512</td>\n",
       "      <td>HP</td>\n",
       "      <td>0</td>\n",
       "      <td>AMD</td>\n",
       "      <td>AMD Ryzen 5</td>\n",
       "      <td>0</td>\n",
       "      <td>0</td>\n",
       "      <td>0</td>\n",
       "      <td>0</td>\n",
       "      <td>1</td>\n",
       "      <td>0</td>\n",
       "      <td>0</td>\n",
       "      <td>0</td>\n",
       "      <td>0</td>\n",
       "    </tr>\n",
       "    <tr>\n",
       "      <th>47</th>\n",
       "      <td>49990</td>\n",
       "      <td>16</td>\n",
       "      <td>Windows 11</td>\n",
       "      <td>14.00</td>\n",
       "      <td>0</td>\n",
       "      <td>512</td>\n",
       "      <td>Infinix</td>\n",
       "      <td>0</td>\n",
       "      <td>Intel</td>\n",
       "      <td>Intel Core i7</td>\n",
       "      <td>0</td>\n",
       "      <td>0</td>\n",
       "      <td>0</td>\n",
       "      <td>0</td>\n",
       "      <td>0</td>\n",
       "      <td>0</td>\n",
       "      <td>0</td>\n",
       "      <td>0</td>\n",
       "      <td>0</td>\n",
       "    </tr>\n",
       "    <tr>\n",
       "      <th>48</th>\n",
       "      <td>54990</td>\n",
       "      <td>8</td>\n",
       "      <td>Windows 10</td>\n",
       "      <td>15.60</td>\n",
       "      <td>0</td>\n",
       "      <td>512</td>\n",
       "      <td>HP</td>\n",
       "      <td>0</td>\n",
       "      <td>AMD</td>\n",
       "      <td>AMD Ryzen 5</td>\n",
       "      <td>0</td>\n",
       "      <td>1</td>\n",
       "      <td>0</td>\n",
       "      <td>0</td>\n",
       "      <td>1</td>\n",
       "      <td>0</td>\n",
       "      <td>0</td>\n",
       "      <td>0</td>\n",
       "      <td>0</td>\n",
       "    </tr>\n",
       "    <tr>\n",
       "      <th>49</th>\n",
       "      <td>36990</td>\n",
       "      <td>8</td>\n",
       "      <td>Windows 11</td>\n",
       "      <td>14.00</td>\n",
       "      <td>0</td>\n",
       "      <td>512</td>\n",
       "      <td>DELL</td>\n",
       "      <td>0</td>\n",
       "      <td>Intel</td>\n",
       "      <td>Intel Core i3</td>\n",
       "      <td>0</td>\n",
       "      <td>0</td>\n",
       "      <td>0</td>\n",
       "      <td>1</td>\n",
       "      <td>0</td>\n",
       "      <td>0</td>\n",
       "      <td>0</td>\n",
       "      <td>0</td>\n",
       "      <td>0</td>\n",
       "    </tr>\n",
       "    <tr>\n",
       "      <th>50</th>\n",
       "      <td>42090</td>\n",
       "      <td>8</td>\n",
       "      <td>Windows 11</td>\n",
       "      <td>14.96</td>\n",
       "      <td>0</td>\n",
       "      <td>256</td>\n",
       "      <td>DELL</td>\n",
       "      <td>0</td>\n",
       "      <td>Intel</td>\n",
       "      <td>Intel Core i3</td>\n",
       "      <td>0</td>\n",
       "      <td>0</td>\n",
       "      <td>0</td>\n",
       "      <td>1</td>\n",
       "      <td>0</td>\n",
       "      <td>0</td>\n",
       "      <td>0</td>\n",
       "      <td>0</td>\n",
       "      <td>0</td>\n",
       "    </tr>\n",
       "    <tr>\n",
       "      <th>52</th>\n",
       "      <td>51990</td>\n",
       "      <td>8</td>\n",
       "      <td>Windows 10</td>\n",
       "      <td>15.60</td>\n",
       "      <td>0</td>\n",
       "      <td>512</td>\n",
       "      <td>acer</td>\n",
       "      <td>0</td>\n",
       "      <td>AMD</td>\n",
       "      <td>AMD Ryzen 5</td>\n",
       "      <td>0</td>\n",
       "      <td>1</td>\n",
       "      <td>0</td>\n",
       "      <td>0</td>\n",
       "      <td>0</td>\n",
       "      <td>0</td>\n",
       "      <td>1</td>\n",
       "      <td>0</td>\n",
       "      <td>0</td>\n",
       "    </tr>\n",
       "    <tr>\n",
       "      <th>53</th>\n",
       "      <td>41990</td>\n",
       "      <td>8</td>\n",
       "      <td>Windows 10</td>\n",
       "      <td>14.00</td>\n",
       "      <td>0</td>\n",
       "      <td>512</td>\n",
       "      <td>MSI</td>\n",
       "      <td>0</td>\n",
       "      <td>Intel</td>\n",
       "      <td>Intel Core i5</td>\n",
       "      <td>0</td>\n",
       "      <td>0</td>\n",
       "      <td>0</td>\n",
       "      <td>0</td>\n",
       "      <td>0</td>\n",
       "      <td>0</td>\n",
       "      <td>0</td>\n",
       "      <td>1</td>\n",
       "      <td>0</td>\n",
       "    </tr>\n",
       "    <tr>\n",
       "      <th>54</th>\n",
       "      <td>55990</td>\n",
       "      <td>8</td>\n",
       "      <td>Windows 11</td>\n",
       "      <td>17.30</td>\n",
       "      <td>0</td>\n",
       "      <td>512</td>\n",
       "      <td>ASUS</td>\n",
       "      <td>0</td>\n",
       "      <td>AMD</td>\n",
       "      <td>AMD Ryzen 5</td>\n",
       "      <td>1</td>\n",
       "      <td>1</td>\n",
       "      <td>1</td>\n",
       "      <td>0</td>\n",
       "      <td>0</td>\n",
       "      <td>0</td>\n",
       "      <td>0</td>\n",
       "      <td>0</td>\n",
       "      <td>0</td>\n",
       "    </tr>\n",
       "    <tr>\n",
       "      <th>56</th>\n",
       "      <td>53990</td>\n",
       "      <td>8</td>\n",
       "      <td>Windows 11</td>\n",
       "      <td>15.60</td>\n",
       "      <td>1000</td>\n",
       "      <td>256</td>\n",
       "      <td>ASUS</td>\n",
       "      <td>0</td>\n",
       "      <td>AMD</td>\n",
       "      <td>AMD Ryzen 5</td>\n",
       "      <td>0</td>\n",
       "      <td>0</td>\n",
       "      <td>1</td>\n",
       "      <td>0</td>\n",
       "      <td>0</td>\n",
       "      <td>0</td>\n",
       "      <td>0</td>\n",
       "      <td>0</td>\n",
       "      <td>0</td>\n",
       "    </tr>\n",
       "  </tbody>\n",
       "</table>\n",
       "</div>"
      ],
      "text/plain": [
       "     PRICE  RAM          OS  INCHES   HDD  SSD LAPTOP COMPANY  TOUCHSCREEN  \\\n",
       "0    69990    8  Windows 10   15.60     0  512         Lenovo            0   \n",
       "1    53990    8  Windows 11   15.60     0  512         Lenovo            0   \n",
       "2    30990    8  Windows 11   15.60     0  256         Lenovo            0   \n",
       "3    31490    8  Windows 11   15.60     0  512         Lenovo            0   \n",
       "4    44990   16  Windows 11   15.60     0  512           ASUS            0   \n",
       "5    31990    8  Windows 11   15.60     0  256             HP            0   \n",
       "6    35999    8  Windows 11   14.00     0  256             HP            0   \n",
       "8    39990    8  Windows 11   14.00     0  512             HP            0   \n",
       "9    38990    8  Windows 11   15.60     0  512         Lenovo            0   \n",
       "10   33990    8  Windows 11   15.60     0  512           ASUS            0   \n",
       "11  134590    8  Windows 10   13.30     0  512           DELL            0   \n",
       "12   32990    8  Windows 11   15.60     0  512           ASUS            0   \n",
       "13   52990   16  Windows 11   14.00     0  512           ASUS            0   \n",
       "14   24990    8  Windows 11   14.00     0  256        Infinix            0   \n",
       "15   32990    8  Windows 11   15.60     0  256           DELL            0   \n",
       "17   55999    8  Windows 11   15.60     0  512             HP            0   \n",
       "18   52990    8  Windows 11   15.60     0  512           ASUS            0   \n",
       "19   61990   16  Windows 10   15.60     0  512         Lenovo            0   \n",
       "20   40990    8  Windows 11   15.60     0  512             HP            0   \n",
       "21   34990    8  Windows 11   14.00     0  256         Lenovo            0   \n",
       "22   40990    8  Windows 11   15.60     0  512           ASUS            0   \n",
       "23   21990    4  Windows 11   11.60     0  256         Lenovo            0   \n",
       "24   45990    8  Windows 11   15.60     0  512         Lenovo            0   \n",
       "25   31990    8  Windows 11   15.60     0  256           acer            0   \n",
       "26   36990    8  Windows 10   14.00     0  256         realme            0   \n",
       "28   37990    8  Windows 11   14.00     0  512           ASUS            0   \n",
       "29   32990    8  Windows 11   14.00     0  256           ASUS            0   \n",
       "30   59999    8  Windows 11   15.60     0  512         Lenovo            0   \n",
       "31   44990   16  Windows 11   14.00     0  512        Infinix            0   \n",
       "32   34990    8  Windows 11   15.60  1000  256           DELL            0   \n",
       "33   43790    8  Windows 11   15.60  1000  256           DELL            0   \n",
       "34   46990    8  Windows 11   14.00  1000  256           ASUS            0   \n",
       "36   49990    8  Windows 11   15.60     0  512         Lenovo            0   \n",
       "37   37990    8  Windows 10   15.60  1000  256             HP            0   \n",
       "38   33990    8  Windows 11   15.60     0  512           acer            0   \n",
       "40   59990   16  Windows 11   15.60     0  512           ASUS            0   \n",
       "41   30990    4  Windows 10   15.60     0  256           ASUS            0   \n",
       "42   38990    8  Windows 11   15.60     0  512         Lenovo            0   \n",
       "43   24990    4  Windows 10   14.00     0  256         Lenovo            0   \n",
       "44   41490    8  Windows 11   15.60     0  512             HP            0   \n",
       "45   50099    8  Windows 11   15.60     0  512             HP            0   \n",
       "46   46990    8  Windows 11   14.00     0  512             HP            0   \n",
       "47   49990   16  Windows 11   14.00     0  512        Infinix            0   \n",
       "48   54990    8  Windows 10   15.60     0  512             HP            0   \n",
       "49   36990    8  Windows 11   14.00     0  512           DELL            0   \n",
       "50   42090    8  Windows 11   14.96     0  256           DELL            0   \n",
       "52   51990    8  Windows 10   15.60     0  512           acer            0   \n",
       "53   41990    8  Windows 10   14.00     0  512            MSI            0   \n",
       "54   55990    8  Windows 11   17.30     0  512           ASUS            0   \n",
       "56   53990    8  Windows 11   15.60  1000  256           ASUS            0   \n",
       "\n",
       "   PROCESSOR BRAND         PROCESSORS NAME  GAMING LAPTOP  GRAPHICS CARD  \\\n",
       "0            Intel           Intel Core i7              1              1   \n",
       "1            Intel           Intel Core i5              0              0   \n",
       "2            Intel           Intel Core i3              0              0   \n",
       "3              AMD             AMD Ryzen 3              0              0   \n",
       "4              AMD             AMD Ryzen 7              0              0   \n",
       "5              AMD             AMD Ryzen 3              0              0   \n",
       "6            Intel           Intel Core i3              0              0   \n",
       "8            Intel           Intel Core i3              0              0   \n",
       "9            Intel           Intel Core i3              0              0   \n",
       "10           Intel           Intel Core i3              0              0   \n",
       "11           Intel           Intel Core i5              0              0   \n",
       "12           Intel           Intel Core i3              0              0   \n",
       "13           Intel           Intel Core i5              0              0   \n",
       "14           Intel  Other Intel Processors              0              0   \n",
       "15           Intel  Other Intel Processors              0              0   \n",
       "17           Intel           Intel Core i5              0              0   \n",
       "18           Intel           Intel Core i5              1              1   \n",
       "19           Intel           Intel Core i5              0              0   \n",
       "20           Intel           Intel Core i3              0              0   \n",
       "21           Intel           Intel Core i3              0              0   \n",
       "22           Intel           Intel Core i5              0              0   \n",
       "23           Intel  Other Intel Processors              0              0   \n",
       "24             AMD             AMD Ryzen 5              0              0   \n",
       "25           Intel           Intel Core i3              0              0   \n",
       "26           Intel           Intel Core i3              0              0   \n",
       "28             AMD             AMD Ryzen 5              0              0   \n",
       "29           Intel           Intel Core i3              0              0   \n",
       "30           Intel           Intel Core i3              0              0   \n",
       "31           Intel           Intel Core i5              0              0   \n",
       "32             AMD             AMD Ryzen 3              0              0   \n",
       "33           Intel           Intel Core i3              0              0   \n",
       "34           Intel           Intel Core i5              0              0   \n",
       "36           Intel           Intel Core i5              1              1   \n",
       "37             AMD             AMD Ryzen 3              0              0   \n",
       "38           Intel           Intel Core i3              0              0   \n",
       "40             AMD             AMD Ryzen 7              0              0   \n",
       "41           Intel           Intel Core i3              0              0   \n",
       "42           Intel           Intel Core i3              0              0   \n",
       "43           Intel  Other Intel Processors              0              0   \n",
       "44           Intel           Intel Core i3              0              0   \n",
       "45           Intel           Intel Core i5              0              0   \n",
       "46             AMD             AMD Ryzen 5              0              0   \n",
       "47           Intel           Intel Core i7              0              0   \n",
       "48             AMD             AMD Ryzen 5              0              1   \n",
       "49           Intel           Intel Core i3              0              0   \n",
       "50           Intel           Intel Core i3              0              0   \n",
       "52             AMD             AMD Ryzen 5              0              1   \n",
       "53           Intel           Intel Core i5              0              0   \n",
       "54             AMD             AMD Ryzen 5              1              1   \n",
       "56             AMD             AMD Ryzen 5              0              0   \n",
       "\n",
       "    ASUS  DELL  HP  Lenovo  acer  MSI  APPLE  \n",
       "0      0     0   0       1     0    0      0  \n",
       "1      0     0   0       1     0    0      0  \n",
       "2      0     0   0       1     0    0      0  \n",
       "3      0     0   0       1     0    0      0  \n",
       "4      1     0   0       0     0    0      0  \n",
       "5      0     0   1       0     0    0      0  \n",
       "6      0     0   1       0     0    0      0  \n",
       "8      0     0   1       0     0    0      0  \n",
       "9      0     0   0       1     0    0      0  \n",
       "10     1     0   0       0     0    0      0  \n",
       "11     0     1   0       0     0    0      0  \n",
       "12     1     0   0       0     0    0      0  \n",
       "13     1     0   0       0     0    0      0  \n",
       "14     0     0   0       0     0    0      0  \n",
       "15     0     1   0       0     0    0      0  \n",
       "17     0     0   1       0     0    0      0  \n",
       "18     1     0   0       0     0    0      0  \n",
       "19     0     0   0       1     0    0      0  \n",
       "20     0     0   1       0     0    0      0  \n",
       "21     0     0   0       1     0    0      0  \n",
       "22     1     0   0       0     0    0      0  \n",
       "23     0     0   0       1     0    0      0  \n",
       "24     0     0   0       1     0    0      0  \n",
       "25     0     0   0       0     1    0      0  \n",
       "26     0     0   0       0     0    0      0  \n",
       "28     1     0   0       0     0    0      0  \n",
       "29     1     0   0       0     0    0      0  \n",
       "30     0     0   0       1     0    0      0  \n",
       "31     0     0   0       0     0    0      0  \n",
       "32     0     1   0       0     0    0      0  \n",
       "33     0     1   0       0     0    0      0  \n",
       "34     1     0   0       0     0    0      0  \n",
       "36     0     0   0       1     0    0      0  \n",
       "37     0     0   1       0     0    0      0  \n",
       "38     0     0   0       0     1    0      0  \n",
       "40     1     0   0       0     0    0      0  \n",
       "41     1     0   0       0     0    0      0  \n",
       "42     0     0   0       1     0    0      0  \n",
       "43     0     0   0       1     0    0      0  \n",
       "44     0     0   1       0     0    0      0  \n",
       "45     0     0   1       0     0    0      0  \n",
       "46     0     0   1       0     0    0      0  \n",
       "47     0     0   0       0     0    0      0  \n",
       "48     0     0   1       0     0    0      0  \n",
       "49     0     1   0       0     0    0      0  \n",
       "50     0     1   0       0     0    0      0  \n",
       "52     0     0   0       0     1    0      0  \n",
       "53     0     0   0       0     0    1      0  \n",
       "54     1     0   0       0     0    0      0  \n",
       "56     1     0   0       0     0    0      0  "
      ]
     },
     "execution_count": 129,
     "metadata": {},
     "output_type": "execute_result"
    }
   ],
   "source": [
    "#now make 10 binary variables\n",
    "for label in top_7:\n",
    "    df[label]=np.where(df['LAPTOP COMPANY']==label,1,0)\n",
    "    \n",
    "df.head(50)"
   ]
  },
  {
   "cell_type": "markdown",
   "metadata": {
    "id": "gz1j5YXpU6ZO"
   },
   "source": [
    "## Dummies for OS"
   ]
  },
  {
   "cell_type": "code",
   "execution_count": 130,
   "metadata": {
    "id": "q8Qr8VmMVAfj"
   },
   "outputs": [],
   "source": [
    "dummies_os=pd.get_dummies(df['OS'])"
   ]
  },
  {
   "cell_type": "code",
   "execution_count": 131,
   "metadata": {
    "colab": {
     "base_uri": "https://localhost:8080/",
     "height": 424
    },
    "id": "IbCPYOvlVLsk",
    "outputId": "534893d3-eb87-482d-bd43-554bef7fdab9"
   },
   "outputs": [
    {
     "data": {
      "text/html": [
       "<div>\n",
       "<style scoped>\n",
       "    .dataframe tbody tr th:only-of-type {\n",
       "        vertical-align: middle;\n",
       "    }\n",
       "\n",
       "    .dataframe tbody tr th {\n",
       "        vertical-align: top;\n",
       "    }\n",
       "\n",
       "    .dataframe thead th {\n",
       "        text-align: right;\n",
       "    }\n",
       "</style>\n",
       "<table border=\"1\" class=\"dataframe\">\n",
       "  <thead>\n",
       "    <tr style=\"text-align: right;\">\n",
       "      <th></th>\n",
       "      <th>Chrome OS</th>\n",
       "      <th>DOS OS</th>\n",
       "      <th>Linux OS</th>\n",
       "      <th>Mac OS</th>\n",
       "      <th>Windows 10</th>\n",
       "      <th>Windows 11</th>\n",
       "      <th>Windows 8</th>\n",
       "    </tr>\n",
       "  </thead>\n",
       "  <tbody>\n",
       "    <tr>\n",
       "      <th>0</th>\n",
       "      <td>0</td>\n",
       "      <td>0</td>\n",
       "      <td>0</td>\n",
       "      <td>0</td>\n",
       "      <td>1</td>\n",
       "      <td>0</td>\n",
       "      <td>0</td>\n",
       "    </tr>\n",
       "    <tr>\n",
       "      <th>1</th>\n",
       "      <td>0</td>\n",
       "      <td>0</td>\n",
       "      <td>0</td>\n",
       "      <td>0</td>\n",
       "      <td>0</td>\n",
       "      <td>1</td>\n",
       "      <td>0</td>\n",
       "    </tr>\n",
       "    <tr>\n",
       "      <th>2</th>\n",
       "      <td>0</td>\n",
       "      <td>0</td>\n",
       "      <td>0</td>\n",
       "      <td>0</td>\n",
       "      <td>0</td>\n",
       "      <td>1</td>\n",
       "      <td>0</td>\n",
       "    </tr>\n",
       "    <tr>\n",
       "      <th>3</th>\n",
       "      <td>0</td>\n",
       "      <td>0</td>\n",
       "      <td>0</td>\n",
       "      <td>0</td>\n",
       "      <td>0</td>\n",
       "      <td>1</td>\n",
       "      <td>0</td>\n",
       "    </tr>\n",
       "    <tr>\n",
       "      <th>4</th>\n",
       "      <td>0</td>\n",
       "      <td>0</td>\n",
       "      <td>0</td>\n",
       "      <td>0</td>\n",
       "      <td>0</td>\n",
       "      <td>1</td>\n",
       "      <td>0</td>\n",
       "    </tr>\n",
       "    <tr>\n",
       "      <th>...</th>\n",
       "      <td>...</td>\n",
       "      <td>...</td>\n",
       "      <td>...</td>\n",
       "      <td>...</td>\n",
       "      <td>...</td>\n",
       "      <td>...</td>\n",
       "      <td>...</td>\n",
       "    </tr>\n",
       "    <tr>\n",
       "      <th>977</th>\n",
       "      <td>0</td>\n",
       "      <td>0</td>\n",
       "      <td>0</td>\n",
       "      <td>0</td>\n",
       "      <td>0</td>\n",
       "      <td>1</td>\n",
       "      <td>0</td>\n",
       "    </tr>\n",
       "    <tr>\n",
       "      <th>978</th>\n",
       "      <td>0</td>\n",
       "      <td>0</td>\n",
       "      <td>1</td>\n",
       "      <td>0</td>\n",
       "      <td>0</td>\n",
       "      <td>0</td>\n",
       "      <td>0</td>\n",
       "    </tr>\n",
       "    <tr>\n",
       "      <th>980</th>\n",
       "      <td>0</td>\n",
       "      <td>0</td>\n",
       "      <td>0</td>\n",
       "      <td>0</td>\n",
       "      <td>1</td>\n",
       "      <td>0</td>\n",
       "      <td>0</td>\n",
       "    </tr>\n",
       "    <tr>\n",
       "      <th>981</th>\n",
       "      <td>0</td>\n",
       "      <td>0</td>\n",
       "      <td>0</td>\n",
       "      <td>1</td>\n",
       "      <td>0</td>\n",
       "      <td>0</td>\n",
       "      <td>0</td>\n",
       "    </tr>\n",
       "    <tr>\n",
       "      <th>982</th>\n",
       "      <td>0</td>\n",
       "      <td>0</td>\n",
       "      <td>0</td>\n",
       "      <td>0</td>\n",
       "      <td>1</td>\n",
       "      <td>0</td>\n",
       "      <td>0</td>\n",
       "    </tr>\n",
       "  </tbody>\n",
       "</table>\n",
       "<p>694 rows × 7 columns</p>\n",
       "</div>"
      ],
      "text/plain": [
       "     Chrome OS  DOS OS  Linux OS  Mac OS  Windows 10  Windows 11  Windows 8\n",
       "0            0       0         0       0           1           0          0\n",
       "1            0       0         0       0           0           1          0\n",
       "2            0       0         0       0           0           1          0\n",
       "3            0       0         0       0           0           1          0\n",
       "4            0       0         0       0           0           1          0\n",
       "..         ...     ...       ...     ...         ...         ...        ...\n",
       "977          0       0         0       0           0           1          0\n",
       "978          0       0         1       0           0           0          0\n",
       "980          0       0         0       0           1           0          0\n",
       "981          0       0         0       1           0           0          0\n",
       "982          0       0         0       0           1           0          0\n",
       "\n",
       "[694 rows x 7 columns]"
      ]
     },
     "execution_count": 131,
     "metadata": {},
     "output_type": "execute_result"
    }
   ],
   "source": [
    "dummies_os"
   ]
  },
  {
   "cell_type": "code",
   "execution_count": 132,
   "metadata": {
    "id": "F9gIopKoVN_e"
   },
   "outputs": [],
   "source": [
    "dummies_os.drop(columns=['Linux OS'],inplace=True)"
   ]
  },
  {
   "cell_type": "code",
   "execution_count": 133,
   "metadata": {
    "colab": {
     "base_uri": "https://localhost:8080/"
    },
    "id": "Lrvv8MP3Ve42",
    "outputId": "e5070d21-ae91-4834-ac95-a9f17a3d23af"
   },
   "outputs": [
    {
     "data": {
      "text/plain": [
       "(694, 6)"
      ]
     },
     "execution_count": 133,
     "metadata": {},
     "output_type": "execute_result"
    }
   ],
   "source": [
    "dummies_os.shape"
   ]
  },
  {
   "cell_type": "markdown",
   "metadata": {
    "id": "HszXpx7rVxod"
   },
   "source": [
    "##Dummies for PROCESSOR BRAND : "
   ]
  },
  {
   "cell_type": "code",
   "execution_count": 134,
   "metadata": {
    "id": "GPIK7KzTV7yr"
   },
   "outputs": [],
   "source": [
    "dummies_processor_brand = pd.get_dummies(df['PROCESSOR BRAND'])"
   ]
  },
  {
   "cell_type": "code",
   "execution_count": 135,
   "metadata": {
    "colab": {
     "base_uri": "https://localhost:8080/",
     "height": 424
    },
    "id": "4JO_5_TIWHxf",
    "outputId": "82077080-b9a7-4fe1-8d29-8e02eecdcc6a"
   },
   "outputs": [
    {
     "data": {
      "text/html": [
       "<div>\n",
       "<style scoped>\n",
       "    .dataframe tbody tr th:only-of-type {\n",
       "        vertical-align: middle;\n",
       "    }\n",
       "\n",
       "    .dataframe tbody tr th {\n",
       "        vertical-align: top;\n",
       "    }\n",
       "\n",
       "    .dataframe thead th {\n",
       "        text-align: right;\n",
       "    }\n",
       "</style>\n",
       "<table border=\"1\" class=\"dataframe\">\n",
       "  <thead>\n",
       "    <tr style=\"text-align: right;\">\n",
       "      <th></th>\n",
       "      <th>AMD</th>\n",
       "      <th>Apple</th>\n",
       "      <th>Intel</th>\n",
       "    </tr>\n",
       "  </thead>\n",
       "  <tbody>\n",
       "    <tr>\n",
       "      <th>0</th>\n",
       "      <td>0</td>\n",
       "      <td>0</td>\n",
       "      <td>1</td>\n",
       "    </tr>\n",
       "    <tr>\n",
       "      <th>1</th>\n",
       "      <td>0</td>\n",
       "      <td>0</td>\n",
       "      <td>1</td>\n",
       "    </tr>\n",
       "    <tr>\n",
       "      <th>2</th>\n",
       "      <td>0</td>\n",
       "      <td>0</td>\n",
       "      <td>1</td>\n",
       "    </tr>\n",
       "    <tr>\n",
       "      <th>3</th>\n",
       "      <td>1</td>\n",
       "      <td>0</td>\n",
       "      <td>0</td>\n",
       "    </tr>\n",
       "    <tr>\n",
       "      <th>4</th>\n",
       "      <td>1</td>\n",
       "      <td>0</td>\n",
       "      <td>0</td>\n",
       "    </tr>\n",
       "    <tr>\n",
       "      <th>...</th>\n",
       "      <td>...</td>\n",
       "      <td>...</td>\n",
       "      <td>...</td>\n",
       "    </tr>\n",
       "    <tr>\n",
       "      <th>977</th>\n",
       "      <td>0</td>\n",
       "      <td>0</td>\n",
       "      <td>1</td>\n",
       "    </tr>\n",
       "    <tr>\n",
       "      <th>978</th>\n",
       "      <td>0</td>\n",
       "      <td>0</td>\n",
       "      <td>1</td>\n",
       "    </tr>\n",
       "    <tr>\n",
       "      <th>980</th>\n",
       "      <td>0</td>\n",
       "      <td>0</td>\n",
       "      <td>1</td>\n",
       "    </tr>\n",
       "    <tr>\n",
       "      <th>981</th>\n",
       "      <td>0</td>\n",
       "      <td>1</td>\n",
       "      <td>0</td>\n",
       "    </tr>\n",
       "    <tr>\n",
       "      <th>982</th>\n",
       "      <td>0</td>\n",
       "      <td>0</td>\n",
       "      <td>1</td>\n",
       "    </tr>\n",
       "  </tbody>\n",
       "</table>\n",
       "<p>694 rows × 3 columns</p>\n",
       "</div>"
      ],
      "text/plain": [
       "     AMD  Apple  Intel\n",
       "0      0      0      1\n",
       "1      0      0      1\n",
       "2      0      0      1\n",
       "3      1      0      0\n",
       "4      1      0      0\n",
       "..   ...    ...    ...\n",
       "977    0      0      1\n",
       "978    0      0      1\n",
       "980    0      0      1\n",
       "981    0      1      0\n",
       "982    0      0      1\n",
       "\n",
       "[694 rows x 3 columns]"
      ]
     },
     "execution_count": 135,
     "metadata": {},
     "output_type": "execute_result"
    }
   ],
   "source": [
    "dummies_processor_brand"
   ]
  },
  {
   "cell_type": "code",
   "execution_count": 136,
   "metadata": {
    "id": "CPIYBR0sWKpQ"
   },
   "outputs": [],
   "source": [
    "dummies_processor_brand.drop(columns=['Apple'], inplace=True)"
   ]
  },
  {
   "cell_type": "code",
   "execution_count": 137,
   "metadata": {
    "colab": {
     "base_uri": "https://localhost:8080/"
    },
    "id": "DfZaYJBzWVYU",
    "outputId": "4bd986ce-5086-47e9-b006-3af7dd4dae98"
   },
   "outputs": [
    {
     "data": {
      "text/plain": [
       "(694, 2)"
      ]
     },
     "execution_count": 137,
     "metadata": {},
     "output_type": "execute_result"
    }
   ],
   "source": [
    "dummies_processor_brand.shape"
   ]
  },
  {
   "cell_type": "markdown",
   "metadata": {
    "id": "3BfzYCTrWaNB"
   },
   "source": [
    "## Dummies for PROCESSOR NAME : "
   ]
  },
  {
   "cell_type": "code",
   "execution_count": 138,
   "metadata": {
    "id": "ITFosOA7WfFy"
   },
   "outputs": [],
   "source": [
    "dummies_processor_name = pd.get_dummies(df['PROCESSORS NAME'])"
   ]
  },
  {
   "cell_type": "code",
   "execution_count": 139,
   "metadata": {
    "colab": {
     "base_uri": "https://localhost:8080/",
     "height": 485
    },
    "id": "u2gEYUrfWoD5",
    "outputId": "81b594cd-8bd8-4a15-f994-2c42dc903c9f"
   },
   "outputs": [
    {
     "data": {
      "text/html": [
       "<div>\n",
       "<style scoped>\n",
       "    .dataframe tbody tr th:only-of-type {\n",
       "        vertical-align: middle;\n",
       "    }\n",
       "\n",
       "    .dataframe tbody tr th {\n",
       "        vertical-align: top;\n",
       "    }\n",
       "\n",
       "    .dataframe thead th {\n",
       "        text-align: right;\n",
       "    }\n",
       "</style>\n",
       "<table border=\"1\" class=\"dataframe\">\n",
       "  <thead>\n",
       "    <tr style=\"text-align: right;\">\n",
       "      <th></th>\n",
       "      <th>AMD Ryzen 3</th>\n",
       "      <th>AMD Ryzen 5</th>\n",
       "      <th>AMD Ryzen 7</th>\n",
       "      <th>AMD Ryzen 9</th>\n",
       "      <th>Apple M1 Pro</th>\n",
       "      <th>Apple M1 Processor</th>\n",
       "      <th>Apple M2 Processor</th>\n",
       "      <th>Intel Core i3</th>\n",
       "      <th>Intel Core i5</th>\n",
       "      <th>Intel Core i7</th>\n",
       "      <th>Intel Core i9</th>\n",
       "      <th>Other AMD Processors</th>\n",
       "      <th>Other Intel Processors</th>\n",
       "    </tr>\n",
       "  </thead>\n",
       "  <tbody>\n",
       "    <tr>\n",
       "      <th>0</th>\n",
       "      <td>0</td>\n",
       "      <td>0</td>\n",
       "      <td>0</td>\n",
       "      <td>0</td>\n",
       "      <td>0</td>\n",
       "      <td>0</td>\n",
       "      <td>0</td>\n",
       "      <td>0</td>\n",
       "      <td>0</td>\n",
       "      <td>1</td>\n",
       "      <td>0</td>\n",
       "      <td>0</td>\n",
       "      <td>0</td>\n",
       "    </tr>\n",
       "    <tr>\n",
       "      <th>1</th>\n",
       "      <td>0</td>\n",
       "      <td>0</td>\n",
       "      <td>0</td>\n",
       "      <td>0</td>\n",
       "      <td>0</td>\n",
       "      <td>0</td>\n",
       "      <td>0</td>\n",
       "      <td>0</td>\n",
       "      <td>1</td>\n",
       "      <td>0</td>\n",
       "      <td>0</td>\n",
       "      <td>0</td>\n",
       "      <td>0</td>\n",
       "    </tr>\n",
       "    <tr>\n",
       "      <th>2</th>\n",
       "      <td>0</td>\n",
       "      <td>0</td>\n",
       "      <td>0</td>\n",
       "      <td>0</td>\n",
       "      <td>0</td>\n",
       "      <td>0</td>\n",
       "      <td>0</td>\n",
       "      <td>1</td>\n",
       "      <td>0</td>\n",
       "      <td>0</td>\n",
       "      <td>0</td>\n",
       "      <td>0</td>\n",
       "      <td>0</td>\n",
       "    </tr>\n",
       "    <tr>\n",
       "      <th>3</th>\n",
       "      <td>1</td>\n",
       "      <td>0</td>\n",
       "      <td>0</td>\n",
       "      <td>0</td>\n",
       "      <td>0</td>\n",
       "      <td>0</td>\n",
       "      <td>0</td>\n",
       "      <td>0</td>\n",
       "      <td>0</td>\n",
       "      <td>0</td>\n",
       "      <td>0</td>\n",
       "      <td>0</td>\n",
       "      <td>0</td>\n",
       "    </tr>\n",
       "    <tr>\n",
       "      <th>4</th>\n",
       "      <td>0</td>\n",
       "      <td>0</td>\n",
       "      <td>1</td>\n",
       "      <td>0</td>\n",
       "      <td>0</td>\n",
       "      <td>0</td>\n",
       "      <td>0</td>\n",
       "      <td>0</td>\n",
       "      <td>0</td>\n",
       "      <td>0</td>\n",
       "      <td>0</td>\n",
       "      <td>0</td>\n",
       "      <td>0</td>\n",
       "    </tr>\n",
       "    <tr>\n",
       "      <th>...</th>\n",
       "      <td>...</td>\n",
       "      <td>...</td>\n",
       "      <td>...</td>\n",
       "      <td>...</td>\n",
       "      <td>...</td>\n",
       "      <td>...</td>\n",
       "      <td>...</td>\n",
       "      <td>...</td>\n",
       "      <td>...</td>\n",
       "      <td>...</td>\n",
       "      <td>...</td>\n",
       "      <td>...</td>\n",
       "      <td>...</td>\n",
       "    </tr>\n",
       "    <tr>\n",
       "      <th>977</th>\n",
       "      <td>0</td>\n",
       "      <td>0</td>\n",
       "      <td>0</td>\n",
       "      <td>0</td>\n",
       "      <td>0</td>\n",
       "      <td>0</td>\n",
       "      <td>0</td>\n",
       "      <td>0</td>\n",
       "      <td>1</td>\n",
       "      <td>0</td>\n",
       "      <td>0</td>\n",
       "      <td>0</td>\n",
       "      <td>0</td>\n",
       "    </tr>\n",
       "    <tr>\n",
       "      <th>978</th>\n",
       "      <td>0</td>\n",
       "      <td>0</td>\n",
       "      <td>0</td>\n",
       "      <td>0</td>\n",
       "      <td>0</td>\n",
       "      <td>0</td>\n",
       "      <td>0</td>\n",
       "      <td>0</td>\n",
       "      <td>1</td>\n",
       "      <td>0</td>\n",
       "      <td>0</td>\n",
       "      <td>0</td>\n",
       "      <td>0</td>\n",
       "    </tr>\n",
       "    <tr>\n",
       "      <th>980</th>\n",
       "      <td>0</td>\n",
       "      <td>0</td>\n",
       "      <td>0</td>\n",
       "      <td>0</td>\n",
       "      <td>0</td>\n",
       "      <td>0</td>\n",
       "      <td>0</td>\n",
       "      <td>0</td>\n",
       "      <td>0</td>\n",
       "      <td>0</td>\n",
       "      <td>0</td>\n",
       "      <td>0</td>\n",
       "      <td>1</td>\n",
       "    </tr>\n",
       "    <tr>\n",
       "      <th>981</th>\n",
       "      <td>0</td>\n",
       "      <td>0</td>\n",
       "      <td>0</td>\n",
       "      <td>0</td>\n",
       "      <td>0</td>\n",
       "      <td>0</td>\n",
       "      <td>1</td>\n",
       "      <td>0</td>\n",
       "      <td>0</td>\n",
       "      <td>0</td>\n",
       "      <td>0</td>\n",
       "      <td>0</td>\n",
       "      <td>0</td>\n",
       "    </tr>\n",
       "    <tr>\n",
       "      <th>982</th>\n",
       "      <td>0</td>\n",
       "      <td>0</td>\n",
       "      <td>0</td>\n",
       "      <td>0</td>\n",
       "      <td>0</td>\n",
       "      <td>0</td>\n",
       "      <td>0</td>\n",
       "      <td>0</td>\n",
       "      <td>1</td>\n",
       "      <td>0</td>\n",
       "      <td>0</td>\n",
       "      <td>0</td>\n",
       "      <td>0</td>\n",
       "    </tr>\n",
       "  </tbody>\n",
       "</table>\n",
       "<p>694 rows × 13 columns</p>\n",
       "</div>"
      ],
      "text/plain": [
       "     AMD Ryzen 3  AMD Ryzen 5  AMD Ryzen 7  AMD Ryzen 9  Apple M1 Pro  \\\n",
       "0              0            0            0            0             0   \n",
       "1              0            0            0            0             0   \n",
       "2              0            0            0            0             0   \n",
       "3              1            0            0            0             0   \n",
       "4              0            0            1            0             0   \n",
       "..           ...          ...          ...          ...           ...   \n",
       "977            0            0            0            0             0   \n",
       "978            0            0            0            0             0   \n",
       "980            0            0            0            0             0   \n",
       "981            0            0            0            0             0   \n",
       "982            0            0            0            0             0   \n",
       "\n",
       "     Apple M1 Processor  Apple M2 Processor  Intel Core i3  Intel Core i5  \\\n",
       "0                     0                   0              0              0   \n",
       "1                     0                   0              0              1   \n",
       "2                     0                   0              1              0   \n",
       "3                     0                   0              0              0   \n",
       "4                     0                   0              0              0   \n",
       "..                  ...                 ...            ...            ...   \n",
       "977                   0                   0              0              1   \n",
       "978                   0                   0              0              1   \n",
       "980                   0                   0              0              0   \n",
       "981                   0                   1              0              0   \n",
       "982                   0                   0              0              1   \n",
       "\n",
       "     Intel Core i7  Intel Core i9  Other AMD Processors  \\\n",
       "0                1              0                     0   \n",
       "1                0              0                     0   \n",
       "2                0              0                     0   \n",
       "3                0              0                     0   \n",
       "4                0              0                     0   \n",
       "..             ...            ...                   ...   \n",
       "977              0              0                     0   \n",
       "978              0              0                     0   \n",
       "980              0              0                     0   \n",
       "981              0              0                     0   \n",
       "982              0              0                     0   \n",
       "\n",
       "     Other Intel Processors  \n",
       "0                         0  \n",
       "1                         0  \n",
       "2                         0  \n",
       "3                         0  \n",
       "4                         0  \n",
       "..                      ...  \n",
       "977                       0  \n",
       "978                       0  \n",
       "980                       1  \n",
       "981                       0  \n",
       "982                       0  \n",
       "\n",
       "[694 rows x 13 columns]"
      ]
     },
     "execution_count": 139,
     "metadata": {},
     "output_type": "execute_result"
    }
   ],
   "source": [
    "dummies_processor_name"
   ]
  },
  {
   "cell_type": "code",
   "execution_count": 140,
   "metadata": {
    "id": "1lX62fmCWrWA"
   },
   "outputs": [],
   "source": [
    "dummies_processor_name.drop(columns=['Other Intel Processors'],inplace = True)"
   ]
  },
  {
   "cell_type": "code",
   "execution_count": 141,
   "metadata": {
    "colab": {
     "base_uri": "https://localhost:8080/"
    },
    "id": "G-OawgupW-qI",
    "outputId": "0ba8951d-76b3-4768-c63a-a5d281a54740"
   },
   "outputs": [
    {
     "data": {
      "text/plain": [
       "(694, 12)"
      ]
     },
     "execution_count": 141,
     "metadata": {},
     "output_type": "execute_result"
    }
   ],
   "source": [
    "dummies_processor_name.shape"
   ]
  },
  {
   "cell_type": "markdown",
   "metadata": {
    "id": "XjcbgN0xXH6U"
   },
   "source": [
    "##Merging DataFrame : "
   ]
  },
  {
   "cell_type": "code",
   "execution_count": 142,
   "metadata": {
    "id": "y21z45KcXLKr"
   },
   "outputs": [],
   "source": [
    "merged_df = pd.concat([df,dummies_processor_name,dummies_os,dummies_processor_brand], axis='columns')"
   ]
  },
  {
   "cell_type": "code",
   "execution_count": 143,
   "metadata": {
    "colab": {
     "base_uri": "https://localhost:8080/",
     "height": 641
    },
    "id": "OlsffnidYCL-",
    "outputId": "18610c93-cd24-479d-b8bb-941c0392c5fb"
   },
   "outputs": [
    {
     "data": {
      "text/html": [
       "<div>\n",
       "<style scoped>\n",
       "    .dataframe tbody tr th:only-of-type {\n",
       "        vertical-align: middle;\n",
       "    }\n",
       "\n",
       "    .dataframe tbody tr th {\n",
       "        vertical-align: top;\n",
       "    }\n",
       "\n",
       "    .dataframe thead th {\n",
       "        text-align: right;\n",
       "    }\n",
       "</style>\n",
       "<table border=\"1\" class=\"dataframe\">\n",
       "  <thead>\n",
       "    <tr style=\"text-align: right;\">\n",
       "      <th></th>\n",
       "      <th>PRICE</th>\n",
       "      <th>RAM</th>\n",
       "      <th>OS</th>\n",
       "      <th>INCHES</th>\n",
       "      <th>HDD</th>\n",
       "      <th>SSD</th>\n",
       "      <th>LAPTOP COMPANY</th>\n",
       "      <th>TOUCHSCREEN</th>\n",
       "      <th>PROCESSOR BRAND</th>\n",
       "      <th>PROCESSORS NAME</th>\n",
       "      <th>...</th>\n",
       "      <th>Intel Core i9</th>\n",
       "      <th>Other AMD Processors</th>\n",
       "      <th>Chrome OS</th>\n",
       "      <th>DOS OS</th>\n",
       "      <th>Mac OS</th>\n",
       "      <th>Windows 10</th>\n",
       "      <th>Windows 11</th>\n",
       "      <th>Windows 8</th>\n",
       "      <th>AMD</th>\n",
       "      <th>Intel</th>\n",
       "    </tr>\n",
       "  </thead>\n",
       "  <tbody>\n",
       "    <tr>\n",
       "      <th>0</th>\n",
       "      <td>69990</td>\n",
       "      <td>8</td>\n",
       "      <td>Windows 10</td>\n",
       "      <td>15.6</td>\n",
       "      <td>0</td>\n",
       "      <td>512</td>\n",
       "      <td>Lenovo</td>\n",
       "      <td>0</td>\n",
       "      <td>Intel</td>\n",
       "      <td>Intel Core i7</td>\n",
       "      <td>...</td>\n",
       "      <td>0</td>\n",
       "      <td>0</td>\n",
       "      <td>0</td>\n",
       "      <td>0</td>\n",
       "      <td>0</td>\n",
       "      <td>1</td>\n",
       "      <td>0</td>\n",
       "      <td>0</td>\n",
       "      <td>0</td>\n",
       "      <td>1</td>\n",
       "    </tr>\n",
       "    <tr>\n",
       "      <th>1</th>\n",
       "      <td>53990</td>\n",
       "      <td>8</td>\n",
       "      <td>Windows 11</td>\n",
       "      <td>15.6</td>\n",
       "      <td>0</td>\n",
       "      <td>512</td>\n",
       "      <td>Lenovo</td>\n",
       "      <td>0</td>\n",
       "      <td>Intel</td>\n",
       "      <td>Intel Core i5</td>\n",
       "      <td>...</td>\n",
       "      <td>0</td>\n",
       "      <td>0</td>\n",
       "      <td>0</td>\n",
       "      <td>0</td>\n",
       "      <td>0</td>\n",
       "      <td>0</td>\n",
       "      <td>1</td>\n",
       "      <td>0</td>\n",
       "      <td>0</td>\n",
       "      <td>1</td>\n",
       "    </tr>\n",
       "    <tr>\n",
       "      <th>2</th>\n",
       "      <td>30990</td>\n",
       "      <td>8</td>\n",
       "      <td>Windows 11</td>\n",
       "      <td>15.6</td>\n",
       "      <td>0</td>\n",
       "      <td>256</td>\n",
       "      <td>Lenovo</td>\n",
       "      <td>0</td>\n",
       "      <td>Intel</td>\n",
       "      <td>Intel Core i3</td>\n",
       "      <td>...</td>\n",
       "      <td>0</td>\n",
       "      <td>0</td>\n",
       "      <td>0</td>\n",
       "      <td>0</td>\n",
       "      <td>0</td>\n",
       "      <td>0</td>\n",
       "      <td>1</td>\n",
       "      <td>0</td>\n",
       "      <td>0</td>\n",
       "      <td>1</td>\n",
       "    </tr>\n",
       "    <tr>\n",
       "      <th>3</th>\n",
       "      <td>31490</td>\n",
       "      <td>8</td>\n",
       "      <td>Windows 11</td>\n",
       "      <td>15.6</td>\n",
       "      <td>0</td>\n",
       "      <td>512</td>\n",
       "      <td>Lenovo</td>\n",
       "      <td>0</td>\n",
       "      <td>AMD</td>\n",
       "      <td>AMD Ryzen 3</td>\n",
       "      <td>...</td>\n",
       "      <td>0</td>\n",
       "      <td>0</td>\n",
       "      <td>0</td>\n",
       "      <td>0</td>\n",
       "      <td>0</td>\n",
       "      <td>0</td>\n",
       "      <td>1</td>\n",
       "      <td>0</td>\n",
       "      <td>1</td>\n",
       "      <td>0</td>\n",
       "    </tr>\n",
       "    <tr>\n",
       "      <th>4</th>\n",
       "      <td>44990</td>\n",
       "      <td>16</td>\n",
       "      <td>Windows 11</td>\n",
       "      <td>15.6</td>\n",
       "      <td>0</td>\n",
       "      <td>512</td>\n",
       "      <td>ASUS</td>\n",
       "      <td>0</td>\n",
       "      <td>AMD</td>\n",
       "      <td>AMD Ryzen 7</td>\n",
       "      <td>...</td>\n",
       "      <td>0</td>\n",
       "      <td>0</td>\n",
       "      <td>0</td>\n",
       "      <td>0</td>\n",
       "      <td>0</td>\n",
       "      <td>0</td>\n",
       "      <td>1</td>\n",
       "      <td>0</td>\n",
       "      <td>1</td>\n",
       "      <td>0</td>\n",
       "    </tr>\n",
       "    <tr>\n",
       "      <th>...</th>\n",
       "      <td>...</td>\n",
       "      <td>...</td>\n",
       "      <td>...</td>\n",
       "      <td>...</td>\n",
       "      <td>...</td>\n",
       "      <td>...</td>\n",
       "      <td>...</td>\n",
       "      <td>...</td>\n",
       "      <td>...</td>\n",
       "      <td>...</td>\n",
       "      <td>...</td>\n",
       "      <td>...</td>\n",
       "      <td>...</td>\n",
       "      <td>...</td>\n",
       "      <td>...</td>\n",
       "      <td>...</td>\n",
       "      <td>...</td>\n",
       "      <td>...</td>\n",
       "      <td>...</td>\n",
       "      <td>...</td>\n",
       "      <td>...</td>\n",
       "    </tr>\n",
       "    <tr>\n",
       "      <th>977</th>\n",
       "      <td>78500</td>\n",
       "      <td>16</td>\n",
       "      <td>Windows 11</td>\n",
       "      <td>15.6</td>\n",
       "      <td>0</td>\n",
       "      <td>512</td>\n",
       "      <td>HP</td>\n",
       "      <td>0</td>\n",
       "      <td>Intel</td>\n",
       "      <td>Intel Core i5</td>\n",
       "      <td>...</td>\n",
       "      <td>0</td>\n",
       "      <td>0</td>\n",
       "      <td>0</td>\n",
       "      <td>0</td>\n",
       "      <td>0</td>\n",
       "      <td>0</td>\n",
       "      <td>1</td>\n",
       "      <td>0</td>\n",
       "      <td>0</td>\n",
       "      <td>1</td>\n",
       "    </tr>\n",
       "    <tr>\n",
       "      <th>978</th>\n",
       "      <td>72000</td>\n",
       "      <td>8</td>\n",
       "      <td>Linux OS</td>\n",
       "      <td>14.0</td>\n",
       "      <td>0</td>\n",
       "      <td>512</td>\n",
       "      <td>DELL</td>\n",
       "      <td>0</td>\n",
       "      <td>Intel</td>\n",
       "      <td>Intel Core i5</td>\n",
       "      <td>...</td>\n",
       "      <td>0</td>\n",
       "      <td>0</td>\n",
       "      <td>0</td>\n",
       "      <td>0</td>\n",
       "      <td>0</td>\n",
       "      <td>0</td>\n",
       "      <td>0</td>\n",
       "      <td>0</td>\n",
       "      <td>0</td>\n",
       "      <td>1</td>\n",
       "    </tr>\n",
       "    <tr>\n",
       "      <th>980</th>\n",
       "      <td>38500</td>\n",
       "      <td>8</td>\n",
       "      <td>Windows 10</td>\n",
       "      <td>14.0</td>\n",
       "      <td>0</td>\n",
       "      <td>256</td>\n",
       "      <td>HP</td>\n",
       "      <td>0</td>\n",
       "      <td>Intel</td>\n",
       "      <td>Other Intel Processors</td>\n",
       "      <td>...</td>\n",
       "      <td>0</td>\n",
       "      <td>0</td>\n",
       "      <td>0</td>\n",
       "      <td>0</td>\n",
       "      <td>0</td>\n",
       "      <td>1</td>\n",
       "      <td>0</td>\n",
       "      <td>0</td>\n",
       "      <td>0</td>\n",
       "      <td>1</td>\n",
       "    </tr>\n",
       "    <tr>\n",
       "      <th>981</th>\n",
       "      <td>142990</td>\n",
       "      <td>8</td>\n",
       "      <td>Mac OS</td>\n",
       "      <td>13.3</td>\n",
       "      <td>0</td>\n",
       "      <td>512</td>\n",
       "      <td>APPLE</td>\n",
       "      <td>0</td>\n",
       "      <td>Apple</td>\n",
       "      <td>Apple M2 Processor</td>\n",
       "      <td>...</td>\n",
       "      <td>0</td>\n",
       "      <td>0</td>\n",
       "      <td>0</td>\n",
       "      <td>0</td>\n",
       "      <td>1</td>\n",
       "      <td>0</td>\n",
       "      <td>0</td>\n",
       "      <td>0</td>\n",
       "      <td>0</td>\n",
       "      <td>0</td>\n",
       "    </tr>\n",
       "    <tr>\n",
       "      <th>982</th>\n",
       "      <td>65250</td>\n",
       "      <td>8</td>\n",
       "      <td>Windows 10</td>\n",
       "      <td>15.6</td>\n",
       "      <td>1000</td>\n",
       "      <td>256</td>\n",
       "      <td>Lenovo</td>\n",
       "      <td>0</td>\n",
       "      <td>Intel</td>\n",
       "      <td>Intel Core i5</td>\n",
       "      <td>...</td>\n",
       "      <td>0</td>\n",
       "      <td>0</td>\n",
       "      <td>0</td>\n",
       "      <td>0</td>\n",
       "      <td>0</td>\n",
       "      <td>1</td>\n",
       "      <td>0</td>\n",
       "      <td>0</td>\n",
       "      <td>0</td>\n",
       "      <td>1</td>\n",
       "    </tr>\n",
       "  </tbody>\n",
       "</table>\n",
       "<p>694 rows × 39 columns</p>\n",
       "</div>"
      ],
      "text/plain": [
       "      PRICE  RAM          OS  INCHES   HDD  SSD LAPTOP COMPANY  TOUCHSCREEN  \\\n",
       "0     69990    8  Windows 10    15.6     0  512         Lenovo            0   \n",
       "1     53990    8  Windows 11    15.6     0  512         Lenovo            0   \n",
       "2     30990    8  Windows 11    15.6     0  256         Lenovo            0   \n",
       "3     31490    8  Windows 11    15.6     0  512         Lenovo            0   \n",
       "4     44990   16  Windows 11    15.6     0  512           ASUS            0   \n",
       "..      ...  ...         ...     ...   ...  ...            ...          ...   \n",
       "977   78500   16  Windows 11    15.6     0  512             HP            0   \n",
       "978   72000    8    Linux OS    14.0     0  512           DELL            0   \n",
       "980   38500    8  Windows 10    14.0     0  256             HP            0   \n",
       "981  142990    8      Mac OS    13.3     0  512          APPLE            0   \n",
       "982   65250    8  Windows 10    15.6  1000  256         Lenovo            0   \n",
       "\n",
       "    PROCESSOR BRAND         PROCESSORS NAME  ...  Intel Core i9  \\\n",
       "0             Intel           Intel Core i7  ...              0   \n",
       "1             Intel           Intel Core i5  ...              0   \n",
       "2             Intel           Intel Core i3  ...              0   \n",
       "3               AMD             AMD Ryzen 3  ...              0   \n",
       "4               AMD             AMD Ryzen 7  ...              0   \n",
       "..              ...                     ...  ...            ...   \n",
       "977           Intel           Intel Core i5  ...              0   \n",
       "978           Intel           Intel Core i5  ...              0   \n",
       "980           Intel  Other Intel Processors  ...              0   \n",
       "981           Apple      Apple M2 Processor  ...              0   \n",
       "982           Intel           Intel Core i5  ...              0   \n",
       "\n",
       "     Other AMD Processors  Chrome OS  DOS OS  Mac OS  Windows 10  Windows 11  \\\n",
       "0                       0          0       0       0           1           0   \n",
       "1                       0          0       0       0           0           1   \n",
       "2                       0          0       0       0           0           1   \n",
       "3                       0          0       0       0           0           1   \n",
       "4                       0          0       0       0           0           1   \n",
       "..                    ...        ...     ...     ...         ...         ...   \n",
       "977                     0          0       0       0           0           1   \n",
       "978                     0          0       0       0           0           0   \n",
       "980                     0          0       0       0           1           0   \n",
       "981                     0          0       0       1           0           0   \n",
       "982                     0          0       0       0           1           0   \n",
       "\n",
       "     Windows 8  AMD  Intel  \n",
       "0            0    0      1  \n",
       "1            0    0      1  \n",
       "2            0    0      1  \n",
       "3            0    1      0  \n",
       "4            0    1      0  \n",
       "..         ...  ...    ...  \n",
       "977          0    0      1  \n",
       "978          0    0      1  \n",
       "980          0    0      1  \n",
       "981          0    0      0  \n",
       "982          0    0      1  \n",
       "\n",
       "[694 rows x 39 columns]"
      ]
     },
     "execution_count": 143,
     "metadata": {},
     "output_type": "execute_result"
    }
   ],
   "source": [
    "merged_df"
   ]
  },
  {
   "cell_type": "markdown",
   "metadata": {
    "id": "Mo75LE1WYQHG"
   },
   "source": [
    "##Dropping Categorical Columns : "
   ]
  },
  {
   "cell_type": "code",
   "execution_count": 144,
   "metadata": {
    "id": "gOOiYfQWYWpI"
   },
   "outputs": [],
   "source": [
    "merged_df.drop(columns=['LAPTOP COMPANY','OS','PROCESSOR BRAND','PROCESSORS NAME'], inplace=True)"
   ]
  },
  {
   "cell_type": "code",
   "execution_count": 145,
   "metadata": {
    "colab": {
     "base_uri": "https://localhost:8080/"
    },
    "id": "JPsdxza4ZSLV",
    "outputId": "4a3bf671-252c-465e-992a-13cc20feaad5"
   },
   "outputs": [
    {
     "data": {
      "text/plain": [
       "(694, 35)"
      ]
     },
     "execution_count": 145,
     "metadata": {},
     "output_type": "execute_result"
    }
   ],
   "source": [
    "merged_df.shape"
   ]
  },
  {
   "cell_type": "code",
   "execution_count": 146,
   "metadata": {
    "colab": {
     "base_uri": "https://localhost:8080/"
    },
    "id": "cBJOFbdmZVi_",
    "outputId": "e1c01262-90a0-4d74-84ed-7048e30b7863"
   },
   "outputs": [
    {
     "name": "stdout",
     "output_type": "stream",
     "text": [
      "<class 'pandas.core.frame.DataFrame'>\n",
      "Int64Index: 694 entries, 0 to 982\n",
      "Data columns (total 35 columns):\n",
      " #   Column                Non-Null Count  Dtype  \n",
      "---  ------                --------------  -----  \n",
      " 0   PRICE                 694 non-null    int64  \n",
      " 1   RAM                   694 non-null    int64  \n",
      " 2   INCHES                694 non-null    float64\n",
      " 3   HDD                   694 non-null    int64  \n",
      " 4   SSD                   694 non-null    int64  \n",
      " 5   TOUCHSCREEN           694 non-null    int64  \n",
      " 6   GAMING LAPTOP         694 non-null    int64  \n",
      " 7   GRAPHICS CARD         694 non-null    int64  \n",
      " 8   ASUS                  694 non-null    int32  \n",
      " 9   DELL                  694 non-null    int32  \n",
      " 10  HP                    694 non-null    int32  \n",
      " 11  Lenovo                694 non-null    int32  \n",
      " 12  acer                  694 non-null    int32  \n",
      " 13  MSI                   694 non-null    int32  \n",
      " 14  APPLE                 694 non-null    int32  \n",
      " 15  AMD Ryzen 3           694 non-null    uint8  \n",
      " 16  AMD Ryzen 5           694 non-null    uint8  \n",
      " 17  AMD Ryzen 7           694 non-null    uint8  \n",
      " 18  AMD Ryzen 9           694 non-null    uint8  \n",
      " 19  Apple M1 Pro          694 non-null    uint8  \n",
      " 20  Apple M1 Processor    694 non-null    uint8  \n",
      " 21  Apple M2 Processor    694 non-null    uint8  \n",
      " 22  Intel Core i3         694 non-null    uint8  \n",
      " 23  Intel Core i5         694 non-null    uint8  \n",
      " 24  Intel Core i7         694 non-null    uint8  \n",
      " 25  Intel Core i9         694 non-null    uint8  \n",
      " 26  Other AMD Processors  694 non-null    uint8  \n",
      " 27  Chrome OS             694 non-null    uint8  \n",
      " 28  DOS OS                694 non-null    uint8  \n",
      " 29  Mac OS                694 non-null    uint8  \n",
      " 30  Windows 10            694 non-null    uint8  \n",
      " 31  Windows 11            694 non-null    uint8  \n",
      " 32  Windows 8             694 non-null    uint8  \n",
      " 33  AMD                   694 non-null    uint8  \n",
      " 34  Intel                 694 non-null    uint8  \n",
      "dtypes: float64(1), int32(7), int64(7), uint8(20)\n",
      "memory usage: 81.3 KB\n"
     ]
    }
   ],
   "source": [
    "merged_df.info()"
   ]
  },
  {
   "cell_type": "markdown",
   "metadata": {
    "id": "xXbYRZC1pqnm"
   },
   "source": [
    "# Before log transformation of 'PRICE' : "
   ]
  },
  {
   "cell_type": "markdown",
   "metadata": {
    "id": "vTfXe4uqpSgk"
   },
   "source": [
    "## Seperating Dependent and Independent Variables : "
   ]
  },
  {
   "cell_type": "code",
   "execution_count": 147,
   "metadata": {
    "id": "Pj03TnoXbpcF"
   },
   "outputs": [],
   "source": [
    "#Storing independent variables.\n",
    "x = merged_df.drop(columns=['PRICE'])"
   ]
  },
  {
   "cell_type": "code",
   "execution_count": 148,
   "metadata": {
    "colab": {
     "base_uri": "https://localhost:8080/"
    },
    "id": "wxT8XHfab97g",
    "outputId": "b94041cd-3de9-4947-9179-27367c517bbf"
   },
   "outputs": [
    {
     "data": {
      "text/plain": [
       "(694, 34)"
      ]
     },
     "execution_count": 148,
     "metadata": {},
     "output_type": "execute_result"
    }
   ],
   "source": [
    "x.shape"
   ]
  },
  {
   "cell_type": "code",
   "execution_count": 149,
   "metadata": {
    "id": "qepZdL1oZYnD"
   },
   "outputs": [],
   "source": [
    "#Storing dependent variable.\n",
    "y = merged_df['PRICE']"
   ]
  },
  {
   "cell_type": "code",
   "execution_count": 150,
   "metadata": {
    "colab": {
     "base_uri": "https://localhost:8080/"
    },
    "id": "id86al88bnZZ",
    "outputId": "22188827-d8b7-4970-d09c-51e9f17b484a"
   },
   "outputs": [
    {
     "data": {
      "text/plain": [
       "(694,)"
      ]
     },
     "execution_count": 150,
     "metadata": {},
     "output_type": "execute_result"
    }
   ],
   "source": [
    "y.shape"
   ]
  },
  {
   "cell_type": "markdown",
   "metadata": {
    "id": "2heNSUIRpGTq"
   },
   "source": [
    "## Splitting of DATA :"
   ]
  },
  {
   "cell_type": "code",
   "execution_count": 151,
   "metadata": {
    "id": "iwS4ni6oct5R"
   },
   "outputs": [],
   "source": [
    "x_train, x_test, y_train, y_test = train_test_split(x,y,test_size=0.20,random_state=0)"
   ]
  },
  {
   "cell_type": "markdown",
   "metadata": {
    "id": "I2uKYkG-fKx0"
   },
   "source": [
    "# Linear regression :"
   ]
  },
  {
   "cell_type": "code",
   "execution_count": 152,
   "metadata": {
    "id": "rhPKS4e3c0Xl"
   },
   "outputs": [],
   "source": [
    "lin_reg = LinearRegression()"
   ]
  },
  {
   "cell_type": "code",
   "execution_count": 153,
   "metadata": {
    "colab": {
     "base_uri": "https://localhost:8080/"
    },
    "id": "970OvSpwdMQg",
    "outputId": "18d72495-5fd3-4259-907e-a969fb04d96d"
   },
   "outputs": [
    {
     "data": {
      "text/html": [
       "<style>#sk-container-id-1 {color: black;background-color: white;}#sk-container-id-1 pre{padding: 0;}#sk-container-id-1 div.sk-toggleable {background-color: white;}#sk-container-id-1 label.sk-toggleable__label {cursor: pointer;display: block;width: 100%;margin-bottom: 0;padding: 0.3em;box-sizing: border-box;text-align: center;}#sk-container-id-1 label.sk-toggleable__label-arrow:before {content: \"▸\";float: left;margin-right: 0.25em;color: #696969;}#sk-container-id-1 label.sk-toggleable__label-arrow:hover:before {color: black;}#sk-container-id-1 div.sk-estimator:hover label.sk-toggleable__label-arrow:before {color: black;}#sk-container-id-1 div.sk-toggleable__content {max-height: 0;max-width: 0;overflow: hidden;text-align: left;background-color: #f0f8ff;}#sk-container-id-1 div.sk-toggleable__content pre {margin: 0.2em;color: black;border-radius: 0.25em;background-color: #f0f8ff;}#sk-container-id-1 input.sk-toggleable__control:checked~div.sk-toggleable__content {max-height: 200px;max-width: 100%;overflow: auto;}#sk-container-id-1 input.sk-toggleable__control:checked~label.sk-toggleable__label-arrow:before {content: \"▾\";}#sk-container-id-1 div.sk-estimator input.sk-toggleable__control:checked~label.sk-toggleable__label {background-color: #d4ebff;}#sk-container-id-1 div.sk-label input.sk-toggleable__control:checked~label.sk-toggleable__label {background-color: #d4ebff;}#sk-container-id-1 input.sk-hidden--visually {border: 0;clip: rect(1px 1px 1px 1px);clip: rect(1px, 1px, 1px, 1px);height: 1px;margin: -1px;overflow: hidden;padding: 0;position: absolute;width: 1px;}#sk-container-id-1 div.sk-estimator {font-family: monospace;background-color: #f0f8ff;border: 1px dotted black;border-radius: 0.25em;box-sizing: border-box;margin-bottom: 0.5em;}#sk-container-id-1 div.sk-estimator:hover {background-color: #d4ebff;}#sk-container-id-1 div.sk-parallel-item::after {content: \"\";width: 100%;border-bottom: 1px solid gray;flex-grow: 1;}#sk-container-id-1 div.sk-label:hover label.sk-toggleable__label {background-color: #d4ebff;}#sk-container-id-1 div.sk-serial::before {content: \"\";position: absolute;border-left: 1px solid gray;box-sizing: border-box;top: 0;bottom: 0;left: 50%;z-index: 0;}#sk-container-id-1 div.sk-serial {display: flex;flex-direction: column;align-items: center;background-color: white;padding-right: 0.2em;padding-left: 0.2em;position: relative;}#sk-container-id-1 div.sk-item {position: relative;z-index: 1;}#sk-container-id-1 div.sk-parallel {display: flex;align-items: stretch;justify-content: center;background-color: white;position: relative;}#sk-container-id-1 div.sk-item::before, #sk-container-id-1 div.sk-parallel-item::before {content: \"\";position: absolute;border-left: 1px solid gray;box-sizing: border-box;top: 0;bottom: 0;left: 50%;z-index: -1;}#sk-container-id-1 div.sk-parallel-item {display: flex;flex-direction: column;z-index: 1;position: relative;background-color: white;}#sk-container-id-1 div.sk-parallel-item:first-child::after {align-self: flex-end;width: 50%;}#sk-container-id-1 div.sk-parallel-item:last-child::after {align-self: flex-start;width: 50%;}#sk-container-id-1 div.sk-parallel-item:only-child::after {width: 0;}#sk-container-id-1 div.sk-dashed-wrapped {border: 1px dashed gray;margin: 0 0.4em 0.5em 0.4em;box-sizing: border-box;padding-bottom: 0.4em;background-color: white;}#sk-container-id-1 div.sk-label label {font-family: monospace;font-weight: bold;display: inline-block;line-height: 1.2em;}#sk-container-id-1 div.sk-label-container {text-align: center;}#sk-container-id-1 div.sk-container {/* jupyter's `normalize.less` sets `[hidden] { display: none; }` but bootstrap.min.css set `[hidden] { display: none !important; }` so we also need the `!important` here to be able to override the default hidden behavior on the sphinx rendered scikit-learn.org. See: https://github.com/scikit-learn/scikit-learn/issues/21755 */display: inline-block !important;position: relative;}#sk-container-id-1 div.sk-text-repr-fallback {display: none;}</style><div id=\"sk-container-id-1\" class=\"sk-top-container\"><div class=\"sk-text-repr-fallback\"><pre>LinearRegression()</pre><b>In a Jupyter environment, please rerun this cell to show the HTML representation or trust the notebook. <br />On GitHub, the HTML representation is unable to render, please try loading this page with nbviewer.org.</b></div><div class=\"sk-container\" hidden><div class=\"sk-item\"><div class=\"sk-estimator sk-toggleable\"><input class=\"sk-toggleable__control sk-hidden--visually\" id=\"sk-estimator-id-1\" type=\"checkbox\" checked><label for=\"sk-estimator-id-1\" class=\"sk-toggleable__label sk-toggleable__label-arrow\">LinearRegression</label><div class=\"sk-toggleable__content\"><pre>LinearRegression()</pre></div></div></div></div></div>"
      ],
      "text/plain": [
       "LinearRegression()"
      ]
     },
     "execution_count": 153,
     "metadata": {},
     "output_type": "execute_result"
    }
   ],
   "source": [
    "lin_reg.fit(x_train,y_train)"
   ]
  },
  {
   "cell_type": "code",
   "execution_count": 154,
   "metadata": {
    "id": "N1jqZL9goGdZ"
   },
   "outputs": [],
   "source": [
    "y_pred_train = lin_reg.predict(x_train)"
   ]
  },
  {
   "cell_type": "code",
   "execution_count": 155,
   "metadata": {
    "colab": {
     "base_uri": "https://localhost:8080/"
    },
    "id": "OLDk_arIoYCs",
    "outputId": "cde4dd60-3b02-4d68-bcf2-86f7130e0224"
   },
   "outputs": [
    {
     "data": {
      "text/plain": [
       "0.7926143360271034"
      ]
     },
     "execution_count": 155,
     "metadata": {},
     "output_type": "execute_result"
    }
   ],
   "source": [
    "r2_score(y_train,y_pred_train) #training"
   ]
  },
  {
   "cell_type": "code",
   "execution_count": 156,
   "metadata": {
    "id": "4ahcsI0PdwW5"
   },
   "outputs": [],
   "source": [
    "y_pred_test = lin_reg.predict(x_test)"
   ]
  },
  {
   "cell_type": "code",
   "execution_count": 288,
   "metadata": {
    "colab": {
     "base_uri": "https://localhost:8080/"
    },
    "id": "xnd7KBVzd-xi",
    "outputId": "6946d7eb-9e79-4e06-f67f-500d5894252d"
   },
   "outputs": [
    {
     "data": {
      "text/plain": [
       "0.7872360892293029"
      ]
     },
     "execution_count": 288,
     "metadata": {},
     "output_type": "execute_result"
    }
   ],
   "source": [
    "r2_score(y_test,y_pred_test) #testing"
   ]
  },
  {
   "cell_type": "code",
   "execution_count": 157,
   "metadata": {},
   "outputs": [
    {
     "name": "stdout",
     "output_type": "stream",
     "text": [
      "                            OLS Regression Results                            \n",
      "==============================================================================\n",
      "Dep. Variable:                  PRICE   R-squared:                       0.793\n",
      "Model:                            OLS   Adj. R-squared:                  0.780\n",
      "Method:                 Least Squares   F-statistic:                     64.48\n",
      "Date:                Wed, 21 Sep 2022   Prob (F-statistic):          3.91e-157\n",
      "Time:                        19:11:00   Log-Likelihood:                -6364.5\n",
      "No. Observations:                 555   AIC:                         1.279e+04\n",
      "Df Residuals:                     523   BIC:                         1.293e+04\n",
      "Df Model:                          31                                         \n",
      "Covariance Type:            nonrobust                                         \n",
      "========================================================================================\n",
      "                           coef    std err          t      P>|t|      [0.025      0.975]\n",
      "----------------------------------------------------------------------------------------\n",
      "RAM                   2962.6420    306.124      9.678      0.000    2361.258    3564.026\n",
      "INCHES                2350.3749   1442.477      1.629      0.104    -483.385    5184.135\n",
      "HDD                     17.3659      3.810      4.558      0.000       9.881      24.851\n",
      "SSD                     68.3886      5.981     11.434      0.000      56.638      80.139\n",
      "TOUCHSCREEN           1.684e+04   3608.269      4.667      0.000    9750.980    2.39e+04\n",
      "GAMING LAPTOP        -1.263e+04   5021.241     -2.514      0.012   -2.25e+04   -2761.409\n",
      "GRAPHICS CARD         1.419e+04   3044.600      4.661      0.000    8210.995    2.02e+04\n",
      "ASUS                 -1.491e+04   5054.475     -2.950      0.003   -2.48e+04   -4981.665\n",
      "DELL                  -1.44e+04   5377.235     -2.677      0.008    -2.5e+04   -3831.678\n",
      "HP                    -1.69e+04   5274.905     -3.204      0.001   -2.73e+04   -6537.035\n",
      "Lenovo               -1.784e+04   5322.195     -3.352      0.001   -2.83e+04   -7384.538\n",
      "acer                 -2.078e+04   6017.472     -3.453      0.001   -3.26e+04   -8957.305\n",
      "MSI                  -2.068e+04   6411.030     -3.226      0.001   -3.33e+04   -8084.463\n",
      "APPLE                 3.239e+04   1.27e+04      2.560      0.011    7535.151    5.73e+04\n",
      "AMD Ryzen 3          -1.504e+04   7309.523     -2.058      0.040   -2.94e+04    -684.844\n",
      "AMD Ryzen 5          -1.352e+04   5742.611     -2.355      0.019   -2.48e+04   -2242.511\n",
      "AMD Ryzen 7          -7576.8473   5881.963     -1.288      0.198   -1.91e+04    3978.330\n",
      "AMD Ryzen 9           2.319e+04   8080.901      2.869      0.004    7311.175    3.91e+04\n",
      "Apple M1 Pro          1.104e+04   4.16e+04      0.265      0.791   -7.07e+04    9.28e+04\n",
      "Apple M1 Processor   -4.045e+04   3.52e+04     -1.151      0.250    -1.1e+05    2.86e+04\n",
      "Apple M2 Processor    -1.18e+04   3.64e+04     -0.324      0.746   -8.33e+04    5.97e+04\n",
      "Intel Core i3        -9165.4075   7061.126     -1.298      0.195    -2.3e+04    4706.246\n",
      "Intel Core i5        -4331.8283   6940.713     -0.624      0.533    -1.8e+04    9303.273\n",
      "Intel Core i7         1.739e+04   7871.824      2.210      0.028    1930.287    3.29e+04\n",
      "Intel Core i9         5.389e+04   1.19e+04      4.527      0.000    3.05e+04    7.73e+04\n",
      "Other AMD Processors -7373.2132   9442.141     -0.781      0.435   -2.59e+04    1.12e+04\n",
      "Chrome OS             -7.85e+04   3.27e+04     -2.401      0.017   -1.43e+05   -1.43e+04\n",
      "DOS OS                1.338e+04   2.01e+04      0.666      0.506   -2.61e+04    5.29e+04\n",
      "Mac OS                3.239e+04   1.27e+04      2.560      0.011    7535.151    5.73e+04\n",
      "Windows 10            8556.0422   1.75e+04      0.488      0.626   -2.59e+04     4.3e+04\n",
      "Windows 11            3179.6837   1.76e+04      0.181      0.856   -3.13e+04    3.77e+04\n",
      "Windows 8             2.224e+04   2.96e+04      0.750      0.453    -3.6e+04    8.05e+04\n",
      "AMD                  -2.033e+04   2.39e+04     -0.850      0.396   -6.73e+04    2.67e+04\n",
      "Intel                -2.531e+04   2.72e+04     -0.932      0.352   -7.87e+04     2.8e+04\n",
      "==============================================================================\n",
      "Omnibus:                      198.596   Durbin-Watson:                   1.999\n",
      "Prob(Omnibus):                  0.000   Jarque-Bera (JB):             1650.954\n",
      "Skew:                           1.335   Prob(JB):                         0.00\n",
      "Kurtosis:                      11.016   Cond. No.                     1.08e+16\n",
      "==============================================================================\n",
      "\n",
      "Notes:\n",
      "[1] Standard Errors assume that the covariance matrix of the errors is correctly specified.\n",
      "[2] The smallest eigenvalue is 1.66e-24. This might indicate that there are\n",
      "strong multicollinearity problems or that the design matrix is singular.\n"
     ]
    }
   ],
   "source": [
    "import statsmodels.api as sm\n",
    "from statsmodels.sandbox.regression.predstd import wls_prediction_std \n",
    "model1=sm.OLS(y_train,x_train)\n",
    "result=model1.fit()\n",
    "print(result.summary())"
   ]
  },
  {
   "cell_type": "code",
   "execution_count": 159,
   "metadata": {},
   "outputs": [
    {
     "data": {
      "text/plain": [
       "12112.973508867302"
      ]
     },
     "execution_count": 159,
     "metadata": {},
     "output_type": "execute_result"
    }
   ],
   "source": [
    "# from sklearn.metrics import mean_absolute_error\n",
    "# mean_absolute_error(y_test, y_pred_test)"
   ]
  },
  {
   "cell_type": "code",
   "execution_count": 160,
   "metadata": {},
   "outputs": [
    {
     "data": {
      "text/plain": [
       "397734470.5327582"
      ]
     },
     "execution_count": 160,
     "metadata": {},
     "output_type": "execute_result"
    }
   ],
   "source": [
    "# from sklearn.metrics import mean_squared_error\n",
    "\n",
    "# mean_squared_error(y_test, y_pred_test)"
   ]
  },
  {
   "cell_type": "code",
   "execution_count": null,
   "metadata": {},
   "outputs": [],
   "source": []
  },
  {
   "cell_type": "markdown",
   "metadata": {
    "id": "L_7p-fG2otmt"
   },
   "source": [
    "## RIDGE REGRESSION"
   ]
  },
  {
   "cell_type": "code",
   "execution_count": 161,
   "metadata": {
    "id": "qumZx0TSo04C"
   },
   "outputs": [],
   "source": [
    "ridge_reg=Ridge(alpha=1,max_iter=100)"
   ]
  },
  {
   "cell_type": "code",
   "execution_count": 162,
   "metadata": {
    "colab": {
     "base_uri": "https://localhost:8080/"
    },
    "id": "y3PGSKg4o0zA",
    "outputId": "862579e6-d84d-45f8-b58a-fef120258192"
   },
   "outputs": [
    {
     "data": {
      "text/html": [
       "<style>#sk-container-id-2 {color: black;background-color: white;}#sk-container-id-2 pre{padding: 0;}#sk-container-id-2 div.sk-toggleable {background-color: white;}#sk-container-id-2 label.sk-toggleable__label {cursor: pointer;display: block;width: 100%;margin-bottom: 0;padding: 0.3em;box-sizing: border-box;text-align: center;}#sk-container-id-2 label.sk-toggleable__label-arrow:before {content: \"▸\";float: left;margin-right: 0.25em;color: #696969;}#sk-container-id-2 label.sk-toggleable__label-arrow:hover:before {color: black;}#sk-container-id-2 div.sk-estimator:hover label.sk-toggleable__label-arrow:before {color: black;}#sk-container-id-2 div.sk-toggleable__content {max-height: 0;max-width: 0;overflow: hidden;text-align: left;background-color: #f0f8ff;}#sk-container-id-2 div.sk-toggleable__content pre {margin: 0.2em;color: black;border-radius: 0.25em;background-color: #f0f8ff;}#sk-container-id-2 input.sk-toggleable__control:checked~div.sk-toggleable__content {max-height: 200px;max-width: 100%;overflow: auto;}#sk-container-id-2 input.sk-toggleable__control:checked~label.sk-toggleable__label-arrow:before {content: \"▾\";}#sk-container-id-2 div.sk-estimator input.sk-toggleable__control:checked~label.sk-toggleable__label {background-color: #d4ebff;}#sk-container-id-2 div.sk-label input.sk-toggleable__control:checked~label.sk-toggleable__label {background-color: #d4ebff;}#sk-container-id-2 input.sk-hidden--visually {border: 0;clip: rect(1px 1px 1px 1px);clip: rect(1px, 1px, 1px, 1px);height: 1px;margin: -1px;overflow: hidden;padding: 0;position: absolute;width: 1px;}#sk-container-id-2 div.sk-estimator {font-family: monospace;background-color: #f0f8ff;border: 1px dotted black;border-radius: 0.25em;box-sizing: border-box;margin-bottom: 0.5em;}#sk-container-id-2 div.sk-estimator:hover {background-color: #d4ebff;}#sk-container-id-2 div.sk-parallel-item::after {content: \"\";width: 100%;border-bottom: 1px solid gray;flex-grow: 1;}#sk-container-id-2 div.sk-label:hover label.sk-toggleable__label {background-color: #d4ebff;}#sk-container-id-2 div.sk-serial::before {content: \"\";position: absolute;border-left: 1px solid gray;box-sizing: border-box;top: 0;bottom: 0;left: 50%;z-index: 0;}#sk-container-id-2 div.sk-serial {display: flex;flex-direction: column;align-items: center;background-color: white;padding-right: 0.2em;padding-left: 0.2em;position: relative;}#sk-container-id-2 div.sk-item {position: relative;z-index: 1;}#sk-container-id-2 div.sk-parallel {display: flex;align-items: stretch;justify-content: center;background-color: white;position: relative;}#sk-container-id-2 div.sk-item::before, #sk-container-id-2 div.sk-parallel-item::before {content: \"\";position: absolute;border-left: 1px solid gray;box-sizing: border-box;top: 0;bottom: 0;left: 50%;z-index: -1;}#sk-container-id-2 div.sk-parallel-item {display: flex;flex-direction: column;z-index: 1;position: relative;background-color: white;}#sk-container-id-2 div.sk-parallel-item:first-child::after {align-self: flex-end;width: 50%;}#sk-container-id-2 div.sk-parallel-item:last-child::after {align-self: flex-start;width: 50%;}#sk-container-id-2 div.sk-parallel-item:only-child::after {width: 0;}#sk-container-id-2 div.sk-dashed-wrapped {border: 1px dashed gray;margin: 0 0.4em 0.5em 0.4em;box-sizing: border-box;padding-bottom: 0.4em;background-color: white;}#sk-container-id-2 div.sk-label label {font-family: monospace;font-weight: bold;display: inline-block;line-height: 1.2em;}#sk-container-id-2 div.sk-label-container {text-align: center;}#sk-container-id-2 div.sk-container {/* jupyter's `normalize.less` sets `[hidden] { display: none; }` but bootstrap.min.css set `[hidden] { display: none !important; }` so we also need the `!important` here to be able to override the default hidden behavior on the sphinx rendered scikit-learn.org. See: https://github.com/scikit-learn/scikit-learn/issues/21755 */display: inline-block !important;position: relative;}#sk-container-id-2 div.sk-text-repr-fallback {display: none;}</style><div id=\"sk-container-id-2\" class=\"sk-top-container\"><div class=\"sk-text-repr-fallback\"><pre>Ridge(alpha=1, max_iter=100)</pre><b>In a Jupyter environment, please rerun this cell to show the HTML representation or trust the notebook. <br />On GitHub, the HTML representation is unable to render, please try loading this page with nbviewer.org.</b></div><div class=\"sk-container\" hidden><div class=\"sk-item\"><div class=\"sk-estimator sk-toggleable\"><input class=\"sk-toggleable__control sk-hidden--visually\" id=\"sk-estimator-id-2\" type=\"checkbox\" checked><label for=\"sk-estimator-id-2\" class=\"sk-toggleable__label sk-toggleable__label-arrow\">Ridge</label><div class=\"sk-toggleable__content\"><pre>Ridge(alpha=1, max_iter=100)</pre></div></div></div></div></div>"
      ],
      "text/plain": [
       "Ridge(alpha=1, max_iter=100)"
      ]
     },
     "execution_count": 162,
     "metadata": {},
     "output_type": "execute_result"
    }
   ],
   "source": [
    "ridge_reg.fit(x_train,y_train)"
   ]
  },
  {
   "cell_type": "code",
   "execution_count": 163,
   "metadata": {
    "colab": {
     "base_uri": "https://localhost:8080/"
    },
    "id": "mN-7JZ5Xo0wY",
    "outputId": "61125df4-0d39-40fd-f47f-3963b25f6425"
   },
   "outputs": [
    {
     "data": {
      "text/plain": [
       "0.7905116827142029"
      ]
     },
     "execution_count": 163,
     "metadata": {},
     "output_type": "execute_result"
    }
   ],
   "source": [
    "ridge_reg.score(x_train,y_train)# Training"
   ]
  },
  {
   "cell_type": "code",
   "execution_count": 164,
   "metadata": {
    "colab": {
     "base_uri": "https://localhost:8080/"
    },
    "id": "P-q8ZvLHo0tk",
    "outputId": "3cce2ef9-625c-410f-8864-9e819cb25535"
   },
   "outputs": [
    {
     "data": {
      "text/plain": [
       "0.7922511069199007"
      ]
     },
     "execution_count": 164,
     "metadata": {},
     "output_type": "execute_result"
    }
   ],
   "source": [
    "ridge_reg.score(x_test,y_test)# Testing"
   ]
  },
  {
   "cell_type": "code",
   "execution_count": 165,
   "metadata": {},
   "outputs": [
    {
     "name": "stdout",
     "output_type": "stream",
     "text": [
      "                            OLS Regression Results                            \n",
      "==============================================================================\n",
      "Dep. Variable:                  PRICE   R-squared:                       0.793\n",
      "Model:                            OLS   Adj. R-squared:                  0.780\n",
      "Method:                 Least Squares   F-statistic:                     64.48\n",
      "Date:                Wed, 21 Sep 2022   Prob (F-statistic):          3.91e-157\n",
      "Time:                        19:15:23   Log-Likelihood:                -6364.5\n",
      "No. Observations:                 555   AIC:                         1.279e+04\n",
      "Df Residuals:                     523   BIC:                         1.293e+04\n",
      "Df Model:                          31                                         \n",
      "Covariance Type:            nonrobust                                         \n",
      "========================================================================================\n",
      "                           coef    std err          t      P>|t|      [0.025      0.975]\n",
      "----------------------------------------------------------------------------------------\n",
      "RAM                   2962.6420    306.124      9.678      0.000    2361.258    3564.026\n",
      "INCHES                2350.3749   1442.477      1.629      0.104    -483.385    5184.135\n",
      "HDD                     17.3659      3.810      4.558      0.000       9.881      24.851\n",
      "SSD                     68.3886      5.981     11.434      0.000      56.638      80.139\n",
      "TOUCHSCREEN           1.684e+04   3608.269      4.667      0.000    9750.980    2.39e+04\n",
      "GAMING LAPTOP        -1.263e+04   5021.241     -2.514      0.012   -2.25e+04   -2761.409\n",
      "GRAPHICS CARD         1.419e+04   3044.600      4.661      0.000    8210.995    2.02e+04\n",
      "ASUS                 -1.491e+04   5054.475     -2.950      0.003   -2.48e+04   -4981.665\n",
      "DELL                  -1.44e+04   5377.235     -2.677      0.008    -2.5e+04   -3831.678\n",
      "HP                    -1.69e+04   5274.905     -3.204      0.001   -2.73e+04   -6537.035\n",
      "Lenovo               -1.784e+04   5322.195     -3.352      0.001   -2.83e+04   -7384.538\n",
      "acer                 -2.078e+04   6017.472     -3.453      0.001   -3.26e+04   -8957.305\n",
      "MSI                  -2.068e+04   6411.030     -3.226      0.001   -3.33e+04   -8084.463\n",
      "APPLE                 3.239e+04   1.27e+04      2.560      0.011    7535.151    5.73e+04\n",
      "AMD Ryzen 3          -1.504e+04   7309.523     -2.058      0.040   -2.94e+04    -684.844\n",
      "AMD Ryzen 5          -1.352e+04   5742.611     -2.355      0.019   -2.48e+04   -2242.511\n",
      "AMD Ryzen 7          -7576.8473   5881.963     -1.288      0.198   -1.91e+04    3978.330\n",
      "AMD Ryzen 9           2.319e+04   8080.901      2.869      0.004    7311.175    3.91e+04\n",
      "Apple M1 Pro          1.104e+04   4.16e+04      0.265      0.791   -7.07e+04    9.28e+04\n",
      "Apple M1 Processor   -4.045e+04   3.52e+04     -1.151      0.250    -1.1e+05    2.86e+04\n",
      "Apple M2 Processor    -1.18e+04   3.64e+04     -0.324      0.746   -8.33e+04    5.97e+04\n",
      "Intel Core i3        -9165.4075   7061.126     -1.298      0.195    -2.3e+04    4706.246\n",
      "Intel Core i5        -4331.8283   6940.713     -0.624      0.533    -1.8e+04    9303.273\n",
      "Intel Core i7         1.739e+04   7871.824      2.210      0.028    1930.287    3.29e+04\n",
      "Intel Core i9         5.389e+04   1.19e+04      4.527      0.000    3.05e+04    7.73e+04\n",
      "Other AMD Processors -7373.2132   9442.141     -0.781      0.435   -2.59e+04    1.12e+04\n",
      "Chrome OS             -7.85e+04   3.27e+04     -2.401      0.017   -1.43e+05   -1.43e+04\n",
      "DOS OS                1.338e+04   2.01e+04      0.666      0.506   -2.61e+04    5.29e+04\n",
      "Mac OS                3.239e+04   1.27e+04      2.560      0.011    7535.151    5.73e+04\n",
      "Windows 10            8556.0422   1.75e+04      0.488      0.626   -2.59e+04     4.3e+04\n",
      "Windows 11            3179.6837   1.76e+04      0.181      0.856   -3.13e+04    3.77e+04\n",
      "Windows 8             2.224e+04   2.96e+04      0.750      0.453    -3.6e+04    8.05e+04\n",
      "AMD                  -2.033e+04   2.39e+04     -0.850      0.396   -6.73e+04    2.67e+04\n",
      "Intel                -2.531e+04   2.72e+04     -0.932      0.352   -7.87e+04     2.8e+04\n",
      "==============================================================================\n",
      "Omnibus:                      198.596   Durbin-Watson:                   1.999\n",
      "Prob(Omnibus):                  0.000   Jarque-Bera (JB):             1650.954\n",
      "Skew:                           1.335   Prob(JB):                         0.00\n",
      "Kurtosis:                      11.016   Cond. No.                     1.08e+16\n",
      "==============================================================================\n",
      "\n",
      "Notes:\n",
      "[1] Standard Errors assume that the covariance matrix of the errors is correctly specified.\n",
      "[2] The smallest eigenvalue is 1.66e-24. This might indicate that there are\n",
      "strong multicollinearity problems or that the design matrix is singular.\n"
     ]
    }
   ],
   "source": [
    "model1=sm.OLS(y_train,x_train)\n",
    "result=model1.fit()\n",
    "print(result.summary())"
   ]
  },
  {
   "cell_type": "markdown",
   "metadata": {
    "id": "aoZtmSvxMape"
   },
   "source": [
    "# LASSO REGRESSION"
   ]
  },
  {
   "cell_type": "code",
   "execution_count": 172,
   "metadata": {
    "id": "EaEOl4UzMBF4"
   },
   "outputs": [],
   "source": [
    "lasso_reg=Lasso(alpha=1,max_iter=100)"
   ]
  },
  {
   "cell_type": "code",
   "execution_count": 173,
   "metadata": {
    "colab": {
     "base_uri": "https://localhost:8080/"
    },
    "id": "lKf_fIVmM4kC",
    "outputId": "1a811aac-6611-44d8-fee6-4184fabc1df4"
   },
   "outputs": [
    {
     "data": {
      "text/html": [
       "<style>#sk-container-id-4 {color: black;background-color: white;}#sk-container-id-4 pre{padding: 0;}#sk-container-id-4 div.sk-toggleable {background-color: white;}#sk-container-id-4 label.sk-toggleable__label {cursor: pointer;display: block;width: 100%;margin-bottom: 0;padding: 0.3em;box-sizing: border-box;text-align: center;}#sk-container-id-4 label.sk-toggleable__label-arrow:before {content: \"▸\";float: left;margin-right: 0.25em;color: #696969;}#sk-container-id-4 label.sk-toggleable__label-arrow:hover:before {color: black;}#sk-container-id-4 div.sk-estimator:hover label.sk-toggleable__label-arrow:before {color: black;}#sk-container-id-4 div.sk-toggleable__content {max-height: 0;max-width: 0;overflow: hidden;text-align: left;background-color: #f0f8ff;}#sk-container-id-4 div.sk-toggleable__content pre {margin: 0.2em;color: black;border-radius: 0.25em;background-color: #f0f8ff;}#sk-container-id-4 input.sk-toggleable__control:checked~div.sk-toggleable__content {max-height: 200px;max-width: 100%;overflow: auto;}#sk-container-id-4 input.sk-toggleable__control:checked~label.sk-toggleable__label-arrow:before {content: \"▾\";}#sk-container-id-4 div.sk-estimator input.sk-toggleable__control:checked~label.sk-toggleable__label {background-color: #d4ebff;}#sk-container-id-4 div.sk-label input.sk-toggleable__control:checked~label.sk-toggleable__label {background-color: #d4ebff;}#sk-container-id-4 input.sk-hidden--visually {border: 0;clip: rect(1px 1px 1px 1px);clip: rect(1px, 1px, 1px, 1px);height: 1px;margin: -1px;overflow: hidden;padding: 0;position: absolute;width: 1px;}#sk-container-id-4 div.sk-estimator {font-family: monospace;background-color: #f0f8ff;border: 1px dotted black;border-radius: 0.25em;box-sizing: border-box;margin-bottom: 0.5em;}#sk-container-id-4 div.sk-estimator:hover {background-color: #d4ebff;}#sk-container-id-4 div.sk-parallel-item::after {content: \"\";width: 100%;border-bottom: 1px solid gray;flex-grow: 1;}#sk-container-id-4 div.sk-label:hover label.sk-toggleable__label {background-color: #d4ebff;}#sk-container-id-4 div.sk-serial::before {content: \"\";position: absolute;border-left: 1px solid gray;box-sizing: border-box;top: 0;bottom: 0;left: 50%;z-index: 0;}#sk-container-id-4 div.sk-serial {display: flex;flex-direction: column;align-items: center;background-color: white;padding-right: 0.2em;padding-left: 0.2em;position: relative;}#sk-container-id-4 div.sk-item {position: relative;z-index: 1;}#sk-container-id-4 div.sk-parallel {display: flex;align-items: stretch;justify-content: center;background-color: white;position: relative;}#sk-container-id-4 div.sk-item::before, #sk-container-id-4 div.sk-parallel-item::before {content: \"\";position: absolute;border-left: 1px solid gray;box-sizing: border-box;top: 0;bottom: 0;left: 50%;z-index: -1;}#sk-container-id-4 div.sk-parallel-item {display: flex;flex-direction: column;z-index: 1;position: relative;background-color: white;}#sk-container-id-4 div.sk-parallel-item:first-child::after {align-self: flex-end;width: 50%;}#sk-container-id-4 div.sk-parallel-item:last-child::after {align-self: flex-start;width: 50%;}#sk-container-id-4 div.sk-parallel-item:only-child::after {width: 0;}#sk-container-id-4 div.sk-dashed-wrapped {border: 1px dashed gray;margin: 0 0.4em 0.5em 0.4em;box-sizing: border-box;padding-bottom: 0.4em;background-color: white;}#sk-container-id-4 div.sk-label label {font-family: monospace;font-weight: bold;display: inline-block;line-height: 1.2em;}#sk-container-id-4 div.sk-label-container {text-align: center;}#sk-container-id-4 div.sk-container {/* jupyter's `normalize.less` sets `[hidden] { display: none; }` but bootstrap.min.css set `[hidden] { display: none !important; }` so we also need the `!important` here to be able to override the default hidden behavior on the sphinx rendered scikit-learn.org. See: https://github.com/scikit-learn/scikit-learn/issues/21755 */display: inline-block !important;position: relative;}#sk-container-id-4 div.sk-text-repr-fallback {display: none;}</style><div id=\"sk-container-id-4\" class=\"sk-top-container\"><div class=\"sk-text-repr-fallback\"><pre>Lasso(alpha=1, max_iter=100)</pre><b>In a Jupyter environment, please rerun this cell to show the HTML representation or trust the notebook. <br />On GitHub, the HTML representation is unable to render, please try loading this page with nbviewer.org.</b></div><div class=\"sk-container\" hidden><div class=\"sk-item\"><div class=\"sk-estimator sk-toggleable\"><input class=\"sk-toggleable__control sk-hidden--visually\" id=\"sk-estimator-id-4\" type=\"checkbox\" checked><label for=\"sk-estimator-id-4\" class=\"sk-toggleable__label sk-toggleable__label-arrow\">Lasso</label><div class=\"sk-toggleable__content\"><pre>Lasso(alpha=1, max_iter=100)</pre></div></div></div></div></div>"
      ],
      "text/plain": [
       "Lasso(alpha=1, max_iter=100)"
      ]
     },
     "execution_count": 173,
     "metadata": {},
     "output_type": "execute_result"
    }
   ],
   "source": [
    "lasso_reg.fit(x_train,y_train)"
   ]
  },
  {
   "cell_type": "code",
   "execution_count": 174,
   "metadata": {
    "colab": {
     "base_uri": "https://localhost:8080/"
    },
    "id": "NiBSc5_ANArC",
    "outputId": "4d190abc-eb7c-4504-f7b1-0afe0ac976d0"
   },
   "outputs": [
    {
     "data": {
      "text/plain": [
       "0.7926084132499982"
      ]
     },
     "execution_count": 174,
     "metadata": {},
     "output_type": "execute_result"
    }
   ],
   "source": [
    "lasso_reg.score(x_train,y_train)"
   ]
  },
  {
   "cell_type": "code",
   "execution_count": 175,
   "metadata": {
    "colab": {
     "base_uri": "https://localhost:8080/"
    },
    "id": "cCJCjHQDNGs1",
    "outputId": "43677241-9014-48ba-a1b5-1bd7bde56d40"
   },
   "outputs": [
    {
     "data": {
      "text/plain": [
       "0.7877472200832298"
      ]
     },
     "execution_count": 175,
     "metadata": {},
     "output_type": "execute_result"
    }
   ],
   "source": [
    "lasso_reg.score(x_test,y_test)"
   ]
  },
  {
   "cell_type": "code",
   "execution_count": 177,
   "metadata": {},
   "outputs": [
    {
     "name": "stdout",
     "output_type": "stream",
     "text": [
      "                            OLS Regression Results                            \n",
      "==============================================================================\n",
      "Dep. Variable:                  PRICE   R-squared:                       0.793\n",
      "Model:                            OLS   Adj. R-squared:                  0.780\n",
      "Method:                 Least Squares   F-statistic:                     64.48\n",
      "Date:                Wed, 21 Sep 2022   Prob (F-statistic):          3.91e-157\n",
      "Time:                        19:16:31   Log-Likelihood:                -6364.5\n",
      "No. Observations:                 555   AIC:                         1.279e+04\n",
      "Df Residuals:                     523   BIC:                         1.293e+04\n",
      "Df Model:                          31                                         \n",
      "Covariance Type:            nonrobust                                         \n",
      "========================================================================================\n",
      "                           coef    std err          t      P>|t|      [0.025      0.975]\n",
      "----------------------------------------------------------------------------------------\n",
      "RAM                   2962.6420    306.124      9.678      0.000    2361.258    3564.026\n",
      "INCHES                2350.3749   1442.477      1.629      0.104    -483.385    5184.135\n",
      "HDD                     17.3659      3.810      4.558      0.000       9.881      24.851\n",
      "SSD                     68.3886      5.981     11.434      0.000      56.638      80.139\n",
      "TOUCHSCREEN           1.684e+04   3608.269      4.667      0.000    9750.980    2.39e+04\n",
      "GAMING LAPTOP        -1.263e+04   5021.241     -2.514      0.012   -2.25e+04   -2761.409\n",
      "GRAPHICS CARD         1.419e+04   3044.600      4.661      0.000    8210.995    2.02e+04\n",
      "ASUS                 -1.491e+04   5054.475     -2.950      0.003   -2.48e+04   -4981.665\n",
      "DELL                  -1.44e+04   5377.235     -2.677      0.008    -2.5e+04   -3831.678\n",
      "HP                    -1.69e+04   5274.905     -3.204      0.001   -2.73e+04   -6537.035\n",
      "Lenovo               -1.784e+04   5322.195     -3.352      0.001   -2.83e+04   -7384.538\n",
      "acer                 -2.078e+04   6017.472     -3.453      0.001   -3.26e+04   -8957.305\n",
      "MSI                  -2.068e+04   6411.030     -3.226      0.001   -3.33e+04   -8084.463\n",
      "APPLE                 3.239e+04   1.27e+04      2.560      0.011    7535.151    5.73e+04\n",
      "AMD Ryzen 3          -1.504e+04   7309.523     -2.058      0.040   -2.94e+04    -684.844\n",
      "AMD Ryzen 5          -1.352e+04   5742.611     -2.355      0.019   -2.48e+04   -2242.511\n",
      "AMD Ryzen 7          -7576.8473   5881.963     -1.288      0.198   -1.91e+04    3978.330\n",
      "AMD Ryzen 9           2.319e+04   8080.901      2.869      0.004    7311.175    3.91e+04\n",
      "Apple M1 Pro          1.104e+04   4.16e+04      0.265      0.791   -7.07e+04    9.28e+04\n",
      "Apple M1 Processor   -4.045e+04   3.52e+04     -1.151      0.250    -1.1e+05    2.86e+04\n",
      "Apple M2 Processor    -1.18e+04   3.64e+04     -0.324      0.746   -8.33e+04    5.97e+04\n",
      "Intel Core i3        -9165.4075   7061.126     -1.298      0.195    -2.3e+04    4706.246\n",
      "Intel Core i5        -4331.8283   6940.713     -0.624      0.533    -1.8e+04    9303.273\n",
      "Intel Core i7         1.739e+04   7871.824      2.210      0.028    1930.287    3.29e+04\n",
      "Intel Core i9         5.389e+04   1.19e+04      4.527      0.000    3.05e+04    7.73e+04\n",
      "Other AMD Processors -7373.2132   9442.141     -0.781      0.435   -2.59e+04    1.12e+04\n",
      "Chrome OS             -7.85e+04   3.27e+04     -2.401      0.017   -1.43e+05   -1.43e+04\n",
      "DOS OS                1.338e+04   2.01e+04      0.666      0.506   -2.61e+04    5.29e+04\n",
      "Mac OS                3.239e+04   1.27e+04      2.560      0.011    7535.151    5.73e+04\n",
      "Windows 10            8556.0422   1.75e+04      0.488      0.626   -2.59e+04     4.3e+04\n",
      "Windows 11            3179.6837   1.76e+04      0.181      0.856   -3.13e+04    3.77e+04\n",
      "Windows 8             2.224e+04   2.96e+04      0.750      0.453    -3.6e+04    8.05e+04\n",
      "AMD                  -2.033e+04   2.39e+04     -0.850      0.396   -6.73e+04    2.67e+04\n",
      "Intel                -2.531e+04   2.72e+04     -0.932      0.352   -7.87e+04     2.8e+04\n",
      "==============================================================================\n",
      "Omnibus:                      198.596   Durbin-Watson:                   1.999\n",
      "Prob(Omnibus):                  0.000   Jarque-Bera (JB):             1650.954\n",
      "Skew:                           1.335   Prob(JB):                         0.00\n",
      "Kurtosis:                      11.016   Cond. No.                     1.08e+16\n",
      "==============================================================================\n",
      "\n",
      "Notes:\n",
      "[1] Standard Errors assume that the covariance matrix of the errors is correctly specified.\n",
      "[2] The smallest eigenvalue is 1.66e-24. This might indicate that there are\n",
      "strong multicollinearity problems or that the design matrix is singular.\n"
     ]
    }
   ],
   "source": [
    "model3=sm.OLS(y_train,x_train)\n",
    "result=model3.fit()\n",
    "print(result.summary())"
   ]
  },
  {
   "cell_type": "markdown",
   "metadata": {
    "id": "QZodZWxyz8Go"
   },
   "source": [
    "#KNN : "
   ]
  },
  {
   "cell_type": "code",
   "execution_count": 297,
   "metadata": {
    "id": "WVYry2gVz_gr"
   },
   "outputs": [],
   "source": [
    "from sklearn.neighbors import KNeighborsRegressor\n",
    "knn_model = KNeighborsRegressor().fit(x_train, y_train)"
   ]
  },
  {
   "cell_type": "code",
   "execution_count": 298,
   "metadata": {
    "colab": {
     "base_uri": "https://localhost:8080/"
    },
    "id": "IDpok8iO14l6",
    "outputId": "83435971-2579-4959-dcc9-fbf694c5dc98"
   },
   "outputs": [
    {
     "data": {
      "text/plain": [
       "0.8249886845324162"
      ]
     },
     "execution_count": 298,
     "metadata": {},
     "output_type": "execute_result"
    }
   ],
   "source": [
    "knn_model.score(x_train,y_train) #training"
   ]
  },
  {
   "cell_type": "code",
   "execution_count": 299,
   "metadata": {
    "colab": {
     "base_uri": "https://localhost:8080/"
    },
    "id": "J3H1eZ9Cz_N9",
    "outputId": "8c976f47-8eb1-4c2a-a8ab-6e3425c287c3"
   },
   "outputs": [
    {
     "data": {
      "text/plain": [
       "0.6967088497123675"
      ]
     },
     "execution_count": 299,
     "metadata": {},
     "output_type": "execute_result"
    }
   ],
   "source": [
    "knn_model.score(x_test,y_test) #testing"
   ]
  },
  {
   "cell_type": "markdown",
   "metadata": {
    "id": "MKgpToZ54B-0"
   },
   "source": [
    "#SVM"
   ]
  },
  {
   "cell_type": "code",
   "execution_count": null,
   "metadata": {
    "id": "dt8kcNyLz_GE"
   },
   "outputs": [],
   "source": []
  },
  {
   "cell_type": "markdown",
   "metadata": {
    "id": "ys6E1G4gqRwX"
   },
   "source": [
    "# After log transformation of 'PRICE' : "
   ]
  },
  {
   "cell_type": "markdown",
   "metadata": {
    "id": "V75_xOE_q9d2"
   },
   "source": [
    "## Seperating Dependent and Independent Variables : "
   ]
  },
  {
   "cell_type": "code",
   "execution_count": 178,
   "metadata": {
    "id": "ScjyLAYmq9d3"
   },
   "outputs": [],
   "source": [
    "#Storing independent variables.\n",
    "x1 = merged_df.drop(columns=['PRICE'])"
   ]
  },
  {
   "cell_type": "code",
   "execution_count": 179,
   "metadata": {
    "colab": {
     "base_uri": "https://localhost:8080/"
    },
    "id": "884iya1vq9d4",
    "outputId": "21faee85-e6ea-4e8f-b1f2-84beb7b79ec9"
   },
   "outputs": [
    {
     "data": {
      "text/plain": [
       "(694, 34)"
      ]
     },
     "execution_count": 179,
     "metadata": {},
     "output_type": "execute_result"
    }
   ],
   "source": [
    "x1.shape"
   ]
  },
  {
   "cell_type": "code",
   "execution_count": 180,
   "metadata": {
    "id": "f4OgiKndq9d5"
   },
   "outputs": [],
   "source": [
    "#Storing dependent variable.\n",
    "y1 = np.log(merged_df['PRICE'])\n"
   ]
  },
  {
   "cell_type": "code",
   "execution_count": 181,
   "metadata": {
    "colab": {
     "base_uri": "https://localhost:8080/"
    },
    "id": "r3j2Q02Yq9d5",
    "outputId": "5f6b5556-360e-417a-ea01-5788bf8a3c39"
   },
   "outputs": [
    {
     "data": {
      "text/plain": [
       "(694,)"
      ]
     },
     "execution_count": 181,
     "metadata": {},
     "output_type": "execute_result"
    }
   ],
   "source": [
    "y1.shape"
   ]
  },
  {
   "cell_type": "markdown",
   "metadata": {
    "id": "j3PsuVUSq9d6"
   },
   "source": [
    "##Splitting of DATA :"
   ]
  },
  {
   "cell_type": "code",
   "execution_count": 182,
   "metadata": {
    "id": "9uglqMXkq9d6"
   },
   "outputs": [],
   "source": [
    "x_train1, x_test1, y_train1, y_test1 = train_test_split(x1,y1,test_size=0.20,random_state=0)"
   ]
  },
  {
   "cell_type": "markdown",
   "metadata": {
    "id": "nvuuXSVAq9d7"
   },
   "source": [
    "#Linear regression :"
   ]
  },
  {
   "cell_type": "code",
   "execution_count": 183,
   "metadata": {
    "id": "LqB8KgI5q9d7"
   },
   "outputs": [],
   "source": [
    "lin_reg = LinearRegression()"
   ]
  },
  {
   "cell_type": "code",
   "execution_count": 184,
   "metadata": {
    "colab": {
     "base_uri": "https://localhost:8080/"
    },
    "id": "7HzK8Jheq9d8",
    "outputId": "f7a6215e-d281-4911-d701-8ff3f24f29a0"
   },
   "outputs": [
    {
     "data": {
      "text/html": [
       "<style>#sk-container-id-5 {color: black;background-color: white;}#sk-container-id-5 pre{padding: 0;}#sk-container-id-5 div.sk-toggleable {background-color: white;}#sk-container-id-5 label.sk-toggleable__label {cursor: pointer;display: block;width: 100%;margin-bottom: 0;padding: 0.3em;box-sizing: border-box;text-align: center;}#sk-container-id-5 label.sk-toggleable__label-arrow:before {content: \"▸\";float: left;margin-right: 0.25em;color: #696969;}#sk-container-id-5 label.sk-toggleable__label-arrow:hover:before {color: black;}#sk-container-id-5 div.sk-estimator:hover label.sk-toggleable__label-arrow:before {color: black;}#sk-container-id-5 div.sk-toggleable__content {max-height: 0;max-width: 0;overflow: hidden;text-align: left;background-color: #f0f8ff;}#sk-container-id-5 div.sk-toggleable__content pre {margin: 0.2em;color: black;border-radius: 0.25em;background-color: #f0f8ff;}#sk-container-id-5 input.sk-toggleable__control:checked~div.sk-toggleable__content {max-height: 200px;max-width: 100%;overflow: auto;}#sk-container-id-5 input.sk-toggleable__control:checked~label.sk-toggleable__label-arrow:before {content: \"▾\";}#sk-container-id-5 div.sk-estimator input.sk-toggleable__control:checked~label.sk-toggleable__label {background-color: #d4ebff;}#sk-container-id-5 div.sk-label input.sk-toggleable__control:checked~label.sk-toggleable__label {background-color: #d4ebff;}#sk-container-id-5 input.sk-hidden--visually {border: 0;clip: rect(1px 1px 1px 1px);clip: rect(1px, 1px, 1px, 1px);height: 1px;margin: -1px;overflow: hidden;padding: 0;position: absolute;width: 1px;}#sk-container-id-5 div.sk-estimator {font-family: monospace;background-color: #f0f8ff;border: 1px dotted black;border-radius: 0.25em;box-sizing: border-box;margin-bottom: 0.5em;}#sk-container-id-5 div.sk-estimator:hover {background-color: #d4ebff;}#sk-container-id-5 div.sk-parallel-item::after {content: \"\";width: 100%;border-bottom: 1px solid gray;flex-grow: 1;}#sk-container-id-5 div.sk-label:hover label.sk-toggleable__label {background-color: #d4ebff;}#sk-container-id-5 div.sk-serial::before {content: \"\";position: absolute;border-left: 1px solid gray;box-sizing: border-box;top: 0;bottom: 0;left: 50%;z-index: 0;}#sk-container-id-5 div.sk-serial {display: flex;flex-direction: column;align-items: center;background-color: white;padding-right: 0.2em;padding-left: 0.2em;position: relative;}#sk-container-id-5 div.sk-item {position: relative;z-index: 1;}#sk-container-id-5 div.sk-parallel {display: flex;align-items: stretch;justify-content: center;background-color: white;position: relative;}#sk-container-id-5 div.sk-item::before, #sk-container-id-5 div.sk-parallel-item::before {content: \"\";position: absolute;border-left: 1px solid gray;box-sizing: border-box;top: 0;bottom: 0;left: 50%;z-index: -1;}#sk-container-id-5 div.sk-parallel-item {display: flex;flex-direction: column;z-index: 1;position: relative;background-color: white;}#sk-container-id-5 div.sk-parallel-item:first-child::after {align-self: flex-end;width: 50%;}#sk-container-id-5 div.sk-parallel-item:last-child::after {align-self: flex-start;width: 50%;}#sk-container-id-5 div.sk-parallel-item:only-child::after {width: 0;}#sk-container-id-5 div.sk-dashed-wrapped {border: 1px dashed gray;margin: 0 0.4em 0.5em 0.4em;box-sizing: border-box;padding-bottom: 0.4em;background-color: white;}#sk-container-id-5 div.sk-label label {font-family: monospace;font-weight: bold;display: inline-block;line-height: 1.2em;}#sk-container-id-5 div.sk-label-container {text-align: center;}#sk-container-id-5 div.sk-container {/* jupyter's `normalize.less` sets `[hidden] { display: none; }` but bootstrap.min.css set `[hidden] { display: none !important; }` so we also need the `!important` here to be able to override the default hidden behavior on the sphinx rendered scikit-learn.org. See: https://github.com/scikit-learn/scikit-learn/issues/21755 */display: inline-block !important;position: relative;}#sk-container-id-5 div.sk-text-repr-fallback {display: none;}</style><div id=\"sk-container-id-5\" class=\"sk-top-container\"><div class=\"sk-text-repr-fallback\"><pre>LinearRegression()</pre><b>In a Jupyter environment, please rerun this cell to show the HTML representation or trust the notebook. <br />On GitHub, the HTML representation is unable to render, please try loading this page with nbviewer.org.</b></div><div class=\"sk-container\" hidden><div class=\"sk-item\"><div class=\"sk-estimator sk-toggleable\"><input class=\"sk-toggleable__control sk-hidden--visually\" id=\"sk-estimator-id-5\" type=\"checkbox\" checked><label for=\"sk-estimator-id-5\" class=\"sk-toggleable__label sk-toggleable__label-arrow\">LinearRegression</label><div class=\"sk-toggleable__content\"><pre>LinearRegression()</pre></div></div></div></div></div>"
      ],
      "text/plain": [
       "LinearRegression()"
      ]
     },
     "execution_count": 184,
     "metadata": {},
     "output_type": "execute_result"
    }
   ],
   "source": [
    "lin_reg.fit(x_train1,y_train1)"
   ]
  },
  {
   "cell_type": "code",
   "execution_count": 185,
   "metadata": {
    "id": "IBdR5PWMq9d8"
   },
   "outputs": [],
   "source": [
    "y_pred_train1 = lin_reg.predict(x_train1)"
   ]
  },
  {
   "cell_type": "code",
   "execution_count": 186,
   "metadata": {
    "colab": {
     "base_uri": "https://localhost:8080/"
    },
    "id": "80xxfTSzq9d9",
    "outputId": "c5c58dee-fc76-4454-d85c-434b9f1d1d5a"
   },
   "outputs": [
    {
     "data": {
      "text/plain": [
       "0.8595350731971574"
      ]
     },
     "execution_count": 186,
     "metadata": {},
     "output_type": "execute_result"
    }
   ],
   "source": [
    "r2_score(y_train1,y_pred_train1) #training"
   ]
  },
  {
   "cell_type": "code",
   "execution_count": 187,
   "metadata": {
    "id": "6OKXQV8Lq9d9"
   },
   "outputs": [],
   "source": [
    "y_pred_test1 = lin_reg.predict(x_test1)"
   ]
  },
  {
   "cell_type": "code",
   "execution_count": 188,
   "metadata": {
    "colab": {
     "base_uri": "https://localhost:8080/"
    },
    "id": "qrTjJ39uq9d-",
    "outputId": "27d3c759-a9b4-4fce-d04a-ac2189780fa8"
   },
   "outputs": [
    {
     "data": {
      "text/plain": [
       "0.8605577260985481"
      ]
     },
     "execution_count": 188,
     "metadata": {},
     "output_type": "execute_result"
    }
   ],
   "source": [
    "r2_score(y_test1,y_pred_test1) #testing"
   ]
  },
  {
   "cell_type": "code",
   "execution_count": 189,
   "metadata": {},
   "outputs": [
    {
     "name": "stdout",
     "output_type": "stream",
     "text": [
      "                            OLS Regression Results                            \n",
      "==============================================================================\n",
      "Dep. Variable:                  PRICE   R-squared:                       0.860\n",
      "Model:                            OLS   Adj. R-squared:                  0.851\n",
      "Method:                 Least Squares   F-statistic:                     103.2\n",
      "Date:                Wed, 21 Sep 2022   Prob (F-statistic):          7.10e-201\n",
      "Time:                        19:18:04   Log-Likelihood:                 115.46\n",
      "No. Observations:                 555   AIC:                            -166.9\n",
      "Df Residuals:                     523   BIC:                            -28.71\n",
      "Df Model:                          31                                         \n",
      "Covariance Type:            nonrobust                                         \n",
      "========================================================================================\n",
      "                           coef    std err          t      P>|t|      [0.025      0.975]\n",
      "----------------------------------------------------------------------------------------\n",
      "RAM                      0.0238      0.003      9.163      0.000       0.019       0.029\n",
      "INCHES                   0.0161      0.012      1.311      0.190      -0.008       0.040\n",
      "HDD                   7.267e-05   3.24e-05      2.244      0.025    9.06e-06       0.000\n",
      "SSD                      0.0005   5.08e-05      9.166      0.000       0.000       0.001\n",
      "TOUCHSCREEN              0.2521      0.031      8.222      0.000       0.192       0.312\n",
      "GAMING LAPTOP           -0.1016      0.043     -2.382      0.018      -0.185      -0.018\n",
      "GRAPHICS CARD            0.2004      0.026      7.744      0.000       0.150       0.251\n",
      "ASUS                    -0.0385      0.043     -0.897      0.370      -0.123       0.046\n",
      "DELL                     0.0165      0.046      0.361      0.718      -0.073       0.106\n",
      "HP                      -0.0096      0.045     -0.214      0.831      -0.098       0.078\n",
      "Lenovo                  -0.0651      0.045     -1.440      0.151      -0.154       0.024\n",
      "acer                    -0.0721      0.051     -1.409      0.159      -0.173       0.028\n",
      "MSI                     -0.0763      0.054     -1.400      0.162      -0.183       0.031\n",
      "APPLE                    0.4967      0.108      4.619      0.000       0.285       0.708\n",
      "AMD Ryzen 3              1.4130      0.062     22.746      0.000       1.291       1.535\n",
      "AMD Ryzen 5              1.6843      0.049     34.511      0.000       1.588       1.780\n",
      "AMD Ryzen 7              1.8839      0.050     37.687      0.000       1.786       1.982\n",
      "AMD Ryzen 9              1.9982      0.069     29.095      0.000       1.863       2.133\n",
      "Apple M1 Pro            10.2547      0.354     28.994      0.000       9.560      10.950\n",
      "Apple M1 Processor       9.9996      0.299     33.467      0.000       9.413      10.587\n",
      "Apple M2 Processor      10.2276      0.309     33.082      0.000       9.620      10.835\n",
      "Intel Core i3            0.1308      0.060      2.179      0.030       0.013       0.249\n",
      "Intel Core i5            0.4134      0.059      7.009      0.000       0.298       0.529\n",
      "Intel Core i7            0.6780      0.067     10.134      0.000       0.547       0.809\n",
      "Intel Core i9            0.8378      0.101      8.282      0.000       0.639       1.037\n",
      "Other AMD Processors     1.3080      0.080     16.300      0.000       1.150       1.466\n",
      "Chrome OS               -0.8372      0.278     -3.013      0.003      -1.383      -0.291\n",
      "DOS OS                   0.1771      0.171      1.037      0.300      -0.158       0.513\n",
      "Mac OS                   0.4967      0.108      4.619      0.000       0.285       0.708\n",
      "Windows 10               0.2765      0.149      1.855      0.064      -0.016       0.569\n",
      "Windows 11               0.2138      0.149      1.432      0.153      -0.080       0.507\n",
      "Windows 8                0.3602      0.252      1.430      0.153      -0.135       0.855\n",
      "AMD                      8.2873      0.203     40.774      0.000       7.888       8.687\n",
      "Intel                    9.6457      0.231     41.799      0.000       9.192      10.099\n",
      "==============================================================================\n",
      "Omnibus:                       28.857   Durbin-Watson:                   1.893\n",
      "Prob(Omnibus):                  0.000   Jarque-Bera (JB):               68.290\n",
      "Skew:                           0.243   Prob(JB):                     1.48e-15\n",
      "Kurtosis:                       4.648   Cond. No.                     1.08e+16\n",
      "==============================================================================\n",
      "\n",
      "Notes:\n",
      "[1] Standard Errors assume that the covariance matrix of the errors is correctly specified.\n",
      "[2] The smallest eigenvalue is 1.66e-24. This might indicate that there are\n",
      "strong multicollinearity problems or that the design matrix is singular.\n"
     ]
    }
   ],
   "source": [
    "model1=sm.OLS(y_train1,x_train1)\n",
    "result=model1.fit()\n",
    "print(result.summary())"
   ]
  },
  {
   "cell_type": "markdown",
   "metadata": {
    "id": "lntps9hWq9d-"
   },
   "source": [
    "## RIDGE REGRESSION"
   ]
  },
  {
   "cell_type": "code",
   "execution_count": 190,
   "metadata": {
    "id": "1003kAh_q9d_"
   },
   "outputs": [],
   "source": [
    "ridge_reg1=Ridge(alpha=1,max_iter=100)"
   ]
  },
  {
   "cell_type": "code",
   "execution_count": 191,
   "metadata": {
    "colab": {
     "base_uri": "https://localhost:8080/"
    },
    "id": "HhvKuiJ6q9d_",
    "outputId": "59ff39da-745a-4960-8a45-e4c30c4cab5f"
   },
   "outputs": [
    {
     "data": {
      "text/html": [
       "<style>#sk-container-id-6 {color: black;background-color: white;}#sk-container-id-6 pre{padding: 0;}#sk-container-id-6 div.sk-toggleable {background-color: white;}#sk-container-id-6 label.sk-toggleable__label {cursor: pointer;display: block;width: 100%;margin-bottom: 0;padding: 0.3em;box-sizing: border-box;text-align: center;}#sk-container-id-6 label.sk-toggleable__label-arrow:before {content: \"▸\";float: left;margin-right: 0.25em;color: #696969;}#sk-container-id-6 label.sk-toggleable__label-arrow:hover:before {color: black;}#sk-container-id-6 div.sk-estimator:hover label.sk-toggleable__label-arrow:before {color: black;}#sk-container-id-6 div.sk-toggleable__content {max-height: 0;max-width: 0;overflow: hidden;text-align: left;background-color: #f0f8ff;}#sk-container-id-6 div.sk-toggleable__content pre {margin: 0.2em;color: black;border-radius: 0.25em;background-color: #f0f8ff;}#sk-container-id-6 input.sk-toggleable__control:checked~div.sk-toggleable__content {max-height: 200px;max-width: 100%;overflow: auto;}#sk-container-id-6 input.sk-toggleable__control:checked~label.sk-toggleable__label-arrow:before {content: \"▾\";}#sk-container-id-6 div.sk-estimator input.sk-toggleable__control:checked~label.sk-toggleable__label {background-color: #d4ebff;}#sk-container-id-6 div.sk-label input.sk-toggleable__control:checked~label.sk-toggleable__label {background-color: #d4ebff;}#sk-container-id-6 input.sk-hidden--visually {border: 0;clip: rect(1px 1px 1px 1px);clip: rect(1px, 1px, 1px, 1px);height: 1px;margin: -1px;overflow: hidden;padding: 0;position: absolute;width: 1px;}#sk-container-id-6 div.sk-estimator {font-family: monospace;background-color: #f0f8ff;border: 1px dotted black;border-radius: 0.25em;box-sizing: border-box;margin-bottom: 0.5em;}#sk-container-id-6 div.sk-estimator:hover {background-color: #d4ebff;}#sk-container-id-6 div.sk-parallel-item::after {content: \"\";width: 100%;border-bottom: 1px solid gray;flex-grow: 1;}#sk-container-id-6 div.sk-label:hover label.sk-toggleable__label {background-color: #d4ebff;}#sk-container-id-6 div.sk-serial::before {content: \"\";position: absolute;border-left: 1px solid gray;box-sizing: border-box;top: 0;bottom: 0;left: 50%;z-index: 0;}#sk-container-id-6 div.sk-serial {display: flex;flex-direction: column;align-items: center;background-color: white;padding-right: 0.2em;padding-left: 0.2em;position: relative;}#sk-container-id-6 div.sk-item {position: relative;z-index: 1;}#sk-container-id-6 div.sk-parallel {display: flex;align-items: stretch;justify-content: center;background-color: white;position: relative;}#sk-container-id-6 div.sk-item::before, #sk-container-id-6 div.sk-parallel-item::before {content: \"\";position: absolute;border-left: 1px solid gray;box-sizing: border-box;top: 0;bottom: 0;left: 50%;z-index: -1;}#sk-container-id-6 div.sk-parallel-item {display: flex;flex-direction: column;z-index: 1;position: relative;background-color: white;}#sk-container-id-6 div.sk-parallel-item:first-child::after {align-self: flex-end;width: 50%;}#sk-container-id-6 div.sk-parallel-item:last-child::after {align-self: flex-start;width: 50%;}#sk-container-id-6 div.sk-parallel-item:only-child::after {width: 0;}#sk-container-id-6 div.sk-dashed-wrapped {border: 1px dashed gray;margin: 0 0.4em 0.5em 0.4em;box-sizing: border-box;padding-bottom: 0.4em;background-color: white;}#sk-container-id-6 div.sk-label label {font-family: monospace;font-weight: bold;display: inline-block;line-height: 1.2em;}#sk-container-id-6 div.sk-label-container {text-align: center;}#sk-container-id-6 div.sk-container {/* jupyter's `normalize.less` sets `[hidden] { display: none; }` but bootstrap.min.css set `[hidden] { display: none !important; }` so we also need the `!important` here to be able to override the default hidden behavior on the sphinx rendered scikit-learn.org. See: https://github.com/scikit-learn/scikit-learn/issues/21755 */display: inline-block !important;position: relative;}#sk-container-id-6 div.sk-text-repr-fallback {display: none;}</style><div id=\"sk-container-id-6\" class=\"sk-top-container\"><div class=\"sk-text-repr-fallback\"><pre>Ridge(alpha=1, max_iter=100)</pre><b>In a Jupyter environment, please rerun this cell to show the HTML representation or trust the notebook. <br />On GitHub, the HTML representation is unable to render, please try loading this page with nbviewer.org.</b></div><div class=\"sk-container\" hidden><div class=\"sk-item\"><div class=\"sk-estimator sk-toggleable\"><input class=\"sk-toggleable__control sk-hidden--visually\" id=\"sk-estimator-id-6\" type=\"checkbox\" checked><label for=\"sk-estimator-id-6\" class=\"sk-toggleable__label sk-toggleable__label-arrow\">Ridge</label><div class=\"sk-toggleable__content\"><pre>Ridge(alpha=1, max_iter=100)</pre></div></div></div></div></div>"
      ],
      "text/plain": [
       "Ridge(alpha=1, max_iter=100)"
      ]
     },
     "execution_count": 191,
     "metadata": {},
     "output_type": "execute_result"
    }
   ],
   "source": [
    "ridge_reg1.fit(x_train1,y_train1)"
   ]
  },
  {
   "cell_type": "code",
   "execution_count": 192,
   "metadata": {
    "colab": {
     "base_uri": "https://localhost:8080/"
    },
    "id": "WiLcA4E9q9eA",
    "outputId": "df9815eb-e33b-447d-baa9-7313228a7ef2"
   },
   "outputs": [
    {
     "data": {
      "text/plain": [
       "0.8552869028051533"
      ]
     },
     "execution_count": 192,
     "metadata": {},
     "output_type": "execute_result"
    }
   ],
   "source": [
    "ridge_reg1.score(x_train1,y_train1)# Training"
   ]
  },
  {
   "cell_type": "code",
   "execution_count": 193,
   "metadata": {
    "colab": {
     "base_uri": "https://localhost:8080/"
    },
    "id": "NYGk_sDjq9eA",
    "outputId": "47b69dc9-2716-441d-f025-a2d300be9a17"
   },
   "outputs": [
    {
     "data": {
      "text/plain": [
       "0.8622311780882"
      ]
     },
     "execution_count": 193,
     "metadata": {},
     "output_type": "execute_result"
    }
   ],
   "source": [
    "ridge_reg1.score(x_test1,y_test1)# Testing"
   ]
  },
  {
   "cell_type": "markdown",
   "metadata": {
    "id": "lNWqXxA6q9eB"
   },
   "source": [
    "# LASSO REGRESSION"
   ]
  },
  {
   "cell_type": "code",
   "execution_count": 200,
   "metadata": {
    "id": "mFUYO_ajq9eB"
   },
   "outputs": [],
   "source": [
    "lasso_reg1=Lasso(alpha=1,max_iter=1000)"
   ]
  },
  {
   "cell_type": "code",
   "execution_count": 201,
   "metadata": {
    "colab": {
     "base_uri": "https://localhost:8080/"
    },
    "id": "oB0J_5eGq9eC",
    "outputId": "e13477bb-762c-420e-be1d-a735bdbc996f"
   },
   "outputs": [
    {
     "data": {
      "text/html": [
       "<style>#sk-container-id-8 {color: black;background-color: white;}#sk-container-id-8 pre{padding: 0;}#sk-container-id-8 div.sk-toggleable {background-color: white;}#sk-container-id-8 label.sk-toggleable__label {cursor: pointer;display: block;width: 100%;margin-bottom: 0;padding: 0.3em;box-sizing: border-box;text-align: center;}#sk-container-id-8 label.sk-toggleable__label-arrow:before {content: \"▸\";float: left;margin-right: 0.25em;color: #696969;}#sk-container-id-8 label.sk-toggleable__label-arrow:hover:before {color: black;}#sk-container-id-8 div.sk-estimator:hover label.sk-toggleable__label-arrow:before {color: black;}#sk-container-id-8 div.sk-toggleable__content {max-height: 0;max-width: 0;overflow: hidden;text-align: left;background-color: #f0f8ff;}#sk-container-id-8 div.sk-toggleable__content pre {margin: 0.2em;color: black;border-radius: 0.25em;background-color: #f0f8ff;}#sk-container-id-8 input.sk-toggleable__control:checked~div.sk-toggleable__content {max-height: 200px;max-width: 100%;overflow: auto;}#sk-container-id-8 input.sk-toggleable__control:checked~label.sk-toggleable__label-arrow:before {content: \"▾\";}#sk-container-id-8 div.sk-estimator input.sk-toggleable__control:checked~label.sk-toggleable__label {background-color: #d4ebff;}#sk-container-id-8 div.sk-label input.sk-toggleable__control:checked~label.sk-toggleable__label {background-color: #d4ebff;}#sk-container-id-8 input.sk-hidden--visually {border: 0;clip: rect(1px 1px 1px 1px);clip: rect(1px, 1px, 1px, 1px);height: 1px;margin: -1px;overflow: hidden;padding: 0;position: absolute;width: 1px;}#sk-container-id-8 div.sk-estimator {font-family: monospace;background-color: #f0f8ff;border: 1px dotted black;border-radius: 0.25em;box-sizing: border-box;margin-bottom: 0.5em;}#sk-container-id-8 div.sk-estimator:hover {background-color: #d4ebff;}#sk-container-id-8 div.sk-parallel-item::after {content: \"\";width: 100%;border-bottom: 1px solid gray;flex-grow: 1;}#sk-container-id-8 div.sk-label:hover label.sk-toggleable__label {background-color: #d4ebff;}#sk-container-id-8 div.sk-serial::before {content: \"\";position: absolute;border-left: 1px solid gray;box-sizing: border-box;top: 0;bottom: 0;left: 50%;z-index: 0;}#sk-container-id-8 div.sk-serial {display: flex;flex-direction: column;align-items: center;background-color: white;padding-right: 0.2em;padding-left: 0.2em;position: relative;}#sk-container-id-8 div.sk-item {position: relative;z-index: 1;}#sk-container-id-8 div.sk-parallel {display: flex;align-items: stretch;justify-content: center;background-color: white;position: relative;}#sk-container-id-8 div.sk-item::before, #sk-container-id-8 div.sk-parallel-item::before {content: \"\";position: absolute;border-left: 1px solid gray;box-sizing: border-box;top: 0;bottom: 0;left: 50%;z-index: -1;}#sk-container-id-8 div.sk-parallel-item {display: flex;flex-direction: column;z-index: 1;position: relative;background-color: white;}#sk-container-id-8 div.sk-parallel-item:first-child::after {align-self: flex-end;width: 50%;}#sk-container-id-8 div.sk-parallel-item:last-child::after {align-self: flex-start;width: 50%;}#sk-container-id-8 div.sk-parallel-item:only-child::after {width: 0;}#sk-container-id-8 div.sk-dashed-wrapped {border: 1px dashed gray;margin: 0 0.4em 0.5em 0.4em;box-sizing: border-box;padding-bottom: 0.4em;background-color: white;}#sk-container-id-8 div.sk-label label {font-family: monospace;font-weight: bold;display: inline-block;line-height: 1.2em;}#sk-container-id-8 div.sk-label-container {text-align: center;}#sk-container-id-8 div.sk-container {/* jupyter's `normalize.less` sets `[hidden] { display: none; }` but bootstrap.min.css set `[hidden] { display: none !important; }` so we also need the `!important` here to be able to override the default hidden behavior on the sphinx rendered scikit-learn.org. See: https://github.com/scikit-learn/scikit-learn/issues/21755 */display: inline-block !important;position: relative;}#sk-container-id-8 div.sk-text-repr-fallback {display: none;}</style><div id=\"sk-container-id-8\" class=\"sk-top-container\"><div class=\"sk-text-repr-fallback\"><pre>Lasso(alpha=1)</pre><b>In a Jupyter environment, please rerun this cell to show the HTML representation or trust the notebook. <br />On GitHub, the HTML representation is unable to render, please try loading this page with nbviewer.org.</b></div><div class=\"sk-container\" hidden><div class=\"sk-item\"><div class=\"sk-estimator sk-toggleable\"><input class=\"sk-toggleable__control sk-hidden--visually\" id=\"sk-estimator-id-8\" type=\"checkbox\" checked><label for=\"sk-estimator-id-8\" class=\"sk-toggleable__label sk-toggleable__label-arrow\">Lasso</label><div class=\"sk-toggleable__content\"><pre>Lasso(alpha=1)</pre></div></div></div></div></div>"
      ],
      "text/plain": [
       "Lasso(alpha=1)"
      ]
     },
     "execution_count": 201,
     "metadata": {},
     "output_type": "execute_result"
    }
   ],
   "source": [
    "lasso_reg1.fit(x_train1,y_train1)"
   ]
  },
  {
   "cell_type": "code",
   "execution_count": 202,
   "metadata": {
    "colab": {
     "base_uri": "https://localhost:8080/"
    },
    "id": "a4_eqhD0q9eC",
    "outputId": "beedd3a3-5c0e-4d67-c218-8be2185fca61"
   },
   "outputs": [
    {
     "data": {
      "text/plain": [
       "0.542987913013979"
      ]
     },
     "execution_count": 202,
     "metadata": {},
     "output_type": "execute_result"
    }
   ],
   "source": [
    "lasso_reg1.score(x_train1,y_train1)"
   ]
  },
  {
   "cell_type": "code",
   "execution_count": 203,
   "metadata": {
    "colab": {
     "base_uri": "https://localhost:8080/"
    },
    "id": "mky5oap1q9eD",
    "outputId": "aa5ec022-b480-4e26-eb38-994a8a88314f"
   },
   "outputs": [
    {
     "data": {
      "text/plain": [
       "0.49781015147342855"
      ]
     },
     "execution_count": 203,
     "metadata": {},
     "output_type": "execute_result"
    }
   ],
   "source": [
    "lasso_reg1.score(x_test1,y_test1)"
   ]
  },
  {
   "cell_type": "markdown",
   "metadata": {
    "id": "6A1_FHK-2P85"
   },
   "source": [
    "#KNN : "
   ]
  },
  {
   "cell_type": "code",
   "execution_count": 319,
   "metadata": {
    "id": "i5eieUbK2P86"
   },
   "outputs": [],
   "source": [
    "from sklearn.neighbors import KNeighborsRegressor\n",
    "knn_model1 = KNeighborsRegressor().fit(x_train1, y_train1)"
   ]
  },
  {
   "cell_type": "code",
   "execution_count": 320,
   "metadata": {
    "colab": {
     "base_uri": "https://localhost:8080/"
    },
    "id": "GhYmOQPU2P87",
    "outputId": "387c22bc-ae90-43b2-9283-00f533a9b049"
   },
   "outputs": [
    {
     "data": {
      "text/plain": [
       "0.8521502383522472"
      ]
     },
     "execution_count": 320,
     "metadata": {},
     "output_type": "execute_result"
    }
   ],
   "source": [
    "knn_model1.score(x_train1,y_train1) #training"
   ]
  },
  {
   "cell_type": "code",
   "execution_count": 321,
   "metadata": {
    "colab": {
     "base_uri": "https://localhost:8080/"
    },
    "id": "z3az3NbW2P87",
    "outputId": "739cb14a-5704-4cf0-d710-ff6c2344c7c8"
   },
   "outputs": [
    {
     "data": {
      "text/plain": [
       "0.7529444225481049"
      ]
     },
     "execution_count": 321,
     "metadata": {},
     "output_type": "execute_result"
    }
   ],
   "source": [
    "knn_model1.score(x_test1,y_test1) #testing"
   ]
  },
  {
   "cell_type": "code",
   "execution_count": null,
   "metadata": {
    "id": "aDwUBRYpqYQJ"
   },
   "outputs": [],
   "source": []
  }
 ],
 "metadata": {
  "colab": {
   "collapsed_sections": [],
   "provenance": []
  },
  "kernelspec": {
   "display_name": "Python 3 (ipykernel)",
   "language": "python",
   "name": "python3"
  },
  "language_info": {
   "codemirror_mode": {
    "name": "ipython",
    "version": 3
   },
   "file_extension": ".py",
   "mimetype": "text/x-python",
   "name": "python",
   "nbconvert_exporter": "python",
   "pygments_lexer": "ipython3",
   "version": "3.9.12"
  }
 },
 "nbformat": 4,
 "nbformat_minor": 1
}
